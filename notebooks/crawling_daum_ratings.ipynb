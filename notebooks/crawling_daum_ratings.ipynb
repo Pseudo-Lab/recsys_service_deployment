{
 "cells": [
  {
   "cell_type": "markdown",
   "id": "6b7cb078-8b6d-44b5-bfe7-89c9ab22ebe9",
   "metadata": {
    "tags": []
   },
   "source": [
    "# ratings 테이블 생성"
   ]
  },
  {
   "cell_type": "markdown",
   "id": "e3dc5fcb-e005-4703-bb1d-8b102e697565",
   "metadata": {},
   "source": [
    "## daum_movies"
   ]
  },
  {
   "cell_type": "code",
   "execution_count": 434,
   "id": "586be07f-2168-4ee9-abf7-3d50b5330d1e",
   "metadata": {
    "tags": []
   },
   "outputs": [],
   "source": [
    "create_table_query = \"\"\"CREATE TABLE `daum_movies` (\n",
    "                                                  `movieId` int PRIMARY KEY AUTO_INCREMENT,\n",
    "                                                  `titleKo` varchar(100) DEFAULT NULL,\n",
    "                                                  `titleEn` varchar(100) DEFAULT NULL,\n",
    "                                                  `mainPageUrl` text,\n",
    "                                                  `posterUrl` text\n",
    "                                                )\"\"\"\n",
    "with mysql.get_connection().cursor() as cursor:\n",
    "    cursor.execute(create_table_query)"
   ]
  },
  {
   "cell_type": "markdown",
   "id": "7042cefd-90bf-4c65-9967-ee5c5ba6c1a9",
   "metadata": {},
   "source": [
    "## daum_ratings"
   ]
  },
  {
   "cell_type": "code",
   "execution_count": 98,
   "id": "bfe98bb3-60b0-425c-9a7b-8c7b02da86d8",
   "metadata": {
    "tags": []
   },
   "outputs": [],
   "source": [
    "create_table_query = \"\"\"CREATE TABLE daum_ratings (\n",
    "                                                    nickName VARCHAR(30),\n",
    "                                                    movieId INT,\n",
    "                                                    rating INT,\n",
    "                                                    timestamp DOUBLE,\n",
    "                                                    userId INT DEFAULT NULL,\n",
    "                                                    review TEXT,\n",
    "                                                    \n",
    "                                                    FOREIGN KEY (movieId) REFERENCES daum_movies(movieId),\n",
    "                                                    UNIQUE KEY unique_key1 (movieId, nickName)\n",
    "                                                    )\"\"\"\n",
    "with mysql.get_connection().cursor() as cursor:\n",
    "    cursor.execute(create_table_query)"
   ]
  },
  {
   "cell_type": "markdown",
   "id": "9b0a8878-caf3-4fbd-8a6a-463282d8091e",
   "metadata": {
    "tags": []
   },
   "source": [
    "# 칼럼 추가하기"
   ]
  },
  {
   "cell_type": "code",
   "execution_count": 53,
   "id": "8deaa23b-5980-40c1-85a0-faf5104b5887",
   "metadata": {
    "tags": []
   },
   "outputs": [],
   "source": [
    "alter_table_query = \"\"\"\n",
    "                    ALTER TABLE daum_ratings\n",
    "                    ADD COLUMN timestamp DOUBLE;\n",
    "                    \"\"\"\n",
    "with mysql.get_connection().cursor() as cursor:\n",
    "    cursor.execute(alter_table_query)\n"
   ]
  },
  {
   "cell_type": "code",
   "execution_count": 56,
   "id": "8bd983e3-2e10-4e19-b82b-3130fbad1611",
   "metadata": {
    "tags": []
   },
   "outputs": [],
   "source": [
    "alter_table_query = \"\"\"\n",
    "                    ALTER TABLE daum_ratings\n",
    "                    ADD COLUMN userId INT;\n",
    "                    \"\"\"\n",
    "with mysql.get_connection().cursor() as cursor:\n",
    "    cursor.execute(alter_table_query)"
   ]
  },
  {
   "cell_type": "code",
   "execution_count": 67,
   "id": "b56f44a6-3375-44b1-9d5e-26493007eea7",
   "metadata": {
    "tags": []
   },
   "outputs": [],
   "source": [
    "alter_table_query = \"\"\"\n",
    "                    ALTER TABLE daum_ratings\n",
    "                    ADD COLUMN review TEXT;\n",
    "                    \"\"\"\n",
    "with mysql.get_connection().cursor() as cursor:\n",
    "    cursor.execute(alter_table_query)"
   ]
  },
  {
   "cell_type": "markdown",
   "id": "5decfc09-9c27-49df-9ced-9144e77b99b8",
   "metadata": {},
   "source": [
    "# mysql"
   ]
  },
  {
   "cell_type": "code",
   "execution_count": 4,
   "id": "ccf9368e-b5b5-4d78-84cf-479d726d580e",
   "metadata": {
    "tags": []
   },
   "outputs": [],
   "source": [
    "from clients import MysqlClient"
   ]
  },
  {
   "cell_type": "code",
   "execution_count": 143,
   "id": "a1bb9d0f-312d-4d02-b855-0b5cacffbfde",
   "metadata": {
    "tags": []
   },
   "outputs": [],
   "source": [
    "import os\n",
    "os.environ['RDS_MYSQL_PW'] = 'Precsys1!'\n",
    "os.environ['AWS_ACCESS_KEY_ID'] = ''\n",
    "os.environ['AWS_SECRET_ACCESS_KEY'] = ''\n",
    "os.environ['AWS_REGION_NAME'] = \"ap-northeast-2\""
   ]
  },
  {
   "cell_type": "code",
   "execution_count": 5,
   "id": "4456712a-8742-4d2c-957b-4948d37c02a9",
   "metadata": {
    "tags": []
   },
   "outputs": [],
   "source": [
    "mysql = MysqlClient()"
   ]
  },
  {
   "cell_type": "code",
   "execution_count": 145,
   "id": "528049a6-ee91-418c-a166-eeb72626f7b3",
   "metadata": {
    "tags": []
   },
   "outputs": [
    {
     "name": "stdout",
     "output_type": "stream",
     "text": [
      "Tables : \n",
      "daum_movies\n",
      "daum_ratings\n",
      "movies\n",
      "ratings\n"
     ]
    }
   ],
   "source": [
    "mysql.get_table_names()"
   ]
  },
  {
   "cell_type": "code",
   "execution_count": 146,
   "id": "8302ab06-cc04-42f5-831a-e1296cff4e14",
   "metadata": {
    "tags": []
   },
   "outputs": [
    {
     "name": "stdout",
     "output_type": "stream",
     "text": [
      "Column: userId, Data Type: int\n",
      "Column: movieId, Data Type: int\n",
      "Column: rating, Data Type: float\n",
      "Column: timestamp, Data Type: double\n"
     ]
    }
   ],
   "source": [
    "mysql.get_data_type(table_name='ratings')"
   ]
  },
  {
   "cell_type": "code",
   "execution_count": 147,
   "id": "6e83bbc5-b6d5-4adc-b5ff-d7906c428aa4",
   "metadata": {
    "tags": []
   },
   "outputs": [
    {
     "name": "stdout",
     "output_type": "stream",
     "text": [
      "Column: movieId, Data Type: int\n",
      "Column: titleKo, Data Type: varchar(100)\n",
      "Column: titleEn, Data Type: varchar(100)\n",
      "Column: mainPageUrl, Data Type: text\n",
      "Column: posterUrl, Data Type: text\n"
     ]
    }
   ],
   "source": [
    "mysql.get_data_type(table_name='daum_movies')"
   ]
  },
  {
   "cell_type": "code",
   "execution_count": 148,
   "id": "b536158c-d0f0-4566-8073-53dbf1f044ef",
   "metadata": {
    "tags": []
   },
   "outputs": [],
   "source": [
    "# with mysql.get_connection().cursor() as cursor:\n",
    "#     cursor.execute('SHOW CREATE TABLE daum_movies')\n",
    "#     result = cursor.fetchall()[0]\n",
    "    \n",
    "# print(result[1])"
   ]
  },
  {
   "cell_type": "code",
   "execution_count": 149,
   "id": "a2b21964-5392-4b75-b942-c422484f27f2",
   "metadata": {
    "tags": []
   },
   "outputs": [
    {
     "name": "stdout",
     "output_type": "stream",
     "text": [
      "Column: nickName, Data Type: varchar(30)\n",
      "Column: movieId, Data Type: int\n",
      "Column: rating, Data Type: int\n",
      "Column: timestamp, Data Type: double\n",
      "Column: userId, Data Type: int\n",
      "Column: review, Data Type: text\n"
     ]
    }
   ],
   "source": [
    "mysql.get_data_type(table_name='daum_ratings')"
   ]
  },
  {
   "cell_type": "code",
   "execution_count": 150,
   "id": "64664a7d-f474-45a2-9879-7d34b68f57e6",
   "metadata": {
    "tags": []
   },
   "outputs": [],
   "source": [
    "# with mysql.get_connection().cursor() as cursor:\n",
    "#     cursor.execute('SHOW CREATE TABLE daum_ratings')\n",
    "#     result = cursor.fetchall()[0]\n",
    "    \n",
    "# print(result[1])"
   ]
  },
  {
   "cell_type": "markdown",
   "id": "f2eda0bf-9e07-4442-93a7-cf0c767024a0",
   "metadata": {},
   "source": [
    "# Selenium"
   ]
  },
  {
   "cell_type": "code",
   "execution_count": 11,
   "id": "e4a533bb-fcc9-4285-b50a-4329e1551c3c",
   "metadata": {
    "tags": []
   },
   "outputs": [],
   "source": [
    "from selenium import webdriver\n",
    "from selenium.webdriver.common.by import By\n",
    "from selenium.webdriver.common.keys import Keys\n",
    "from selenium.common.exceptions import NoSuchElementException\n",
    "import time\n",
    "import datetime as dt"
   ]
  },
  {
   "cell_type": "markdown",
   "id": "f6faa7f1-0374-4f40-b649-b434d6f8e176",
   "metadata": {
    "tags": []
   },
   "source": [
    "## driver 열기"
   ]
  },
  {
   "cell_type": "code",
   "execution_count": 12,
   "id": "b560f5af-14f8-4b87-8803-26326904608f",
   "metadata": {
    "tags": []
   },
   "outputs": [],
   "source": [
    "driver = webdriver.Chrome()"
   ]
  },
  {
   "cell_type": "code",
   "execution_count": 13,
   "id": "a52f5b2e-e602-4e69-a90f-c7312eabd15c",
   "metadata": {
    "tags": []
   },
   "outputs": [
    {
     "name": "stderr",
     "output_type": "stream",
     "text": [
      "/Users/kyeongchanlee/PycharmProjects/recsys_service_deployment/clients.py:37: UserWarning: pandas only supports SQLAlchemy connectable (engine/connection) or database string URI or sqlite3 DBAPI2 connection. Other DBAPI2 objects are not tested. Please consider using SQLAlchemy.\n",
      "  df = pd.read_sql(sql='select * from daum_movies', con=connection)\n"
     ]
    },
    {
     "data": {
      "text/html": [
       "<div>\n",
       "<style scoped>\n",
       "    .dataframe tbody tr th:only-of-type {\n",
       "        vertical-align: middle;\n",
       "    }\n",
       "\n",
       "    .dataframe tbody tr th {\n",
       "        vertical-align: top;\n",
       "    }\n",
       "\n",
       "    .dataframe thead th {\n",
       "        text-align: right;\n",
       "    }\n",
       "</style>\n",
       "<table border=\"1\" class=\"dataframe\">\n",
       "  <thead>\n",
       "    <tr style=\"text-align: right;\">\n",
       "      <th></th>\n",
       "      <th>movieId</th>\n",
       "      <th>titleKo</th>\n",
       "      <th>titleEn</th>\n",
       "      <th>mainPageUrl</th>\n",
       "      <th>posterUrl</th>\n",
       "    </tr>\n",
       "  </thead>\n",
       "  <tbody>\n",
       "    <tr>\n",
       "      <th>0</th>\n",
       "      <td>261</td>\n",
       "      <td>월드 워 Z</td>\n",
       "      <td>None</td>\n",
       "      <td>https://movie.daum.net/moviedb/main?movieId=48708</td>\n",
       "      <td>https://img1.daumcdn.net/thumb/C408x596/?fname...</td>\n",
       "    </tr>\n",
       "    <tr>\n",
       "      <th>1</th>\n",
       "      <td>262</td>\n",
       "      <td>은밀하게 위대하게</td>\n",
       "      <td>None</td>\n",
       "      <td>https://movie.daum.net/moviedb/main?movieId=69884</td>\n",
       "      <td>https://img1.daumcdn.net/thumb/C408x596/?fname...</td>\n",
       "    </tr>\n",
       "    <tr>\n",
       "      <th>2</th>\n",
       "      <td>263</td>\n",
       "      <td>맨 오브 스틸</td>\n",
       "      <td>None</td>\n",
       "      <td>https://movie.daum.net/moviedb/main?movieId=43811</td>\n",
       "      <td>https://img1.daumcdn.net/thumb/C408x596/?fname...</td>\n",
       "    </tr>\n",
       "    <tr>\n",
       "      <th>3</th>\n",
       "      <td>264</td>\n",
       "      <td>스타트렉 다크니스</td>\n",
       "      <td>None</td>\n",
       "      <td>https://movie.daum.net/moviedb/main?movieId=62929</td>\n",
       "      <td>https://img1.daumcdn.net/thumb/C408x596/?fname...</td>\n",
       "    </tr>\n",
       "    <tr>\n",
       "      <th>4</th>\n",
       "      <td>265</td>\n",
       "      <td>더 콜</td>\n",
       "      <td>None</td>\n",
       "      <td>https://movie.daum.net/moviedb/main?movieId=71178</td>\n",
       "      <td>https://img1.daumcdn.net/thumb/C408x596/?fname...</td>\n",
       "    </tr>\n",
       "    <tr>\n",
       "      <th>...</th>\n",
       "      <td>...</td>\n",
       "      <td>...</td>\n",
       "      <td>...</td>\n",
       "      <td>...</td>\n",
       "      <td>...</td>\n",
       "    </tr>\n",
       "    <tr>\n",
       "      <th>1111</th>\n",
       "      <td>1372</td>\n",
       "      <td>토르: 라그나로크</td>\n",
       "      <td>None</td>\n",
       "      <td>https://movie.daum.net/moviedb/main?movieId=93694</td>\n",
       "      <td>https://img1.daumcdn.net/thumb/C408x596/?fname...</td>\n",
       "    </tr>\n",
       "    <tr>\n",
       "      <th>1112</th>\n",
       "      <td>1373</td>\n",
       "      <td>너의 췌장을 먹고 싶어</td>\n",
       "      <td>None</td>\n",
       "      <td>https://movie.daum.net/moviedb/main?movieId=11...</td>\n",
       "      <td>https://img1.daumcdn.net/thumb/C408x596/?fname...</td>\n",
       "    </tr>\n",
       "    <tr>\n",
       "      <th>1113</th>\n",
       "      <td>1374</td>\n",
       "      <td>뷰티풀 투모로우</td>\n",
       "      <td>None</td>\n",
       "      <td>https://movie.daum.net/moviedb/main?movieId=11...</td>\n",
       "      <td>https://img1.daumcdn.net/thumb/C408x596/?fname...</td>\n",
       "    </tr>\n",
       "    <tr>\n",
       "      <th>1114</th>\n",
       "      <td>1375</td>\n",
       "      <td>배저로와 친구들: 신비한 모험</td>\n",
       "      <td>None</td>\n",
       "      <td>https://movie.daum.net/moviedb/main?movieId=11...</td>\n",
       "      <td>https://img1.daumcdn.net/thumb/C408x596/?fname...</td>\n",
       "    </tr>\n",
       "    <tr>\n",
       "      <th>1115</th>\n",
       "      <td>1376</td>\n",
       "      <td>유리정원</td>\n",
       "      <td>None</td>\n",
       "      <td>https://movie.daum.net/moviedb/main?movieId=10...</td>\n",
       "      <td>https://img1.daumcdn.net/thumb/C408x596/?fname...</td>\n",
       "    </tr>\n",
       "  </tbody>\n",
       "</table>\n",
       "<p>1116 rows × 5 columns</p>\n",
       "</div>"
      ],
      "text/plain": [
       "      movieId           titleKo titleEn  \\\n",
       "0         261            월드 워 Z    None   \n",
       "1         262         은밀하게 위대하게    None   \n",
       "2         263           맨 오브 스틸    None   \n",
       "3         264         스타트렉 다크니스    None   \n",
       "4         265               더 콜    None   \n",
       "...       ...               ...     ...   \n",
       "1111     1372         토르: 라그나로크    None   \n",
       "1112     1373      너의 췌장을 먹고 싶어    None   \n",
       "1113     1374          뷰티풀 투모로우    None   \n",
       "1114     1375  배저로와 친구들: 신비한 모험    None   \n",
       "1115     1376              유리정원    None   \n",
       "\n",
       "                                            mainPageUrl  \\\n",
       "0     https://movie.daum.net/moviedb/main?movieId=48708   \n",
       "1     https://movie.daum.net/moviedb/main?movieId=69884   \n",
       "2     https://movie.daum.net/moviedb/main?movieId=43811   \n",
       "3     https://movie.daum.net/moviedb/main?movieId=62929   \n",
       "4     https://movie.daum.net/moviedb/main?movieId=71178   \n",
       "...                                                 ...   \n",
       "1111  https://movie.daum.net/moviedb/main?movieId=93694   \n",
       "1112  https://movie.daum.net/moviedb/main?movieId=11...   \n",
       "1113  https://movie.daum.net/moviedb/main?movieId=11...   \n",
       "1114  https://movie.daum.net/moviedb/main?movieId=11...   \n",
       "1115  https://movie.daum.net/moviedb/main?movieId=10...   \n",
       "\n",
       "                                              posterUrl  \n",
       "0     https://img1.daumcdn.net/thumb/C408x596/?fname...  \n",
       "1     https://img1.daumcdn.net/thumb/C408x596/?fname...  \n",
       "2     https://img1.daumcdn.net/thumb/C408x596/?fname...  \n",
       "3     https://img1.daumcdn.net/thumb/C408x596/?fname...  \n",
       "4     https://img1.daumcdn.net/thumb/C408x596/?fname...  \n",
       "...                                                 ...  \n",
       "1111  https://img1.daumcdn.net/thumb/C408x596/?fname...  \n",
       "1112  https://img1.daumcdn.net/thumb/C408x596/?fname...  \n",
       "1113  https://img1.daumcdn.net/thumb/C408x596/?fname...  \n",
       "1114  https://img1.daumcdn.net/thumb/C408x596/?fname...  \n",
       "1115  https://img1.daumcdn.net/thumb/C408x596/?fname...  \n",
       "\n",
       "[1116 rows x 5 columns]"
      ]
     },
     "execution_count": 13,
     "metadata": {},
     "output_type": "execute_result"
    }
   ],
   "source": [
    "daum_movies = mysql.get_daum_movies()\n",
    "daum_movies"
   ]
  },
  {
   "cell_type": "code",
   "execution_count": 14,
   "id": "e1ac724c-4e3f-4b88-ac3b-9eecd3310de4",
   "metadata": {
    "tags": []
   },
   "outputs": [
    {
     "data": {
      "text/plain": [
       "0       https://movie.daum.net/moviedb/main?movieId=48708\n",
       "1       https://movie.daum.net/moviedb/main?movieId=69884\n",
       "2       https://movie.daum.net/moviedb/main?movieId=43811\n",
       "3       https://movie.daum.net/moviedb/main?movieId=62929\n",
       "4       https://movie.daum.net/moviedb/main?movieId=71178\n",
       "                              ...                        \n",
       "1111    https://movie.daum.net/moviedb/main?movieId=93694\n",
       "1112    https://movie.daum.net/moviedb/main?movieId=11...\n",
       "1113    https://movie.daum.net/moviedb/main?movieId=11...\n",
       "1114    https://movie.daum.net/moviedb/main?movieId=11...\n",
       "1115    https://movie.daum.net/moviedb/main?movieId=10...\n",
       "Name: mainPageUrl, Length: 1116, dtype: object"
      ]
     },
     "execution_count": 14,
     "metadata": {},
     "output_type": "execute_result"
    }
   ],
   "source": [
    "daum_movies['mainPageUrl']"
   ]
  },
  {
   "cell_type": "code",
   "execution_count": 15,
   "id": "8e1eaa56-f316-4b6d-aada-7848ad7c136f",
   "metadata": {
    "tags": []
   },
   "outputs": [],
   "source": [
    "def insert(mysql, \n",
    "           nickName, \n",
    "           movieId, \n",
    "           rating, \n",
    "           timestamp, \n",
    "           userId,\n",
    "          review):\n",
    "    insert_query = \"\"\"\n",
    "    INSERT INTO daum_ratings (nickName, movieId, rating, timestamp, userId, review)\n",
    "    VALUES (%s, %s, %s, %s, %s, %s);\n",
    "    \"\"\"\n",
    "        # 삽입할 데이터\n",
    "    data_to_insert = (nickName, movieId, rating, timestamp, userId, review)\n",
    "    with mysql.get_connection() as connection:\n",
    "        cursor = connection.cursor()\n",
    "        cursor.execute(insert_query, data_to_insert)\n",
    "        connection.commit()\n"
   ]
  },
  {
   "cell_type": "code",
   "execution_count": 16,
   "id": "9a8a60cc-9138-4e10-a072-444e527bdd0b",
   "metadata": {
    "tags": []
   },
   "outputs": [
    {
     "data": {
      "text/plain": [
       "261"
      ]
     },
     "execution_count": 16,
     "metadata": {},
     "output_type": "execute_result"
    }
   ],
   "source": [
    "def get_movie_id(mysql, title_ko, mainurl):\n",
    "    sql = f\"\"\"SELECT movieId FROM daum_movies WHERE titleKo = '{title_ko}' and mainPageUrl = '{mainurl}'\n",
    "    \"\"\"\n",
    "    with mysql.get_connection().cursor() as cursor:\n",
    "        cursor.execute(sql)\n",
    "        data = cursor.fetchall()[0][0]\n",
    "    return data\n",
    "get_movie_id(mysql, '월드 워 Z', 'https://movie.daum.net/moviedb/main?movieId=48708')"
   ]
  },
  {
   "cell_type": "code",
   "execution_count": 17,
   "id": "c54fbf06-31db-48d1-b389-ed6da81a0920",
   "metadata": {
    "tags": []
   },
   "outputs": [],
   "source": [
    "from pymysql.err import IntegrityError\n",
    "import time"
   ]
  },
  {
   "cell_type": "markdown",
   "id": "8af3d31e-27ac-40b1-80c9-84e9e703c69a",
   "metadata": {
    "tags": []
   },
   "source": [
    "## driver 열기"
   ]
  },
  {
   "cell_type": "code",
   "execution_count": 466,
   "id": "49ed6b81-4e9b-4859-9072-92b55c6a1518",
   "metadata": {
    "tags": []
   },
   "outputs": [],
   "source": [
    "driver = webdriver.Chrome()"
   ]
  },
  {
   "cell_type": "markdown",
   "id": "203fa80b-6dbb-4357-b4d0-50dcce39d024",
   "metadata": {},
   "source": [
    "## 팝업창 수집"
   ]
  },
  {
   "cell_type": "markdown",
   "id": "eda66ef2-dc8e-43e1-afae-66bfb5a59c21",
   "metadata": {},
   "source": [
    "## 수집"
   ]
  },
  {
   "cell_type": "code",
   "execution_count": 18,
   "id": "a6381592-3448-4655-99ba-c1decc673cdf",
   "metadata": {
    "tags": []
   },
   "outputs": [
    {
     "data": {
      "text/html": [
       "<div>\n",
       "<style scoped>\n",
       "    .dataframe tbody tr th:only-of-type {\n",
       "        vertical-align: middle;\n",
       "    }\n",
       "\n",
       "    .dataframe tbody tr th {\n",
       "        vertical-align: top;\n",
       "    }\n",
       "\n",
       "    .dataframe thead th {\n",
       "        text-align: right;\n",
       "    }\n",
       "</style>\n",
       "<table border=\"1\" class=\"dataframe\">\n",
       "  <thead>\n",
       "    <tr style=\"text-align: right;\">\n",
       "      <th></th>\n",
       "      <th>movieId</th>\n",
       "      <th>titleKo</th>\n",
       "      <th>titleEn</th>\n",
       "      <th>mainPageUrl</th>\n",
       "      <th>posterUrl</th>\n",
       "    </tr>\n",
       "  </thead>\n",
       "  <tbody>\n",
       "    <tr>\n",
       "      <th>0</th>\n",
       "      <td>261</td>\n",
       "      <td>월드 워 Z</td>\n",
       "      <td>None</td>\n",
       "      <td>https://movie.daum.net/moviedb/main?movieId=48708</td>\n",
       "      <td>https://img1.daumcdn.net/thumb/C408x596/?fname...</td>\n",
       "    </tr>\n",
       "    <tr>\n",
       "      <th>1</th>\n",
       "      <td>262</td>\n",
       "      <td>은밀하게 위대하게</td>\n",
       "      <td>None</td>\n",
       "      <td>https://movie.daum.net/moviedb/main?movieId=69884</td>\n",
       "      <td>https://img1.daumcdn.net/thumb/C408x596/?fname...</td>\n",
       "    </tr>\n",
       "    <tr>\n",
       "      <th>2</th>\n",
       "      <td>263</td>\n",
       "      <td>맨 오브 스틸</td>\n",
       "      <td>None</td>\n",
       "      <td>https://movie.daum.net/moviedb/main?movieId=43811</td>\n",
       "      <td>https://img1.daumcdn.net/thumb/C408x596/?fname...</td>\n",
       "    </tr>\n",
       "    <tr>\n",
       "      <th>3</th>\n",
       "      <td>264</td>\n",
       "      <td>스타트렉 다크니스</td>\n",
       "      <td>None</td>\n",
       "      <td>https://movie.daum.net/moviedb/main?movieId=62929</td>\n",
       "      <td>https://img1.daumcdn.net/thumb/C408x596/?fname...</td>\n",
       "    </tr>\n",
       "    <tr>\n",
       "      <th>4</th>\n",
       "      <td>265</td>\n",
       "      <td>더 콜</td>\n",
       "      <td>None</td>\n",
       "      <td>https://movie.daum.net/moviedb/main?movieId=71178</td>\n",
       "      <td>https://img1.daumcdn.net/thumb/C408x596/?fname...</td>\n",
       "    </tr>\n",
       "    <tr>\n",
       "      <th>...</th>\n",
       "      <td>...</td>\n",
       "      <td>...</td>\n",
       "      <td>...</td>\n",
       "      <td>...</td>\n",
       "      <td>...</td>\n",
       "    </tr>\n",
       "    <tr>\n",
       "      <th>107</th>\n",
       "      <td>368</td>\n",
       "      <td>카운슬러</td>\n",
       "      <td>None</td>\n",
       "      <td>https://movie.daum.net/moviedb/main?movieId=70117</td>\n",
       "      <td>https://img1.daumcdn.net/thumb/C408x596/?fname...</td>\n",
       "    </tr>\n",
       "    <tr>\n",
       "      <th>108</th>\n",
       "      <td>369</td>\n",
       "      <td>블랙 가스펠</td>\n",
       "      <td>None</td>\n",
       "      <td>https://movie.daum.net/moviedb/main?movieId=70501</td>\n",
       "      <td>https://img1.daumcdn.net/thumb/C408x596/?fname...</td>\n",
       "    </tr>\n",
       "    <tr>\n",
       "      <th>109</th>\n",
       "      <td>370</td>\n",
       "      <td>결혼전야</td>\n",
       "      <td>None</td>\n",
       "      <td>https://movie.daum.net/moviedb/main?movieId=78433</td>\n",
       "      <td>https://img1.daumcdn.net/thumb/C408x596/?fname...</td>\n",
       "    </tr>\n",
       "    <tr>\n",
       "      <th>110</th>\n",
       "      <td>371</td>\n",
       "      <td>헝거게임: 캣칭 파이어</td>\n",
       "      <td>None</td>\n",
       "      <td>https://movie.daum.net/moviedb/main?movieId=70225</td>\n",
       "      <td>https://img1.daumcdn.net/thumb/C408x596/?fname...</td>\n",
       "    </tr>\n",
       "    <tr>\n",
       "      <th>111</th>\n",
       "      <td>372</td>\n",
       "      <td>하늘에서 음식이 내린다면 2</td>\n",
       "      <td>None</td>\n",
       "      <td>https://movie.daum.net/moviedb/main?movieId=77990</td>\n",
       "      <td>https://img1.daumcdn.net/thumb/C408x596/?fname...</td>\n",
       "    </tr>\n",
       "  </tbody>\n",
       "</table>\n",
       "<p>112 rows × 5 columns</p>\n",
       "</div>"
      ],
      "text/plain": [
       "     movieId          titleKo titleEn  \\\n",
       "0        261           월드 워 Z    None   \n",
       "1        262        은밀하게 위대하게    None   \n",
       "2        263          맨 오브 스틸    None   \n",
       "3        264        스타트렉 다크니스    None   \n",
       "4        265              더 콜    None   \n",
       "..       ...              ...     ...   \n",
       "107      368             카운슬러    None   \n",
       "108      369           블랙 가스펠    None   \n",
       "109      370             결혼전야    None   \n",
       "110      371     헝거게임: 캣칭 파이어    None   \n",
       "111      372  하늘에서 음식이 내린다면 2    None   \n",
       "\n",
       "                                           mainPageUrl  \\\n",
       "0    https://movie.daum.net/moviedb/main?movieId=48708   \n",
       "1    https://movie.daum.net/moviedb/main?movieId=69884   \n",
       "2    https://movie.daum.net/moviedb/main?movieId=43811   \n",
       "3    https://movie.daum.net/moviedb/main?movieId=62929   \n",
       "4    https://movie.daum.net/moviedb/main?movieId=71178   \n",
       "..                                                 ...   \n",
       "107  https://movie.daum.net/moviedb/main?movieId=70117   \n",
       "108  https://movie.daum.net/moviedb/main?movieId=70501   \n",
       "109  https://movie.daum.net/moviedb/main?movieId=78433   \n",
       "110  https://movie.daum.net/moviedb/main?movieId=70225   \n",
       "111  https://movie.daum.net/moviedb/main?movieId=77990   \n",
       "\n",
       "                                             posterUrl  \n",
       "0    https://img1.daumcdn.net/thumb/C408x596/?fname...  \n",
       "1    https://img1.daumcdn.net/thumb/C408x596/?fname...  \n",
       "2    https://img1.daumcdn.net/thumb/C408x596/?fname...  \n",
       "3    https://img1.daumcdn.net/thumb/C408x596/?fname...  \n",
       "4    https://img1.daumcdn.net/thumb/C408x596/?fname...  \n",
       "..                                                 ...  \n",
       "107  https://img1.daumcdn.net/thumb/C408x596/?fname...  \n",
       "108  https://img1.daumcdn.net/thumb/C408x596/?fname...  \n",
       "109  https://img1.daumcdn.net/thumb/C408x596/?fname...  \n",
       "110  https://img1.daumcdn.net/thumb/C408x596/?fname...  \n",
       "111  https://img1.daumcdn.net/thumb/C408x596/?fname...  \n",
       "\n",
       "[112 rows x 5 columns]"
      ]
     },
     "execution_count": 18,
     "metadata": {},
     "output_type": "execute_result"
    }
   ],
   "source": [
    "daum_movies.loc[0:len(daum_movies)//10]"
   ]
  },
  {
   "cell_type": "code",
   "execution_count": 120,
   "id": "4a0338cf-89a8-404c-9d6e-3eb97fd5681e",
   "metadata": {
    "tags": []
   },
   "outputs": [],
   "source": [
    "from selenium.common.exceptions import StaleElementReferenceException\n",
    "\n",
    "def click_more(driver, num):\n",
    "    for _ in range(num):\n",
    "        try:\n",
    "            driver.find_element(By.CSS_SELECTOR, '#alex-area > div > div > div > div.cmt_box > div.alex_more').click()\n",
    "        except StaleElementReferenceException:\n",
    "            # print(f\"{_}, StaleElementReferenceException, break\")\n",
    "            break\n",
    "        except NoSuchElementException:\n",
    "            # print(f\"{_}, NoSuchElementException, break\")\n",
    "            break\n",
    "            \n",
    "def click_popup_more(driver, num):\n",
    "    for _ in range(num):\n",
    "        try:\n",
    "            driver.find_element(By.CSS_SELECTOR, 'div[data-reactid=\".0.0.1\"] div.alex_more').click()\n",
    "        except StaleElementReferenceException:\n",
    "            # print(f\"{_}, StaleElementReferenceException, break\")\n",
    "            break\n",
    "        except NoSuchElementException:\n",
    "            # print(f\"{_}, NoSuchElementException, break\")\n",
    "            break"
   ]
  },
  {
   "cell_type": "code",
   "execution_count": 113,
   "id": "245ca981-3b47-4350-b2ec-dd0b931fb79f",
   "metadata": {
    "tags": []
   },
   "outputs": [],
   "source": [
    "import re\n",
    "kor_dt_regex= re.compile('[가-힣]')\n",
    "\n",
    "def insert(mysql, \n",
    "           nickName, \n",
    "           movieId, \n",
    "           rating, \n",
    "           timestamp, \n",
    "           userId,\n",
    "          review):\n",
    "    insert_query = \"\"\"\n",
    "    INSERT INTO daum_ratings (nickName, movieId, rating, timestamp, userId, review)\n",
    "    VALUES (%s, %s, %s, %s, %s, %s);\n",
    "    \"\"\"\n",
    "        # 삽입할 데이터\n",
    "    data_to_insert = (nickName, movieId, rating, timestamp, userId, review)\n",
    "    with mysql.get_connection() as connection:\n",
    "        cursor = connection.cursor()\n",
    "        cursor.execute(insert_query, data_to_insert)\n",
    "        connection.commit()\n",
    "\n",
    "def get_max_user_id_from_daum_ratings(mysql):  # 없으면 추가하고 id 불러옴\n",
    "    \n",
    "    max_query = \"\"\"SELECT MAX(userId) FROM daum_ratings\n",
    "    \"\"\"\n",
    "    with mysql.get_connection().cursor() as cursor:\n",
    "        cursor.execute(max_query)\n",
    "        max_value = cursor.fetchone()[0]\n",
    "        # print(f\"max_value : {max_value}\")\n",
    "    if max_value is not None:\n",
    "        return max_value + 1\n",
    "    return 0\n",
    "        \n",
    "        \n",
    "        \n",
    "def one_box_parsing(box):\n",
    "    try:\n",
    "        # review\n",
    "        review = box.find_element(By.CSS_SELECTOR, 'p.desc_txt').text\n",
    "        if len(review) < 10:  # 리뷰 길이 10자 이하면 나가\n",
    "            # print(f\"리뷰 10자 이하\")\n",
    "            return None\n",
    "        \n",
    "        # rating\n",
    "        rating = box.find_element(By.CSS_SELECTOR, 'div.ratings').text\n",
    "        \n",
    "        # timestamp ##################\n",
    "        time_dt = box.find_element(By.CSS_SELECTOR, 'span.txt_date').text\n",
    "        if re.search(kor_dt_regex, time_dt):  # ex. 10시간전\n",
    "            # print(f\"리뷰 작성 시간 한글\")\n",
    "            return None\n",
    "        rating_dt = dt.datetime.strptime(time_dt, '%Y. %m. %d. %H:%M')\n",
    "        rating_timestamp = float(dt.datetime.timestamp(rating_dt))\n",
    "        ##############################\n",
    "        \n",
    "        # nickname\n",
    "        nickname = box.find_element(By.CSS_SELECTOR, 'div > strong > span > a > span:nth-child(2)').text\n",
    "    \n",
    "        return review, rating, rating_timestamp, nickname\n",
    "    \n",
    "    except NoSuchElementException as e:  # 리뷰가 없으면 못찾아\n",
    "        # print(f\"리뷰 없음 에러\")\n",
    "        return None\n",
    "\n",
    "    \n",
    "def one_mainpage_box_insert(box, mysql, title_ko, mainurl):\n",
    "\n",
    "    parsing_results = one_box_parsing(box)\n",
    "    if parsing_results is not None:\n",
    "        review, rating, rating_timestamp, nickname = parsing_results\n",
    "\n",
    "        try:\n",
    "            insert(\n",
    "                    mysql=mysql,\n",
    "                    nickName=nickname,\n",
    "                    movieId=get_movie_id(mysql, title_ko, mainurl),\n",
    "                    rating=rating,\n",
    "                    timestamp=rating_timestamp,\n",
    "                    userId=None,\n",
    "                    review=review\n",
    "                  )\n",
    "            # print(f\"insert 성공\")\n",
    "        except IntegrityError:\n",
    "            # print(f\"insert 실패\")\n",
    "            pass\n",
    "\n",
    "\n",
    "\n",
    "    \n",
    "def one_popup_box_insert(box, mysql):\n",
    "    parsing_results = one_box_parsing(box)\n",
    "    if parsing_results is not None:\n",
    "        review, rating, rating_timestamp, nickname = parsing_results\n",
    "    \n",
    "        # daum_movies에 영화가 있는지 확인하고, 없으면 넣고, 해당 movieId를 받아온다 ######################\n",
    "        # 영화 제목, 링크 받기\n",
    "        movie_tag = box.find_element(By.CSS_SELECTOR, 'strong.info_post a')\n",
    "        pop_box_moviename = movie_tag.text\n",
    "        pop_box_mainurl = movie_tag.get_attribute('href')\n",
    "        if not check_movie_exists(mysql, pop_box_moviename, pop_box_mainurl):\n",
    "            insert_daum_movie(mysql=mysql, title_ko=pop_box_moviename, mainpageurl=pop_box_mainurl)\n",
    "        ######################################################################################\n",
    "\n",
    "        try:\n",
    "            insert(\n",
    "                    mysql=mysql,\n",
    "                    nickName=nickname,\n",
    "                    movieId=get_movie_id(mysql, pop_box_moviename, pop_box_mainurl),\n",
    "                    rating=rating,\n",
    "                    timestamp=rating_timestamp,\n",
    "                    userId=None,\n",
    "                    review=review\n",
    "                  )\n",
    "            # print(f\"insert 성공\")\n",
    "        except IntegrityError:\n",
    "            # print(f\"insert 실패\")\n",
    "            pass"
   ]
  },
  {
   "cell_type": "code",
   "execution_count": 151,
   "id": "2f544e7f-f1e5-42b1-ba1a-485c9ccc703b",
   "metadata": {
    "tags": []
   },
   "outputs": [
    {
     "name": "stderr",
     "output_type": "stream",
     "text": [
      "/Users/kyeongchanlee/PycharmProjects/recsys_service_deployment/notebooks/../clients.py:42: UserWarning: pandas only supports SQLAlchemy connectable (engine/connection) or database string URI or sqlite3 DBAPI2 connection. Other DBAPI2 objects are not tested. Please consider using SQLAlchemy.\n",
      "  df = pd.read_sql(sql='select * from daum_ratings', con=connection)\n"
     ]
    },
    {
     "data": {
      "text/html": [
       "<div>\n",
       "<style scoped>\n",
       "    .dataframe tbody tr th:only-of-type {\n",
       "        vertical-align: middle;\n",
       "    }\n",
       "\n",
       "    .dataframe tbody tr th {\n",
       "        vertical-align: top;\n",
       "    }\n",
       "\n",
       "    .dataframe thead th {\n",
       "        text-align: right;\n",
       "    }\n",
       "</style>\n",
       "<table border=\"1\" class=\"dataframe\">\n",
       "  <thead>\n",
       "    <tr style=\"text-align: right;\">\n",
       "      <th></th>\n",
       "      <th>nickName</th>\n",
       "      <th>movieId</th>\n",
       "      <th>rating</th>\n",
       "      <th>timestamp</th>\n",
       "      <th>userId</th>\n",
       "      <th>review</th>\n",
       "    </tr>\n",
       "  </thead>\n",
       "  <tbody>\n",
       "    <tr>\n",
       "      <th>0</th>\n",
       "      <td>닉네임</td>\n",
       "      <td>2880</td>\n",
       "      <td>10</td>\n",
       "      <td>1.700658e+09</td>\n",
       "      <td>None</td>\n",
       "      <td>좀비영화 싫어하는데 이건 넘 재밌네</td>\n",
       "    </tr>\n",
       "    <tr>\n",
       "      <th>1</th>\n",
       "      <td>닉네임</td>\n",
       "      <td>2881</td>\n",
       "      <td>8</td>\n",
       "      <td>1.668779e+09</td>\n",
       "      <td>None</td>\n",
       "      <td>의상 너무너무 예쁘다</td>\n",
       "    </tr>\n",
       "    <tr>\n",
       "      <th>2</th>\n",
       "      <td>닉네임</td>\n",
       "      <td>2564</td>\n",
       "      <td>9</td>\n",
       "      <td>1.657807e+09</td>\n",
       "      <td>None</td>\n",
       "      <td>오프닝 너~~~무 조으다\\n별5개 다 못주는건 제니퍼..왜 나오셨쎄요?ㅜㅜ</td>\n",
       "    </tr>\n",
       "    <tr>\n",
       "      <th>3</th>\n",
       "      <td>닉네임</td>\n",
       "      <td>2351</td>\n",
       "      <td>5</td>\n",
       "      <td>1.648305e+09</td>\n",
       "      <td>None</td>\n",
       "      <td>햄릿이 넘 왕자같지않아. 몰입이 안돼</td>\n",
       "    </tr>\n",
       "    <tr>\n",
       "      <th>4</th>\n",
       "      <td>닉네임</td>\n",
       "      <td>2357</td>\n",
       "      <td>9</td>\n",
       "      <td>1.627718e+09</td>\n",
       "      <td>None</td>\n",
       "      <td>끝장면 과하지않아 넘넘좋다\\n코끝이 찡~잘 만들어진 영화\\n만점을 못준건 어떤 배우...</td>\n",
       "    </tr>\n",
       "    <tr>\n",
       "      <th>...</th>\n",
       "      <td>...</td>\n",
       "      <td>...</td>\n",
       "      <td>...</td>\n",
       "      <td>...</td>\n",
       "      <td>...</td>\n",
       "      <td>...</td>\n",
       "    </tr>\n",
       "    <tr>\n",
       "      <th>20128</th>\n",
       "      <td>운동해야지</td>\n",
       "      <td>2081</td>\n",
       "      <td>0</td>\n",
       "      <td>1.595246e+09</td>\n",
       "      <td>None</td>\n",
       "      <td>연상호는 그저 운이 좋았을뿐 전작도 신파에 그저 그랬는데 과대평가됐지</td>\n",
       "    </tr>\n",
       "    <tr>\n",
       "      <th>20129</th>\n",
       "      <td>운동해야지</td>\n",
       "      <td>3247</td>\n",
       "      <td>9</td>\n",
       "      <td>1.584676e+09</td>\n",
       "      <td>None</td>\n",
       "      <td>지져스, 이래서 헐리웃 작가들이 천문학적 돈을 받는 이유가 있는 거지, 얼마나 고증...</td>\n",
       "    </tr>\n",
       "    <tr>\n",
       "      <th>20130</th>\n",
       "      <td>운동해야지</td>\n",
       "      <td>4357</td>\n",
       "      <td>5</td>\n",
       "      <td>1.582536e+09</td>\n",
       "      <td>None</td>\n",
       "      <td>근데 이 집의 가족 구성이 어찌 된 일이에요? 아빠는 백인 엄마가 코리언이고 애들은...</td>\n",
       "    </tr>\n",
       "    <tr>\n",
       "      <th>20131</th>\n",
       "      <td>운동해야지</td>\n",
       "      <td>1962</td>\n",
       "      <td>1</td>\n",
       "      <td>1.579430e+09</td>\n",
       "      <td>None</td>\n",
       "      <td>한국 영화계갖어쩌다 이렇게 됐을꼬. 보통 좌익정권하에 좋은 영화들이 많이 탄생되는데...</td>\n",
       "    </tr>\n",
       "    <tr>\n",
       "      <th>20132</th>\n",
       "      <td>운동해야지</td>\n",
       "      <td>7530</td>\n",
       "      <td>10</td>\n",
       "      <td>1.573042e+09</td>\n",
       "      <td>None</td>\n",
       "      <td>하녀, 오발탄, 마부, 월하의 공동묘지 \\n한때 씨네필이었던 나를 가슴 뛰게 했던 ...</td>\n",
       "    </tr>\n",
       "  </tbody>\n",
       "</table>\n",
       "<p>20133 rows × 6 columns</p>\n",
       "</div>"
      ],
      "text/plain": [
       "      nickName  movieId  rating     timestamp userId  \\\n",
       "0          닉네임     2880      10  1.700658e+09   None   \n",
       "1          닉네임     2881       8  1.668779e+09   None   \n",
       "2          닉네임     2564       9  1.657807e+09   None   \n",
       "3          닉네임     2351       5  1.648305e+09   None   \n",
       "4          닉네임     2357       9  1.627718e+09   None   \n",
       "...        ...      ...     ...           ...    ...   \n",
       "20128    운동해야지     2081       0  1.595246e+09   None   \n",
       "20129    운동해야지     3247       9  1.584676e+09   None   \n",
       "20130    운동해야지     4357       5  1.582536e+09   None   \n",
       "20131    운동해야지     1962       1  1.579430e+09   None   \n",
       "20132    운동해야지     7530      10  1.573042e+09   None   \n",
       "\n",
       "                                                  review  \n",
       "0                                    좀비영화 싫어하는데 이건 넘 재밌네  \n",
       "1                                            의상 너무너무 예쁘다  \n",
       "2              오프닝 너~~~무 조으다\\n별5개 다 못주는건 제니퍼..왜 나오셨쎄요?ㅜㅜ  \n",
       "3                                   햄릿이 넘 왕자같지않아. 몰입이 안돼  \n",
       "4      끝장면 과하지않아 넘넘좋다\\n코끝이 찡~잘 만들어진 영화\\n만점을 못준건 어떤 배우...  \n",
       "...                                                  ...  \n",
       "20128            연상호는 그저 운이 좋았을뿐 전작도 신파에 그저 그랬는데 과대평가됐지   \n",
       "20129  지져스, 이래서 헐리웃 작가들이 천문학적 돈을 받는 이유가 있는 거지, 얼마나 고증...  \n",
       "20130  근데 이 집의 가족 구성이 어찌 된 일이에요? 아빠는 백인 엄마가 코리언이고 애들은...  \n",
       "20131  한국 영화계갖어쩌다 이렇게 됐을꼬. 보통 좌익정권하에 좋은 영화들이 많이 탄생되는데...  \n",
       "20132  하녀, 오발탄, 마부, 월하의 공동묘지 \\n한때 씨네필이었던 나를 가슴 뛰게 했던 ...  \n",
       "\n",
       "[20133 rows x 6 columns]"
      ]
     },
     "execution_count": 151,
     "metadata": {},
     "output_type": "execute_result"
    }
   ],
   "source": [
    "mysql.get_daum_ratings()"
   ]
  },
  {
   "cell_type": "code",
   "execution_count": 21,
   "id": "b0fe6cad-e3f6-4b26-8e79-712fa2130479",
   "metadata": {
    "tags": []
   },
   "outputs": [],
   "source": [
    "def click_x(driver):\n",
    "    driver.find_element(By.CSS_SELECTOR, 'div[data-reactid=\".0.0.1\"] div.my_layer.use_unfollow > div.my_header.no_divider > a > span').click()"
   ]
  },
  {
   "cell_type": "code",
   "execution_count": 23,
   "id": "b1d24614-aa78-4df8-b8d6-8429662c98e1",
   "metadata": {
    "tags": []
   },
   "outputs": [],
   "source": [
    "def check_movie_exists(mysql, moviename, mainurl):\n",
    "    sql_query = \"SELECT * FROM daum_movies WHERE titleKo = %s and mainPageUrl = %s\"\n",
    "\n",
    "    with mysql.get_connection() as conn:\n",
    "        cursor = conn.cursor()\n",
    "        cursor.execute(sql_query, (moviename, mainurl,))\n",
    "        result = cursor.fetchone()\n",
    "\n",
    "    if result:\n",
    "        return True\n",
    "    else:\n",
    "        return False"
   ]
  },
  {
   "cell_type": "code",
   "execution_count": 107,
   "id": "6df4199a-d0de-41fc-8e02-b5a3446fbaae",
   "metadata": {
    "tags": []
   },
   "outputs": [],
   "source": [
    "def insert_daum_movie(mysql, title_ko, mainpageurl):\n",
    "    insert_query = \"INSERT INTO daum_movies (movieId, titleKo, mainPageUrl) VALUES (%s, %s, %s)\"\n",
    "    \n",
    "    select_query = \"SELECT * FROM daum_movies WHERE titleKo = %s and mainpageurl = %s\"\n",
    "    with mysql.get_connection().cursor() as cursor:\n",
    "        cursor.execute(select_query, (title_ko, mainpageurl, ))  # title_ko와 mainurl로 있는지 확인\n",
    "        existing_data = cursor.fetchall()\n",
    "        \n",
    "    if not existing_data:\n",
    "        with mysql.get_connection().cursor() as cursor:\n",
    "            cursor.execute(\"SELECT MAX(movieId) FROM daum_movies\")\n",
    "            max_mid = cursor.fetchone()[0]\n",
    "            max_mid = 0 if not max_mid else max_mid\n",
    "            curr_mid = max_mid + 1\n",
    "\n",
    "        data_to_insert = (curr_mid, title_ko, mainpageurl)\n",
    "        with mysql.get_connection() as conn:\n",
    "            cursor = conn.cursor()\n",
    "            cursor.execute(insert_query, data_to_insert)\n",
    "            conn.commit()"
   ]
  },
  {
   "cell_type": "markdown",
   "id": "b2c8c517-2a34-4b08-9388-6cd02f6a2582",
   "metadata": {
    "tags": []
   },
   "source": [
    "# main code"
   ]
  },
  {
   "cell_type": "code",
   "execution_count": 121,
   "id": "e427dccf-007a-438b-a3d9-cecddced0d7f",
   "metadata": {
    "tags": []
   },
   "outputs": [],
   "source": [
    "driver = webdriver.Chrome()"
   ]
  },
  {
   "cell_type": "code",
   "execution_count": 122,
   "id": "a5d693e5-70f2-42b1-afb5-587739fd2303",
   "metadata": {
    "collapsed": true,
    "jupyter": {
     "outputs_hidden": true
    },
    "tags": []
   },
   "outputs": [
    {
     "name": "stdout",
     "output_type": "stream",
     "text": [
      "movie : 월드 워 Z----------------------------------------------\n",
      "# of rating box :   250\n",
      "movie : 은밀하게 위대하게-------------------------------------------\n",
      "# of rating box :   160\n",
      "movie : 맨 오브 스틸---------------------------------------------\n",
      "# of rating box :   190\n",
      "movie : 스타트렉 다크니스-------------------------------------------\n",
      "# of rating box :   190\n",
      "movie : 더 콜-------------------------------------------------\n",
      "# of rating box :   190\n",
      "movie : 닥터--------------------------------------------------\n",
      "# of rating box :   190\n",
      "movie : 토토의 움직이는 숲------------------------------------------\n",
      "# of rating box :    15\n",
      "movie : 무서운 이야기 2-------------------------------------------\n",
      "# of rating box :   190\n",
      "movie : 크루즈 패밀리---------------------------------------------\n",
      "# of rating box :   190\n",
      "movie : 꼭두각시------------------------------------------------\n",
      "# of rating box :   130\n",
      "movie : 분노의 질주: 더 맥시멈---------------------------------------\n",
      "# of rating box :   160\n",
      "movie : 백악관 최후의 날-------------------------------------------\n",
      "# of rating box :   160\n",
      "movie : 비포 미드나잇---------------------------------------------\n",
      "# of rating box :   190\n"
     ]
    },
    {
     "ename": "ProgrammingError",
     "evalue": "(1064, \"You have an error in your SQL syntax; check the manual that corresponds to your MySQL server version for the right syntax to use near '66' and mainPageUrl = 'https://movie.daum.net/moviedb/main?movieId=1998'' at line 1\")",
     "output_type": "error",
     "traceback": [
      "\u001b[0;31m---------------------------------------------------------------------------\u001b[0m",
      "\u001b[0;31mProgrammingError\u001b[0m                          Traceback (most recent call last)",
      "Cell \u001b[0;32mIn[122], line 28\u001b[0m\n\u001b[1;32m     26\u001b[0m click_popup_more(driver, \u001b[38;5;241m5\u001b[39m)\n\u001b[1;32m     27\u001b[0m \u001b[38;5;28;01mfor\u001b[39;00m pop_rating_box \u001b[38;5;129;01min\u001b[39;00m popup_boxes:\n\u001b[0;32m---> 28\u001b[0m     \u001b[43mone_popup_box_insert\u001b[49m\u001b[43m(\u001b[49m\u001b[43mpop_rating_box\u001b[49m\u001b[43m,\u001b[49m\u001b[43m \u001b[49m\u001b[43mmysql\u001b[49m\u001b[43m)\u001b[49m\n\u001b[1;32m     29\u001b[0m \u001b[38;5;66;03m#################################################\u001b[39;00m\n\u001b[1;32m     30\u001b[0m     \n\u001b[1;32m     31\u001b[0m \u001b[38;5;66;03m# 창 닫고 box를 one_box_insert에 넘기기 #############\u001b[39;00m\n\u001b[1;32m     32\u001b[0m \u001b[38;5;28;01mtry\u001b[39;00m:\n",
      "Cell \u001b[0;32mIn[113], line 108\u001b[0m, in \u001b[0;36mone_popup_box_insert\u001b[0;34m(box, mysql)\u001b[0m\n\u001b[1;32m    102\u001b[0m \u001b[38;5;66;03m######################################################################################\u001b[39;00m\n\u001b[1;32m    104\u001b[0m \u001b[38;5;28;01mtry\u001b[39;00m:\n\u001b[1;32m    105\u001b[0m     insert(\n\u001b[1;32m    106\u001b[0m             mysql\u001b[38;5;241m=\u001b[39mmysql,\n\u001b[1;32m    107\u001b[0m             nickName\u001b[38;5;241m=\u001b[39mnickname,\n\u001b[0;32m--> 108\u001b[0m             movieId\u001b[38;5;241m=\u001b[39m\u001b[43mget_movie_id\u001b[49m\u001b[43m(\u001b[49m\u001b[43mmysql\u001b[49m\u001b[43m,\u001b[49m\u001b[43m \u001b[49m\u001b[43mpop_box_moviename\u001b[49m\u001b[43m,\u001b[49m\u001b[43m \u001b[49m\u001b[43mpop_box_mainurl\u001b[49m\u001b[43m)\u001b[49m,\n\u001b[1;32m    109\u001b[0m             rating\u001b[38;5;241m=\u001b[39mrating,\n\u001b[1;32m    110\u001b[0m             timestamp\u001b[38;5;241m=\u001b[39mrating_timestamp,\n\u001b[1;32m    111\u001b[0m             userId\u001b[38;5;241m=\u001b[39m\u001b[38;5;28;01mNone\u001b[39;00m,\n\u001b[1;32m    112\u001b[0m             review\u001b[38;5;241m=\u001b[39mreview\n\u001b[1;32m    113\u001b[0m           )\n\u001b[1;32m    114\u001b[0m     \u001b[38;5;66;03m# print(f\"insert 성공\")\u001b[39;00m\n\u001b[1;32m    115\u001b[0m \u001b[38;5;28;01mexcept\u001b[39;00m IntegrityError:\n\u001b[1;32m    116\u001b[0m     \u001b[38;5;66;03m# print(f\"insert 실패\")\u001b[39;00m\n",
      "Cell \u001b[0;32mIn[16], line 5\u001b[0m, in \u001b[0;36mget_movie_id\u001b[0;34m(mysql, title_ko, mainurl)\u001b[0m\n\u001b[1;32m      2\u001b[0m sql \u001b[38;5;241m=\u001b[39m \u001b[38;5;124mf\u001b[39m\u001b[38;5;124m\"\"\"\u001b[39m\u001b[38;5;124mSELECT movieId FROM daum_movies WHERE titleKo = \u001b[39m\u001b[38;5;124m'\u001b[39m\u001b[38;5;132;01m{\u001b[39;00mtitle_ko\u001b[38;5;132;01m}\u001b[39;00m\u001b[38;5;124m'\u001b[39m\u001b[38;5;124m and mainPageUrl = \u001b[39m\u001b[38;5;124m'\u001b[39m\u001b[38;5;132;01m{\u001b[39;00mmainurl\u001b[38;5;132;01m}\u001b[39;00m\u001b[38;5;124m'\u001b[39m\n\u001b[1;32m      3\u001b[0m \u001b[38;5;124m\u001b[39m\u001b[38;5;124m\"\"\"\u001b[39m\n\u001b[1;32m      4\u001b[0m \u001b[38;5;28;01mwith\u001b[39;00m mysql\u001b[38;5;241m.\u001b[39mget_connection()\u001b[38;5;241m.\u001b[39mcursor() \u001b[38;5;28;01mas\u001b[39;00m cursor:\n\u001b[0;32m----> 5\u001b[0m     \u001b[43mcursor\u001b[49m\u001b[38;5;241;43m.\u001b[39;49m\u001b[43mexecute\u001b[49m\u001b[43m(\u001b[49m\u001b[43msql\u001b[49m\u001b[43m)\u001b[49m\n\u001b[1;32m      6\u001b[0m     data \u001b[38;5;241m=\u001b[39m cursor\u001b[38;5;241m.\u001b[39mfetchall()[\u001b[38;5;241m0\u001b[39m][\u001b[38;5;241m0\u001b[39m]\n\u001b[1;32m      7\u001b[0m \u001b[38;5;28;01mreturn\u001b[39;00m data\n",
      "File \u001b[0;32m/opt/homebrew/lib/python3.10/site-packages/pymysql/cursors.py:153\u001b[0m, in \u001b[0;36mCursor.execute\u001b[0;34m(self, query, args)\u001b[0m\n\u001b[1;32m    149\u001b[0m     \u001b[38;5;28;01mpass\u001b[39;00m\n\u001b[1;32m    151\u001b[0m query \u001b[38;5;241m=\u001b[39m \u001b[38;5;28mself\u001b[39m\u001b[38;5;241m.\u001b[39mmogrify(query, args)\n\u001b[0;32m--> 153\u001b[0m result \u001b[38;5;241m=\u001b[39m \u001b[38;5;28;43mself\u001b[39;49m\u001b[38;5;241;43m.\u001b[39;49m\u001b[43m_query\u001b[49m\u001b[43m(\u001b[49m\u001b[43mquery\u001b[49m\u001b[43m)\u001b[49m\n\u001b[1;32m    154\u001b[0m \u001b[38;5;28mself\u001b[39m\u001b[38;5;241m.\u001b[39m_executed \u001b[38;5;241m=\u001b[39m query\n\u001b[1;32m    155\u001b[0m \u001b[38;5;28;01mreturn\u001b[39;00m result\n",
      "File \u001b[0;32m/opt/homebrew/lib/python3.10/site-packages/pymysql/cursors.py:322\u001b[0m, in \u001b[0;36mCursor._query\u001b[0;34m(self, q)\u001b[0m\n\u001b[1;32m    320\u001b[0m conn \u001b[38;5;241m=\u001b[39m \u001b[38;5;28mself\u001b[39m\u001b[38;5;241m.\u001b[39m_get_db()\n\u001b[1;32m    321\u001b[0m \u001b[38;5;28mself\u001b[39m\u001b[38;5;241m.\u001b[39m_clear_result()\n\u001b[0;32m--> 322\u001b[0m \u001b[43mconn\u001b[49m\u001b[38;5;241;43m.\u001b[39;49m\u001b[43mquery\u001b[49m\u001b[43m(\u001b[49m\u001b[43mq\u001b[49m\u001b[43m)\u001b[49m\n\u001b[1;32m    323\u001b[0m \u001b[38;5;28mself\u001b[39m\u001b[38;5;241m.\u001b[39m_do_get_result()\n\u001b[1;32m    324\u001b[0m \u001b[38;5;28;01mreturn\u001b[39;00m \u001b[38;5;28mself\u001b[39m\u001b[38;5;241m.\u001b[39mrowcount\n",
      "File \u001b[0;32m/opt/homebrew/lib/python3.10/site-packages/pymysql/connections.py:558\u001b[0m, in \u001b[0;36mConnection.query\u001b[0;34m(self, sql, unbuffered)\u001b[0m\n\u001b[1;32m    556\u001b[0m     sql \u001b[38;5;241m=\u001b[39m sql\u001b[38;5;241m.\u001b[39mencode(\u001b[38;5;28mself\u001b[39m\u001b[38;5;241m.\u001b[39mencoding, \u001b[38;5;124m\"\u001b[39m\u001b[38;5;124msurrogateescape\u001b[39m\u001b[38;5;124m\"\u001b[39m)\n\u001b[1;32m    557\u001b[0m \u001b[38;5;28mself\u001b[39m\u001b[38;5;241m.\u001b[39m_execute_command(COMMAND\u001b[38;5;241m.\u001b[39mCOM_QUERY, sql)\n\u001b[0;32m--> 558\u001b[0m \u001b[38;5;28mself\u001b[39m\u001b[38;5;241m.\u001b[39m_affected_rows \u001b[38;5;241m=\u001b[39m \u001b[38;5;28;43mself\u001b[39;49m\u001b[38;5;241;43m.\u001b[39;49m\u001b[43m_read_query_result\u001b[49m\u001b[43m(\u001b[49m\u001b[43munbuffered\u001b[49m\u001b[38;5;241;43m=\u001b[39;49m\u001b[43munbuffered\u001b[49m\u001b[43m)\u001b[49m\n\u001b[1;32m    559\u001b[0m \u001b[38;5;28;01mreturn\u001b[39;00m \u001b[38;5;28mself\u001b[39m\u001b[38;5;241m.\u001b[39m_affected_rows\n",
      "File \u001b[0;32m/opt/homebrew/lib/python3.10/site-packages/pymysql/connections.py:822\u001b[0m, in \u001b[0;36mConnection._read_query_result\u001b[0;34m(self, unbuffered)\u001b[0m\n\u001b[1;32m    820\u001b[0m \u001b[38;5;28;01melse\u001b[39;00m:\n\u001b[1;32m    821\u001b[0m     result \u001b[38;5;241m=\u001b[39m MySQLResult(\u001b[38;5;28mself\u001b[39m)\n\u001b[0;32m--> 822\u001b[0m     \u001b[43mresult\u001b[49m\u001b[38;5;241;43m.\u001b[39;49m\u001b[43mread\u001b[49m\u001b[43m(\u001b[49m\u001b[43m)\u001b[49m\n\u001b[1;32m    823\u001b[0m \u001b[38;5;28mself\u001b[39m\u001b[38;5;241m.\u001b[39m_result \u001b[38;5;241m=\u001b[39m result\n\u001b[1;32m    824\u001b[0m \u001b[38;5;28;01mif\u001b[39;00m result\u001b[38;5;241m.\u001b[39mserver_status \u001b[38;5;129;01mis\u001b[39;00m \u001b[38;5;129;01mnot\u001b[39;00m \u001b[38;5;28;01mNone\u001b[39;00m:\n",
      "File \u001b[0;32m/opt/homebrew/lib/python3.10/site-packages/pymysql/connections.py:1200\u001b[0m, in \u001b[0;36mMySQLResult.read\u001b[0;34m(self)\u001b[0m\n\u001b[1;32m   1198\u001b[0m \u001b[38;5;28;01mdef\u001b[39;00m \u001b[38;5;21mread\u001b[39m(\u001b[38;5;28mself\u001b[39m):\n\u001b[1;32m   1199\u001b[0m     \u001b[38;5;28;01mtry\u001b[39;00m:\n\u001b[0;32m-> 1200\u001b[0m         first_packet \u001b[38;5;241m=\u001b[39m \u001b[38;5;28;43mself\u001b[39;49m\u001b[38;5;241;43m.\u001b[39;49m\u001b[43mconnection\u001b[49m\u001b[38;5;241;43m.\u001b[39;49m\u001b[43m_read_packet\u001b[49m\u001b[43m(\u001b[49m\u001b[43m)\u001b[49m\n\u001b[1;32m   1202\u001b[0m         \u001b[38;5;28;01mif\u001b[39;00m first_packet\u001b[38;5;241m.\u001b[39mis_ok_packet():\n\u001b[1;32m   1203\u001b[0m             \u001b[38;5;28mself\u001b[39m\u001b[38;5;241m.\u001b[39m_read_ok_packet(first_packet)\n",
      "File \u001b[0;32m/opt/homebrew/lib/python3.10/site-packages/pymysql/connections.py:772\u001b[0m, in \u001b[0;36mConnection._read_packet\u001b[0;34m(self, packet_type)\u001b[0m\n\u001b[1;32m    770\u001b[0m     \u001b[38;5;28;01mif\u001b[39;00m \u001b[38;5;28mself\u001b[39m\u001b[38;5;241m.\u001b[39m_result \u001b[38;5;129;01mis\u001b[39;00m \u001b[38;5;129;01mnot\u001b[39;00m \u001b[38;5;28;01mNone\u001b[39;00m \u001b[38;5;129;01mand\u001b[39;00m \u001b[38;5;28mself\u001b[39m\u001b[38;5;241m.\u001b[39m_result\u001b[38;5;241m.\u001b[39munbuffered_active \u001b[38;5;129;01mis\u001b[39;00m \u001b[38;5;28;01mTrue\u001b[39;00m:\n\u001b[1;32m    771\u001b[0m         \u001b[38;5;28mself\u001b[39m\u001b[38;5;241m.\u001b[39m_result\u001b[38;5;241m.\u001b[39munbuffered_active \u001b[38;5;241m=\u001b[39m \u001b[38;5;28;01mFalse\u001b[39;00m\n\u001b[0;32m--> 772\u001b[0m     \u001b[43mpacket\u001b[49m\u001b[38;5;241;43m.\u001b[39;49m\u001b[43mraise_for_error\u001b[49m\u001b[43m(\u001b[49m\u001b[43m)\u001b[49m\n\u001b[1;32m    773\u001b[0m \u001b[38;5;28;01mreturn\u001b[39;00m packet\n",
      "File \u001b[0;32m/opt/homebrew/lib/python3.10/site-packages/pymysql/protocol.py:221\u001b[0m, in \u001b[0;36mMysqlPacket.raise_for_error\u001b[0;34m(self)\u001b[0m\n\u001b[1;32m    219\u001b[0m \u001b[38;5;28;01mif\u001b[39;00m DEBUG:\n\u001b[1;32m    220\u001b[0m     \u001b[38;5;28mprint\u001b[39m(\u001b[38;5;124m\"\u001b[39m\u001b[38;5;124merrno =\u001b[39m\u001b[38;5;124m\"\u001b[39m, errno)\n\u001b[0;32m--> 221\u001b[0m \u001b[43merr\u001b[49m\u001b[38;5;241;43m.\u001b[39;49m\u001b[43mraise_mysql_exception\u001b[49m\u001b[43m(\u001b[49m\u001b[38;5;28;43mself\u001b[39;49m\u001b[38;5;241;43m.\u001b[39;49m\u001b[43m_data\u001b[49m\u001b[43m)\u001b[49m\n",
      "File \u001b[0;32m/opt/homebrew/lib/python3.10/site-packages/pymysql/err.py:143\u001b[0m, in \u001b[0;36mraise_mysql_exception\u001b[0;34m(data)\u001b[0m\n\u001b[1;32m    141\u001b[0m \u001b[38;5;28;01mif\u001b[39;00m errorclass \u001b[38;5;129;01mis\u001b[39;00m \u001b[38;5;28;01mNone\u001b[39;00m:\n\u001b[1;32m    142\u001b[0m     errorclass \u001b[38;5;241m=\u001b[39m InternalError \u001b[38;5;28;01mif\u001b[39;00m errno \u001b[38;5;241m<\u001b[39m \u001b[38;5;241m1000\u001b[39m \u001b[38;5;28;01melse\u001b[39;00m OperationalError\n\u001b[0;32m--> 143\u001b[0m \u001b[38;5;28;01mraise\u001b[39;00m errorclass(errno, errval)\n",
      "\u001b[0;31mProgrammingError\u001b[0m: (1064, \"You have an error in your SQL syntax; check the manual that corresponds to your MySQL server version for the right syntax to use near '66' and mainPageUrl = 'https://movie.daum.net/moviedb/main?movieId=1998'' at line 1\")"
     ]
    }
   ],
   "source": [
    "for i, row in daum_movies.loc[0:len(daum_movies)//10].iterrows():\n",
    "    \n",
    "    title_ko, mainpageurl = row['titleKo'], row['mainPageUrl']\n",
    "    print(f\"movie : {title_ko}\".ljust(60, '-'))\n",
    "    \n",
    "    driver.get(mainpageurl.replace('main', 'grade'))\n",
    "    time.sleep(1)\n",
    "    \n",
    "    click_more(driver, 30)\n",
    "    time.sleep(0.5)\n",
    "    \n",
    "    rating_boxes = driver.find_elements(By.CSS_SELECTOR, 'div.wrap_alex ul.list_comment > li')\n",
    "    \n",
    "    print(f\"# of rating box : {len(rating_boxes):5,}\")\n",
    "    \n",
    "    for pop_i, box in enumerate(rating_boxes):\n",
    "        \n",
    "        # box에서 닉네임 클릭(클릭후 쉬기) ####################\n",
    "        box_to_click = box.find_element(By.CSS_SELECTOR, 'div.cmt_info > strong > span > a > span:nth-child(2)')\n",
    "        driver.execute_script(\"arguments[0].click();\", box_to_click)\n",
    "        time.sleep(0.5)\n",
    "        ################################################\n",
    "        \n",
    "        # popup boxes 구해서 one_box_insert에 넘기기 #######\n",
    "        popup_boxes = driver.find_elements(By.CSS_SELECTOR, 'div[data-reactid=\".0.0.1\"] ul.list_comment > li')\n",
    "        click_popup_more(driver, 5)\n",
    "        for pop_rating_box in popup_boxes:\n",
    "            one_popup_box_insert(pop_rating_box, mysql)\n",
    "        #################################################\n",
    "            \n",
    "        # 창 닫고 box를 one_box_insert에 넘기기 #############\n",
    "        try:\n",
    "            click_x(driver)\n",
    "            \n",
    "            time.sleep(0.5)\n",
    "            one_mainpage_box_insert(box, mysql, title_ko, mainpageurl)\n",
    "        except NoSuchElementException:\n",
    "            # print(f\"팝업이 안떴음\")\n",
    "            pass\n",
    "        #################################################\n"
   ]
  },
  {
   "cell_type": "markdown",
   "id": "215c56e4-31dd-4f26-9f3a-17b9fef7412b",
   "metadata": {
    "tags": []
   },
   "source": [
    "# daum_ratings 불러오기"
   ]
  },
  {
   "cell_type": "code",
   "execution_count": 93,
   "id": "9f094106-02c9-41d9-a487-063d223a317b",
   "metadata": {
    "tags": []
   },
   "outputs": [
    {
     "name": "stderr",
     "output_type": "stream",
     "text": [
      "/var/folders/cg/2vt5wbq5767fsxv0005k5x4m0000gn/T/ipykernel_50072/3919600470.py:3: UserWarning: pandas only supports SQLAlchemy connectable (engine/connection) or database string URI or sqlite3 DBAPI2 connection. Other DBAPI2 objects are not tested. Please consider using SQLAlchemy.\n",
      "  daum_ratings = pd.read_sql(sql='select * from daum_ratings', con=connection)\n"
     ]
    },
    {
     "data": {
      "text/html": [
       "<div>\n",
       "<style scoped>\n",
       "    .dataframe tbody tr th:only-of-type {\n",
       "        vertical-align: middle;\n",
       "    }\n",
       "\n",
       "    .dataframe tbody tr th {\n",
       "        vertical-align: top;\n",
       "    }\n",
       "\n",
       "    .dataframe thead th {\n",
       "        text-align: right;\n",
       "    }\n",
       "</style>\n",
       "<table border=\"1\" class=\"dataframe\">\n",
       "  <thead>\n",
       "    <tr style=\"text-align: right;\">\n",
       "      <th></th>\n",
       "      <th>nickName</th>\n",
       "      <th>movieId</th>\n",
       "      <th>rating</th>\n",
       "      <th>timestamp</th>\n",
       "      <th>userId</th>\n",
       "      <th>review</th>\n",
       "    </tr>\n",
       "  </thead>\n",
       "  <tbody>\n",
       "    <tr>\n",
       "      <th>0</th>\n",
       "      <td>닉네임</td>\n",
       "      <td>2880</td>\n",
       "      <td>10</td>\n",
       "      <td>1.700658e+09</td>\n",
       "      <td>None</td>\n",
       "      <td>좀비영화 싫어하는데 이건 넘 재밌네</td>\n",
       "    </tr>\n",
       "    <tr>\n",
       "      <th>1</th>\n",
       "      <td>닉네임</td>\n",
       "      <td>2881</td>\n",
       "      <td>8</td>\n",
       "      <td>1.668779e+09</td>\n",
       "      <td>None</td>\n",
       "      <td>의상 너무너무 예쁘다</td>\n",
       "    </tr>\n",
       "    <tr>\n",
       "      <th>2</th>\n",
       "      <td>닉네임</td>\n",
       "      <td>2880</td>\n",
       "      <td>10</td>\n",
       "      <td>1.700658e+09</td>\n",
       "      <td>None</td>\n",
       "      <td>좀비영화 싫어하는데 이건 넘 재밌네</td>\n",
       "    </tr>\n",
       "    <tr>\n",
       "      <th>3</th>\n",
       "      <td>닉네임</td>\n",
       "      <td>2881</td>\n",
       "      <td>8</td>\n",
       "      <td>1.668779e+09</td>\n",
       "      <td>None</td>\n",
       "      <td>의상 너무너무 예쁘다</td>\n",
       "    </tr>\n",
       "    <tr>\n",
       "      <th>4</th>\n",
       "      <td>닉네임</td>\n",
       "      <td>2880</td>\n",
       "      <td>10</td>\n",
       "      <td>1.700658e+09</td>\n",
       "      <td>None</td>\n",
       "      <td>좀비영화 싫어하는데 이건 넘 재밌네</td>\n",
       "    </tr>\n",
       "    <tr>\n",
       "      <th>...</th>\n",
       "      <td>...</td>\n",
       "      <td>...</td>\n",
       "      <td>...</td>\n",
       "      <td>...</td>\n",
       "      <td>...</td>\n",
       "      <td>...</td>\n",
       "    </tr>\n",
       "    <tr>\n",
       "      <th>304</th>\n",
       "      <td>순수</td>\n",
       "      <td>1123</td>\n",
       "      <td>10</td>\n",
       "      <td>1.647360e+09</td>\n",
       "      <td>None</td>\n",
       "      <td>가슴 시리다..\\n훌륭한 영화군요</td>\n",
       "    </tr>\n",
       "    <tr>\n",
       "      <th>305</th>\n",
       "      <td>순수</td>\n",
       "      <td>1419</td>\n",
       "      <td>10</td>\n",
       "      <td>1.647313e+09</td>\n",
       "      <td>None</td>\n",
       "      <td>2번 봤는데\\n너무 고맙습니다\\n다시는 독재 안됩니다!</td>\n",
       "    </tr>\n",
       "    <tr>\n",
       "      <th>306</th>\n",
       "      <td>순수</td>\n",
       "      <td>1684</td>\n",
       "      <td>10</td>\n",
       "      <td>1.647231e+09</td>\n",
       "      <td>None</td>\n",
       "      <td>훌륭한 명화입니다\\n학생들 모두가 봤으면 좋겠네요\\n선진들께 감사드립니다.</td>\n",
       "    </tr>\n",
       "    <tr>\n",
       "      <th>307</th>\n",
       "      <td>순수</td>\n",
       "      <td>983</td>\n",
       "      <td>8</td>\n",
       "      <td>1.646991e+09</td>\n",
       "      <td>None</td>\n",
       "      <td>이제훈님과 반전이 아니였으연\\n약간은 지루한 감도 있었어요..</td>\n",
       "    </tr>\n",
       "    <tr>\n",
       "      <th>308</th>\n",
       "      <td>순수</td>\n",
       "      <td>261</td>\n",
       "      <td>10</td>\n",
       "      <td>1.653570e+09</td>\n",
       "      <td>None</td>\n",
       "      <td>영화 잘 만들었네요~!!</td>\n",
       "    </tr>\n",
       "  </tbody>\n",
       "</table>\n",
       "<p>309 rows × 6 columns</p>\n",
       "</div>"
      ],
      "text/plain": [
       "    nickName  movieId  rating     timestamp userId  \\\n",
       "0        닉네임     2880      10  1.700658e+09   None   \n",
       "1        닉네임     2881       8  1.668779e+09   None   \n",
       "2        닉네임     2880      10  1.700658e+09   None   \n",
       "3        닉네임     2881       8  1.668779e+09   None   \n",
       "4        닉네임     2880      10  1.700658e+09   None   \n",
       "..       ...      ...     ...           ...    ...   \n",
       "304       순수     1123      10  1.647360e+09   None   \n",
       "305       순수     1419      10  1.647313e+09   None   \n",
       "306       순수     1684      10  1.647231e+09   None   \n",
       "307       순수      983       8  1.646991e+09   None   \n",
       "308       순수      261      10  1.653570e+09   None   \n",
       "\n",
       "                                        review  \n",
       "0                          좀비영화 싫어하는데 이건 넘 재밌네  \n",
       "1                                  의상 너무너무 예쁘다  \n",
       "2                          좀비영화 싫어하는데 이건 넘 재밌네  \n",
       "3                                  의상 너무너무 예쁘다  \n",
       "4                          좀비영화 싫어하는데 이건 넘 재밌네  \n",
       "..                                         ...  \n",
       "304                         가슴 시리다..\\n훌륭한 영화군요  \n",
       "305             2번 봤는데\\n너무 고맙습니다\\n다시는 독재 안됩니다!  \n",
       "306  훌륭한 명화입니다\\n학생들 모두가 봤으면 좋겠네요\\n선진들께 감사드립니다.  \n",
       "307         이제훈님과 반전이 아니였으연\\n약간은 지루한 감도 있었어요..  \n",
       "308                              영화 잘 만들었네요~!!  \n",
       "\n",
       "[309 rows x 6 columns]"
      ]
     },
     "execution_count": 93,
     "metadata": {},
     "output_type": "execute_result"
    }
   ],
   "source": [
    "import pandas as pd\n",
    "with mysql.get_connection() as connection:\n",
    "    daum_ratings = pd.read_sql(sql='select * from daum_ratings', con=connection)\n",
    "daum_ratings"
   ]
  },
  {
   "cell_type": "markdown",
   "id": "dab59523-c0da-479e-b4ae-154354254d7e",
   "metadata": {},
   "source": [
    "# daum_movies 불러오기"
   ]
  },
  {
   "cell_type": "code",
   "execution_count": 155,
   "id": "a7f6940e-9793-4b09-b357-06878e495247",
   "metadata": {
    "tags": []
   },
   "outputs": [
    {
     "name": "stderr",
     "output_type": "stream",
     "text": [
      "/Users/kyeongchanlee/PycharmProjects/recsys_service_deployment/notebooks/../clients.py:37: UserWarning: pandas only supports SQLAlchemy connectable (engine/connection) or database string URI or sqlite3 DBAPI2 connection. Other DBAPI2 objects are not tested. Please consider using SQLAlchemy.\n",
      "  df = pd.read_sql(sql='select * from daum_movies', con=connection)\n"
     ]
    },
    {
     "data": {
      "text/html": [
       "<div>\n",
       "<style scoped>\n",
       "    .dataframe tbody tr th:only-of-type {\n",
       "        vertical-align: middle;\n",
       "    }\n",
       "\n",
       "    .dataframe tbody tr th {\n",
       "        vertical-align: top;\n",
       "    }\n",
       "\n",
       "    .dataframe thead th {\n",
       "        text-align: right;\n",
       "    }\n",
       "</style>\n",
       "<table border=\"1\" class=\"dataframe\">\n",
       "  <thead>\n",
       "    <tr style=\"text-align: right;\">\n",
       "      <th></th>\n",
       "      <th>movieId</th>\n",
       "      <th>titleKo</th>\n",
       "      <th>titleEn</th>\n",
       "      <th>mainPageUrl</th>\n",
       "      <th>posterUrl</th>\n",
       "    </tr>\n",
       "  </thead>\n",
       "  <tbody>\n",
       "  </tbody>\n",
       "</table>\n",
       "</div>"
      ],
      "text/plain": [
       "Empty DataFrame\n",
       "Columns: [movieId, titleKo, titleEn, mainPageUrl, posterUrl]\n",
       "Index: []"
      ]
     },
     "execution_count": 155,
     "metadata": {},
     "output_type": "execute_result"
    }
   ],
   "source": [
    "mysql.get_daum_movies()"
   ]
  },
  {
   "cell_type": "markdown",
   "id": "8bbb792d-8bac-4567-b2d8-fd6041bc8983",
   "metadata": {},
   "source": [
    "# 테이블 초기화"
   ]
  },
  {
   "cell_type": "code",
   "execution_count": 154,
   "id": "6021339e-8942-4cf4-af7c-5f3b623017d1",
   "metadata": {
    "tags": []
   },
   "outputs": [],
   "source": [
    "with mysql.get_connection() as connection:\n",
    "    cursor = connection.cursor()\n",
    "    cursor.execute(\"DELETE FROM daum_movies\")\n",
    "    connection.commit()"
   ]
  },
  {
   "cell_type": "code",
   "execution_count": 34,
   "id": "4e403685-b8db-4709-98d0-8dc336b9d73e",
   "metadata": {
    "tags": []
   },
   "outputs": [],
   "source": [
    "with mysql.get_connection() as connection:\n",
    "    cursor = connection.cursor()\n",
    "    cursor.execute(\"DELETE FROM daum_ratings\")\n",
    "    connection.commit()"
   ]
  },
  {
   "cell_type": "markdown",
   "id": "77fd4b8d-c120-4c77-b078-67ac59631547",
   "metadata": {},
   "source": [
    "# table 아예 삭제"
   ]
  },
  {
   "cell_type": "code",
   "execution_count": 97,
   "id": "e577576d-d90a-4348-acff-d7a90b691181",
   "metadata": {
    "tags": []
   },
   "outputs": [],
   "source": [
    "drop_table_query = \"DROP TABLE IF EXISTS daum_ratings\"\n",
    "\n",
    "with mysql.get_connection().cursor() as cursor:\n",
    "    cursor.execute(drop_table_query)\n",
    "    "
   ]
  },
  {
   "cell_type": "code",
   "execution_count": 433,
   "id": "6f75da2a-a9cd-45bd-adbb-f643f0d91d71",
   "metadata": {
    "tags": []
   },
   "outputs": [],
   "source": [
    "drop_table_query = \"DROP TABLE IF EXISTS daum_movies\"\n",
    "\n",
    "with mysql.get_connection().cursor() as cursor:\n",
    "    cursor.execute(drop_table_query)\n",
    "    "
   ]
  },
  {
   "cell_type": "code",
   "execution_count": 208,
   "id": "785de262-7aed-4e2f-8bd6-c4b99066cce6",
   "metadata": {
    "tags": []
   },
   "outputs": [
    {
     "name": "stdout",
     "output_type": "stream",
     "text": [
      "Tables : \n",
      "daum_movies\n",
      "movies\n",
      "ratings\n"
     ]
    }
   ],
   "source": [
    "mysql.get_table_names()"
   ]
  },
  {
   "cell_type": "markdown",
   "id": "af4deb1c-dff6-4bb1-bf08-9b7b4e2ccffa",
   "metadata": {},
   "source": [
    "# 생성 후 unique 조건 추가"
   ]
  },
  {
   "cell_type": "code",
   "execution_count": null,
   "id": "5c3c6975-f0c7-41c7-a785-c1f0ff8c88ae",
   "metadata": {
    "tags": []
   },
   "outputs": [],
   "source": [
    "with mysql.get_connection() as connection:\n",
    "    cursor = connection.cursor()\n",
    "    # ALTER TABLE을 사용하여 유니크 키 추가\n",
    "    alter_table_query = \"\"\"\n",
    "    ALTER TABLE daum_ratings\n",
    "    ADD CONSTRAINT unique_key1 UNIQUE (userId),\n",
    "    ADD CONSTRAINT unique_key2 UNIQUE (movieId);\n",
    "    \"\"\"\n",
    "\n",
    "    # SQL 쿼리 실행\n",
    "    cursor.execute(alter_table_query)\n",
    "\n",
    "    # 변경사항 저장\n",
    "    connection.commit()"
   ]
  },
  {
   "cell_type": "code",
   "execution_count": 150,
   "id": "33960dbe-a9f8-4d65-8a95-2df702f082b3",
   "metadata": {
    "tags": []
   },
   "outputs": [
    {
     "data": {
      "text/plain": [
       "datetime.datetime(2023, 8, 2, 9, 21)"
      ]
     },
     "execution_count": 150,
     "metadata": {},
     "output_type": "execute_result"
    }
   ],
   "source": [
    "dt.datetime.fromtimestamp(daum_ratings['timestamp'][0])"
   ]
  },
  {
   "cell_type": "markdown",
   "id": "109112d0-c5cc-431f-8ab4-838affec67e9",
   "metadata": {
    "tags": []
   },
   "source": [
    "# 하나씩 해결하기"
   ]
  },
  {
   "cell_type": "code",
   "execution_count": 1,
   "id": "05bd467b-3955-41fc-8cec-1cf100338131",
   "metadata": {
    "tags": []
   },
   "outputs": [],
   "source": [
    "# brew install mysql-client\n",
    "import sys\n",
    "\n",
    "import numpy as np\n",
    "\n",
    "sys.path.append('../')\n",
    "import re\n",
    "from selenium.webdriver.common.by import By\n",
    "from selenium.common.exceptions import NoSuchElementException\n",
    "from selenium.common.exceptions import StaleElementReferenceException\n",
    "\n",
    "from clients import MysqlClient\n",
    "import time\n",
    "import pandas as pd\n",
    "import datetime as dt\n",
    "import os\n",
    "from selenium import webdriver\n",
    "from selenium.webdriver.chrome.service import Service as ChromeService\n",
    "from webdriver_manager.chrome import ChromeDriverManager\n",
    "from tqdm import tqdm\n",
    "import multiprocessing\n"
   ]
  },
  {
   "cell_type": "code",
   "execution_count": 2,
   "id": "570ef86a-ee2c-4389-943e-732e34324b71",
   "metadata": {
    "tags": []
   },
   "outputs": [],
   "source": [
    "def wait_till_n_site(driver):\n",
    "    while True:\n",
    "        try:\n",
    "            n_site_tag = driver.find_element(By.CSS_SELECTOR, 'span.txt_netizen')\n",
    "            if n_site_tag.text != '':\n",
    "                print(f\"!!!!!{n_site_tag.text}\")\n",
    "                break\n",
    "        except NoSuchElementException:\n",
    "            continue\n",
    "\n",
    "\n",
    "def parse_poster_url(driver):\n",
    "    poster_regex = re.compile(r\"\\\"(.+)\\\"\")\n",
    "    try:\n",
    "        poster_attr = driver.find_element(By.CSS_SELECTOR, 'span.bg_img').get_attribute('style')\n",
    "        poster_url = re.search(poster_regex, poster_attr).group(1)\n",
    "        return poster_url\n",
    "    except (NoSuchElementException, AttributeError):\n",
    "        return None\n",
    "\n",
    "\n",
    "def insert_movie_info(mysql, update_values, mid):\n",
    "    with mysql.get_connection() as conn:\n",
    "        cursor = conn.cursor()\n",
    "\n",
    "        # 업데이트 쿼리 작성\n",
    "        update_query = \"\"\"\n",
    "            UPDATE daum_movies\n",
    "            SET {update_columns}\n",
    "            WHERE movieId = %s;\n",
    "        \"\"\".format(update_columns=\", \".join(f\"{key} = %s\" for key in update_values.keys()))\n",
    "\n",
    "        # 쿼리 실행\n",
    "        cursor.execute(update_query, list(update_values.values()) + [mid])\n",
    "\n",
    "        # 변경사항을 커밋\n",
    "        conn.commit()\n",
    "    print(f\"{update_values['titleKo']}\")\n",
    "\n",
    "\n",
    "def main(daum_movies):\n",
    "    mysql = MysqlClient()\n",
    "    driver = webdriver.Chrome(service=ChromeService(ChromeDriverManager().install()))\n",
    "    for mid in daum_movies['movieId']:\n",
    "        url = f\"https://movie.daum.net/moviedb/grade?movieId={mid}\"\n",
    "        driver.get(url)\n",
    "        # 별개수 뜰때까지 기다림\n",
    "        wait_till_n_site(driver)\n",
    "\n",
    "        n_site_regex = re.compile(r\"\\d+\")\n",
    "        # titleKo\n",
    "        title_ko = driver.find_element(By.CSS_SELECTOR,\n",
    "                                       'div.info_detail > div.detail_tit > h3 > span.txt_tit').text.replace(',', '')\n",
    "        # posterUrl\n",
    "        poster_url = parse_poster_url(driver)\n",
    "        # titleEn\n",
    "        title_en = driver.find_element(By.CSS_SELECTOR, 'span.txt_name').text.replace(',', '')\n",
    "        # nOfSiteRatings\n",
    "        n_site_txt = driver.find_element(By.CSS_SELECTOR, 'span.txt_netizen').text\n",
    "        n_site_int = int(re.search(n_site_regex, n_site_txt).group())\n",
    "\n",
    "        # 업데이트할 값들 설정\n",
    "        update_values = {\n",
    "            'titleKo': title_ko,\n",
    "            'titleEn': title_en,\n",
    "            'mainPageUrl': url,\n",
    "            'posterUrl': poster_url,\n",
    "            'numOfSiteRatings': n_site_int\n",
    "        }\n",
    "\n",
    "        insert_movie_info(mysql, update_values, mid)"
   ]
  },
  {
   "cell_type": "code",
   "execution_count": 3,
   "id": "213f2a5e-e3c9-4c55-9dc2-80b67873d607",
   "metadata": {
    "tags": []
   },
   "outputs": [
    {
     "name": "stderr",
     "output_type": "stream",
     "text": [
      "/Users/kyeongchanlee/PycharmProjects/recsys_service_deployment/notebooks/../clients.py:39: UserWarning: pandas only supports SQLAlchemy connectable (engine/connection) or database string URI or sqlite3 DBAPI2 connection. Other DBAPI2 objects are not tested. Please consider using SQLAlchemy.\n",
      "  df = pd.read_sql(sql='select * from daum_movies', con=connection)\n"
     ]
    },
    {
     "name": "stdout",
     "output_type": "stream",
     "text": [
      "수집할 영화 수 : 538\n"
     ]
    }
   ],
   "source": [
    "    mysql = MysqlClient()\n",
    "    daum_movies = mysql.get_daum_movies()\n",
    "    df = daum_movies[daum_movies['titleKo'].isnull()]\n",
    "    print(f\"수집할 영화 수 : {len(df)}\")\n",
    "    # 사용할 프로세스 수"
   ]
  },
  {
   "cell_type": "code",
   "execution_count": 4,
   "id": "8f8c635d-c89d-4c55-a24d-030f41dfadd1",
   "metadata": {
    "tags": []
   },
   "outputs": [
    {
     "data": {
      "text/plain": [
       "'https://img1.daumcdn.net/thumb/C408x596/?fname=http%3A%2F%2Ft1.daumcdn.net%2Fcfile%2F12110210A8F1224840'"
      ]
     },
     "execution_count": 4,
     "metadata": {},
     "output_type": "execute_result"
    }
   ],
   "source": [
    "daum_movies[daum_movies['titleKo'] == '괴물'].iloc[1]['posterUrl']"
   ]
  },
  {
   "cell_type": "code",
   "execution_count": 195,
   "id": "1fe59b7e-fbff-40b7-b6df-c1f4891f0b11",
   "metadata": {
    "tags": []
   },
   "outputs": [],
   "source": [
    "mysql = MysqlClient()"
   ]
  },
  {
   "cell_type": "code",
   "execution_count": 196,
   "id": "958221a3-e09f-492a-becb-31baf603a044",
   "metadata": {
    "tags": []
   },
   "outputs": [],
   "source": [
    "driver = webdriver.Chrome(service=ChromeService(ChromeDriverManager().install()))"
   ]
  },
  {
   "cell_type": "code",
   "execution_count": 197,
   "id": "989cef54-2955-4b75-9265-b602eb5266e3",
   "metadata": {
    "tags": []
   },
   "outputs": [],
   "source": [
    "url = \"https://movie.daum.net/moviedb/grade?movieId=1677\""
   ]
  },
  {
   "cell_type": "code",
   "execution_count": 198,
   "id": "2a99a8d8-eb7a-4839-ab41-752ea1818197",
   "metadata": {
    "tags": []
   },
   "outputs": [],
   "source": [
    "driver.get(url)"
   ]
  },
  {
   "cell_type": "code",
   "execution_count": 227,
   "id": "0fe5fa4d-913e-4c5d-937c-0a5f8ad7b69e",
   "metadata": {
    "tags": []
   },
   "outputs": [],
   "source": [
    "with mysql.get_connection() as conn:\n",
    "    cursor = conn.cursor()\n",
    "    cursor.execute(\"\"\"\n",
    "    SELECT dm.*\n",
    "    FROM daum_movies dm\n",
    "    JOIN (\n",
    "        SELECT movieId\n",
    "        FROM daum_ratings\n",
    "        GROUP BY movieId\n",
    "        HAVING COUNT(*) <= 5\n",
    "    ) dr ON dm.movieId = dr.movieId\n",
    "    \"\"\")\n",
    "    columns = [desc[0] for desc in cursor.description]\n",
    "    result_df = pd.DataFrame(cursor.fetchall(), columns=columns)\n",
    "    result_df = result_df.sort_index(ascending=False)"
   ]
  },
  {
   "cell_type": "code",
   "execution_count": 6,
   "id": "aa182990-4a48-4701-b005-9cb774b49a5c",
   "metadata": {
    "tags": []
   },
   "outputs": [
    {
     "name": "stderr",
     "output_type": "stream",
     "text": [
      "/var/folders/cg/2vt5wbq5767fsxv0005k5x4m0000gn/T/ipykernel_8680/2158844902.py:4: UserWarning: pandas only supports SQLAlchemy connectable (engine/connection) or database string URI or sqlite3 DBAPI2 connection. Other DBAPI2 objects are not tested. Please consider using SQLAlchemy.\n",
      "  dr_cnt = pd.read_sql_query(query, conn)\n"
     ]
    },
    {
     "data": {
      "text/html": [
       "<div>\n",
       "<style scoped>\n",
       "    .dataframe tbody tr th:only-of-type {\n",
       "        vertical-align: middle;\n",
       "    }\n",
       "\n",
       "    .dataframe tbody tr th {\n",
       "        vertical-align: top;\n",
       "    }\n",
       "\n",
       "    .dataframe thead th {\n",
       "        text-align: right;\n",
       "    }\n",
       "</style>\n",
       "<table border=\"1\" class=\"dataframe\">\n",
       "  <thead>\n",
       "    <tr style=\"text-align: right;\">\n",
       "      <th></th>\n",
       "      <th>movieId</th>\n",
       "      <th>count</th>\n",
       "    </tr>\n",
       "  </thead>\n",
       "  <tbody>\n",
       "    <tr>\n",
       "      <th>0</th>\n",
       "      <td>1</td>\n",
       "      <td>23</td>\n",
       "    </tr>\n",
       "    <tr>\n",
       "      <th>1</th>\n",
       "      <td>2</td>\n",
       "      <td>12</td>\n",
       "    </tr>\n",
       "    <tr>\n",
       "      <th>2</th>\n",
       "      <td>3</td>\n",
       "      <td>4</td>\n",
       "    </tr>\n",
       "    <tr>\n",
       "      <th>3</th>\n",
       "      <td>4</td>\n",
       "      <td>14</td>\n",
       "    </tr>\n",
       "    <tr>\n",
       "      <th>4</th>\n",
       "      <td>5</td>\n",
       "      <td>14</td>\n",
       "    </tr>\n",
       "    <tr>\n",
       "      <th>...</th>\n",
       "      <td>...</td>\n",
       "      <td>...</td>\n",
       "    </tr>\n",
       "    <tr>\n",
       "      <th>24291</th>\n",
       "      <td>175738</td>\n",
       "      <td>2</td>\n",
       "    </tr>\n",
       "    <tr>\n",
       "      <th>24292</th>\n",
       "      <td>175807</td>\n",
       "      <td>1</td>\n",
       "    </tr>\n",
       "    <tr>\n",
       "      <th>24293</th>\n",
       "      <td>175838</td>\n",
       "      <td>3</td>\n",
       "    </tr>\n",
       "    <tr>\n",
       "      <th>24294</th>\n",
       "      <td>175990</td>\n",
       "      <td>3</td>\n",
       "    </tr>\n",
       "    <tr>\n",
       "      <th>24295</th>\n",
       "      <td>176148</td>\n",
       "      <td>1</td>\n",
       "    </tr>\n",
       "  </tbody>\n",
       "</table>\n",
       "<p>24296 rows × 2 columns</p>\n",
       "</div>"
      ],
      "text/plain": [
       "       movieId  count\n",
       "0            1     23\n",
       "1            2     12\n",
       "2            3      4\n",
       "3            4     14\n",
       "4            5     14\n",
       "...        ...    ...\n",
       "24291   175738      2\n",
       "24292   175807      1\n",
       "24293   175838      3\n",
       "24294   175990      3\n",
       "24295   176148      1\n",
       "\n",
       "[24296 rows x 2 columns]"
      ]
     },
     "execution_count": 6,
     "metadata": {},
     "output_type": "execute_result"
    }
   ],
   "source": [
    "with mysql.get_connection() as conn:\n",
    "    # SQL 쿼리 실행\n",
    "    query = \"SELECT movieId, COUNT(*) AS count FROM daum_ratings GROUP BY movieId;\"\n",
    "    dr_cnt = pd.read_sql_query(query, conn)\n",
    "\n",
    "# 결과 확인\n",
    "dr_cnt\n"
   ]
  },
  {
   "cell_type": "code",
   "execution_count": 7,
   "id": "5bc04d10-d4a8-4c49-b491-22f031ecb183",
   "metadata": {
    "tags": []
   },
   "outputs": [
    {
     "data": {
      "text/html": [
       "<div>\n",
       "<style scoped>\n",
       "    .dataframe tbody tr th:only-of-type {\n",
       "        vertical-align: middle;\n",
       "    }\n",
       "\n",
       "    .dataframe tbody tr th {\n",
       "        vertical-align: top;\n",
       "    }\n",
       "\n",
       "    .dataframe thead th {\n",
       "        text-align: right;\n",
       "    }\n",
       "</style>\n",
       "<table border=\"1\" class=\"dataframe\">\n",
       "  <thead>\n",
       "    <tr style=\"text-align: right;\">\n",
       "      <th></th>\n",
       "      <th>movieId</th>\n",
       "      <th>count</th>\n",
       "      <th>titleKo</th>\n",
       "      <th>titleEn</th>\n",
       "      <th>mainPageUrl</th>\n",
       "      <th>posterUrl</th>\n",
       "      <th>numOfSiteRatings</th>\n",
       "    </tr>\n",
       "  </thead>\n",
       "  <tbody>\n",
       "    <tr>\n",
       "      <th>0</th>\n",
       "      <td>1</td>\n",
       "      <td>23</td>\n",
       "      <td>플란다스의 개</td>\n",
       "      <td>Barking Dogs Never Bite 2000</td>\n",
       "      <td>https://movie.daum.net/moviedb/grade?movieId=1</td>\n",
       "      <td>https://img1.daumcdn.net/thumb/C408x596/?fname...</td>\n",
       "      <td>126.0</td>\n",
       "    </tr>\n",
       "    <tr>\n",
       "      <th>1</th>\n",
       "      <td>2</td>\n",
       "      <td>12</td>\n",
       "      <td>카라</td>\n",
       "      <td>Calla 1999</td>\n",
       "      <td>https://movie.daum.net/moviedb/grade?movieId=2</td>\n",
       "      <td>https://img1.daumcdn.net/thumb/C408x596/?fname...</td>\n",
       "      <td>23.0</td>\n",
       "    </tr>\n",
       "    <tr>\n",
       "      <th>2</th>\n",
       "      <td>3</td>\n",
       "      <td>4</td>\n",
       "      <td>주노명 베이커리</td>\n",
       "      <td>2000</td>\n",
       "      <td>https://movie.daum.net/moviedb/grade?movieId=3</td>\n",
       "      <td>None</td>\n",
       "      <td>15.0</td>\n",
       "    </tr>\n",
       "    <tr>\n",
       "      <th>3</th>\n",
       "      <td>4</td>\n",
       "      <td>14</td>\n",
       "      <td>여고괴담 두번째 이야기</td>\n",
       "      <td>Memento Mori 1999</td>\n",
       "      <td>https://movie.daum.net/moviedb/grade?movieId=4</td>\n",
       "      <td>https://img1.daumcdn.net/thumb/C408x596/?fname...</td>\n",
       "      <td>74.0</td>\n",
       "    </tr>\n",
       "    <tr>\n",
       "      <th>4</th>\n",
       "      <td>5</td>\n",
       "      <td>14</td>\n",
       "      <td>행복한 장의사</td>\n",
       "      <td>2000</td>\n",
       "      <td>https://movie.daum.net/moviedb/grade?movieId=5</td>\n",
       "      <td>https://img1.daumcdn.net/thumb/C408x596/?fname...</td>\n",
       "      <td>53.0</td>\n",
       "    </tr>\n",
       "    <tr>\n",
       "      <th>...</th>\n",
       "      <td>...</td>\n",
       "      <td>...</td>\n",
       "      <td>...</td>\n",
       "      <td>...</td>\n",
       "      <td>...</td>\n",
       "      <td>...</td>\n",
       "      <td>...</td>\n",
       "    </tr>\n",
       "    <tr>\n",
       "      <th>24291</th>\n",
       "      <td>175738</td>\n",
       "      <td>2</td>\n",
       "      <td>파묘</td>\n",
       "      <td>2022</td>\n",
       "      <td>https://movie.daum.net/moviedb/grade?movieId=1...</td>\n",
       "      <td>https://img1.daumcdn.net/thumb/C408x596/?fname...</td>\n",
       "      <td>2.0</td>\n",
       "    </tr>\n",
       "    <tr>\n",
       "      <th>24292</th>\n",
       "      <td>175807</td>\n",
       "      <td>1</td>\n",
       "      <td>고질라 x 콩: 더 뉴 엠파이어</td>\n",
       "      <td>Godzilla x Kong: The New Empire 2024</td>\n",
       "      <td>https://movie.daum.net/moviedb/grade?movieId=1...</td>\n",
       "      <td>https://img1.daumcdn.net/thumb/C408x596/?fname...</td>\n",
       "      <td>1.0</td>\n",
       "    </tr>\n",
       "    <tr>\n",
       "      <th>24293</th>\n",
       "      <td>175838</td>\n",
       "      <td>3</td>\n",
       "      <td>장안궤사전</td>\n",
       "      <td>The Man's Secret 長安詭事傳 2023</td>\n",
       "      <td>https://movie.daum.net/moviedb/grade?movieId=1...</td>\n",
       "      <td>https://img1.daumcdn.net/thumb/C408x596/?fname...</td>\n",
       "      <td>3.0</td>\n",
       "    </tr>\n",
       "    <tr>\n",
       "      <th>24294</th>\n",
       "      <td>175990</td>\n",
       "      <td>3</td>\n",
       "      <td>실버 앤드 더 북 오브 드림스</td>\n",
       "      <td>Silver and the Book of Dreams Silber und das B...</td>\n",
       "      <td>https://movie.daum.net/moviedb/grade?movieId=1...</td>\n",
       "      <td>https://img1.daumcdn.net/thumb/C408x596/?fname...</td>\n",
       "      <td>3.0</td>\n",
       "    </tr>\n",
       "    <tr>\n",
       "      <th>24295</th>\n",
       "      <td>176148</td>\n",
       "      <td>1</td>\n",
       "      <td>쿵푸팬더4</td>\n",
       "      <td>Kung Fu Panda 4 2024</td>\n",
       "      <td>https://movie.daum.net/moviedb/grade?movieId=1...</td>\n",
       "      <td>https://img1.daumcdn.net/thumb/C408x596/?fname...</td>\n",
       "      <td>1.0</td>\n",
       "    </tr>\n",
       "  </tbody>\n",
       "</table>\n",
       "<p>24296 rows × 7 columns</p>\n",
       "</div>"
      ],
      "text/plain": [
       "       movieId  count            titleKo  \\\n",
       "0            1     23            플란다스의 개   \n",
       "1            2     12                 카라   \n",
       "2            3      4           주노명 베이커리   \n",
       "3            4     14       여고괴담 두번째 이야기   \n",
       "4            5     14            행복한 장의사   \n",
       "...        ...    ...                ...   \n",
       "24291   175738      2                 파묘   \n",
       "24292   175807      1  고질라 x 콩: 더 뉴 엠파이어   \n",
       "24293   175838      3              장안궤사전   \n",
       "24294   175990      3   실버 앤드 더 북 오브 드림스   \n",
       "24295   176148      1              쿵푸팬더4   \n",
       "\n",
       "                                                 titleEn  \\\n",
       "0                           Barking Dogs Never Bite 2000   \n",
       "1                                             Calla 1999   \n",
       "2                                                   2000   \n",
       "3                                      Memento Mori 1999   \n",
       "4                                                   2000   \n",
       "...                                                  ...   \n",
       "24291                                               2022   \n",
       "24292               Godzilla x Kong: The New Empire 2024   \n",
       "24293                        The Man's Secret 長安詭事傳 2023   \n",
       "24294  Silver and the Book of Dreams Silber und das B...   \n",
       "24295                               Kung Fu Panda 4 2024   \n",
       "\n",
       "                                             mainPageUrl  \\\n",
       "0         https://movie.daum.net/moviedb/grade?movieId=1   \n",
       "1         https://movie.daum.net/moviedb/grade?movieId=2   \n",
       "2         https://movie.daum.net/moviedb/grade?movieId=3   \n",
       "3         https://movie.daum.net/moviedb/grade?movieId=4   \n",
       "4         https://movie.daum.net/moviedb/grade?movieId=5   \n",
       "...                                                  ...   \n",
       "24291  https://movie.daum.net/moviedb/grade?movieId=1...   \n",
       "24292  https://movie.daum.net/moviedb/grade?movieId=1...   \n",
       "24293  https://movie.daum.net/moviedb/grade?movieId=1...   \n",
       "24294  https://movie.daum.net/moviedb/grade?movieId=1...   \n",
       "24295  https://movie.daum.net/moviedb/grade?movieId=1...   \n",
       "\n",
       "                                               posterUrl  numOfSiteRatings  \n",
       "0      https://img1.daumcdn.net/thumb/C408x596/?fname...             126.0  \n",
       "1      https://img1.daumcdn.net/thumb/C408x596/?fname...              23.0  \n",
       "2                                                   None              15.0  \n",
       "3      https://img1.daumcdn.net/thumb/C408x596/?fname...              74.0  \n",
       "4      https://img1.daumcdn.net/thumb/C408x596/?fname...              53.0  \n",
       "...                                                  ...               ...  \n",
       "24291  https://img1.daumcdn.net/thumb/C408x596/?fname...               2.0  \n",
       "24292  https://img1.daumcdn.net/thumb/C408x596/?fname...               1.0  \n",
       "24293  https://img1.daumcdn.net/thumb/C408x596/?fname...               3.0  \n",
       "24294  https://img1.daumcdn.net/thumb/C408x596/?fname...               3.0  \n",
       "24295  https://img1.daumcdn.net/thumb/C408x596/?fname...               1.0  \n",
       "\n",
       "[24296 rows x 7 columns]"
      ]
     },
     "execution_count": 7,
     "metadata": {},
     "output_type": "execute_result"
    }
   ],
   "source": [
    "# 왼쪽 조인\n",
    "join_df = pd.merge(dr_cnt, daum_movies, on='movieId', how='left')\n",
    "\n",
    "join_df\n"
   ]
  },
  {
   "cell_type": "code",
   "execution_count": 11,
   "id": "734b3cb9-4da0-4d06-9711-ac48e77c0903",
   "metadata": {
    "tags": []
   },
   "outputs": [
    {
     "data": {
      "text/html": [
       "<div>\n",
       "<style scoped>\n",
       "    .dataframe tbody tr th:only-of-type {\n",
       "        vertical-align: middle;\n",
       "    }\n",
       "\n",
       "    .dataframe tbody tr th {\n",
       "        vertical-align: top;\n",
       "    }\n",
       "\n",
       "    .dataframe thead th {\n",
       "        text-align: right;\n",
       "    }\n",
       "</style>\n",
       "<table border=\"1\" class=\"dataframe\">\n",
       "  <thead>\n",
       "    <tr style=\"text-align: right;\">\n",
       "      <th></th>\n",
       "      <th>movieId</th>\n",
       "      <th>count</th>\n",
       "      <th>titleKo</th>\n",
       "      <th>titleEn</th>\n",
       "      <th>mainPageUrl</th>\n",
       "      <th>posterUrl</th>\n",
       "      <th>numOfSiteRatings</th>\n",
       "    </tr>\n",
       "  </thead>\n",
       "  <tbody>\n",
       "    <tr>\n",
       "      <th>2</th>\n",
       "      <td>3</td>\n",
       "      <td>4</td>\n",
       "      <td>주노명 베이커리</td>\n",
       "      <td>2000</td>\n",
       "      <td>https://movie.daum.net/moviedb/grade?movieId=3</td>\n",
       "      <td>None</td>\n",
       "      <td>15.0</td>\n",
       "    </tr>\n",
       "    <tr>\n",
       "      <th>5</th>\n",
       "      <td>6</td>\n",
       "      <td>4</td>\n",
       "      <td>춘향뎐</td>\n",
       "      <td>ChunHyang 春香傳 2000</td>\n",
       "      <td>https://movie.daum.net/moviedb/grade?movieId=6</td>\n",
       "      <td>https://img1.daumcdn.net/thumb/C408x596/?fname...</td>\n",
       "      <td>44.0</td>\n",
       "    </tr>\n",
       "    <tr>\n",
       "      <th>8</th>\n",
       "      <td>9</td>\n",
       "      <td>4</td>\n",
       "      <td>러브</td>\n",
       "      <td>Love 1999</td>\n",
       "      <td>https://movie.daum.net/moviedb/grade?movieId=9</td>\n",
       "      <td>https://img1.daumcdn.net/thumb/C408x596/?fname...</td>\n",
       "      <td>13.0</td>\n",
       "    </tr>\n",
       "    <tr>\n",
       "      <th>9</th>\n",
       "      <td>10</td>\n",
       "      <td>4</td>\n",
       "      <td>자귀모</td>\n",
       "      <td>Ghost In Love 1999</td>\n",
       "      <td>https://movie.daum.net/moviedb/grade?movieId=10</td>\n",
       "      <td>https://img1.daumcdn.net/thumb/C408x596/?fname...</td>\n",
       "      <td>10.0</td>\n",
       "    </tr>\n",
       "    <tr>\n",
       "      <th>10</th>\n",
       "      <td>11</td>\n",
       "      <td>9</td>\n",
       "      <td>거짓말</td>\n",
       "      <td>Lies 1999</td>\n",
       "      <td>https://movie.daum.net/moviedb/grade?movieId=11</td>\n",
       "      <td>https://img1.daumcdn.net/thumb/C408x596/?fname...</td>\n",
       "      <td>73.0</td>\n",
       "    </tr>\n",
       "    <tr>\n",
       "      <th>...</th>\n",
       "      <td>...</td>\n",
       "      <td>...</td>\n",
       "      <td>...</td>\n",
       "      <td>...</td>\n",
       "      <td>...</td>\n",
       "      <td>...</td>\n",
       "      <td>...</td>\n",
       "    </tr>\n",
       "    <tr>\n",
       "      <th>24168</th>\n",
       "      <td>173235</td>\n",
       "      <td>3</td>\n",
       "      <td>더 마쉬 킹스 도터</td>\n",
       "      <td>The Marsh King's Daughter 2023</td>\n",
       "      <td>https://movie.daum.net/moviedb/grade?movieId=1...</td>\n",
       "      <td>https://img1.daumcdn.net/thumb/C408x596/?fname...</td>\n",
       "      <td>4.0</td>\n",
       "    </tr>\n",
       "    <tr>\n",
       "      <th>24178</th>\n",
       "      <td>173359</td>\n",
       "      <td>4</td>\n",
       "      <td>휴가 친구 2</td>\n",
       "      <td>Vacation Friends 2 2023</td>\n",
       "      <td>https://movie.daum.net/moviedb/grade?movieId=1...</td>\n",
       "      <td>https://img1.daumcdn.net/thumb/C408x596/?fname...</td>\n",
       "      <td>5.0</td>\n",
       "    </tr>\n",
       "    <tr>\n",
       "      <th>24249</th>\n",
       "      <td>174576</td>\n",
       "      <td>5</td>\n",
       "      <td>언더 유어 베드</td>\n",
       "      <td>Under Your Bed 2023</td>\n",
       "      <td>https://movie.daum.net/moviedb/grade?movieId=1...</td>\n",
       "      <td>https://img1.daumcdn.net/thumb/C408x596/?fname...</td>\n",
       "      <td>6.0</td>\n",
       "    </tr>\n",
       "    <tr>\n",
       "      <th>24272</th>\n",
       "      <td>175005</td>\n",
       "      <td>2</td>\n",
       "      <td>노 엑시트</td>\n",
       "      <td>Night of the Hunted 2023</td>\n",
       "      <td>https://movie.daum.net/moviedb/grade?movieId=1...</td>\n",
       "      <td>https://img1.daumcdn.net/thumb/C408x596/?fname...</td>\n",
       "      <td>3.0</td>\n",
       "    </tr>\n",
       "    <tr>\n",
       "      <th>24281</th>\n",
       "      <td>175190</td>\n",
       "      <td>1</td>\n",
       "      <td>패밀리 플랜</td>\n",
       "      <td>The Family Plan 2023</td>\n",
       "      <td>https://movie.daum.net/moviedb/grade?movieId=1...</td>\n",
       "      <td>https://img1.daumcdn.net/thumb/C408x596/?fname...</td>\n",
       "      <td>2.0</td>\n",
       "    </tr>\n",
       "  </tbody>\n",
       "</table>\n",
       "<p>15550 rows × 7 columns</p>\n",
       "</div>"
      ],
      "text/plain": [
       "       movieId  count     titleKo                         titleEn  \\\n",
       "2            3      4    주노명 베이커리                            2000   \n",
       "5            6      4         춘향뎐              ChunHyang 春香傳 2000   \n",
       "8            9      4          러브                       Love 1999   \n",
       "9           10      4         자귀모              Ghost In Love 1999   \n",
       "10          11      9         거짓말                       Lies 1999   \n",
       "...        ...    ...         ...                             ...   \n",
       "24168   173235      3  더 마쉬 킹스 도터  The Marsh King's Daughter 2023   \n",
       "24178   173359      4     휴가 친구 2         Vacation Friends 2 2023   \n",
       "24249   174576      5    언더 유어 베드             Under Your Bed 2023   \n",
       "24272   175005      2       노 엑시트        Night of the Hunted 2023   \n",
       "24281   175190      1      패밀리 플랜            The Family Plan 2023   \n",
       "\n",
       "                                             mainPageUrl  \\\n",
       "2         https://movie.daum.net/moviedb/grade?movieId=3   \n",
       "5         https://movie.daum.net/moviedb/grade?movieId=6   \n",
       "8         https://movie.daum.net/moviedb/grade?movieId=9   \n",
       "9        https://movie.daum.net/moviedb/grade?movieId=10   \n",
       "10       https://movie.daum.net/moviedb/grade?movieId=11   \n",
       "...                                                  ...   \n",
       "24168  https://movie.daum.net/moviedb/grade?movieId=1...   \n",
       "24178  https://movie.daum.net/moviedb/grade?movieId=1...   \n",
       "24249  https://movie.daum.net/moviedb/grade?movieId=1...   \n",
       "24272  https://movie.daum.net/moviedb/grade?movieId=1...   \n",
       "24281  https://movie.daum.net/moviedb/grade?movieId=1...   \n",
       "\n",
       "                                               posterUrl  numOfSiteRatings  \n",
       "2                                                   None              15.0  \n",
       "5      https://img1.daumcdn.net/thumb/C408x596/?fname...              44.0  \n",
       "8      https://img1.daumcdn.net/thumb/C408x596/?fname...              13.0  \n",
       "9      https://img1.daumcdn.net/thumb/C408x596/?fname...              10.0  \n",
       "10     https://img1.daumcdn.net/thumb/C408x596/?fname...              73.0  \n",
       "...                                                  ...               ...  \n",
       "24168  https://img1.daumcdn.net/thumb/C408x596/?fname...               4.0  \n",
       "24178  https://img1.daumcdn.net/thumb/C408x596/?fname...               5.0  \n",
       "24249  https://img1.daumcdn.net/thumb/C408x596/?fname...               6.0  \n",
       "24272  https://img1.daumcdn.net/thumb/C408x596/?fname...               3.0  \n",
       "24281  https://img1.daumcdn.net/thumb/C408x596/?fname...               2.0  \n",
       "\n",
       "[15550 rows x 7 columns]"
      ]
     },
     "execution_count": 11,
     "metadata": {},
     "output_type": "execute_result"
    }
   ],
   "source": [
    "join_df[(join_df['count'] < join_df['numOfSiteRatings']) & (join_df['count'] < 10)]"
   ]
  },
  {
   "cell_type": "code",
   "execution_count": 235,
   "id": "604de767-fdf6-44cf-8df5-c43e692b08e4",
   "metadata": {
    "tags": []
   },
   "outputs": [
    {
     "data": {
      "text/html": [
       "<div>\n",
       "<style scoped>\n",
       "    .dataframe tbody tr th:only-of-type {\n",
       "        vertical-align: middle;\n",
       "    }\n",
       "\n",
       "    .dataframe tbody tr th {\n",
       "        vertical-align: top;\n",
       "    }\n",
       "\n",
       "    .dataframe thead th {\n",
       "        text-align: right;\n",
       "    }\n",
       "</style>\n",
       "<table border=\"1\" class=\"dataframe\">\n",
       "  <thead>\n",
       "    <tr style=\"text-align: right;\">\n",
       "      <th></th>\n",
       "      <th>movieId</th>\n",
       "      <th>titleKo</th>\n",
       "      <th>titleEn</th>\n",
       "      <th>mainPageUrl</th>\n",
       "      <th>posterUrl</th>\n",
       "      <th>numOfSiteRatings</th>\n",
       "    </tr>\n",
       "  </thead>\n",
       "  <tbody>\n",
       "    <tr>\n",
       "      <th>0</th>\n",
       "      <td>1</td>\n",
       "      <td>플란다스의 개</td>\n",
       "      <td>Barking Dogs Never Bite 2000</td>\n",
       "      <td>https://movie.daum.net/moviedb/grade?movieId=1</td>\n",
       "      <td>https://img1.daumcdn.net/thumb/C408x596/?fname...</td>\n",
       "      <td>126.0</td>\n",
       "    </tr>\n",
       "    <tr>\n",
       "      <th>1</th>\n",
       "      <td>2</td>\n",
       "      <td>카라</td>\n",
       "      <td>Calla 1999</td>\n",
       "      <td>https://movie.daum.net/moviedb/grade?movieId=2</td>\n",
       "      <td>https://img1.daumcdn.net/thumb/C408x596/?fname...</td>\n",
       "      <td>23.0</td>\n",
       "    </tr>\n",
       "    <tr>\n",
       "      <th>2</th>\n",
       "      <td>3</td>\n",
       "      <td>주노명 베이커리</td>\n",
       "      <td>2000</td>\n",
       "      <td>https://movie.daum.net/moviedb/grade?movieId=3</td>\n",
       "      <td>None</td>\n",
       "      <td>15.0</td>\n",
       "    </tr>\n",
       "    <tr>\n",
       "      <th>3</th>\n",
       "      <td>4</td>\n",
       "      <td>여고괴담 두번째 이야기</td>\n",
       "      <td>Memento Mori 1999</td>\n",
       "      <td>https://movie.daum.net/moviedb/grade?movieId=4</td>\n",
       "      <td>https://img1.daumcdn.net/thumb/C408x596/?fname...</td>\n",
       "      <td>74.0</td>\n",
       "    </tr>\n",
       "    <tr>\n",
       "      <th>4</th>\n",
       "      <td>5</td>\n",
       "      <td>행복한 장의사</td>\n",
       "      <td>2000</td>\n",
       "      <td>https://movie.daum.net/moviedb/grade?movieId=5</td>\n",
       "      <td>https://img1.daumcdn.net/thumb/C408x596/?fname...</td>\n",
       "      <td>53.0</td>\n",
       "    </tr>\n",
       "    <tr>\n",
       "      <th>...</th>\n",
       "      <td>...</td>\n",
       "      <td>...</td>\n",
       "      <td>...</td>\n",
       "      <td>...</td>\n",
       "      <td>...</td>\n",
       "      <td>...</td>\n",
       "    </tr>\n",
       "    <tr>\n",
       "      <th>23962</th>\n",
       "      <td>175738</td>\n",
       "      <td>파묘</td>\n",
       "      <td>2022</td>\n",
       "      <td>https://movie.daum.net/moviedb/grade?movieId=1...</td>\n",
       "      <td>https://img1.daumcdn.net/thumb/C408x596/?fname...</td>\n",
       "      <td>2.0</td>\n",
       "    </tr>\n",
       "    <tr>\n",
       "      <th>23963</th>\n",
       "      <td>175807</td>\n",
       "      <td>고질라 x 콩: 더 뉴 엠파이어</td>\n",
       "      <td>Godzilla x Kong: The New Empire 2024</td>\n",
       "      <td>https://movie.daum.net/moviedb/grade?movieId=1...</td>\n",
       "      <td>https://img1.daumcdn.net/thumb/C408x596/?fname...</td>\n",
       "      <td>1.0</td>\n",
       "    </tr>\n",
       "    <tr>\n",
       "      <th>23964</th>\n",
       "      <td>175838</td>\n",
       "      <td>장안궤사전</td>\n",
       "      <td>The Man's Secret 長安詭事傳 2023</td>\n",
       "      <td>https://movie.daum.net/moviedb/grade?movieId=1...</td>\n",
       "      <td>https://img1.daumcdn.net/thumb/C408x596/?fname...</td>\n",
       "      <td>3.0</td>\n",
       "    </tr>\n",
       "    <tr>\n",
       "      <th>23965</th>\n",
       "      <td>175990</td>\n",
       "      <td>실버 앤드 더 북 오브 드림스</td>\n",
       "      <td>Silver and the Book of Dreams Silber und das B...</td>\n",
       "      <td>https://movie.daum.net/moviedb/grade?movieId=1...</td>\n",
       "      <td>https://img1.daumcdn.net/thumb/C408x596/?fname...</td>\n",
       "      <td>3.0</td>\n",
       "    </tr>\n",
       "    <tr>\n",
       "      <th>23966</th>\n",
       "      <td>176148</td>\n",
       "      <td>쿵푸팬더4</td>\n",
       "      <td>Kung Fu Panda 4 2024</td>\n",
       "      <td>https://movie.daum.net/moviedb/grade?movieId=1...</td>\n",
       "      <td>https://img1.daumcdn.net/thumb/C408x596/?fname...</td>\n",
       "      <td>1.0</td>\n",
       "    </tr>\n",
       "  </tbody>\n",
       "</table>\n",
       "<p>23967 rows × 6 columns</p>\n",
       "</div>"
      ],
      "text/plain": [
       "       movieId            titleKo  \\\n",
       "0            1            플란다스의 개   \n",
       "1            2                 카라   \n",
       "2            3           주노명 베이커리   \n",
       "3            4       여고괴담 두번째 이야기   \n",
       "4            5            행복한 장의사   \n",
       "...        ...                ...   \n",
       "23962   175738                 파묘   \n",
       "23963   175807  고질라 x 콩: 더 뉴 엠파이어   \n",
       "23964   175838              장안궤사전   \n",
       "23965   175990   실버 앤드 더 북 오브 드림스   \n",
       "23966   176148              쿵푸팬더4   \n",
       "\n",
       "                                                 titleEn  \\\n",
       "0                           Barking Dogs Never Bite 2000   \n",
       "1                                             Calla 1999   \n",
       "2                                                   2000   \n",
       "3                                      Memento Mori 1999   \n",
       "4                                                   2000   \n",
       "...                                                  ...   \n",
       "23962                                               2022   \n",
       "23963               Godzilla x Kong: The New Empire 2024   \n",
       "23964                        The Man's Secret 長安詭事傳 2023   \n",
       "23965  Silver and the Book of Dreams Silber und das B...   \n",
       "23966                               Kung Fu Panda 4 2024   \n",
       "\n",
       "                                             mainPageUrl  \\\n",
       "0         https://movie.daum.net/moviedb/grade?movieId=1   \n",
       "1         https://movie.daum.net/moviedb/grade?movieId=2   \n",
       "2         https://movie.daum.net/moviedb/grade?movieId=3   \n",
       "3         https://movie.daum.net/moviedb/grade?movieId=4   \n",
       "4         https://movie.daum.net/moviedb/grade?movieId=5   \n",
       "...                                                  ...   \n",
       "23962  https://movie.daum.net/moviedb/grade?movieId=1...   \n",
       "23963  https://movie.daum.net/moviedb/grade?movieId=1...   \n",
       "23964  https://movie.daum.net/moviedb/grade?movieId=1...   \n",
       "23965  https://movie.daum.net/moviedb/grade?movieId=1...   \n",
       "23966  https://movie.daum.net/moviedb/grade?movieId=1...   \n",
       "\n",
       "                                               posterUrl  numOfSiteRatings  \n",
       "0      https://img1.daumcdn.net/thumb/C408x596/?fname...             126.0  \n",
       "1      https://img1.daumcdn.net/thumb/C408x596/?fname...              23.0  \n",
       "2                                                   None              15.0  \n",
       "3      https://img1.daumcdn.net/thumb/C408x596/?fname...              74.0  \n",
       "4      https://img1.daumcdn.net/thumb/C408x596/?fname...              53.0  \n",
       "...                                                  ...               ...  \n",
       "23962  https://img1.daumcdn.net/thumb/C408x596/?fname...               2.0  \n",
       "23963  https://img1.daumcdn.net/thumb/C408x596/?fname...               1.0  \n",
       "23964  https://img1.daumcdn.net/thumb/C408x596/?fname...               3.0  \n",
       "23965  https://img1.daumcdn.net/thumb/C408x596/?fname...               3.0  \n",
       "23966  https://img1.daumcdn.net/thumb/C408x596/?fname...               1.0  \n",
       "\n",
       "[23967 rows x 6 columns]"
      ]
     },
     "execution_count": 235,
     "metadata": {},
     "output_type": "execute_result"
    }
   ],
   "source": [
    "daum_movies"
   ]
  },
  {
   "cell_type": "code",
   "execution_count": 13,
   "id": "00e3bc90-92f5-492a-87aa-6f63055eb47c",
   "metadata": {
    "tags": []
   },
   "outputs": [
    {
     "data": {
      "text/plain": [
       "354949"
      ]
     },
     "execution_count": 13,
     "metadata": {},
     "output_type": "execute_result"
    }
   ],
   "source": [
    "mysql.get_count(table_name='daum_ratings')"
   ]
  },
  {
   "cell_type": "code",
   "execution_count": 14,
   "id": "d1fb671d-0b5b-467a-8fee-0ca96d5c049b",
   "metadata": {
    "tags": []
   },
   "outputs": [
    {
     "data": {
      "text/plain": [
       "25512"
      ]
     },
     "execution_count": 14,
     "metadata": {},
     "output_type": "execute_result"
    }
   ],
   "source": [
    "mysql.get_count(table_name='daum_movies')"
   ]
  }
 ],
 "metadata": {
  "kernelspec": {
   "display_name": "Python 3 (ipykernel)",
   "language": "python",
   "name": "python3"
  },
  "language_info": {
   "codemirror_mode": {
    "name": "ipython",
    "version": 3
   },
   "file_extension": ".py",
   "mimetype": "text/x-python",
   "name": "python",
   "nbconvert_exporter": "python",
   "pygments_lexer": "ipython3",
   "version": "3.10.12"
  },
  "toc-autonumbering": true,
  "toc-showcode": false,
  "toc-showmarkdowntxt": false
 },
 "nbformat": 4,
 "nbformat_minor": 5
}
