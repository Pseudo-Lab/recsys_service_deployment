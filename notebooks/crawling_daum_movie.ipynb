{
 "cells": [
  {
   "cell_type": "code",
   "execution_count": 1,
   "id": "0370661b-d854-4146-92e4-348a9e3b59e1",
   "metadata": {
    "tags": [],
    "pycharm": {
     "name": "#%%\n"
    }
   },
   "outputs": [],
   "source": [
    "from clients import MysqlClient"
   ]
  },
  {
   "cell_type": "code",
   "execution_count": 2,
   "id": "daff59b9-aca9-4b54-b997-e6d93df16f82",
   "metadata": {
    "tags": [],
    "pycharm": {
     "name": "#%%\n"
    }
   },
   "outputs": [],
   "source": [
    "import os\n",
    "os.environ['RDS_MYSQL_PW'] = ''\n",
    "os.environ['AWS_ACCESS_KEY_ID'] = ''\n",
    "os.environ['AWS_SECRET_ACCESS_KEY'] = ''\n",
    "os.environ['AWS_REGION_NAME'] = \"ap-northeast-2\""
   ]
  },
  {
   "cell_type": "code",
   "execution_count": 3,
   "id": "ef6e4d2b-f5ba-4d2e-8077-6be62cde25cd",
   "metadata": {
    "tags": [],
    "pycharm": {
     "name": "#%%\n"
    }
   },
   "outputs": [],
   "source": [
    "mysql = MysqlClient()"
   ]
  },
  {
   "cell_type": "markdown",
   "id": "94d922c1-89af-4bcc-a7c7-a1dc887c66de",
   "metadata": {
    "pycharm": {
     "name": "#%% md\n"
    }
   },
   "source": [
    "# selenium"
   ]
  },
  {
   "cell_type": "code",
   "execution_count": 6,
   "id": "0eb6291c-5da1-4e8f-8ae8-1609dcdeee7c",
   "metadata": {
    "tags": [],
    "pycharm": {
     "name": "#%%\n"
    }
   },
   "outputs": [],
   "source": [
    "from selenium import webdriver\n",
    "from selenium.webdriver.common.by import By\n",
    "from selenium.webdriver.common.keys import Keys\n",
    "from selenium.common.exceptions import NoSuchElementException\n",
    "import time\n",
    "import pandas as pd\n",
    "import datetime as dt\n"
   ]
  },
  {
   "cell_type": "code",
   "execution_count": 43,
   "id": "22db3759-67ed-4b0e-8743-13dd7988448d",
   "metadata": {
    "tags": [],
    "pycharm": {
     "name": "#%%\n"
    }
   },
   "outputs": [],
   "source": [
    "driver = webdriver.Chrome()"
   ]
  },
  {
   "cell_type": "code",
   "execution_count": 65,
   "id": "be6e768e-b0f7-45a0-b7e9-20cb78a93e4c",
   "metadata": {
    "tags": [],
    "pycharm": {
     "name": "#%%\n"
    }
   },
   "outputs": [
    {
     "name": "stderr",
     "output_type": "stream",
     "text": [
      "/Users/kyeongchanlee/PycharmProjects/recsys_service_deployment/clients.py:37: UserWarning: pandas only supports SQLAlchemy connectable (engine/connection) or database string URI or sqlite3 DBAPI2 connection. Other DBAPI2 objects are not tested. Please consider using SQLAlchemy.\n",
      "  df = pd.read_sql(sql='select * from daum_movies', con=connection)\n"
     ]
    },
    {
     "data": {
      "text/html": [
       "<div>\n",
       "<style scoped>\n",
       "    .dataframe tbody tr th:only-of-type {\n",
       "        vertical-align: middle;\n",
       "    }\n",
       "\n",
       "    .dataframe tbody tr th {\n",
       "        vertical-align: top;\n",
       "    }\n",
       "\n",
       "    .dataframe thead th {\n",
       "        text-align: right;\n",
       "    }\n",
       "</style>\n",
       "<table border=\"1\" class=\"dataframe\">\n",
       "  <thead>\n",
       "    <tr style=\"text-align: right;\">\n",
       "      <th></th>\n",
       "      <th>movieId</th>\n",
       "      <th>titleKo</th>\n",
       "      <th>titleEn</th>\n",
       "      <th>mainPageUrl</th>\n",
       "      <th>posterUrl</th>\n",
       "    </tr>\n",
       "  </thead>\n",
       "  <tbody>\n",
       "    <tr>\n",
       "      <th>0</th>\n",
       "      <td>261</td>\n",
       "      <td>월드 워 Z</td>\n",
       "      <td>None</td>\n",
       "      <td>https://movie.daum.net/moviedb/main?movieId=48708</td>\n",
       "      <td>https://img1.daumcdn.net/thumb/C408x596/?fname...</td>\n",
       "    </tr>\n",
       "    <tr>\n",
       "      <th>1</th>\n",
       "      <td>262</td>\n",
       "      <td>은밀하게 위대하게</td>\n",
       "      <td>None</td>\n",
       "      <td>https://movie.daum.net/moviedb/main?movieId=69884</td>\n",
       "      <td>https://img1.daumcdn.net/thumb/C408x596/?fname...</td>\n",
       "    </tr>\n",
       "    <tr>\n",
       "      <th>2</th>\n",
       "      <td>263</td>\n",
       "      <td>맨 오브 스틸</td>\n",
       "      <td>None</td>\n",
       "      <td>https://movie.daum.net/moviedb/main?movieId=43811</td>\n",
       "      <td>https://img1.daumcdn.net/thumb/C408x596/?fname...</td>\n",
       "    </tr>\n",
       "    <tr>\n",
       "      <th>3</th>\n",
       "      <td>264</td>\n",
       "      <td>스타트렉 다크니스</td>\n",
       "      <td>None</td>\n",
       "      <td>https://movie.daum.net/moviedb/main?movieId=62929</td>\n",
       "      <td>https://img1.daumcdn.net/thumb/C408x596/?fname...</td>\n",
       "    </tr>\n",
       "    <tr>\n",
       "      <th>4</th>\n",
       "      <td>265</td>\n",
       "      <td>더 콜</td>\n",
       "      <td>None</td>\n",
       "      <td>https://movie.daum.net/moviedb/main?movieId=71178</td>\n",
       "      <td>https://img1.daumcdn.net/thumb/C408x596/?fname...</td>\n",
       "    </tr>\n",
       "    <tr>\n",
       "      <th>...</th>\n",
       "      <td>...</td>\n",
       "      <td>...</td>\n",
       "      <td>...</td>\n",
       "      <td>...</td>\n",
       "      <td>...</td>\n",
       "    </tr>\n",
       "    <tr>\n",
       "      <th>2872</th>\n",
       "      <td>3133</td>\n",
       "      <td>세븐데이즈</td>\n",
       "      <td>None</td>\n",
       "      <td>https://movie.daum.net/moviedb/main?movieId=43417</td>\n",
       "      <td>None</td>\n",
       "    </tr>\n",
       "    <tr>\n",
       "      <th>2873</th>\n",
       "      <td>3134</td>\n",
       "      <td>샤이엔 워리어</td>\n",
       "      <td>None</td>\n",
       "      <td>https://movie.daum.net/moviedb/main?movieId=14...</td>\n",
       "      <td>None</td>\n",
       "    </tr>\n",
       "    <tr>\n",
       "      <th>2874</th>\n",
       "      <td>3135</td>\n",
       "      <td>자귀모</td>\n",
       "      <td>None</td>\n",
       "      <td>https://movie.daum.net/moviedb/main?movieId=10</td>\n",
       "      <td>None</td>\n",
       "    </tr>\n",
       "    <tr>\n",
       "      <th>2875</th>\n",
       "      <td>3136</td>\n",
       "      <td>레드 던</td>\n",
       "      <td>None</td>\n",
       "      <td>https://movie.daum.net/moviedb/main?movieId=56027</td>\n",
       "      <td>None</td>\n",
       "    </tr>\n",
       "    <tr>\n",
       "      <th>2876</th>\n",
       "      <td>3137</td>\n",
       "      <td>음모자</td>\n",
       "      <td>None</td>\n",
       "      <td>https://movie.daum.net/moviedb/main?movieId=53109</td>\n",
       "      <td>None</td>\n",
       "    </tr>\n",
       "  </tbody>\n",
       "</table>\n",
       "<p>2877 rows × 5 columns</p>\n",
       "</div>"
      ],
      "text/plain": [
       "      movieId    titleKo titleEn  \\\n",
       "0         261     월드 워 Z    None   \n",
       "1         262  은밀하게 위대하게    None   \n",
       "2         263    맨 오브 스틸    None   \n",
       "3         264  스타트렉 다크니스    None   \n",
       "4         265        더 콜    None   \n",
       "...       ...        ...     ...   \n",
       "2872     3133      세븐데이즈    None   \n",
       "2873     3134    샤이엔 워리어    None   \n",
       "2874     3135        자귀모    None   \n",
       "2875     3136       레드 던    None   \n",
       "2876     3137        음모자    None   \n",
       "\n",
       "                                            mainPageUrl  \\\n",
       "0     https://movie.daum.net/moviedb/main?movieId=48708   \n",
       "1     https://movie.daum.net/moviedb/main?movieId=69884   \n",
       "2     https://movie.daum.net/moviedb/main?movieId=43811   \n",
       "3     https://movie.daum.net/moviedb/main?movieId=62929   \n",
       "4     https://movie.daum.net/moviedb/main?movieId=71178   \n",
       "...                                                 ...   \n",
       "2872  https://movie.daum.net/moviedb/main?movieId=43417   \n",
       "2873  https://movie.daum.net/moviedb/main?movieId=14...   \n",
       "2874     https://movie.daum.net/moviedb/main?movieId=10   \n",
       "2875  https://movie.daum.net/moviedb/main?movieId=56027   \n",
       "2876  https://movie.daum.net/moviedb/main?movieId=53109   \n",
       "\n",
       "                                              posterUrl  \n",
       "0     https://img1.daumcdn.net/thumb/C408x596/?fname...  \n",
       "1     https://img1.daumcdn.net/thumb/C408x596/?fname...  \n",
       "2     https://img1.daumcdn.net/thumb/C408x596/?fname...  \n",
       "3     https://img1.daumcdn.net/thumb/C408x596/?fname...  \n",
       "4     https://img1.daumcdn.net/thumb/C408x596/?fname...  \n",
       "...                                                 ...  \n",
       "2872                                               None  \n",
       "2873                                               None  \n",
       "2874                                               None  \n",
       "2875                                               None  \n",
       "2876                                               None  \n",
       "\n",
       "[2877 rows x 5 columns]"
      ]
     },
     "execution_count": 65,
     "metadata": {},
     "output_type": "execute_result"
    }
   ],
   "source": [
    "daum_movies = mysql.get_daum_movies()\n",
    "daum_movies"
   ]
  },
  {
   "cell_type": "markdown",
   "id": "c5376248-f7f0-414b-834a-8bc0a2b59295",
   "metadata": {
    "pycharm": {
     "name": "#%% md\n"
    }
   },
   "source": [
    "# 포스터만 따로 수집할것들"
   ]
  },
  {
   "cell_type": "code",
   "execution_count": 63,
   "id": "4358e411-cd90-464e-bb8d-1118aaafa9d0",
   "metadata": {
    "tags": [],
    "pycharm": {
     "name": "#%%\n"
    }
   },
   "outputs": [
    {
     "name": "stderr",
     "output_type": "stream",
     "text": [
      "/var/folders/cg/2vt5wbq5767fsxv0005k5x4m0000gn/T/ipykernel_5545/3919600470.py:3: UserWarning: pandas only supports SQLAlchemy connectable (engine/connection) or database string URI or sqlite3 DBAPI2 connection. Other DBAPI2 objects are not tested. Please consider using SQLAlchemy.\n",
      "  daum_ratings = pd.read_sql(sql='select * from daum_ratings', con=connection)\n"
     ]
    },
    {
     "data": {
      "text/html": [
       "<div>\n",
       "<style scoped>\n",
       "    .dataframe tbody tr th:only-of-type {\n",
       "        vertical-align: middle;\n",
       "    }\n",
       "\n",
       "    .dataframe tbody tr th {\n",
       "        vertical-align: top;\n",
       "    }\n",
       "\n",
       "    .dataframe thead th {\n",
       "        text-align: right;\n",
       "    }\n",
       "</style>\n",
       "<table border=\"1\" class=\"dataframe\">\n",
       "  <thead>\n",
       "    <tr style=\"text-align: right;\">\n",
       "      <th></th>\n",
       "      <th>nickName</th>\n",
       "      <th>movieId</th>\n",
       "      <th>rating</th>\n",
       "      <th>timestamp</th>\n",
       "      <th>userId</th>\n",
       "      <th>review</th>\n",
       "    </tr>\n",
       "  </thead>\n",
       "  <tbody>\n",
       "    <tr>\n",
       "      <th>0</th>\n",
       "      <td>닉네임</td>\n",
       "      <td>2880</td>\n",
       "      <td>10</td>\n",
       "      <td>1.700658e+09</td>\n",
       "      <td>None</td>\n",
       "      <td>좀비영화 싫어하는데 이건 넘 재밌네</td>\n",
       "    </tr>\n",
       "    <tr>\n",
       "      <th>1</th>\n",
       "      <td>닉네임</td>\n",
       "      <td>2881</td>\n",
       "      <td>8</td>\n",
       "      <td>1.668779e+09</td>\n",
       "      <td>None</td>\n",
       "      <td>의상 너무너무 예쁘다</td>\n",
       "    </tr>\n",
       "    <tr>\n",
       "      <th>2</th>\n",
       "      <td>닉네임</td>\n",
       "      <td>2564</td>\n",
       "      <td>9</td>\n",
       "      <td>1.657807e+09</td>\n",
       "      <td>None</td>\n",
       "      <td>오프닝 너~~~무 조으다\\n별5개 다 못주는건 제니퍼..왜 나오셨쎄요?ㅜㅜ</td>\n",
       "    </tr>\n",
       "    <tr>\n",
       "      <th>3</th>\n",
       "      <td>닉네임</td>\n",
       "      <td>2351</td>\n",
       "      <td>5</td>\n",
       "      <td>1.648305e+09</td>\n",
       "      <td>None</td>\n",
       "      <td>햄릿이 넘 왕자같지않아. 몰입이 안돼</td>\n",
       "    </tr>\n",
       "    <tr>\n",
       "      <th>4</th>\n",
       "      <td>닉네임</td>\n",
       "      <td>2357</td>\n",
       "      <td>9</td>\n",
       "      <td>1.627718e+09</td>\n",
       "      <td>None</td>\n",
       "      <td>끝장면 과하지않아 넘넘좋다\\n코끝이 찡~잘 만들어진 영화\\n만점을 못준건 어떤 배우...</td>\n",
       "    </tr>\n",
       "    <tr>\n",
       "      <th>...</th>\n",
       "      <td>...</td>\n",
       "      <td>...</td>\n",
       "      <td>...</td>\n",
       "      <td>...</td>\n",
       "      <td>...</td>\n",
       "      <td>...</td>\n",
       "    </tr>\n",
       "    <tr>\n",
       "      <th>576</th>\n",
       "      <td>눈이부시게 그리움</td>\n",
       "      <td>412</td>\n",
       "      <td>9</td>\n",
       "      <td>1.504651e+09</td>\n",
       "      <td>None</td>\n",
       "      <td>재밌으면 되잖여ㅋㅋ</td>\n",
       "    </tr>\n",
       "    <tr>\n",
       "      <th>577</th>\n",
       "      <td>눈이부시게 그리움</td>\n",
       "      <td>1206</td>\n",
       "      <td>5</td>\n",
       "      <td>1.487001e+09</td>\n",
       "      <td>None</td>\n",
       "      <td>그럼에도 불구하고 일본은 아직도 기독교가 뿌리를 못내림\\n태생이 진짜 악마스러워\\n...</td>\n",
       "    </tr>\n",
       "    <tr>\n",
       "      <th>578</th>\n",
       "      <td>눈이부시게 그리움</td>\n",
       "      <td>2889</td>\n",
       "      <td>10</td>\n",
       "      <td>1.484782e+09</td>\n",
       "      <td>None</td>\n",
       "      <td>몇년만에 다시봐도 엄지척을 안할수가 없네요\\n장국영의 연기는 최고</td>\n",
       "    </tr>\n",
       "    <tr>\n",
       "      <th>579</th>\n",
       "      <td>눈이부시게 그리움</td>\n",
       "      <td>1069</td>\n",
       "      <td>10</td>\n",
       "      <td>1.475426e+09</td>\n",
       "      <td>None</td>\n",
       "      <td>역시 송강호...공유도 멋져멋져..잘 봤어요</td>\n",
       "    </tr>\n",
       "    <tr>\n",
       "      <th>580</th>\n",
       "      <td>눈이부시게 그리움</td>\n",
       "      <td>1046</td>\n",
       "      <td>5</td>\n",
       "      <td>1.470671e+09</td>\n",
       "      <td>None</td>\n",
       "      <td>나는 왜 별로였던거지?? 연기잘하는 손예진과 멋진 박해일을 보고왔을뿐ㅜㅜ</td>\n",
       "    </tr>\n",
       "  </tbody>\n",
       "</table>\n",
       "<p>581 rows × 6 columns</p>\n",
       "</div>"
      ],
      "text/plain": [
       "      nickName  movieId  rating     timestamp userId  \\\n",
       "0          닉네임     2880      10  1.700658e+09   None   \n",
       "1          닉네임     2881       8  1.668779e+09   None   \n",
       "2          닉네임     2564       9  1.657807e+09   None   \n",
       "3          닉네임     2351       5  1.648305e+09   None   \n",
       "4          닉네임     2357       9  1.627718e+09   None   \n",
       "..         ...      ...     ...           ...    ...   \n",
       "576  눈이부시게 그리움      412       9  1.504651e+09   None   \n",
       "577  눈이부시게 그리움     1206       5  1.487001e+09   None   \n",
       "578  눈이부시게 그리움     2889      10  1.484782e+09   None   \n",
       "579  눈이부시게 그리움     1069      10  1.475426e+09   None   \n",
       "580  눈이부시게 그리움     1046       5  1.470671e+09   None   \n",
       "\n",
       "                                                review  \n",
       "0                                  좀비영화 싫어하는데 이건 넘 재밌네  \n",
       "1                                          의상 너무너무 예쁘다  \n",
       "2            오프닝 너~~~무 조으다\\n별5개 다 못주는건 제니퍼..왜 나오셨쎄요?ㅜㅜ  \n",
       "3                                 햄릿이 넘 왕자같지않아. 몰입이 안돼  \n",
       "4    끝장면 과하지않아 넘넘좋다\\n코끝이 찡~잘 만들어진 영화\\n만점을 못준건 어떤 배우...  \n",
       "..                                                 ...  \n",
       "576                                         재밌으면 되잖여ㅋㅋ  \n",
       "577  그럼에도 불구하고 일본은 아직도 기독교가 뿌리를 못내림\\n태생이 진짜 악마스러워\\n...  \n",
       "578               몇년만에 다시봐도 엄지척을 안할수가 없네요\\n장국영의 연기는 최고  \n",
       "579                           역시 송강호...공유도 멋져멋져..잘 봤어요  \n",
       "580           나는 왜 별로였던거지?? 연기잘하는 손예진과 멋진 박해일을 보고왔을뿐ㅜㅜ  \n",
       "\n",
       "[581 rows x 6 columns]"
      ]
     },
     "execution_count": 63,
     "metadata": {},
     "output_type": "execute_result"
    }
   ],
   "source": [
    "import pandas as pd\n",
    "with mysql.get_connection() as connection:\n",
    "    daum_ratings = pd.read_sql(sql='select * from daum_ratings', con=connection)\n",
    "daum_ratings"
   ]
  },
  {
   "cell_type": "code",
   "execution_count": null,
   "id": "c1946bcb-6c5d-4fc9-8eaf-741d63b09adf",
   "metadata": {
    "pycharm": {
     "name": "#%%\n"
    }
   },
   "outputs": [],
   "source": []
  },
  {
   "cell_type": "code",
   "execution_count": null,
   "id": "6f0ef72f-737f-4385-bbd4-1e4ec7a573d8",
   "metadata": {
    "pycharm": {
     "name": "#%%\n"
    }
   },
   "outputs": [],
   "source": []
  },
  {
   "cell_type": "code",
   "execution_count": null,
   "id": "d762fd4e-9a8e-4779-a1ae-0170f0add0ee",
   "metadata": {
    "pycharm": {
     "name": "#%%\n"
    }
   },
   "outputs": [],
   "source": []
  },
  {
   "cell_type": "code",
   "execution_count": 55,
   "id": "5bbfb840-6a1a-40fe-b7c7-8cd77936a7ca",
   "metadata": {
    "tags": [],
    "pycharm": {
     "name": "#%%\n"
    }
   },
   "outputs": [
    {
     "data": {
      "text/html": [
       "<div>\n",
       "<style scoped>\n",
       "    .dataframe tbody tr th:only-of-type {\n",
       "        vertical-align: middle;\n",
       "    }\n",
       "\n",
       "    .dataframe tbody tr th {\n",
       "        vertical-align: top;\n",
       "    }\n",
       "\n",
       "    .dataframe thead th {\n",
       "        text-align: right;\n",
       "    }\n",
       "</style>\n",
       "<table border=\"1\" class=\"dataframe\">\n",
       "  <thead>\n",
       "    <tr style=\"text-align: right;\">\n",
       "      <th></th>\n",
       "      <th>movieId</th>\n",
       "      <th>titleKo</th>\n",
       "      <th>titleEn</th>\n",
       "      <th>mainPageUrl</th>\n",
       "      <th>posterUrl</th>\n",
       "    </tr>\n",
       "  </thead>\n",
       "  <tbody>\n",
       "    <tr>\n",
       "      <th>2728</th>\n",
       "      <td>2989</td>\n",
       "      <td>과속스캔들</td>\n",
       "      <td>None</td>\n",
       "      <td>https://movie.daum.net/moviedb/main?movieId=48057</td>\n",
       "      <td>None</td>\n",
       "    </tr>\n",
       "  </tbody>\n",
       "</table>\n",
       "</div>"
      ],
      "text/plain": [
       "      movieId titleKo titleEn  \\\n",
       "2728     2989   과속스캔들    None   \n",
       "\n",
       "                                            mainPageUrl posterUrl  \n",
       "2728  https://movie.daum.net/moviedb/main?movieId=48057      None  "
      ]
     },
     "execution_count": 55,
     "metadata": {},
     "output_type": "execute_result"
    }
   ],
   "source": [
    "daum_movies[daum_movies['titleKo'] == '과속스캔들']"
   ]
  },
  {
   "cell_type": "code",
   "execution_count": 50,
   "id": "06f55899-2b6d-4fe5-b4a3-8cd4ae901a7a",
   "metadata": {
    "tags": [],
    "pycharm": {
     "name": "#%%\n"
    }
   },
   "outputs": [
    {
     "data": {
      "text/plain": [
       "2618"
      ]
     },
     "execution_count": 50,
     "metadata": {},
     "output_type": "execute_result"
    }
   ],
   "source": [
    "sum(daum_movies.posterUrl.notnull())"
   ]
  },
  {
   "cell_type": "code",
   "execution_count": 45,
   "id": "5d0dfd59-06f9-4b02-9151-3cd7e3726353",
   "metadata": {
    "tags": [],
    "pycharm": {
     "name": "#%%\n"
    }
   },
   "outputs": [
    {
     "name": "stdout",
     "output_type": "stream",
     "text": [
      "2013-06-23 00:00:00\n",
      "2013-06-30 00:00:00\n",
      "2013-12-01 00:00:00\n",
      "2013-12-08 00:00:00\n",
      "2013-12-15 00:00:00\n",
      "2013-12-22 00:00:00\n",
      "2013-12-29 00:00:00\n",
      "2014-06-01 00:00:00\n",
      "2014-06-08 00:00:00\n",
      "2014-06-15 00:00:00\n",
      "2014-06-22 00:00:00\n",
      "2014-06-29 00:00:00\n",
      "2014-12-07 00:00:00\n",
      "2014-12-14 00:00:00\n",
      "2014-12-21 00:00:00\n",
      "2014-12-28 00:00:00\n",
      "2015-06-07 00:00:00\n",
      "2015-06-14 00:00:00\n",
      "2015-06-21 00:00:00\n",
      "2015-06-28 00:00:00\n",
      "2015-12-06 00:00:00\n",
      "2015-12-13 00:00:00\n",
      "2015-12-20 00:00:00\n",
      "2015-12-27 00:00:00\n",
      "2016-06-05 00:00:00\n",
      "2016-06-12 00:00:00\n",
      "2016-06-19 00:00:00\n",
      "2016-06-26 00:00:00\n",
      "2016-12-04 00:00:00\n",
      "2016-12-11 00:00:00\n",
      "2016-12-18 00:00:00\n",
      "2016-12-25 00:00:00\n",
      "2017-06-04 00:00:00\n",
      "2017-06-11 00:00:00\n",
      "2017-06-18 00:00:00\n",
      "2017-06-25 00:00:00\n",
      "2017-12-03 00:00:00\n",
      "2017-12-10 00:00:00\n",
      "2017-12-17 00:00:00\n",
      "2017-12-24 00:00:00\n",
      "2017-12-31 00:00:00\n",
      "2018-06-03 00:00:00\n",
      "2018-06-10 00:00:00\n",
      "2018-06-17 00:00:00\n",
      "2018-06-24 00:00:00\n",
      "2018-12-02 00:00:00\n",
      "2018-12-09 00:00:00\n",
      "2018-12-16 00:00:00\n",
      "2018-12-23 00:00:00\n",
      "2018-12-30 00:00:00\n",
      "2019-06-02 00:00:00\n",
      "2019-06-09 00:00:00\n",
      "2019-06-16 00:00:00\n",
      "2019-06-23 00:00:00\n",
      "2019-06-30 00:00:00\n",
      "2019-12-01 00:00:00\n",
      "2019-12-08 00:00:00\n",
      "2019-12-15 00:00:00\n",
      "2019-12-22 00:00:00\n",
      "2019-12-29 00:00:00\n",
      "2020-06-07 00:00:00\n",
      "2020-06-14 00:00:00\n",
      "2020-06-21 00:00:00\n",
      "2020-06-28 00:00:00\n",
      "2020-12-06 00:00:00\n",
      "2020-12-13 00:00:00\n",
      "2020-12-20 00:00:00\n",
      "2020-12-27 00:00:00\n",
      "2021-06-06 00:00:00\n",
      "2021-06-13 00:00:00\n",
      "2021-06-20 00:00:00\n",
      "2021-06-27 00:00:00\n",
      "2021-12-05 00:00:00\n",
      "2021-12-12 00:00:00\n",
      "2021-12-19 00:00:00\n",
      "2021-12-26 00:00:00\n",
      "2022-06-05 00:00:00\n",
      "2022-06-12 00:00:00\n",
      "2022-06-19 00:00:00\n",
      "2022-06-26 00:00:00\n",
      "2022-12-04 00:00:00\n",
      "2022-12-11 00:00:00\n",
      "2022-12-18 00:00:00\n",
      "2022-12-25 00:00:00\n",
      "2023-06-04 00:00:00\n",
      "2023-06-11 00:00:00\n",
      "2023-06-18 00:00:00\n",
      "2023-06-25 00:00:00\n",
      "2023-12-03 00:00:00\n",
      "2023-12-10 00:00:00\n",
      "2023-12-17 00:00:00\n",
      "2023-12-24 00:00:00\n",
      "2023-12-31 00:00:00\n",
      "2024-06-02 00:00:00\n",
      "2024-06-09 00:00:00\n",
      "2024-06-16 00:00:00\n",
      "2024-06-23 00:00:00\n",
      "2024-06-30 00:00:00\n",
      "2024-12-01 00:00:00\n",
      "2024-12-08 00:00:00\n",
      "2024-12-15 00:00:00\n",
      "2024-12-22 00:00:00\n",
      "2024-12-29 00:00:00\n",
      "2025-06-01 00:00:00\n",
      "2025-06-08 00:00:00\n",
      "2025-06-15 00:00:00\n",
      "2025-06-22 00:00:00\n",
      "2025-06-29 00:00:00\n",
      "2025-12-07 00:00:00\n",
      "2025-12-14 00:00:00\n",
      "2025-12-21 00:00:00\n",
      "2025-12-28 00:00:00\n",
      "2026-06-07 00:00:00\n",
      "2026-06-14 00:00:00\n",
      "2026-06-21 00:00:00\n",
      "2026-06-28 00:00:00\n",
      "2026-12-06 00:00:00\n",
      "2026-12-13 00:00:00\n",
      "2026-12-20 00:00:00\n",
      "2026-12-27 00:00:00\n",
      "2027-06-06 00:00:00\n",
      "2027-06-13 00:00:00\n",
      "2027-06-20 00:00:00\n",
      "2027-06-27 00:00:00\n",
      "2027-12-05 00:00:00\n",
      "2027-12-12 00:00:00\n",
      "2027-12-19 00:00:00\n",
      "2027-12-26 00:00:00\n",
      "2028-06-04 00:00:00\n",
      "2028-06-11 00:00:00\n",
      "2028-06-18 00:00:00\n",
      "2028-06-25 00:00:00\n",
      "2028-12-03 00:00:00\n",
      "2028-12-10 00:00:00\n",
      "2028-12-17 00:00:00\n",
      "2028-12-24 00:00:00\n",
      "2028-12-31 00:00:00\n",
      "2029-06-03 00:00:00\n",
      "2029-06-10 00:00:00\n",
      "2029-06-17 00:00:00\n",
      "2029-06-24 00:00:00\n",
      "2029-12-02 00:00:00\n",
      "2029-12-09 00:00:00\n",
      "2029-12-16 00:00:00\n",
      "2029-12-23 00:00:00\n",
      "2029-12-30 00:00:00\n",
      "2030-06-02 00:00:00\n",
      "2030-06-09 00:00:00\n",
      "2030-06-16 00:00:00\n",
      "2030-06-23 00:00:00\n",
      "2030-06-30 00:00:00\n",
      "2030-12-01 00:00:00\n",
      "2030-12-08 00:00:00\n",
      "2030-12-15 00:00:00\n",
      "2030-12-22 00:00:00\n",
      "2030-12-29 00:00:00\n",
      "2031-06-01 00:00:00\n",
      "2031-06-08 00:00:00\n",
      "2031-06-15 00:00:00\n",
      "2031-06-22 00:00:00\n",
      "2031-06-29 00:00:00\n",
      "2031-12-07 00:00:00\n",
      "2031-12-14 00:00:00\n",
      "2031-12-21 00:00:00\n",
      "2031-12-28 00:00:00\n",
      "2032-06-06 00:00:00\n",
      "2032-06-13 00:00:00\n",
      "2032-06-20 00:00:00\n",
      "2032-06-27 00:00:00\n",
      "2032-12-05 00:00:00\n",
      "2032-12-12 00:00:00\n",
      "2032-12-19 00:00:00\n",
      "2032-12-26 00:00:00\n",
      "2033-06-05 00:00:00\n",
      "2033-06-12 00:00:00\n",
      "2033-06-19 00:00:00\n",
      "2033-06-26 00:00:00\n",
      "2033-12-04 00:00:00\n",
      "2033-12-11 00:00:00\n",
      "2033-12-18 00:00:00\n",
      "2033-12-25 00:00:00\n",
      "2034-06-04 00:00:00\n",
      "2034-06-11 00:00:00\n",
      "2034-06-18 00:00:00\n",
      "2034-06-25 00:00:00\n",
      "2034-12-03 00:00:00\n",
      "2034-12-10 00:00:00\n",
      "2034-12-17 00:00:00\n",
      "2034-12-24 00:00:00\n",
      "2034-12-31 00:00:00\n",
      "2035-06-03 00:00:00\n",
      "2035-06-10 00:00:00\n",
      "2035-06-17 00:00:00\n",
      "2035-06-24 00:00:00\n",
      "2035-12-02 00:00:00\n",
      "2035-12-09 00:00:00\n",
      "2035-12-16 00:00:00\n",
      "2035-12-23 00:00:00\n",
      "2035-12-30 00:00:00\n",
      "2036-06-01 00:00:00\n",
      "2036-06-08 00:00:00\n",
      "2036-06-15 00:00:00\n",
      "2036-06-22 00:00:00\n",
      "2036-06-29 00:00:00\n",
      "2036-12-07 00:00:00\n",
      "2036-12-14 00:00:00\n",
      "2036-12-21 00:00:00\n",
      "2036-12-28 00:00:00\n",
      "2037-06-07 00:00:00\n",
      "2037-06-14 00:00:00\n",
      "2037-06-21 00:00:00\n",
      "2037-06-28 00:00:00\n",
      "2037-12-06 00:00:00\n",
      "2037-12-13 00:00:00\n",
      "2037-12-20 00:00:00\n",
      "2037-12-27 00:00:00\n",
      "2038-06-06 00:00:00\n",
      "2038-06-13 00:00:00\n",
      "2038-06-20 00:00:00\n",
      "2038-06-27 00:00:00\n",
      "2038-12-05 00:00:00\n",
      "2038-12-12 00:00:00\n",
      "2038-12-19 00:00:00\n",
      "2038-12-26 00:00:00\n",
      "2039-06-05 00:00:00\n",
      "2039-06-12 00:00:00\n",
      "2039-06-19 00:00:00\n",
      "2039-06-26 00:00:00\n",
      "2039-12-04 00:00:00\n",
      "2039-12-11 00:00:00\n",
      "2039-12-18 00:00:00\n",
      "2039-12-25 00:00:00\n"
     ]
    },
    {
     "ename": "KeyboardInterrupt",
     "evalue": "",
     "output_type": "error",
     "traceback": [
      "\u001B[0;31m---------------------------------------------------------------------------\u001B[0m",
      "\u001B[0;31mKeyboardInterrupt\u001B[0m                         Traceback (most recent call last)",
      "Cell \u001B[0;32mIn[45], line 20\u001B[0m\n\u001B[1;32m     16\u001B[0m poster_url \u001B[38;5;241m=\u001B[39m movie\u001B[38;5;241m.\u001B[39mfind_element(By\u001B[38;5;241m.\u001B[39mCSS_SELECTOR, \u001B[38;5;124m'\u001B[39m\u001B[38;5;124mdiv.poster_movie img\u001B[39m\u001B[38;5;124m'\u001B[39m)\u001B[38;5;241m.\u001B[39mget_attribute(\u001B[38;5;124m'\u001B[39m\u001B[38;5;124msrc\u001B[39m\u001B[38;5;124m'\u001B[39m)\n\u001B[1;32m     18\u001B[0m \u001B[38;5;66;03m# 바로 테이블로 삽입 ################\u001B[39;00m\n\u001B[1;32m     19\u001B[0m \u001B[38;5;66;03m# title_ko, mainpageurl 쌍이 존재하는지 확인\u001B[39;00m\n\u001B[0;32m---> 20\u001B[0m \u001B[38;5;28;01mwith\u001B[39;00m \u001B[43mmysql\u001B[49m\u001B[38;5;241;43m.\u001B[39;49m\u001B[43mget_connection\u001B[49m\u001B[43m(\u001B[49m\u001B[43m)\u001B[49m\u001B[38;5;241m.\u001B[39mcursor() \u001B[38;5;28;01mas\u001B[39;00m cursor:\n\u001B[1;32m     21\u001B[0m     cursor\u001B[38;5;241m.\u001B[39mexecute(select_query, (title_ko, mainpageurl))\n\u001B[1;32m     22\u001B[0m     exist \u001B[38;5;241m=\u001B[39m cursor\u001B[38;5;241m.\u001B[39mfetchall()\n",
      "File \u001B[0;32m~/PycharmProjects/recsys_service_deployment/clients.py:21\u001B[0m, in \u001B[0;36mMysqlClient.get_connection\u001B[0;34m(self)\u001B[0m\n\u001B[1;32m     20\u001B[0m \u001B[38;5;28;01mdef\u001B[39;00m \u001B[38;5;21mget_connection\u001B[39m(\u001B[38;5;28mself\u001B[39m):\n\u001B[0;32m---> 21\u001B[0m     connection \u001B[38;5;241m=\u001B[39m \u001B[43mpymysql\u001B[49m\u001B[38;5;241;43m.\u001B[39;49m\u001B[43mconnect\u001B[49m\u001B[43m(\u001B[49m\u001B[43mhost\u001B[49m\u001B[38;5;241;43m=\u001B[39;49m\u001B[38;5;28;43mself\u001B[39;49m\u001B[38;5;241;43m.\u001B[39;49m\u001B[43mendpoint\u001B[49m\u001B[43m,\u001B[49m\u001B[43m \u001B[49m\u001B[43muser\u001B[49m\u001B[38;5;241;43m=\u001B[39;49m\u001B[38;5;28;43mself\u001B[39;49m\u001B[38;5;241;43m.\u001B[39;49m\u001B[43muser\u001B[49m\u001B[43m,\u001B[49m\u001B[43m \u001B[49m\u001B[43mpasswd\u001B[49m\u001B[38;5;241;43m=\u001B[39;49m\u001B[38;5;28;43mself\u001B[39;49m\u001B[38;5;241;43m.\u001B[39;49m\u001B[43mpasswd\u001B[49m\u001B[43m,\u001B[49m\u001B[43m \u001B[49m\u001B[43mport\u001B[49m\u001B[38;5;241;43m=\u001B[39;49m\u001B[38;5;28;43mself\u001B[39;49m\u001B[38;5;241;43m.\u001B[39;49m\u001B[43mport\u001B[49m\u001B[43m,\u001B[49m\n\u001B[1;32m     22\u001B[0m \u001B[43m                                 \u001B[49m\u001B[43mdatabase\u001B[49m\u001B[38;5;241;43m=\u001B[39;49m\u001B[38;5;28;43mself\u001B[39;49m\u001B[38;5;241;43m.\u001B[39;49m\u001B[43mdbname\u001B[49m\u001B[43m)\u001B[49m\n\u001B[1;32m     23\u001B[0m     \u001B[38;5;28;01mreturn\u001B[39;00m connection\n",
      "File \u001B[0;32m/opt/homebrew/lib/python3.10/site-packages/pymysql/connections.py:358\u001B[0m, in \u001B[0;36mConnection.__init__\u001B[0;34m(self, user, password, host, database, unix_socket, port, charset, collation, sql_mode, read_default_file, conv, use_unicode, client_flag, cursorclass, init_command, connect_timeout, read_default_group, autocommit, local_infile, max_allowed_packet, defer_connect, auth_plugin_map, read_timeout, write_timeout, bind_address, binary_prefix, program_name, server_public_key, ssl, ssl_ca, ssl_cert, ssl_disabled, ssl_key, ssl_verify_cert, ssl_verify_identity, compress, named_pipe, passwd, db)\u001B[0m\n\u001B[1;32m    356\u001B[0m     \u001B[38;5;28mself\u001B[39m\u001B[38;5;241m.\u001B[39m_sock \u001B[38;5;241m=\u001B[39m \u001B[38;5;28;01mNone\u001B[39;00m\n\u001B[1;32m    357\u001B[0m \u001B[38;5;28;01melse\u001B[39;00m:\n\u001B[0;32m--> 358\u001B[0m     \u001B[38;5;28;43mself\u001B[39;49m\u001B[38;5;241;43m.\u001B[39;49m\u001B[43mconnect\u001B[49m\u001B[43m(\u001B[49m\u001B[43m)\u001B[49m\n",
      "File \u001B[0;32m/opt/homebrew/lib/python3.10/site-packages/pymysql/connections.py:663\u001B[0m, in \u001B[0;36mConnection.connect\u001B[0;34m(self, sock)\u001B[0m\n\u001B[1;32m    660\u001B[0m \u001B[38;5;28mself\u001B[39m\u001B[38;5;241m.\u001B[39m_rfile \u001B[38;5;241m=\u001B[39m sock\u001B[38;5;241m.\u001B[39mmakefile(\u001B[38;5;124m\"\u001B[39m\u001B[38;5;124mrb\u001B[39m\u001B[38;5;124m\"\u001B[39m)\n\u001B[1;32m    661\u001B[0m \u001B[38;5;28mself\u001B[39m\u001B[38;5;241m.\u001B[39m_next_seq_id \u001B[38;5;241m=\u001B[39m \u001B[38;5;241m0\u001B[39m\n\u001B[0;32m--> 663\u001B[0m \u001B[38;5;28;43mself\u001B[39;49m\u001B[38;5;241;43m.\u001B[39;49m\u001B[43m_get_server_information\u001B[49m\u001B[43m(\u001B[49m\u001B[43m)\u001B[49m\n\u001B[1;32m    664\u001B[0m \u001B[38;5;28mself\u001B[39m\u001B[38;5;241m.\u001B[39m_request_authentication()\n\u001B[1;32m    666\u001B[0m \u001B[38;5;66;03m# Send \"SET NAMES\" query on init for:\u001B[39;00m\n\u001B[1;32m    667\u001B[0m \u001B[38;5;66;03m# - Ensure charaset (and collation) is set to the server.\u001B[39;00m\n\u001B[1;32m    668\u001B[0m \u001B[38;5;66;03m#   - collation_id in handshake packet may be ignored.\u001B[39;00m\n\u001B[0;32m   (...)\u001B[0m\n\u001B[1;32m    677\u001B[0m \u001B[38;5;66;03m# - https://github.com/wagtail/wagtail/issues/9477\u001B[39;00m\n\u001B[1;32m    678\u001B[0m \u001B[38;5;66;03m# - https://zenn.dev/methane/articles/2023-mysql-collation (Japanese)\u001B[39;00m\n",
      "File \u001B[0;32m/opt/homebrew/lib/python3.10/site-packages/pymysql/connections.py:1099\u001B[0m, in \u001B[0;36mConnection._get_server_information\u001B[0;34m(self)\u001B[0m\n\u001B[1;32m   1097\u001B[0m \u001B[38;5;28;01mdef\u001B[39;00m \u001B[38;5;21m_get_server_information\u001B[39m(\u001B[38;5;28mself\u001B[39m):\n\u001B[1;32m   1098\u001B[0m     i \u001B[38;5;241m=\u001B[39m \u001B[38;5;241m0\u001B[39m\n\u001B[0;32m-> 1099\u001B[0m     packet \u001B[38;5;241m=\u001B[39m \u001B[38;5;28;43mself\u001B[39;49m\u001B[38;5;241;43m.\u001B[39;49m\u001B[43m_read_packet\u001B[49m\u001B[43m(\u001B[49m\u001B[43m)\u001B[49m\n\u001B[1;32m   1100\u001B[0m     data \u001B[38;5;241m=\u001B[39m packet\u001B[38;5;241m.\u001B[39mget_all_data()\n\u001B[1;32m   1102\u001B[0m     \u001B[38;5;28mself\u001B[39m\u001B[38;5;241m.\u001B[39mprotocol_version \u001B[38;5;241m=\u001B[39m data[i]\n",
      "File \u001B[0;32m/opt/homebrew/lib/python3.10/site-packages/pymysql/connections.py:739\u001B[0m, in \u001B[0;36mConnection._read_packet\u001B[0;34m(self, packet_type)\u001B[0m\n\u001B[1;32m    737\u001B[0m buff \u001B[38;5;241m=\u001B[39m \u001B[38;5;28mbytearray\u001B[39m()\n\u001B[1;32m    738\u001B[0m \u001B[38;5;28;01mwhile\u001B[39;00m \u001B[38;5;28;01mTrue\u001B[39;00m:\n\u001B[0;32m--> 739\u001B[0m     packet_header \u001B[38;5;241m=\u001B[39m \u001B[38;5;28;43mself\u001B[39;49m\u001B[38;5;241;43m.\u001B[39;49m\u001B[43m_read_bytes\u001B[49m\u001B[43m(\u001B[49m\u001B[38;5;241;43m4\u001B[39;49m\u001B[43m)\u001B[49m\n\u001B[1;32m    740\u001B[0m     \u001B[38;5;66;03m# if DEBUG: dump_packet(packet_header)\u001B[39;00m\n\u001B[1;32m    742\u001B[0m     btrl, btrh, packet_number \u001B[38;5;241m=\u001B[39m struct\u001B[38;5;241m.\u001B[39munpack(\u001B[38;5;124m\"\u001B[39m\u001B[38;5;124m<HBB\u001B[39m\u001B[38;5;124m\"\u001B[39m, packet_header)\n",
      "File \u001B[0;32m/opt/homebrew/lib/python3.10/site-packages/pymysql/connections.py:779\u001B[0m, in \u001B[0;36mConnection._read_bytes\u001B[0;34m(self, num_bytes)\u001B[0m\n\u001B[1;32m    777\u001B[0m \u001B[38;5;28;01mwhile\u001B[39;00m \u001B[38;5;28;01mTrue\u001B[39;00m:\n\u001B[1;32m    778\u001B[0m     \u001B[38;5;28;01mtry\u001B[39;00m:\n\u001B[0;32m--> 779\u001B[0m         data \u001B[38;5;241m=\u001B[39m \u001B[38;5;28;43mself\u001B[39;49m\u001B[38;5;241;43m.\u001B[39;49m\u001B[43m_rfile\u001B[49m\u001B[38;5;241;43m.\u001B[39;49m\u001B[43mread\u001B[49m\u001B[43m(\u001B[49m\u001B[43mnum_bytes\u001B[49m\u001B[43m)\u001B[49m\n\u001B[1;32m    780\u001B[0m         \u001B[38;5;28;01mbreak\u001B[39;00m\n\u001B[1;32m    781\u001B[0m     \u001B[38;5;28;01mexcept\u001B[39;00m \u001B[38;5;167;01mOSError\u001B[39;00m \u001B[38;5;28;01mas\u001B[39;00m e:\n",
      "File \u001B[0;32m/opt/homebrew/Cellar/python@3.10/3.10.12_1/Frameworks/Python.framework/Versions/3.10/lib/python3.10/socket.py:705\u001B[0m, in \u001B[0;36mSocketIO.readinto\u001B[0;34m(self, b)\u001B[0m\n\u001B[1;32m    703\u001B[0m \u001B[38;5;28;01mwhile\u001B[39;00m \u001B[38;5;28;01mTrue\u001B[39;00m:\n\u001B[1;32m    704\u001B[0m     \u001B[38;5;28;01mtry\u001B[39;00m:\n\u001B[0;32m--> 705\u001B[0m         \u001B[38;5;28;01mreturn\u001B[39;00m \u001B[38;5;28;43mself\u001B[39;49m\u001B[38;5;241;43m.\u001B[39;49m\u001B[43m_sock\u001B[49m\u001B[38;5;241;43m.\u001B[39;49m\u001B[43mrecv_into\u001B[49m\u001B[43m(\u001B[49m\u001B[43mb\u001B[49m\u001B[43m)\u001B[49m\n\u001B[1;32m    706\u001B[0m     \u001B[38;5;28;01mexcept\u001B[39;00m timeout:\n\u001B[1;32m    707\u001B[0m         \u001B[38;5;28mself\u001B[39m\u001B[38;5;241m.\u001B[39m_timeout_occurred \u001B[38;5;241m=\u001B[39m \u001B[38;5;28;01mTrue\u001B[39;00m\n",
      "\u001B[0;31mKeyboardInterrupt\u001B[0m: "
     ]
    }
   ],
   "source": [
    "# title_ko_lst = []\n",
    "# mainpageurl_lst = []\n",
    "sunday_dt = dt.datetime(2013, 6, 23)\n",
    "select_query = \"SELECT * FROM daum_movies WHERE titleKo = %s and mainPageUrl = %s\"  # 데이터 있는지 확인\n",
    "insert_query = \"INSERT INTO daum_movies (titleKo, mainPageUrl, posterUrl) VALUES (%s, %s, %s)\"  # 삽입 쿼리\n",
    "\n",
    "for _ in range(2000):\n",
    "    driver.get(f\"https://movie.daum.net/ranking/boxoffice/weekly?date={sunday_dt.strftime('%Y%m%d')}\")\n",
    "    week_movies_lst = driver.find_elements(By.CSS_SELECTOR, '#mainContent > div > div.box_boxoffice > ol > li')\n",
    "\n",
    "    for movie in week_movies_lst:\n",
    "        try:\n",
    "            a_title = movie.find_element(By.CSS_SELECTOR, 'div > div.thumb_cont > strong > a')\n",
    "            mainpageurl = a_title.get_attribute('href')\n",
    "            title_ko = a_title.get_attribute('text')\n",
    "            poster_url = movie.find_element(By.CSS_SELECTOR, 'div.poster_movie img').get_attribute('src')\n",
    "\n",
    "            # 바로 테이블로 삽입 ################\n",
    "            # title_ko, mainpageurl 쌍이 존재하는지 확인\n",
    "            with mysql.get_connection().cursor() as cursor:\n",
    "                cursor.execute(select_query, (title_ko, mainpageurl))\n",
    "                exist = cursor.fetchall()\n",
    "            # 없으면 삽입\n",
    "            if not exist:\n",
    "                data_to_insert = (title_ko, mainpageurl, poster_url)\n",
    "                with mysql.get_connection() as conn:\n",
    "                    cursor = conn.cursor()\n",
    "                    cursor.execute(insert_query, data_to_insert)\n",
    "                    conn.commit()\n",
    "            ################################\n",
    "        except NoSuchElementException:\n",
    "            pass\n",
    "    if sunday_dt.month in [6, 12]:\n",
    "        print(sunday_dt)\n",
    "    \n",
    "    sunday_dt += dt.timedelta(days=7)\n"
   ]
  },
  {
   "cell_type": "code",
   "execution_count": 227,
   "id": "8b11d6c9-0498-4af9-85d8-c143f868e728",
   "metadata": {
    "tags": [],
    "pycharm": {
     "name": "#%%\n"
    }
   },
   "outputs": [
    {
     "name": "stderr",
     "output_type": "stream",
     "text": [
      "/Users/kyeongchanlee/PycharmProjects/recsys_service_deployment/clients.py:37: UserWarning: pandas only supports SQLAlchemy connectable (engine/connection) or database string URI or sqlite3 DBAPI2 connection. Other DBAPI2 objects are not tested. Please consider using SQLAlchemy.\n",
      "  df = pd.read_sql(sql='select * from daum_movies', con=connection)\n"
     ]
    },
    {
     "data": {
      "text/html": [
       "<div>\n",
       "<style scoped>\n",
       "    .dataframe tbody tr th:only-of-type {\n",
       "        vertical-align: middle;\n",
       "    }\n",
       "\n",
       "    .dataframe tbody tr th {\n",
       "        vertical-align: top;\n",
       "    }\n",
       "\n",
       "    .dataframe thead th {\n",
       "        text-align: right;\n",
       "    }\n",
       "</style>\n",
       "<table border=\"1\" class=\"dataframe\">\n",
       "  <thead>\n",
       "    <tr style=\"text-align: right;\">\n",
       "      <th></th>\n",
       "      <th>movieId</th>\n",
       "      <th>titleKo</th>\n",
       "      <th>titleEn</th>\n",
       "      <th>mainPageUrl</th>\n",
       "      <th>posterUrl</th>\n",
       "    </tr>\n",
       "  </thead>\n",
       "  <tbody>\n",
       "    <tr>\n",
       "      <th>0</th>\n",
       "      <td>261</td>\n",
       "      <td>월드 워 Z</td>\n",
       "      <td>None</td>\n",
       "      <td>https://movie.daum.net/moviedb/main?movieId=48708</td>\n",
       "      <td>https://img1.daumcdn.net/thumb/C408x596/?fname...</td>\n",
       "    </tr>\n",
       "    <tr>\n",
       "      <th>1</th>\n",
       "      <td>262</td>\n",
       "      <td>은밀하게 위대하게</td>\n",
       "      <td>None</td>\n",
       "      <td>https://movie.daum.net/moviedb/main?movieId=69884</td>\n",
       "      <td>https://img1.daumcdn.net/thumb/C408x596/?fname...</td>\n",
       "    </tr>\n",
       "    <tr>\n",
       "      <th>2</th>\n",
       "      <td>263</td>\n",
       "      <td>맨 오브 스틸</td>\n",
       "      <td>None</td>\n",
       "      <td>https://movie.daum.net/moviedb/main?movieId=43811</td>\n",
       "      <td>https://img1.daumcdn.net/thumb/C408x596/?fname...</td>\n",
       "    </tr>\n",
       "    <tr>\n",
       "      <th>3</th>\n",
       "      <td>264</td>\n",
       "      <td>스타트렉 다크니스</td>\n",
       "      <td>None</td>\n",
       "      <td>https://movie.daum.net/moviedb/main?movieId=62929</td>\n",
       "      <td>https://img1.daumcdn.net/thumb/C408x596/?fname...</td>\n",
       "    </tr>\n",
       "    <tr>\n",
       "      <th>4</th>\n",
       "      <td>265</td>\n",
       "      <td>더 콜</td>\n",
       "      <td>None</td>\n",
       "      <td>https://movie.daum.net/moviedb/main?movieId=71178</td>\n",
       "      <td>https://img1.daumcdn.net/thumb/C408x596/?fname...</td>\n",
       "    </tr>\n",
       "    <tr>\n",
       "      <th>...</th>\n",
       "      <td>...</td>\n",
       "      <td>...</td>\n",
       "      <td>...</td>\n",
       "      <td>...</td>\n",
       "      <td>...</td>\n",
       "    </tr>\n",
       "    <tr>\n",
       "      <th>7266</th>\n",
       "      <td>7527</td>\n",
       "      <td>보더타운</td>\n",
       "      <td>None</td>\n",
       "      <td>https://movie.daum.net/moviedb/main?movieId=43069</td>\n",
       "      <td>None</td>\n",
       "    </tr>\n",
       "    <tr>\n",
       "      <th>7267</th>\n",
       "      <td>7528</td>\n",
       "      <td>베테랑</td>\n",
       "      <td>None</td>\n",
       "      <td>https://movie.daum.net/moviedb/main?movieId=64524</td>\n",
       "      <td>None</td>\n",
       "    </tr>\n",
       "    <tr>\n",
       "      <th>7268</th>\n",
       "      <td>7529</td>\n",
       "      <td>감각의 제국</td>\n",
       "      <td>None</td>\n",
       "      <td>https://movie.daum.net/moviedb/main?movieId=133</td>\n",
       "      <td>None</td>\n",
       "    </tr>\n",
       "    <tr>\n",
       "      <th>7269</th>\n",
       "      <td>7530</td>\n",
       "      <td>오발탄</td>\n",
       "      <td>None</td>\n",
       "      <td>https://movie.daum.net/moviedb/main?movieId=1628</td>\n",
       "      <td>None</td>\n",
       "    </tr>\n",
       "    <tr>\n",
       "      <th>7270</th>\n",
       "      <td>7531</td>\n",
       "      <td>버팔로 '66</td>\n",
       "      <td>None</td>\n",
       "      <td>https://movie.daum.net/moviedb/main?movieId=1998</td>\n",
       "      <td>None</td>\n",
       "    </tr>\n",
       "  </tbody>\n",
       "</table>\n",
       "<p>7271 rows × 5 columns</p>\n",
       "</div>"
      ],
      "text/plain": [
       "      movieId    titleKo titleEn  \\\n",
       "0         261     월드 워 Z    None   \n",
       "1         262  은밀하게 위대하게    None   \n",
       "2         263    맨 오브 스틸    None   \n",
       "3         264  스타트렉 다크니스    None   \n",
       "4         265        더 콜    None   \n",
       "...       ...        ...     ...   \n",
       "7266     7527       보더타운    None   \n",
       "7267     7528        베테랑    None   \n",
       "7268     7529     감각의 제국    None   \n",
       "7269     7530        오발탄    None   \n",
       "7270     7531    버팔로 '66    None   \n",
       "\n",
       "                                            mainPageUrl  \\\n",
       "0     https://movie.daum.net/moviedb/main?movieId=48708   \n",
       "1     https://movie.daum.net/moviedb/main?movieId=69884   \n",
       "2     https://movie.daum.net/moviedb/main?movieId=43811   \n",
       "3     https://movie.daum.net/moviedb/main?movieId=62929   \n",
       "4     https://movie.daum.net/moviedb/main?movieId=71178   \n",
       "...                                                 ...   \n",
       "7266  https://movie.daum.net/moviedb/main?movieId=43069   \n",
       "7267  https://movie.daum.net/moviedb/main?movieId=64524   \n",
       "7268    https://movie.daum.net/moviedb/main?movieId=133   \n",
       "7269   https://movie.daum.net/moviedb/main?movieId=1628   \n",
       "7270   https://movie.daum.net/moviedb/main?movieId=1998   \n",
       "\n",
       "                                              posterUrl  \n",
       "0     https://img1.daumcdn.net/thumb/C408x596/?fname...  \n",
       "1     https://img1.daumcdn.net/thumb/C408x596/?fname...  \n",
       "2     https://img1.daumcdn.net/thumb/C408x596/?fname...  \n",
       "3     https://img1.daumcdn.net/thumb/C408x596/?fname...  \n",
       "4     https://img1.daumcdn.net/thumb/C408x596/?fname...  \n",
       "...                                                 ...  \n",
       "7266                                               None  \n",
       "7267                                               None  \n",
       "7268                                               None  \n",
       "7269                                               None  \n",
       "7270                                               None  \n",
       "\n",
       "[7271 rows x 5 columns]"
      ]
     },
     "execution_count": 227,
     "metadata": {},
     "output_type": "execute_result"
    }
   ],
   "source": [
    "daum_movies = mysql.get_daum_movies()\n",
    "daum_movies"
   ]
  },
  {
   "cell_type": "code",
   "execution_count": 228,
   "id": "e8982568-a2dd-44d6-b414-90d2fce79ab7",
   "metadata": {
    "tags": [],
    "pycharm": {
     "name": "#%%\n"
    }
   },
   "outputs": [
    {
     "name": "stderr",
     "output_type": "stream",
     "text": [
      "/Users/kyeongchanlee/PycharmProjects/recsys_service_deployment/clients.py:42: UserWarning: pandas only supports SQLAlchemy connectable (engine/connection) or database string URI or sqlite3 DBAPI2 connection. Other DBAPI2 objects are not tested. Please consider using SQLAlchemy.\n",
      "  df = pd.read_sql(sql='select * from daum_ratings', con=connection)\n"
     ]
    },
    {
     "data": {
      "text/html": [
       "<div>\n",
       "<style scoped>\n",
       "    .dataframe tbody tr th:only-of-type {\n",
       "        vertical-align: middle;\n",
       "    }\n",
       "\n",
       "    .dataframe tbody tr th {\n",
       "        vertical-align: top;\n",
       "    }\n",
       "\n",
       "    .dataframe thead th {\n",
       "        text-align: right;\n",
       "    }\n",
       "</style>\n",
       "<table border=\"1\" class=\"dataframe\">\n",
       "  <thead>\n",
       "    <tr style=\"text-align: right;\">\n",
       "      <th></th>\n",
       "      <th>nickName</th>\n",
       "      <th>movieId</th>\n",
       "      <th>rating</th>\n",
       "      <th>timestamp</th>\n",
       "      <th>userId</th>\n",
       "      <th>review</th>\n",
       "    </tr>\n",
       "  </thead>\n",
       "  <tbody>\n",
       "    <tr>\n",
       "      <th>0</th>\n",
       "      <td>닉네임</td>\n",
       "      <td>2880</td>\n",
       "      <td>10</td>\n",
       "      <td>1.700658e+09</td>\n",
       "      <td>None</td>\n",
       "      <td>좀비영화 싫어하는데 이건 넘 재밌네</td>\n",
       "    </tr>\n",
       "    <tr>\n",
       "      <th>1</th>\n",
       "      <td>닉네임</td>\n",
       "      <td>2881</td>\n",
       "      <td>8</td>\n",
       "      <td>1.668779e+09</td>\n",
       "      <td>None</td>\n",
       "      <td>의상 너무너무 예쁘다</td>\n",
       "    </tr>\n",
       "    <tr>\n",
       "      <th>2</th>\n",
       "      <td>닉네임</td>\n",
       "      <td>2564</td>\n",
       "      <td>9</td>\n",
       "      <td>1.657807e+09</td>\n",
       "      <td>None</td>\n",
       "      <td>오프닝 너~~~무 조으다\\n별5개 다 못주는건 제니퍼..왜 나오셨쎄요?ㅜㅜ</td>\n",
       "    </tr>\n",
       "    <tr>\n",
       "      <th>3</th>\n",
       "      <td>닉네임</td>\n",
       "      <td>2351</td>\n",
       "      <td>5</td>\n",
       "      <td>1.648305e+09</td>\n",
       "      <td>None</td>\n",
       "      <td>햄릿이 넘 왕자같지않아. 몰입이 안돼</td>\n",
       "    </tr>\n",
       "    <tr>\n",
       "      <th>4</th>\n",
       "      <td>닉네임</td>\n",
       "      <td>2357</td>\n",
       "      <td>9</td>\n",
       "      <td>1.627718e+09</td>\n",
       "      <td>None</td>\n",
       "      <td>끝장면 과하지않아 넘넘좋다\\n코끝이 찡~잘 만들어진 영화\\n만점을 못준건 어떤 배우...</td>\n",
       "    </tr>\n",
       "    <tr>\n",
       "      <th>...</th>\n",
       "      <td>...</td>\n",
       "      <td>...</td>\n",
       "      <td>...</td>\n",
       "      <td>...</td>\n",
       "      <td>...</td>\n",
       "      <td>...</td>\n",
       "    </tr>\n",
       "    <tr>\n",
       "      <th>20128</th>\n",
       "      <td>운동해야지</td>\n",
       "      <td>2081</td>\n",
       "      <td>0</td>\n",
       "      <td>1.595246e+09</td>\n",
       "      <td>None</td>\n",
       "      <td>연상호는 그저 운이 좋았을뿐 전작도 신파에 그저 그랬는데 과대평가됐지</td>\n",
       "    </tr>\n",
       "    <tr>\n",
       "      <th>20129</th>\n",
       "      <td>운동해야지</td>\n",
       "      <td>3247</td>\n",
       "      <td>9</td>\n",
       "      <td>1.584676e+09</td>\n",
       "      <td>None</td>\n",
       "      <td>지져스, 이래서 헐리웃 작가들이 천문학적 돈을 받는 이유가 있는 거지, 얼마나 고증...</td>\n",
       "    </tr>\n",
       "    <tr>\n",
       "      <th>20130</th>\n",
       "      <td>운동해야지</td>\n",
       "      <td>4357</td>\n",
       "      <td>5</td>\n",
       "      <td>1.582536e+09</td>\n",
       "      <td>None</td>\n",
       "      <td>근데 이 집의 가족 구성이 어찌 된 일이에요? 아빠는 백인 엄마가 코리언이고 애들은...</td>\n",
       "    </tr>\n",
       "    <tr>\n",
       "      <th>20131</th>\n",
       "      <td>운동해야지</td>\n",
       "      <td>1962</td>\n",
       "      <td>1</td>\n",
       "      <td>1.579430e+09</td>\n",
       "      <td>None</td>\n",
       "      <td>한국 영화계갖어쩌다 이렇게 됐을꼬. 보통 좌익정권하에 좋은 영화들이 많이 탄생되는데...</td>\n",
       "    </tr>\n",
       "    <tr>\n",
       "      <th>20132</th>\n",
       "      <td>운동해야지</td>\n",
       "      <td>7530</td>\n",
       "      <td>10</td>\n",
       "      <td>1.573042e+09</td>\n",
       "      <td>None</td>\n",
       "      <td>하녀, 오발탄, 마부, 월하의 공동묘지 \\n한때 씨네필이었던 나를 가슴 뛰게 했던 ...</td>\n",
       "    </tr>\n",
       "  </tbody>\n",
       "</table>\n",
       "<p>20133 rows × 6 columns</p>\n",
       "</div>"
      ],
      "text/plain": [
       "      nickName  movieId  rating     timestamp userId  \\\n",
       "0          닉네임     2880      10  1.700658e+09   None   \n",
       "1          닉네임     2881       8  1.668779e+09   None   \n",
       "2          닉네임     2564       9  1.657807e+09   None   \n",
       "3          닉네임     2351       5  1.648305e+09   None   \n",
       "4          닉네임     2357       9  1.627718e+09   None   \n",
       "...        ...      ...     ...           ...    ...   \n",
       "20128    운동해야지     2081       0  1.595246e+09   None   \n",
       "20129    운동해야지     3247       9  1.584676e+09   None   \n",
       "20130    운동해야지     4357       5  1.582536e+09   None   \n",
       "20131    운동해야지     1962       1  1.579430e+09   None   \n",
       "20132    운동해야지     7530      10  1.573042e+09   None   \n",
       "\n",
       "                                                  review  \n",
       "0                                    좀비영화 싫어하는데 이건 넘 재밌네  \n",
       "1                                            의상 너무너무 예쁘다  \n",
       "2              오프닝 너~~~무 조으다\\n별5개 다 못주는건 제니퍼..왜 나오셨쎄요?ㅜㅜ  \n",
       "3                                   햄릿이 넘 왕자같지않아. 몰입이 안돼  \n",
       "4      끝장면 과하지않아 넘넘좋다\\n코끝이 찡~잘 만들어진 영화\\n만점을 못준건 어떤 배우...  \n",
       "...                                                  ...  \n",
       "20128            연상호는 그저 운이 좋았을뿐 전작도 신파에 그저 그랬는데 과대평가됐지   \n",
       "20129  지져스, 이래서 헐리웃 작가들이 천문학적 돈을 받는 이유가 있는 거지, 얼마나 고증...  \n",
       "20130  근데 이 집의 가족 구성이 어찌 된 일이에요? 아빠는 백인 엄마가 코리언이고 애들은...  \n",
       "20131  한국 영화계갖어쩌다 이렇게 됐을꼬. 보통 좌익정권하에 좋은 영화들이 많이 탄생되는데...  \n",
       "20132  하녀, 오발탄, 마부, 월하의 공동묘지 \\n한때 씨네필이었던 나를 가슴 뛰게 했던 ...  \n",
       "\n",
       "[20133 rows x 6 columns]"
      ]
     },
     "execution_count": 228,
     "metadata": {},
     "output_type": "execute_result"
    }
   ],
   "source": [
    "daum_ratings = mysql.get_daum_ratings()\n",
    "daum_ratings"
   ]
  },
  {
   "cell_type": "code",
   "execution_count": 225,
   "id": "712e6ef1-5ab8-4fbc-a267-d0a3e6562772",
   "metadata": {
    "tags": [],
    "pycharm": {
     "name": "#%%\n"
    }
   },
   "outputs": [
    {
     "data": {
      "text/html": [
       "<div>\n",
       "<style scoped>\n",
       "    .dataframe tbody tr th:only-of-type {\n",
       "        vertical-align: middle;\n",
       "    }\n",
       "\n",
       "    .dataframe tbody tr th {\n",
       "        vertical-align: top;\n",
       "    }\n",
       "\n",
       "    .dataframe thead th {\n",
       "        text-align: right;\n",
       "    }\n",
       "</style>\n",
       "<table border=\"1\" class=\"dataframe\">\n",
       "  <thead>\n",
       "    <tr style=\"text-align: right;\">\n",
       "      <th></th>\n",
       "      <th>nickName</th>\n",
       "      <th>movieId</th>\n",
       "      <th>rating</th>\n",
       "      <th>timestamp</th>\n",
       "      <th>userId</th>\n",
       "      <th>review</th>\n",
       "    </tr>\n",
       "  </thead>\n",
       "  <tbody>\n",
       "    <tr>\n",
       "      <th>19458</th>\n",
       "      <td>릴리 슈슈</td>\n",
       "      <td>2857</td>\n",
       "      <td>10</td>\n",
       "      <td>1.699335e+09</td>\n",
       "      <td>None</td>\n",
       "      <td>엄마없이 사는건 이렇게나 큰 충격인거다\\nㅠㅠ</td>\n",
       "    </tr>\n",
       "    <tr>\n",
       "      <th>19459</th>\n",
       "      <td>릴리 슈슈</td>\n",
       "      <td>2694</td>\n",
       "      <td>10</td>\n",
       "      <td>1.697943e+09</td>\n",
       "      <td>None</td>\n",
       "      <td>왓챠 만료일에 마음먹고 본 영화\\n위로와 사랑이 필요한 나에게 딱</td>\n",
       "    </tr>\n",
       "    <tr>\n",
       "      <th>19460</th>\n",
       "      <td>릴리 슈슈</td>\n",
       "      <td>2780</td>\n",
       "      <td>10</td>\n",
       "      <td>1.688710e+09</td>\n",
       "      <td>None</td>\n",
       "      <td>추억으로 가는  길</td>\n",
       "    </tr>\n",
       "    <tr>\n",
       "      <th>19461</th>\n",
       "      <td>릴리 슈슈</td>\n",
       "      <td>7423</td>\n",
       "      <td>10</td>\n",
       "      <td>1.686323e+09</td>\n",
       "      <td>None</td>\n",
       "      <td>지금  kbs 독립영화관에서 봤어요</td>\n",
       "    </tr>\n",
       "    <tr>\n",
       "      <th>19462</th>\n",
       "      <td>릴리 슈슈</td>\n",
       "      <td>7424</td>\n",
       "      <td>10</td>\n",
       "      <td>1.685287e+09</td>\n",
       "      <td>None</td>\n",
       "      <td>한숨이 나오지만  진짜인 영화</td>\n",
       "    </tr>\n",
       "    <tr>\n",
       "      <th>19463</th>\n",
       "      <td>릴리 슈슈</td>\n",
       "      <td>729</td>\n",
       "      <td>10</td>\n",
       "      <td>1.684808e+09</td>\n",
       "      <td>None</td>\n",
       "      <td>아버지도 아들도 이제 안계시다네요...\\n하늘에서 더 행복하시길...</td>\n",
       "    </tr>\n",
       "    <tr>\n",
       "      <th>19464</th>\n",
       "      <td>릴리 슈슈</td>\n",
       "      <td>2612</td>\n",
       "      <td>10</td>\n",
       "      <td>1.683972e+09</td>\n",
       "      <td>None</td>\n",
       "      <td>갓투리\\n너무 감동적 ㅠㅠ</td>\n",
       "    </tr>\n",
       "    <tr>\n",
       "      <th>19465</th>\n",
       "      <td>릴리 슈슈</td>\n",
       "      <td>3631</td>\n",
       "      <td>10</td>\n",
       "      <td>1.682934e+09</td>\n",
       "      <td>None</td>\n",
       "      <td>진짜 너무 깜짝놀람\\n뭐 하나 완벽하지 않은게 없네요</td>\n",
       "    </tr>\n",
       "    <tr>\n",
       "      <th>19466</th>\n",
       "      <td>릴리 슈슈</td>\n",
       "      <td>4849</td>\n",
       "      <td>10</td>\n",
       "      <td>1.682934e+09</td>\n",
       "      <td>None</td>\n",
       "      <td>황홀경\\n\\n이제라도 이 영화를 본 나를 칭찬하겠습니다</td>\n",
       "    </tr>\n",
       "    <tr>\n",
       "      <th>19467</th>\n",
       "      <td>릴리 슈슈</td>\n",
       "      <td>7425</td>\n",
       "      <td>10</td>\n",
       "      <td>1.678764e+09</td>\n",
       "      <td>None</td>\n",
       "      <td>브렌든 프레이저  키 후이 콴이 오스카를 나란히 받을 줄은 상상도 못함  ㅠ♡\\n암...</td>\n",
       "    </tr>\n",
       "    <tr>\n",
       "      <th>19468</th>\n",
       "      <td>릴리 슈슈</td>\n",
       "      <td>2713</td>\n",
       "      <td>10</td>\n",
       "      <td>1.678066e+09</td>\n",
       "      <td>None</td>\n",
       "      <td>번스타인의 말러가 듣고싶어졌다</td>\n",
       "    </tr>\n",
       "    <tr>\n",
       "      <th>19469</th>\n",
       "      <td>릴리 슈슈</td>\n",
       "      <td>2719</td>\n",
       "      <td>10</td>\n",
       "      <td>1.677606e+09</td>\n",
       "      <td>None</td>\n",
       "      <td>내 첫사랑  원시 틴에이저♡\\n응원합니다</td>\n",
       "    </tr>\n",
       "    <tr>\n",
       "      <th>19470</th>\n",
       "      <td>릴리 슈슈</td>\n",
       "      <td>2675</td>\n",
       "      <td>10</td>\n",
       "      <td>1.672291e+09</td>\n",
       "      <td>None</td>\n",
       "      <td>아빠생각만 나게하고 ㅠ 너무해 ㅠ♡</td>\n",
       "    </tr>\n",
       "    <tr>\n",
       "      <th>19471</th>\n",
       "      <td>릴리 슈슈</td>\n",
       "      <td>7426</td>\n",
       "      <td>10</td>\n",
       "      <td>1.670411e+09</td>\n",
       "      <td>None</td>\n",
       "      <td>저도  초등학교때 ㅋ 대사를 외우도록 본 영화네요. 유튜브에 풀버전 있어요.</td>\n",
       "    </tr>\n",
       "    <tr>\n",
       "      <th>19472</th>\n",
       "      <td>릴리 슈슈</td>\n",
       "      <td>1594</td>\n",
       "      <td>10</td>\n",
       "      <td>1.656517e+09</td>\n",
       "      <td>None</td>\n",
       "      <td>톰 크루즈 진짜 너무귀엽다 ㅠ</td>\n",
       "    </tr>\n",
       "    <tr>\n",
       "      <th>19473</th>\n",
       "      <td>릴리 슈슈</td>\n",
       "      <td>2564</td>\n",
       "      <td>10</td>\n",
       "      <td>1.656391e+09</td>\n",
       "      <td>None</td>\n",
       "      <td>끝내준다!\\n탐 크루즈 건강하세요!♡</td>\n",
       "    </tr>\n",
       "    <tr>\n",
       "      <th>19474</th>\n",
       "      <td>릴리 슈슈</td>\n",
       "      <td>2563</td>\n",
       "      <td>10</td>\n",
       "      <td>1.655567e+09</td>\n",
       "      <td>None</td>\n",
       "      <td>해진이한테 만 상주고싶다</td>\n",
       "    </tr>\n",
       "    <tr>\n",
       "      <th>19475</th>\n",
       "      <td>릴리 슈슈</td>\n",
       "      <td>2544</td>\n",
       "      <td>10</td>\n",
       "      <td>1.653975e+09</td>\n",
       "      <td>None</td>\n",
       "      <td>나쁜놈은 잡아야 맛이지</td>\n",
       "    </tr>\n",
       "    <tr>\n",
       "      <th>19476</th>\n",
       "      <td>릴리 슈슈</td>\n",
       "      <td>6775</td>\n",
       "      <td>10</td>\n",
       "      <td>1.652194e+09</td>\n",
       "      <td>None</td>\n",
       "      <td>잘생긴 애들이 폼 잡는 것도 너무 귀엽고  무엇보다 음악이 !!!</td>\n",
       "    </tr>\n",
       "    <tr>\n",
       "      <th>19477</th>\n",
       "      <td>릴리 슈슈</td>\n",
       "      <td>7427</td>\n",
       "      <td>10</td>\n",
       "      <td>1.651173e+09</td>\n",
       "      <td>None</td>\n",
       "      <td>마츠코 전에 마츠키가 있었네</td>\n",
       "    </tr>\n",
       "    <tr>\n",
       "      <th>19478</th>\n",
       "      <td>릴리 슈슈</td>\n",
       "      <td>2501</td>\n",
       "      <td>10</td>\n",
       "      <td>1.646628e+09</td>\n",
       "      <td>None</td>\n",
       "      <td>허기진 마음이 채워짐</td>\n",
       "    </tr>\n",
       "    <tr>\n",
       "      <th>19479</th>\n",
       "      <td>릴리 슈슈</td>\n",
       "      <td>3818</td>\n",
       "      <td>10</td>\n",
       "      <td>1.645249e+09</td>\n",
       "      <td>None</td>\n",
       "      <td>볼 때마다 우는데 저만 그래요?</td>\n",
       "    </tr>\n",
       "  </tbody>\n",
       "</table>\n",
       "</div>"
      ],
      "text/plain": [
       "      nickName  movieId  rating     timestamp userId  \\\n",
       "19458    릴리 슈슈     2857      10  1.699335e+09   None   \n",
       "19459    릴리 슈슈     2694      10  1.697943e+09   None   \n",
       "19460    릴리 슈슈     2780      10  1.688710e+09   None   \n",
       "19461    릴리 슈슈     7423      10  1.686323e+09   None   \n",
       "19462    릴리 슈슈     7424      10  1.685287e+09   None   \n",
       "19463    릴리 슈슈      729      10  1.684808e+09   None   \n",
       "19464    릴리 슈슈     2612      10  1.683972e+09   None   \n",
       "19465    릴리 슈슈     3631      10  1.682934e+09   None   \n",
       "19466    릴리 슈슈     4849      10  1.682934e+09   None   \n",
       "19467    릴리 슈슈     7425      10  1.678764e+09   None   \n",
       "19468    릴리 슈슈     2713      10  1.678066e+09   None   \n",
       "19469    릴리 슈슈     2719      10  1.677606e+09   None   \n",
       "19470    릴리 슈슈     2675      10  1.672291e+09   None   \n",
       "19471    릴리 슈슈     7426      10  1.670411e+09   None   \n",
       "19472    릴리 슈슈     1594      10  1.656517e+09   None   \n",
       "19473    릴리 슈슈     2564      10  1.656391e+09   None   \n",
       "19474    릴리 슈슈     2563      10  1.655567e+09   None   \n",
       "19475    릴리 슈슈     2544      10  1.653975e+09   None   \n",
       "19476    릴리 슈슈     6775      10  1.652194e+09   None   \n",
       "19477    릴리 슈슈     7427      10  1.651173e+09   None   \n",
       "19478    릴리 슈슈     2501      10  1.646628e+09   None   \n",
       "19479    릴리 슈슈     3818      10  1.645249e+09   None   \n",
       "\n",
       "                                                  review  \n",
       "19458                          엄마없이 사는건 이렇게나 큰 충격인거다\\nㅠㅠ  \n",
       "19459               왓챠 만료일에 마음먹고 본 영화\\n위로와 사랑이 필요한 나에게 딱  \n",
       "19460                                         추억으로 가는  길  \n",
       "19461                                지금  kbs 독립영화관에서 봤어요  \n",
       "19462                                   한숨이 나오지만  진짜인 영화  \n",
       "19463             아버지도 아들도 이제 안계시다네요...\\n하늘에서 더 행복하시길...  \n",
       "19464                                     갓투리\\n너무 감동적 ㅠㅠ  \n",
       "19465                      진짜 너무 깜짝놀람\\n뭐 하나 완벽하지 않은게 없네요  \n",
       "19466                     황홀경\\n\\n이제라도 이 영화를 본 나를 칭찬하겠습니다  \n",
       "19467  브렌든 프레이저  키 후이 콴이 오스카를 나란히 받을 줄은 상상도 못함  ㅠ♡\\n암...  \n",
       "19468                                   번스타인의 말러가 듣고싶어졌다  \n",
       "19469                             내 첫사랑  원시 틴에이저♡\\n응원합니다  \n",
       "19470                                아빠생각만 나게하고 ㅠ 너무해 ㅠ♡  \n",
       "19471         저도  초등학교때 ㅋ 대사를 외우도록 본 영화네요. 유튜브에 풀버전 있어요.  \n",
       "19472                                   톰 크루즈 진짜 너무귀엽다 ㅠ  \n",
       "19473                               끝내준다!\\n탐 크루즈 건강하세요!♡  \n",
       "19474                                      해진이한테 만 상주고싶다  \n",
       "19475                                       나쁜놈은 잡아야 맛이지  \n",
       "19476               잘생긴 애들이 폼 잡는 것도 너무 귀엽고  무엇보다 음악이 !!!  \n",
       "19477                                    마츠코 전에 마츠키가 있었네  \n",
       "19478                                        허기진 마음이 채워짐  \n",
       "19479                                  볼 때마다 우는데 저만 그래요?  "
      ]
     },
     "execution_count": 225,
     "metadata": {},
     "output_type": "execute_result"
    }
   ],
   "source": [
    "daum_ratings[daum_ratings['nickName'] == '릴리 슈슈']"
   ]
  },
  {
   "cell_type": "code",
   "execution_count": 133,
   "id": "782795ae-1e79-4753-a696-86d00e61dceb",
   "metadata": {
    "tags": [],
    "pycharm": {
     "name": "#%%\n"
    }
   },
   "outputs": [
    {
     "data": {
      "text/plain": [
       "12315"
      ]
     },
     "execution_count": 133,
     "metadata": {},
     "output_type": "execute_result"
    }
   ],
   "source": [
    "mysql.get_count(table_name='daum_ratings')"
   ]
  },
  {
   "cell_type": "code",
   "execution_count": 119,
   "id": "83a2a26d-2b28-4ae1-b27b-f2f76086ed42",
   "metadata": {
    "tags": [],
    "pycharm": {
     "name": "#%%\n"
    }
   },
   "outputs": [],
   "source": [
    "def get_title_ko(movie_id):\n",
    "    with mysql.get_connection().cursor() as cursor:\n",
    "        cursor.execute(f\"select titleKo from daum_movies where movieId = '{movie_id}'\")\n",
    "        result = cursor.fetchall()[0][0]\n",
    "    return result"
   ]
  },
  {
   "cell_type": "code",
   "execution_count": 120,
   "id": "3ff2dda8-2913-4c16-8f67-be1bdb3e82fe",
   "metadata": {
    "tags": [],
    "pycharm": {
     "name": "#%%\n"
    }
   },
   "outputs": [
    {
     "data": {
      "text/plain": [
       "'더 콜'"
      ]
     },
     "execution_count": 120,
     "metadata": {},
     "output_type": "execute_result"
    }
   ],
   "source": [
    "get_title_ko(265)"
   ]
  },
  {
   "cell_type": "code",
   "execution_count": 103,
   "id": "c9add545-498f-45c7-bd51-149f72312cfa",
   "metadata": {
    "tags": [],
    "pycharm": {
     "name": "#%%\n"
    }
   },
   "outputs": [
    {
     "data": {
      "text/plain": [
       "(('은밀하게 위대하게',), ('더 콜',), ('빅 웨딩',), ('월드워Z',), ('사랑은 타이핑 중!',))"
      ]
     },
     "execution_count": 103,
     "metadata": {},
     "output_type": "execute_result"
    }
   ],
   "source": [
    "with mysql.get_connection().cursor() as cursor:\n",
    "    cursor.execute('select titleKo from daum_movies where movieId in (278, 5735, 2880, 262, 265)')\n",
    "    result = cursor.fetchall()\n",
    "result"
   ]
  },
  {
   "cell_type": "code",
   "execution_count": 226,
   "id": "47103c01-6b83-4742-a58a-95408a8fa0f1",
   "metadata": {
    "tags": [],
    "pycharm": {
     "name": "#%%\n"
    }
   },
   "outputs": [
    {
     "name": "stdout",
     "output_type": "stream",
     "text": [
      "2019-11-07 13:57:00\t10\t[비포 미드나잇] - before the dawn....기다릴게요.\n",
      "2022-02-19 14:29:00\t10\t[로마의 휴일] - 볼 때마다 우는데 저만 그래요?\n",
      "2022-03-07 13:41:00\t10\t[피그] - 허기진 마음이 채워짐\n",
      "2022-04-29 04:07:00\t10\t[일본곤충기] - 마츠코 전에 마츠키가 있었네\n",
      "2022-05-10 23:39:00\t10\t[하이앤로우 더 무비] - 잘생긴 애들이 폼 잡는 것도 너무 귀엽고  무엇보다 음악이 !!!\n",
      "2022-05-31 14:24:00\t10\t[범죄도시2] - 나쁜놈은 잡아야 맛이지\n",
      "2022-06-19 00:42:00\t10\t[브로커] - 해진이한테 만 상주고싶다\n",
      "2022-06-28 13:36:00\t10\t[탑건: 매버릭] - 끝내준다! 탐 크루즈 건강하세요!♡\n",
      "2022-06-30 00:30:00\t10\t[탑건] - 톰 크루즈 진짜 너무귀엽다 ㅠ\n",
      "2022-12-07 20:08:00\t10\t[사랑의 하모니] - 저도  초등학교때 ㅋ 대사를 외우도록 본 영화네요. 유튜브에 풀버전 있어요.\n",
      "2022-12-29 14:17:00\t10\t[아바타: 물의 길] - 아빠생각만 나게하고 ㅠ 너무해 ㅠ♡\n",
      "2023-03-01 02:32:00\t10\t[더 웨일] - 내 첫사랑  원시 틴에이저♡ 응원합니다\n",
      "2023-03-06 10:26:00\t10\t[TAR 타르] - 번스타인의 말러가 듣고싶어졌다\n",
      "2023-03-14 12:15:00\t10\t[원시 틴에이저] - 브렌든 프레이저  키 후이 콴이 오스카를 나란히 받을 줄은 상상도 못함  ㅠ♡ 암튼 영화 재밌는데 정말 다시보고싶네요\n",
      "2023-05-01 18:39:00\t10\t[2001: 스페이스 오디세이] - 황홀경  이제라도 이 영화를 본 나를 칭찬하겠습니다\n",
      "2023-05-01 18:46:00\t10\t[블레이드 러너: 파이널 컷] - 진짜 너무 깜짝놀람 뭐 하나 완벽하지 않은게 없네요\n",
      "2023-05-13 19:00:00\t10\t[극장판 엄마 까투리: 도시로 간 까투리 가족] - 갓투리 너무 감동적 ㅠㅠ\n",
      "2023-05-23 11:08:00\t10\t[땡큐, 대디] - 아버지도 아들도 이제 안계시다네요... 하늘에서 더 행복하시길...\n",
      "2023-05-29 00:24:00\t10\t[나라야마 부시코] - 한숨이 나오지만  진짜인 영화\n",
      "2023-06-10 00:10:00\t10\t[빅브라더] - 지금  kbs 독립영화관에서 봤어요\n",
      "2023-07-07 15:10:00\t10\t[인디아나 존스: 운명의 다이얼] - 추억으로 가는  길\n",
      "2023-10-22 11:46:00\t10\t[유랑의 달] - 왓챠 만료일에 마음먹고 본 영화 위로와 사랑이 필요한 나에게 딱\n",
      "2023-11-07 14:26:00\t10\t[그대들은 어떻게 살 것인가] - 엄마없이 사는건 이렇게나 큰 충격인거다 ㅠㅠ\n"
     ]
    }
   ],
   "source": [
    "nickname = '릴리 슈슈'\n",
    "with mysql.get_connection().cursor() as cursor:\n",
    "    cursor.execute(f\"select movieId, timestamp, rating, review from daum_ratings where nickName = '{nickname}'\")\n",
    "    result = cursor.fetchall()\n",
    "\n",
    "for box in sorted(list(result), key=lambda x: x[1]):\n",
    "    movie_id, ts, rating, review = box\n",
    "    review = review.replace('\\n', ' ')\n",
    "    print(f\"{dt.datetime.fromtimestamp(ts)}\\t{rating}\\t[{get_title_ko(movie_id)}] - {review}\")\n",
    "    "
   ]
  },
  {
   "cell_type": "code",
   "execution_count": 124,
   "id": "5bdf779c-da00-4427-a902-fdfb2b7722c9",
   "metadata": {
    "tags": [],
    "pycharm": {
     "name": "#%%\n"
    }
   },
   "outputs": [],
   "source": [
    "movie_id, ts, rating, review = box"
   ]
  },
  {
   "cell_type": "code",
   "execution_count": 125,
   "id": "11cb58db-11b2-4df9-aa71-562afca4b9fc",
   "metadata": {
    "tags": [],
    "pycharm": {
     "name": "#%%\n"
    }
   },
   "outputs": [
    {
     "data": {
      "text/plain": [
       "'마마'"
      ]
     },
     "execution_count": 125,
     "metadata": {},
     "output_type": "execute_result"
    }
   ],
   "source": [
    "get_title_ko(movie_id)"
   ]
  },
  {
   "cell_type": "code",
   "execution_count": 128,
   "id": "6179daad-f212-4d19-b502-e9478811b2b5",
   "metadata": {
    "tags": [],
    "pycharm": {
     "name": "#%%\n"
    }
   },
   "outputs": [
    {
     "name": "stdout",
     "output_type": "stream",
     "text": [
      "2013-01-25 11:40:00\n"
     ]
    }
   ],
   "source": [
    "print(dt.datetime.fromtimestamp(ts))"
   ]
  },
  {
   "cell_type": "code",
   "execution_count": null,
   "id": "23a753c7-ce21-40c5-805f-d5520bab93d7",
   "metadata": {
    "pycharm": {
     "name": "#%%\n"
    }
   },
   "outputs": [],
   "source": []
  },
  {
   "cell_type": "code",
   "execution_count": 87,
   "id": "6af5cf39-1b62-46f9-b967-e9e75ac5b6a5",
   "metadata": {
    "tags": [],
    "pycharm": {
     "name": "#%%\n"
    }
   },
   "outputs": [],
   "source": [
    "from collections import Counter"
   ]
  },
  {
   "cell_type": "code",
   "execution_count": null,
   "id": "5c6805cf-c4c6-4b6f-9567-39e2bf0bf4d7",
   "metadata": {
    "pycharm": {
     "name": "#%%\n"
    }
   },
   "outputs": [],
   "source": [
    "daum_ratings"
   ]
  },
  {
   "cell_type": "code",
   "execution_count": 89,
   "id": "905b97c2-52a7-4d07-8c53-b7b172c5edc5",
   "metadata": {
    "collapsed": true,
    "jupyter": {
     "outputs_hidden": true
    },
    "tags": [],
    "pycharm": {
     "name": "#%%\n"
    }
   },
   "outputs": [
    {
     "data": {
      "text/plain": [
       "Counter({265: 103,\n",
       "         261: 96,\n",
       "         264: 69,\n",
       "         263: 63,\n",
       "         2880: 48,\n",
       "         262: 39,\n",
       "         1797: 32,\n",
       "         1770: 29,\n",
       "         1882: 28,\n",
       "         2081: 26,\n",
       "         2763: 25,\n",
       "         1031: 25,\n",
       "         2564: 24,\n",
       "         2592: 24,\n",
       "         1945: 23,\n",
       "         2544: 23,\n",
       "         2805: 23,\n",
       "         2092: 23,\n",
       "         2357: 21,\n",
       "         1703: 21,\n",
       "         2785: 21,\n",
       "         2595: 19,\n",
       "         2455: 19,\n",
       "         2388: 19,\n",
       "         2424: 19,\n",
       "         1840: 18,\n",
       "         2589: 17,\n",
       "         1792: 17,\n",
       "         1679: 16,\n",
       "         3173: 16,\n",
       "         1502: 16,\n",
       "         1967: 16,\n",
       "         1639: 15,\n",
       "         537: 15,\n",
       "         2690: 15,\n",
       "         2611: 15,\n",
       "         1451: 15,\n",
       "         3164: 15,\n",
       "         2540: 15,\n",
       "         2412: 15,\n",
       "         389: 15,\n",
       "         2566: 15,\n",
       "         609: 14,\n",
       "         2572: 14,\n",
       "         1419: 14,\n",
       "         2675: 14,\n",
       "         787: 14,\n",
       "         2193: 14,\n",
       "         1732: 14,\n",
       "         1824: 14,\n",
       "         2893: 13,\n",
       "         865: 13,\n",
       "         2780: 13,\n",
       "         1782: 13,\n",
       "         1842: 13,\n",
       "         3148: 13,\n",
       "         344: 13,\n",
       "         1601: 13,\n",
       "         1986: 13,\n",
       "         1414: 13,\n",
       "         1169: 13,\n",
       "         1355: 12,\n",
       "         1944: 12,\n",
       "         1351: 12,\n",
       "         1935: 12,\n",
       "         1591: 12,\n",
       "         3175: 12,\n",
       "         1906: 12,\n",
       "         2097: 12,\n",
       "         2064: 12,\n",
       "         1710: 12,\n",
       "         979: 12,\n",
       "         2798: 12,\n",
       "         3839: 12,\n",
       "         1616: 12,\n",
       "         1069: 11,\n",
       "         2370: 11,\n",
       "         2801: 11,\n",
       "         2809: 11,\n",
       "         2959: 11,\n",
       "         2683: 11,\n",
       "         918: 11,\n",
       "         2597: 11,\n",
       "         1170: 11,\n",
       "         836: 11,\n",
       "         2558: 11,\n",
       "         2383: 11,\n",
       "         2409: 11,\n",
       "         1308: 11,\n",
       "         1388: 11,\n",
       "         1001: 11,\n",
       "         3681: 11,\n",
       "         297: 11,\n",
       "         3935: 11,\n",
       "         1525: 10,\n",
       "         2762: 10,\n",
       "         1908: 10,\n",
       "         1314: 10,\n",
       "         573: 10,\n",
       "         2502: 10,\n",
       "         3062: 10,\n",
       "         1950: 10,\n",
       "         3147: 10,\n",
       "         2151: 10,\n",
       "         1899: 10,\n",
       "         1975: 10,\n",
       "         791: 10,\n",
       "         1582: 10,\n",
       "         2751: 10,\n",
       "         1556: 10,\n",
       "         1305: 10,\n",
       "         1307: 10,\n",
       "         3304: 10,\n",
       "         2345: 10,\n",
       "         1923: 10,\n",
       "         1780: 10,\n",
       "         2459: 10,\n",
       "         1138: 10,\n",
       "         2815: 10,\n",
       "         1611: 10,\n",
       "         1160: 10,\n",
       "         1262: 10,\n",
       "         1107: 10,\n",
       "         2605: 9,\n",
       "         2896: 9,\n",
       "         1721: 9,\n",
       "         2876: 9,\n",
       "         1196: 9,\n",
       "         1264: 9,\n",
       "         1181: 9,\n",
       "         2172: 9,\n",
       "         1137: 9,\n",
       "         2993: 9,\n",
       "         2997: 9,\n",
       "         2400: 9,\n",
       "         2734: 9,\n",
       "         2129: 9,\n",
       "         2075: 9,\n",
       "         1274: 9,\n",
       "         3184: 9,\n",
       "         2309: 9,\n",
       "         1087: 9,\n",
       "         761: 9,\n",
       "         1360: 9,\n",
       "         1050: 9,\n",
       "         951: 9,\n",
       "         1041: 9,\n",
       "         2451: 9,\n",
       "         1012: 9,\n",
       "         2211: 9,\n",
       "         2135: 9,\n",
       "         699: 9,\n",
       "         499: 9,\n",
       "         1093: 9,\n",
       "         2428: 9,\n",
       "         1288: 9,\n",
       "         382: 9,\n",
       "         3710: 9,\n",
       "         1409: 9,\n",
       "         1711: 9,\n",
       "         3865: 9,\n",
       "         3921: 9,\n",
       "         294: 9,\n",
       "         1203: 9,\n",
       "         1338: 8,\n",
       "         1691: 8,\n",
       "         376: 8,\n",
       "         1489: 8,\n",
       "         2832: 8,\n",
       "         2334: 8,\n",
       "         2137: 8,\n",
       "         2619: 8,\n",
       "         388: 8,\n",
       "         1574: 8,\n",
       "         3170: 8,\n",
       "         2775: 8,\n",
       "         2679: 8,\n",
       "         2579: 8,\n",
       "         1982: 8,\n",
       "         1539: 8,\n",
       "         3208: 8,\n",
       "         923: 8,\n",
       "         2278: 8,\n",
       "         1184: 8,\n",
       "         2639: 8,\n",
       "         1479: 8,\n",
       "         1352: 8,\n",
       "         778: 8,\n",
       "         283: 8,\n",
       "         2440: 8,\n",
       "         1577: 8,\n",
       "         474: 8,\n",
       "         814: 8,\n",
       "         906: 8,\n",
       "         4025: 8,\n",
       "         2792: 8,\n",
       "         1320: 8,\n",
       "         2123: 8,\n",
       "         1478: 7,\n",
       "         1046: 7,\n",
       "         2390: 7,\n",
       "         1482: 7,\n",
       "         2919: 7,\n",
       "         2941: 7,\n",
       "         2943: 7,\n",
       "         2657: 7,\n",
       "         2774: 7,\n",
       "         2858: 7,\n",
       "         1382: 7,\n",
       "         2634: 7,\n",
       "         1728: 7,\n",
       "         1684: 7,\n",
       "         837: 7,\n",
       "         1680: 7,\n",
       "         2164: 7,\n",
       "         486: 7,\n",
       "         740: 7,\n",
       "         3100: 7,\n",
       "         1658: 7,\n",
       "         3132: 7,\n",
       "         1410: 7,\n",
       "         1595: 7,\n",
       "         2650: 7,\n",
       "         2052: 7,\n",
       "         1866: 7,\n",
       "         2111: 7,\n",
       "         748: 7,\n",
       "         2099: 7,\n",
       "         1669: 7,\n",
       "         2273: 7,\n",
       "         1871: 7,\n",
       "         3232: 7,\n",
       "         2021: 7,\n",
       "         1460: 7,\n",
       "         1047: 7,\n",
       "         1191: 7,\n",
       "         627: 7,\n",
       "         1960: 7,\n",
       "         3351: 7,\n",
       "         1415: 7,\n",
       "         927: 7,\n",
       "         1042: 7,\n",
       "         1675: 7,\n",
       "         1836: 7,\n",
       "         1693: 7,\n",
       "         2253: 7,\n",
       "         2638: 7,\n",
       "         2504: 7,\n",
       "         3574: 7,\n",
       "         1055: 7,\n",
       "         2808: 7,\n",
       "         1554: 7,\n",
       "         1426: 7,\n",
       "         2312: 7,\n",
       "         3620: 7,\n",
       "         2117: 7,\n",
       "         826: 7,\n",
       "         759: 7,\n",
       "         2479: 7,\n",
       "         1280: 7,\n",
       "         407: 7,\n",
       "         2836: 7,\n",
       "         1146: 7,\n",
       "         855: 7,\n",
       "         2392: 7,\n",
       "         2519: 7,\n",
       "         4244: 7,\n",
       "         4248: 7,\n",
       "         1295: 7,\n",
       "         4484: 7,\n",
       "         1154: 6,\n",
       "         2696: 6,\n",
       "         2770: 6,\n",
       "         2920: 6,\n",
       "         1645: 6,\n",
       "         2843: 6,\n",
       "         2966: 6,\n",
       "         2604: 6,\n",
       "         2848: 6,\n",
       "         896: 6,\n",
       "         2759: 6,\n",
       "         2617: 6,\n",
       "         3001: 6,\n",
       "         3029: 6,\n",
       "         2772: 6,\n",
       "         1636: 6,\n",
       "         1755: 6,\n",
       "         2138: 6,\n",
       "         489: 6,\n",
       "         968: 6,\n",
       "         2442: 6,\n",
       "         2676: 6,\n",
       "         1965: 6,\n",
       "         1573: 6,\n",
       "         3151: 6,\n",
       "         598: 6,\n",
       "         1592: 6,\n",
       "         890: 6,\n",
       "         1551: 6,\n",
       "         2174: 6,\n",
       "         2136: 6,\n",
       "         2732: 6,\n",
       "         1878: 6,\n",
       "         562: 6,\n",
       "         1215: 6,\n",
       "         1571: 6,\n",
       "         1756: 6,\n",
       "         1429: 6,\n",
       "         1816: 6,\n",
       "         3349: 6,\n",
       "         3354: 6,\n",
       "         3356: 6,\n",
       "         2346: 6,\n",
       "         1228: 6,\n",
       "         1706: 6,\n",
       "         684: 6,\n",
       "         769: 6,\n",
       "         1955: 6,\n",
       "         911: 6,\n",
       "         1398: 6,\n",
       "         707: 6,\n",
       "         2586: 6,\n",
       "         1911: 6,\n",
       "         1570: 6,\n",
       "         2730: 6,\n",
       "         1559: 6,\n",
       "         1492: 6,\n",
       "         1197: 6,\n",
       "         1325: 6,\n",
       "         1495: 6,\n",
       "         490: 6,\n",
       "         1269: 6,\n",
       "         799: 6,\n",
       "         1329: 6,\n",
       "         1258: 6,\n",
       "         1536: 6,\n",
       "         888: 6,\n",
       "         2456: 6,\n",
       "         331: 6,\n",
       "         1736: 6,\n",
       "         4004: 6,\n",
       "         410: 6,\n",
       "         326: 6,\n",
       "         4137: 6,\n",
       "         477: 6,\n",
       "         931: 6,\n",
       "         928: 6,\n",
       "         821: 6,\n",
       "         304: 6,\n",
       "         2883: 5,\n",
       "         2887: 5,\n",
       "         412: 5,\n",
       "         840: 5,\n",
       "         2923: 5,\n",
       "         2857: 5,\n",
       "         478: 5,\n",
       "         1397: 5,\n",
       "         2822: 5,\n",
       "         1749: 5,\n",
       "         1620: 5,\n",
       "         1685: 5,\n",
       "         2746: 5,\n",
       "         2563: 5,\n",
       "         3043: 5,\n",
       "         3044: 5,\n",
       "         2649: 5,\n",
       "         3057: 5,\n",
       "         321: 5,\n",
       "         3094: 5,\n",
       "         1348: 5,\n",
       "         1420: 5,\n",
       "         3104: 5,\n",
       "         623: 5,\n",
       "         2004: 5,\n",
       "         2431: 5,\n",
       "         1798: 5,\n",
       "         1985: 5,\n",
       "         2712: 5,\n",
       "         2142: 5,\n",
       "         3209: 5,\n",
       "         3218: 5,\n",
       "         1876: 5,\n",
       "         2301: 5,\n",
       "         3222: 5,\n",
       "         1848: 5,\n",
       "         670: 5,\n",
       "         3229: 5,\n",
       "         792: 5,\n",
       "         774: 5,\n",
       "         3238: 5,\n",
       "         2372: 5,\n",
       "         1781: 5,\n",
       "         500: 5,\n",
       "         2034: 5,\n",
       "         2467: 5,\n",
       "         1202: 5,\n",
       "         1198: 5,\n",
       "         2198: 5,\n",
       "         2450: 5,\n",
       "         3341: 5,\n",
       "         400: 5,\n",
       "         3394: 5,\n",
       "         2078: 5,\n",
       "         1665: 5,\n",
       "         2529: 5,\n",
       "         658: 5,\n",
       "         3489: 5,\n",
       "         1776: 5,\n",
       "         3493: 5,\n",
       "         1815: 5,\n",
       "         1743: 5,\n",
       "         1293: 5,\n",
       "         519: 5,\n",
       "         2194: 5,\n",
       "         365: 5,\n",
       "         3527: 5,\n",
       "         3560: 5,\n",
       "         1207: 5,\n",
       "         1605: 5,\n",
       "         822: 5,\n",
       "         2655: 5,\n",
       "         2062: 5,\n",
       "         3624: 5,\n",
       "         303: 5,\n",
       "         2326: 5,\n",
       "         1852: 5,\n",
       "         3669: 5,\n",
       "         2268: 5,\n",
       "         2105: 5,\n",
       "         3730: 5,\n",
       "         1707: 5,\n",
       "         675: 5,\n",
       "         2838: 5,\n",
       "         2461: 5,\n",
       "         492: 5,\n",
       "         1156: 5,\n",
       "         1383: 5,\n",
       "         800: 5,\n",
       "         3922: 5,\n",
       "         515: 5,\n",
       "         1814: 5,\n",
       "         766: 5,\n",
       "         1872: 5,\n",
       "         1839: 5,\n",
       "         1934: 5,\n",
       "         2469: 5,\n",
       "         4089: 5,\n",
       "         2606: 5,\n",
       "         2508: 5,\n",
       "         1365: 5,\n",
       "         1390: 5,\n",
       "         1245: 5,\n",
       "         4228: 5,\n",
       "         4273: 5,\n",
       "         2520: 5,\n",
       "         2444: 5,\n",
       "         4410: 5,\n",
       "         2364: 5,\n",
       "         539: 5,\n",
       "         4507: 5,\n",
       "         1054: 5,\n",
       "         2687: 5,\n",
       "         373: 5,\n",
       "         4739: 5,\n",
       "         640: 5,\n",
       "         550: 5,\n",
       "         619: 5,\n",
       "         5076: 5,\n",
       "         2906: 4,\n",
       "         2740: 4,\n",
       "         2939: 4,\n",
       "         276: 4,\n",
       "         1744: 4,\n",
       "         2968: 4,\n",
       "         317: 4,\n",
       "         2989: 4,\n",
       "         1235: 4,\n",
       "         1997: 4,\n",
       "         2995: 4,\n",
       "         1690: 4,\n",
       "         694: 4,\n",
       "         1190: 4,\n",
       "         2705: 4,\n",
       "         3007: 4,\n",
       "         3022: 4,\n",
       "         3038: 4,\n",
       "         3047: 4,\n",
       "         2851: 4,\n",
       "         2738: 4,\n",
       "         2726: 4,\n",
       "         3060: 4,\n",
       "         508: 4,\n",
       "         3106: 4,\n",
       "         442: 4,\n",
       "         2709: 4,\n",
       "         2264: 4,\n",
       "         2731: 4,\n",
       "         2217: 4,\n",
       "         3165: 4,\n",
       "         2231: 4,\n",
       "         2118: 4,\n",
       "         2149: 4,\n",
       "         1830: 4,\n",
       "         1794: 4,\n",
       "         3210: 4,\n",
       "         3220: 4,\n",
       "         3223: 4,\n",
       "         3233: 4,\n",
       "         3296: 4,\n",
       "         1924: 4,\n",
       "         1976: 4,\n",
       "         3306: 4,\n",
       "         3307: 4,\n",
       "         1447: 4,\n",
       "         2187: 4,\n",
       "         1260: 4,\n",
       "         2213: 4,\n",
       "         1859: 4,\n",
       "         938: 4,\n",
       "         3374: 4,\n",
       "         1517: 4,\n",
       "         3378: 4,\n",
       "         3380: 4,\n",
       "         3392: 4,\n",
       "         3423: 4,\n",
       "         3437: 4,\n",
       "         3470: 4,\n",
       "         1867: 4,\n",
       "         1442: 4,\n",
       "         274: 4,\n",
       "         3511: 4,\n",
       "         1833: 4,\n",
       "         1060: 4,\n",
       "         2255: 4,\n",
       "         3525: 4,\n",
       "         3530: 4,\n",
       "         2528: 4,\n",
       "         3534: 4,\n",
       "         2413: 4,\n",
       "         3538: 4,\n",
       "         3545: 4,\n",
       "         3546: 4,\n",
       "         1431: 4,\n",
       "         2846: 4,\n",
       "         2652: 4,\n",
       "         3583: 4,\n",
       "         453: 4,\n",
       "         2518: 4,\n",
       "         629: 4,\n",
       "         1334: 4,\n",
       "         861: 4,\n",
       "         807: 4,\n",
       "         2082: 4,\n",
       "         3670: 4,\n",
       "         3679: 4,\n",
       "         1303: 4,\n",
       "         3700: 4,\n",
       "         2238: 4,\n",
       "         2866: 4,\n",
       "         2373: 4,\n",
       "         1268: 4,\n",
       "         1891: 4,\n",
       "         2338: 4,\n",
       "         1455: 4,\n",
       "         3745: 4,\n",
       "         3762: 4,\n",
       "         745: 4,\n",
       "         3766: 4,\n",
       "         3767: 4,\n",
       "         1166: 4,\n",
       "         1251: 4,\n",
       "         3853: 4,\n",
       "         501: 4,\n",
       "         1860: 4,\n",
       "         915: 4,\n",
       "         524: 4,\n",
       "         3928: 4,\n",
       "         3929: 4,\n",
       "         1222: 4,\n",
       "         1122: 4,\n",
       "         1485: 4,\n",
       "         1584: 4,\n",
       "         293: 4,\n",
       "         824: 4,\n",
       "         813: 4,\n",
       "         3968: 4,\n",
       "         1126: 4,\n",
       "         4016: 4,\n",
       "         2020: 4,\n",
       "         1983: 4,\n",
       "         2055: 4,\n",
       "         2839: 4,\n",
       "         2810: 4,\n",
       "         1769: 4,\n",
       "         1477: 4,\n",
       "         926: 4,\n",
       "         643: 4,\n",
       "         1972: 4,\n",
       "         4125: 4,\n",
       "         4134: 4,\n",
       "         4190: 4,\n",
       "         2840: 4,\n",
       "         4229: 4,\n",
       "         572: 4,\n",
       "         1070: 4,\n",
       "         4297: 4,\n",
       "         4418: 4,\n",
       "         1423: 4,\n",
       "         4489: 4,\n",
       "         1253: 4,\n",
       "         4528: 4,\n",
       "         2458: 4,\n",
       "         2663: 4,\n",
       "         4693: 4,\n",
       "         650: 4,\n",
       "         279: 4,\n",
       "         1959: 4,\n",
       "         336: 4,\n",
       "         914: 4,\n",
       "         350: 4,\n",
       "         2885: 3,\n",
       "         1412: 3,\n",
       "         1206: 3,\n",
       "         2889: 3,\n",
       "         2902: 3,\n",
       "         2908: 3,\n",
       "         2914: 3,\n",
       "         963: 3,\n",
       "         2931: 3,\n",
       "         2934: 3,\n",
       "         2945: 3,\n",
       "         2811: 3,\n",
       "         1821: 3,\n",
       "         2976: 3,\n",
       "         2982: 3,\n",
       "         2986: 3,\n",
       "         2988: 3,\n",
       "         1962: 3,\n",
       "         810: 3,\n",
       "         1123: 3,\n",
       "         983: 3,\n",
       "         3000: 3,\n",
       "         3002: 3,\n",
       "         3003: 3,\n",
       "         1413: 3,\n",
       "         3005: 3,\n",
       "         3024: 3,\n",
       "         3025: 3,\n",
       "         3031: 3,\n",
       "         3040: 3,\n",
       "         2401: 3,\n",
       "         716: 3,\n",
       "         3051: 3,\n",
       "         3054: 3,\n",
       "         1467: 3,\n",
       "         3073: 3,\n",
       "         2642: 3,\n",
       "         2646: 3,\n",
       "         3086: 3,\n",
       "         3091: 3,\n",
       "         3095: 3,\n",
       "         1225: 3,\n",
       "         3113: 3,\n",
       "         3117: 3,\n",
       "         395: 3,\n",
       "         3121: 3,\n",
       "         3133: 3,\n",
       "         488: 3,\n",
       "         851: 3,\n",
       "         1077: 3,\n",
       "         437: 3,\n",
       "         2583: 3,\n",
       "         1294: 3,\n",
       "         3156: 3,\n",
       "         2703: 3,\n",
       "         3160: 3,\n",
       "         827: 3,\n",
       "         2533: 3,\n",
       "         1817: 3,\n",
       "         2628: 3,\n",
       "         2063: 3,\n",
       "         3197: 3,\n",
       "         1585: 3,\n",
       "         3214: 3,\n",
       "         2285: 3,\n",
       "         3224: 3,\n",
       "         2121: 3,\n",
       "         3235: 3,\n",
       "         3236: 3,\n",
       "         3243: 3,\n",
       "         2329: 3,\n",
       "         3247: 3,\n",
       "         3259: 3,\n",
       "         3260: 3,\n",
       "         1452: 3,\n",
       "         561: 3,\n",
       "         843: 3,\n",
       "         3275: 3,\n",
       "         3282: 3,\n",
       "         3292: 3,\n",
       "         3293: 3,\n",
       "         3297: 3,\n",
       "         3300: 3,\n",
       "         1980: 3,\n",
       "         666: 3,\n",
       "         3309: 3,\n",
       "         3313: 3,\n",
       "         3314: 3,\n",
       "         3316: 3,\n",
       "         3326: 3,\n",
       "         3327: 3,\n",
       "         1809: 3,\n",
       "         3352: 3,\n",
       "         3353: 3,\n",
       "         2061: 3,\n",
       "         1104: 3,\n",
       "         2188: 3,\n",
       "         3366: 3,\n",
       "         3367: 3,\n",
       "         493: 3,\n",
       "         3381: 3,\n",
       "         784: 3,\n",
       "         3382: 3,\n",
       "         3383: 3,\n",
       "         3386: 3,\n",
       "         3390: 3,\n",
       "         3391: 3,\n",
       "         1594: 3,\n",
       "         3397: 3,\n",
       "         3399: 3,\n",
       "         3402: 3,\n",
       "         277: 3,\n",
       "         3427: 3,\n",
       "         3433: 3,\n",
       "         940: 3,\n",
       "         1737: 3,\n",
       "         3456: 3,\n",
       "         755: 3,\n",
       "         3483: 3,\n",
       "         1448: 3,\n",
       "         1373: 3,\n",
       "         438: 3,\n",
       "         3504: 3,\n",
       "         361: 3,\n",
       "         3505: 3,\n",
       "         1768: 3,\n",
       "         3513: 3,\n",
       "         3515: 3,\n",
       "         667: 3,\n",
       "         3519: 3,\n",
       "         1920: 3,\n",
       "         904: 3,\n",
       "         2468: 3,\n",
       "         2132: 3,\n",
       "         1989: 3,\n",
       "         3557: 3,\n",
       "         1408: 3,\n",
       "         2119: 3,\n",
       "         1993: 3,\n",
       "         1474: 3,\n",
       "         3586: 3,\n",
       "         3589: 3,\n",
       "         3590: 3,\n",
       "         3596: 3,\n",
       "         2162: 3,\n",
       "         1727: 3,\n",
       "         1708: 3,\n",
       "         3610: 3,\n",
       "         1927: 3,\n",
       "         2568: 3,\n",
       "         1853: 3,\n",
       "         1456: 3,\n",
       "         3622: 3,\n",
       "         3626: 3,\n",
       "         3631: 3,\n",
       "         2377: 3,\n",
       "         487: 3,\n",
       "         1606: 3,\n",
       "         1081: 3,\n",
       "         3683: 3,\n",
       "         3684: 3,\n",
       "         604: 3,\n",
       "         3696: 3,\n",
       "         3697: 3,\n",
       "         2584: 3,\n",
       "         2554: 3,\n",
       "         345: 3,\n",
       "         2551: 3,\n",
       "         3720: 3,\n",
       "         1141: 3,\n",
       "         1865: 3,\n",
       "         1304: 3,\n",
       "         3756: 3,\n",
       "         1518: 3,\n",
       "         3760: 3,\n",
       "         1633: 3,\n",
       "         2240: 3,\n",
       "         1527: 3,\n",
       "         1427: 3,\n",
       "         3791: 3,\n",
       "         3794: 3,\n",
       "         2292: 3,\n",
       "         1437: 3,\n",
       "         3854: 3,\n",
       "         1370: 3,\n",
       "         3862: 3,\n",
       "         2653: 3,\n",
       "         3871: 3,\n",
       "         3885: 3,\n",
       "         3924: 3,\n",
       "         858: 3,\n",
       "         3927: 3,\n",
       "         1686: 3,\n",
       "         879: 3,\n",
       "         853: 3,\n",
       "         1802: 3,\n",
       "         1846: 3,\n",
       "         597: 3,\n",
       "         3973: 3,\n",
       "         3975: 3,\n",
       "         1603: 3,\n",
       "         664: 3,\n",
       "         4003: 3,\n",
       "         4005: 3,\n",
       "         4022: 3,\n",
       "         4024: 3,\n",
       "         444: 3,\n",
       "         4027: 3,\n",
       "         367: 3,\n",
       "         4038: 3,\n",
       "         673: 3,\n",
       "         2487: 3,\n",
       "         470: 3,\n",
       "         583: 3,\n",
       "         845: 3,\n",
       "         942: 3,\n",
       "         1715: 3,\n",
       "         590: 3,\n",
       "         1622: 3,\n",
       "         645: 3,\n",
       "         4082: 3,\n",
       "         1057: 3,\n",
       "         1343: 3,\n",
       "         4135: 3,\n",
       "         4140: 3,\n",
       "         4142: 3,\n",
       "         2777: 3,\n",
       "         2733: 3,\n",
       "         4148: 3,\n",
       "         2036: 3,\n",
       "         2258: 3,\n",
       "         1330: 3,\n",
       "         4213: 3,\n",
       "         4218: 3,\n",
       "         580: 3,\n",
       "         4236: 3,\n",
       "         4238: 3,\n",
       "         4243: 3,\n",
       "         4245: 3,\n",
       "         4246: 3,\n",
       "         608: 3,\n",
       "         4275: 3,\n",
       "         2297: 3,\n",
       "         4291: 3,\n",
       "         4298: 3,\n",
       "         1880: 3,\n",
       "         4299: 3,\n",
       "         2385: 3,\n",
       "         4322: 3,\n",
       "         1900: 3,\n",
       "         2323: 3,\n",
       "         4337: 3,\n",
       "         2796: 3,\n",
       "         4351: 3,\n",
       "         1889: 3,\n",
       "         4369: 3,\n",
       "         2720: 3,\n",
       "         4397: 3,\n",
       "         663: 3,\n",
       "         693: 3,\n",
       "         1183: 3,\n",
       "         897: 3,\n",
       "         4452: 3,\n",
       "         1213: 3,\n",
       "         1941: 3,\n",
       "         4499: 3,\n",
       "         2361: 3,\n",
       "         2708: 3,\n",
       "         4548: 3,\n",
       "         4567: 3,\n",
       "         1599: 3,\n",
       "         588: 3,\n",
       "         1083: 3,\n",
       "         4634: 3,\n",
       "         1216: 3,\n",
       "         1223: 3,\n",
       "         4715: 3,\n",
       "         2360: 3,\n",
       "         4724: 3,\n",
       "         4735: 3,\n",
       "         4737: 3,\n",
       "         711: 3,\n",
       "         4772: 3,\n",
       "         4773: 3,\n",
       "         1613: 3,\n",
       "         581: 3,\n",
       "         4886: 3,\n",
       "         4921: 3,\n",
       "         4925: 3,\n",
       "         4956: 3,\n",
       "         371: 3,\n",
       "         491: 3,\n",
       "         5027: 3,\n",
       "         5183: 3,\n",
       "         324: 3,\n",
       "         275: 3,\n",
       "         309: 3,\n",
       "         2881: 2,\n",
       "         2351: 2,\n",
       "         2882: 2,\n",
       "         2884: 2,\n",
       "         2886: 2,\n",
       "         2888: 2,\n",
       "         2891: 2,\n",
       "         1583: 2,\n",
       "         2898: 2,\n",
       "         2905: 2,\n",
       "         2907: 2,\n",
       "         2910: 2,\n",
       "         2929: 2,\n",
       "         2936: 2,\n",
       "         2937: 2,\n",
       "         2938: 2,\n",
       "         2940: 2,\n",
       "         2944: 2,\n",
       "         1098: 2,\n",
       "         2947: 2,\n",
       "         2744: 2,\n",
       "         2964: 2,\n",
       "         2969: 2,\n",
       "         2859: 2,\n",
       "         2971: 2,\n",
       "         2972: 2,\n",
       "         2973: 2,\n",
       "         2975: 2,\n",
       "         2979: 2,\n",
       "         2980: 2,\n",
       "         1838: 2,\n",
       "         1246: 2,\n",
       "         2058: 2,\n",
       "         2992: 2,\n",
       "         1550: 2,\n",
       "         2996: 2,\n",
       "         2506: 2,\n",
       "         3017: 2,\n",
       "         3018: 2,\n",
       "         3019: 2,\n",
       "         3028: 2,\n",
       "         3030: 2,\n",
       "         1032: 2,\n",
       "         3034: 2,\n",
       "         3035: 2,\n",
       "         3037: 2,\n",
       "         2393: 2,\n",
       "         3045: 2,\n",
       "         2307: 2,\n",
       "         2407: 2,\n",
       "         3053: 2,\n",
       "         3058: 2,\n",
       "         3059: 2,\n",
       "         2662: 2,\n",
       "         3069: 2,\n",
       "         3072: 2,\n",
       "         2545: 2,\n",
       "         3076: 2,\n",
       "         3080: 2,\n",
       "         3082: 2,\n",
       "         3084: 2,\n",
       "         3085: 2,\n",
       "         3092: 2,\n",
       "         3096: 2,\n",
       "         1883: 2,\n",
       "         1870: 2,\n",
       "         3098: 2,\n",
       "         3102: 2,\n",
       "         3103: 2,\n",
       "         3107: 2,\n",
       "         3112: 2,\n",
       "         2819: 2,\n",
       "         3116: 2,\n",
       "         2018: 2,\n",
       "         3126: 2,\n",
       "         3128: 2,\n",
       "         3129: 2,\n",
       "         1231: 2,\n",
       "         3150: 2,\n",
       "         3152: 2,\n",
       "         2753: 2,\n",
       "         3154: 2,\n",
       "         3155: 2,\n",
       "         ...})"
      ]
     },
     "execution_count": 89,
     "metadata": {},
     "output_type": "execute_result"
    }
   ],
   "source": [
    "Counter(daum_ratings['movieId'])"
   ]
  },
  {
   "cell_type": "code",
   "execution_count": null,
   "id": "2f7461e9-f403-4b75-ac4b-828929b298b7",
   "metadata": {
    "pycharm": {
     "name": "#%%\n"
    }
   },
   "outputs": [],
   "source": []
  },
  {
   "cell_type": "code",
   "execution_count": null,
   "id": "605116e0-eb9d-4a19-a81b-1e85d0cf7115",
   "metadata": {
    "pycharm": {
     "name": "#%%\n"
    }
   },
   "outputs": [],
   "source": [
    "2592"
   ]
  },
  {
   "cell_type": "code",
   "execution_count": 34,
   "id": "8587db23-da92-4da5-8bd6-1a892274e2de",
   "metadata": {
    "tags": [],
    "pycharm": {
     "name": "#%%\n"
    }
   },
   "outputs": [],
   "source": [
    "insert_query = \"INSERT INTO daum_movies (movieId, titleKo, mainPageUrl) VALUES (%s, %s, %s)\"\n",
    "# 삽입할 데이터 정의\n",
    "data_to_insert = (0, title_ko, mainpageurl)"
   ]
  },
  {
   "cell_type": "code",
   "execution_count": 35,
   "id": "5a280406-af2f-4f98-b771-5a7fa7b6756f",
   "metadata": {
    "tags": [],
    "pycharm": {
     "name": "#%%\n"
    }
   },
   "outputs": [
    {
     "data": {
      "text/plain": [
       "(0, '루니 툰 : 백 인 액션', 'https://movie.daum.net/moviedb/main?movieId=38865')"
      ]
     },
     "execution_count": 35,
     "metadata": {},
     "output_type": "execute_result"
    }
   ],
   "source": [
    "data_to_insert"
   ]
  },
  {
   "cell_type": "code",
   "execution_count": 37,
   "id": "9467061c-13e8-4ac3-bebb-6367aeb8d516",
   "metadata": {
    "tags": [],
    "pycharm": {
     "name": "#%%\n"
    }
   },
   "outputs": [],
   "source": [
    "# 쿼리 실행\n",
    "\n",
    "with mysql.get_connection() as conn:\n",
    "    cursor = conn.cursor()\n",
    "    cursor.execute(insert_query, data_to_insert)\n",
    "    conn.commit()"
   ]
  },
  {
   "cell_type": "code",
   "execution_count": 40,
   "id": "97da7f93-5f04-4727-b1ec-9365dc4f55bc",
   "metadata": {
    "tags": [],
    "pycharm": {
     "name": "#%%\n"
    }
   },
   "outputs": [],
   "source": []
  },
  {
   "cell_type": "code",
   "execution_count": 41,
   "id": "14713b3c-d1ed-44bd-90c2-4b550da776f1",
   "metadata": {
    "tags": [],
    "pycharm": {
     "name": "#%%\n"
    }
   },
   "outputs": [
    {
     "data": {
      "text/plain": [
       "((0,\n",
       "  '루니 툰 : 백 인 액션',\n",
       "  None,\n",
       "  'https://movie.daum.net/moviedb/main?movieId=38865',\n",
       "  None),)"
      ]
     },
     "execution_count": 41,
     "metadata": {},
     "output_type": "execute_result"
    }
   ],
   "source": [
    "existing_data"
   ]
  },
  {
   "cell_type": "code",
   "execution_count": null,
   "id": "6b8a79ac-87e1-4a77-babb-5f46571a4aef",
   "metadata": {
    "pycharm": {
     "name": "#%%\n"
    }
   },
   "outputs": [],
   "source": []
  },
  {
   "cell_type": "code",
   "execution_count": null,
   "id": "f2f05288-1bc8-48ea-a1bf-3a940925d11d",
   "metadata": {
    "pycharm": {
     "name": "#%%\n"
    }
   },
   "outputs": [],
   "source": []
  },
  {
   "cell_type": "code",
   "execution_count": null,
   "id": "c88f12ca-2c04-4be8-b1ae-f65a612170a7",
   "metadata": {
    "pycharm": {
     "name": "#%%\n"
    }
   },
   "outputs": [],
   "source": []
  },
  {
   "cell_type": "code",
   "execution_count": null,
   "id": "c8c5e396-d528-4634-86fc-d2a029e97ba0",
   "metadata": {
    "pycharm": {
     "name": "#%%\n"
    }
   },
   "outputs": [],
   "source": []
  },
  {
   "cell_type": "code",
   "execution_count": 59,
   "id": "150cb2b2-e452-44dd-92d0-64793063db8d",
   "metadata": {
    "tags": [],
    "pycharm": {
     "name": "#%%\n"
    }
   },
   "outputs": [],
   "source": [
    "import pickle"
   ]
  },
  {
   "cell_type": "code",
   "execution_count": 62,
   "id": "b1a59259-044a-4273-8180-cff9978c5ad7",
   "metadata": {
    "tags": [],
    "pycharm": {
     "name": "#%%\n"
    }
   },
   "outputs": [
    {
     "data": {
      "text/plain": [
       "4405"
      ]
     },
     "execution_count": 62,
     "metadata": {},
     "output_type": "execute_result"
    }
   ],
   "source": [
    "len(set(title_ko_lst))"
   ]
  },
  {
   "cell_type": "code",
   "execution_count": 64,
   "id": "ced5781b-74a8-4202-861a-02a433384f5e",
   "metadata": {
    "tags": [],
    "pycharm": {
     "name": "#%%\n"
    }
   },
   "outputs": [],
   "source": [
    "with open('title_ko_lst.pkl', 'wb') as f:\n",
    "    pickle.dump(title_ko_lst, f)"
   ]
  },
  {
   "cell_type": "code",
   "execution_count": 65,
   "id": "9b8ff7cd-b2c7-4800-9db4-ef1c6d6288b6",
   "metadata": {
    "tags": [],
    "pycharm": {
     "name": "#%%\n"
    }
   },
   "outputs": [],
   "source": [
    "with open('mainpageurl_lst.pkl', 'wb') as f:\n",
    "    pickle.dump(mainpageurl_lst, f)"
   ]
  },
  {
   "cell_type": "code",
   "execution_count": 56,
   "id": "6a84dc73-e1b5-4272-ad58-cc1928ad84c9",
   "metadata": {
    "tags": [],
    "pycharm": {
     "name": "#%%\n"
    }
   },
   "outputs": [],
   "source": [
    "\n",
    "#     {\n",
    "#     'title_ko' : title_ko,\n",
    "#     'mainpageurl' : mainpageurl\n",
    "# }"
   ]
  },
  {
   "cell_type": "code",
   "execution_count": 1,
   "id": "4bf80da1-8542-47aa-9e16-f66eaf510c7e",
   "metadata": {
    "tags": [],
    "pycharm": {
     "name": "#%%\n"
    }
   },
   "outputs": [
    {
     "ename": "NameError",
     "evalue": "name 'title_ko_lst' is not defined",
     "output_type": "error",
     "traceback": [
      "\u001B[0;31m---------------------------------------------------------------------------\u001B[0m",
      "\u001B[0;31mNameError\u001B[0m                                 Traceback (most recent call last)",
      "Cell \u001B[0;32mIn[1], line 1\u001B[0m\n\u001B[0;32m----> 1\u001B[0m \u001B[43mtitle_ko_lst\u001B[49m\n",
      "\u001B[0;31mNameError\u001B[0m: name 'title_ko_lst' is not defined"
     ]
    }
   ],
   "source": [
    "title_ko_lst"
   ]
  },
  {
   "cell_type": "code",
   "execution_count": 2,
   "id": "b0cae8f4-c49b-423e-aa30-433286e6bd7d",
   "metadata": {
    "tags": [],
    "pycharm": {
     "name": "#%%\n"
    }
   },
   "outputs": [],
   "source": [
    "import pickle"
   ]
  },
  {
   "cell_type": "code",
   "execution_count": 6,
   "id": "e56b69e7-4132-4ef9-936d-3bc1fe315065",
   "metadata": {
    "tags": [],
    "pycharm": {
     "name": "#%%\n"
    }
   },
   "outputs": [],
   "source": [
    "with open('title_ko_lst.pkl', 'rb') as f:\n",
    "    title_ko_lst = pickle.load(f)\n",
    "with open('mainpageurl_lst.pkl', 'rb') as f:\n",
    "    mainpageurl_lst = pickle.load(f)"
   ]
  },
  {
   "cell_type": "markdown",
   "id": "bc50a5cc-1e61-4fb1-95f2-c18f77f9621b",
   "metadata": {
    "pycharm": {
     "name": "#%% md\n"
    }
   },
   "source": [
    "# 바로 테이블로 삽입 "
   ]
  },
  {
   "cell_type": "code",
   "execution_count": 5,
   "id": "dee2f59e-92bc-4fb9-a69f-68bb4eb74707",
   "metadata": {
    "tags": [],
    "pycharm": {
     "name": "#%%\n"
    }
   },
   "outputs": [
    {
     "data": {
      "text/html": [
       "<div>\n",
       "<style scoped>\n",
       "    .dataframe tbody tr th:only-of-type {\n",
       "        vertical-align: middle;\n",
       "    }\n",
       "\n",
       "    .dataframe tbody tr th {\n",
       "        vertical-align: top;\n",
       "    }\n",
       "\n",
       "    .dataframe thead th {\n",
       "        text-align: right;\n",
       "    }\n",
       "</style>\n",
       "<table border=\"1\" class=\"dataframe\">\n",
       "  <thead>\n",
       "    <tr style=\"text-align: right;\">\n",
       "      <th></th>\n",
       "      <th>movieId</th>\n",
       "      <th>title</th>\n",
       "      <th>genres</th>\n",
       "      <th>url</th>\n",
       "    </tr>\n",
       "  </thead>\n",
       "  <tbody>\n",
       "    <tr>\n",
       "      <th>0</th>\n",
       "      <td>1</td>\n",
       "      <td>Toy Story (1995)</td>\n",
       "      <td>Adventure|Animation|Children|Comedy|Fantasy</td>\n",
       "      <td>https://m.media-amazon.com/images/M/MV5BMDU2ZW...</td>\n",
       "    </tr>\n",
       "    <tr>\n",
       "      <th>1</th>\n",
       "      <td>2</td>\n",
       "      <td>Jumanji (1995)</td>\n",
       "      <td>Adventure|Children|Fantasy</td>\n",
       "      <td>https://m.media-amazon.com/images/M/MV5BZTk2Zm...</td>\n",
       "    </tr>\n",
       "    <tr>\n",
       "      <th>2</th>\n",
       "      <td>3</td>\n",
       "      <td>Grumpier Old Men (1995)</td>\n",
       "      <td>Comedy|Romance</td>\n",
       "      <td>https://m.media-amazon.com/images/M/MV5BMjQxM2...</td>\n",
       "    </tr>\n",
       "    <tr>\n",
       "      <th>3</th>\n",
       "      <td>4</td>\n",
       "      <td>Waiting to Exhale (1995)</td>\n",
       "      <td>Comedy|Drama|Romance</td>\n",
       "      <td>https://m.media-amazon.com/images/M/MV5BYzcyMD...</td>\n",
       "    </tr>\n",
       "    <tr>\n",
       "      <th>4</th>\n",
       "      <td>5</td>\n",
       "      <td>Father of the Bride Part II (1995)</td>\n",
       "      <td>Comedy</td>\n",
       "      <td>https://m.media-amazon.com/images/M/MV5BOTEyNz...</td>\n",
       "    </tr>\n",
       "    <tr>\n",
       "      <th>...</th>\n",
       "      <td>...</td>\n",
       "      <td>...</td>\n",
       "      <td>...</td>\n",
       "      <td>...</td>\n",
       "    </tr>\n",
       "    <tr>\n",
       "      <th>62418</th>\n",
       "      <td>209157</td>\n",
       "      <td>We (2018)</td>\n",
       "      <td>Drama</td>\n",
       "      <td>None</td>\n",
       "    </tr>\n",
       "    <tr>\n",
       "      <th>62419</th>\n",
       "      <td>209159</td>\n",
       "      <td>Window of the Soul (2001)</td>\n",
       "      <td>Documentary</td>\n",
       "      <td>None</td>\n",
       "    </tr>\n",
       "    <tr>\n",
       "      <th>62420</th>\n",
       "      <td>209163</td>\n",
       "      <td>Bad Poems (2018)</td>\n",
       "      <td>Comedy|Drama</td>\n",
       "      <td>None</td>\n",
       "    </tr>\n",
       "    <tr>\n",
       "      <th>62421</th>\n",
       "      <td>209169</td>\n",
       "      <td>A Girl Thing (2001)</td>\n",
       "      <td>(no genres listed)</td>\n",
       "      <td>None</td>\n",
       "    </tr>\n",
       "    <tr>\n",
       "      <th>62422</th>\n",
       "      <td>209171</td>\n",
       "      <td>Women of Devil's Island (1962)</td>\n",
       "      <td>Action|Adventure|Drama</td>\n",
       "      <td>None</td>\n",
       "    </tr>\n",
       "  </tbody>\n",
       "</table>\n",
       "<p>62423 rows × 4 columns</p>\n",
       "</div>"
      ],
      "text/plain": [
       "       movieId                               title  \\\n",
       "0            1                    Toy Story (1995)   \n",
       "1            2                      Jumanji (1995)   \n",
       "2            3             Grumpier Old Men (1995)   \n",
       "3            4            Waiting to Exhale (1995)   \n",
       "4            5  Father of the Bride Part II (1995)   \n",
       "...        ...                                 ...   \n",
       "62418   209157                           We (2018)   \n",
       "62419   209159           Window of the Soul (2001)   \n",
       "62420   209163                    Bad Poems (2018)   \n",
       "62421   209169                 A Girl Thing (2001)   \n",
       "62422   209171      Women of Devil's Island (1962)   \n",
       "\n",
       "                                            genres  \\\n",
       "0      Adventure|Animation|Children|Comedy|Fantasy   \n",
       "1                       Adventure|Children|Fantasy   \n",
       "2                                   Comedy|Romance   \n",
       "3                             Comedy|Drama|Romance   \n",
       "4                                           Comedy   \n",
       "...                                            ...   \n",
       "62418                                        Drama   \n",
       "62419                                  Documentary   \n",
       "62420                                 Comedy|Drama   \n",
       "62421                           (no genres listed)   \n",
       "62422                       Action|Adventure|Drama   \n",
       "\n",
       "                                                     url  \n",
       "0      https://m.media-amazon.com/images/M/MV5BMDU2ZW...  \n",
       "1      https://m.media-amazon.com/images/M/MV5BZTk2Zm...  \n",
       "2      https://m.media-amazon.com/images/M/MV5BMjQxM2...  \n",
       "3      https://m.media-amazon.com/images/M/MV5BYzcyMD...  \n",
       "4      https://m.media-amazon.com/images/M/MV5BOTEyNz...  \n",
       "...                                                  ...  \n",
       "62418                                               None  \n",
       "62419                                               None  \n",
       "62420                                               None  \n",
       "62421                                               None  \n",
       "62422                                               None  \n",
       "\n",
       "[62423 rows x 4 columns]"
      ]
     },
     "execution_count": 5,
     "metadata": {},
     "output_type": "execute_result"
    }
   ],
   "source": [
    "movies"
   ]
  },
  {
   "cell_type": "code",
   "execution_count": 6,
   "id": "8f71ce53-aaaf-481b-a0b9-7e7b5be98383",
   "metadata": {
    "tags": [],
    "pycharm": {
     "name": "#%%\n"
    }
   },
   "outputs": [
    {
     "name": "stdout",
     "output_type": "stream",
     "text": [
      "Tables : \n",
      "daum_movies\n",
      "movies\n",
      "ratings\n"
     ]
    }
   ],
   "source": [
    "mysql.get_table_names()"
   ]
  },
  {
   "cell_type": "code",
   "execution_count": 9,
   "id": "1d46b483-4c13-4a4b-adbf-ffe9d4ce0acc",
   "metadata": {
    "tags": [],
    "pycharm": {
     "name": "#%%\n"
    }
   },
   "outputs": [
    {
     "name": "stdout",
     "output_type": "stream",
     "text": [
      "Column: movieId, Data Type: int\n",
      "Column: title, Data Type: varchar(100)\n",
      "Column: genres, Data Type: varchar(100)\n",
      "Column: url, Data Type: text\n"
     ]
    }
   ],
   "source": [
    "mysql.get_data_type('movies')"
   ]
  },
  {
   "cell_type": "code",
   "execution_count": 7,
   "id": "c6f2fa9f-ad48-4f40-b0a4-0cf2aacb6211",
   "metadata": {
    "tags": [],
    "pycharm": {
     "name": "#%%\n"
    }
   },
   "outputs": [
    {
     "name": "stderr",
     "output_type": "stream",
     "text": [
      "/Users/kyeongchanlee/PycharmProjects/recsys_service_deployment/clients.py:37: UserWarning: pandas only supports SQLAlchemy connectable (engine/connection) or database string URI or sqlite3 DBAPI2 connection. Other DBAPI2 objects are not tested. Please consider using SQLAlchemy.\n",
      "  df = pd.read_sql(sql='select * from daum_movies', con=connection)\n"
     ]
    },
    {
     "data": {
      "text/html": [
       "<div>\n",
       "<style scoped>\n",
       "    .dataframe tbody tr th:only-of-type {\n",
       "        vertical-align: middle;\n",
       "    }\n",
       "\n",
       "    .dataframe tbody tr th {\n",
       "        vertical-align: top;\n",
       "    }\n",
       "\n",
       "    .dataframe thead th {\n",
       "        text-align: right;\n",
       "    }\n",
       "</style>\n",
       "<table border=\"1\" class=\"dataframe\">\n",
       "  <thead>\n",
       "    <tr style=\"text-align: right;\">\n",
       "      <th></th>\n",
       "      <th>movieId</th>\n",
       "      <th>titleKo</th>\n",
       "      <th>titleEn</th>\n",
       "      <th>mainPageUrl</th>\n",
       "      <th>posterUrl</th>\n",
       "    </tr>\n",
       "  </thead>\n",
       "  <tbody>\n",
       "  </tbody>\n",
       "</table>\n",
       "</div>"
      ],
      "text/plain": [
       "Empty DataFrame\n",
       "Columns: [movieId, titleKo, titleEn, mainPageUrl, posterUrl]\n",
       "Index: []"
      ]
     },
     "execution_count": 7,
     "metadata": {},
     "output_type": "execute_result"
    }
   ],
   "source": [
    "mysql.get_daum_movies()"
   ]
  },
  {
   "cell_type": "code",
   "execution_count": 9,
   "id": "4221ed70-1b9d-4742-b626-f356b3efae7d",
   "metadata": {
    "tags": [],
    "pycharm": {
     "name": "#%%\n"
    }
   },
   "outputs": [],
   "source": [
    "import pickle\n",
    "with open('title_ko_lst.pkl', 'rb') as f:\n",
    "    title_ko_lst = pickle.load(f)\n",
    "with open('mainpageurl_lst.pkl', 'rb') as f:\n",
    "    mainpageurl_lst = pickle.load(f)"
   ]
  },
  {
   "cell_type": "code",
   "execution_count": 11,
   "id": "b7f2ca62-9195-405c-adb7-ca38621f7d61",
   "metadata": {
    "tags": [],
    "pycharm": {
     "name": "#%%\n"
    }
   },
   "outputs": [
    {
     "data": {
      "text/plain": [
       "14985"
      ]
     },
     "execution_count": 11,
     "metadata": {},
     "output_type": "execute_result"
    }
   ],
   "source": [
    "len(title_ko_lst)"
   ]
  },
  {
   "cell_type": "code",
   "execution_count": 12,
   "id": "c3c5f47e-20c4-4a9d-9aa0-9f2a3c56b78a",
   "metadata": {
    "tags": [],
    "pycharm": {
     "name": "#%%\n"
    }
   },
   "outputs": [
    {
     "data": {
      "text/plain": [
       "14985"
      ]
     },
     "execution_count": 12,
     "metadata": {},
     "output_type": "execute_result"
    }
   ],
   "source": [
    "len(mainpageurl_lst)"
   ]
  },
  {
   "cell_type": "code",
   "execution_count": 20,
   "id": "c6861094-57d5-497c-a34a-06ba3d47cd67",
   "metadata": {
    "tags": [],
    "pycharm": {
     "name": "#%%\n"
    }
   },
   "outputs": [],
   "source": [
    "with mysql.get_connection().cursor() as cursor:\n",
    "    cursor.execute(\"SELECT MAX(movieId) FROM daum_movies\")\n",
    "    max_value = cursor.fetchone()[0]"
   ]
  },
  {
   "cell_type": "code",
   "execution_count": 21,
   "id": "a3096b8d-def0-4043-8206-cc79b249fbae",
   "metadata": {
    "tags": [],
    "pycharm": {
     "name": "#%%\n"
    }
   },
   "outputs": [],
   "source": [
    "max_value = 0 if not max_value else cursor.fetchone()[0]"
   ]
  },
  {
   "cell_type": "code",
   "execution_count": 22,
   "id": "077660ac-8299-49e1-8052-27e2ff2eede5",
   "metadata": {
    "tags": [],
    "pycharm": {
     "name": "#%%\n"
    }
   },
   "outputs": [
    {
     "data": {
      "text/plain": [
       "0"
      ]
     },
     "execution_count": 22,
     "metadata": {},
     "output_type": "execute_result"
    }
   ],
   "source": [
    "max_value"
   ]
  },
  {
   "cell_type": "code",
   "execution_count": 19,
   "id": "35e37f39-1b69-46af-80c2-003c4ab49f7a",
   "metadata": {
    "tags": [],
    "pycharm": {
     "name": "#%%\n"
    }
   },
   "outputs": [
    {
     "ename": "TypeError",
     "evalue": "int() argument must be a string, a bytes-like object or a real number, not 'NoneType'",
     "output_type": "error",
     "traceback": [
      "\u001B[0;31m---------------------------------------------------------------------------\u001B[0m",
      "\u001B[0;31mTypeError\u001B[0m                                 Traceback (most recent call last)",
      "Cell \u001B[0;32mIn[19], line 1\u001B[0m\n\u001B[0;32m----> 1\u001B[0m \u001B[38;5;28;43mint\u001B[39;49m\u001B[43m(\u001B[49m\u001B[43mmax_value\u001B[49m\u001B[43m)\u001B[49m\n",
      "\u001B[0;31mTypeError\u001B[0m: int() argument must be a string, a bytes-like object or a real number, not 'NoneType'"
     ]
    }
   ],
   "source": [
    "int(max_value)"
   ]
  },
  {
   "cell_type": "code",
   "execution_count": 18,
   "id": "90801a1f-b5f2-4530-95c4-851ae27f4ef2",
   "metadata": {
    "tags": [],
    "pycharm": {
     "name": "#%%\n"
    }
   },
   "outputs": [
    {
     "ename": "TypeError",
     "evalue": "int() argument must be a string, a bytes-like object or a real number, not 'NoneType'",
     "output_type": "error",
     "traceback": [
      "\u001B[0;31m---------------------------------------------------------------------------\u001B[0m",
      "\u001B[0;31mTypeError\u001B[0m                                 Traceback (most recent call last)",
      "Cell \u001B[0;32mIn[18], line 1\u001B[0m\n\u001B[0;32m----> 1\u001B[0m \u001B[38;5;28;43mint\u001B[39;49m\u001B[43m(\u001B[49m\u001B[43mmax_value\u001B[49m\u001B[43m)\u001B[49m \u001B[38;5;241m+\u001B[39m \u001B[38;5;241m1\u001B[39m\n",
      "\u001B[0;31mTypeError\u001B[0m: int() argument must be a string, a bytes-like object or a real number, not 'NoneType'"
     ]
    }
   ],
   "source": [
    "int(max_value) + 1"
   ]
  },
  {
   "cell_type": "code",
   "execution_count": 23,
   "id": "63400bfe-bb40-4663-a2cf-6face21e92a4",
   "metadata": {
    "tags": [],
    "pycharm": {
     "name": "#%%\n"
    }
   },
   "outputs": [],
   "source": [
    "for tko, mpurl in zip(title_ko_lst, mainpageurl_lst):\n",
    "    with mysql.get_connection().cursor() as cursor:\n",
    "        cursor.execute(\"SELECT MAX(movieId) FROM daum_movies\")\n",
    "        max_mid = cursor.fetchone()[0]\n",
    "        max_mid = 0 if not max_mid else cursor.fetchone()[0]\n",
    "        curr_mid = max_mid + 1\n",
    "    break\n",
    "    \n",
    "\n",
    "    "
   ]
  },
  {
   "cell_type": "code",
   "execution_count": 24,
   "id": "db015b62-7bf2-46cc-a350-229192c87fad",
   "metadata": {
    "tags": [],
    "pycharm": {
     "name": "#%%\n"
    }
   },
   "outputs": [
    {
     "data": {
      "text/plain": [
       "'실미도'"
      ]
     },
     "execution_count": 24,
     "metadata": {},
     "output_type": "execute_result"
    }
   ],
   "source": [
    "tko"
   ]
  },
  {
   "cell_type": "code",
   "execution_count": 25,
   "id": "8721efc1-7f2e-44b7-89a7-0c7097dde7fa",
   "metadata": {
    "tags": [],
    "pycharm": {
     "name": "#%%\n"
    }
   },
   "outputs": [
    {
     "data": {
      "text/plain": [
       "'https://movie.daum.net/moviedb/main?movieId=34452'"
      ]
     },
     "execution_count": 25,
     "metadata": {},
     "output_type": "execute_result"
    }
   ],
   "source": [
    "mpurl"
   ]
  },
  {
   "cell_type": "code",
   "execution_count": null,
   "id": "ae3cc70c-84d1-4767-b110-5b9f6428e7f4",
   "metadata": {
    "pycharm": {
     "name": "#%%\n"
    }
   },
   "outputs": [],
   "source": []
  },
  {
   "cell_type": "code",
   "execution_count": null,
   "id": "abed3235-08bd-4ed8-905e-039d41e99021",
   "metadata": {
    "pycharm": {
     "name": "#%%\n"
    }
   },
   "outputs": [],
   "source": []
  },
  {
   "cell_type": "code",
   "execution_count": null,
   "id": "f9e91920-e7ab-4715-a5bf-b75600c49ef3",
   "metadata": {
    "pycharm": {
     "name": "#%%\n"
    }
   },
   "outputs": [],
   "source": []
  },
  {
   "cell_type": "code",
   "execution_count": 14,
   "id": "2624efb3-bdb9-441c-8338-3e3ecc955ced",
   "metadata": {
    "tags": [],
    "pycharm": {
     "name": "#%%\n"
    }
   },
   "outputs": [
    {
     "data": {
      "text/plain": [
       "0"
      ]
     },
     "execution_count": 14,
     "metadata": {},
     "output_type": "execute_result"
    }
   ],
   "source": [
    "mysql.get_count('daum_movies')"
   ]
  },
  {
   "cell_type": "code",
   "execution_count": null,
   "id": "b99cc8f7-bdbf-45e2-8fd2-bef53d7f7ce0",
   "metadata": {
    "pycharm": {
     "name": "#%%\n"
    }
   },
   "outputs": [],
   "source": []
  },
  {
   "cell_type": "code",
   "execution_count": null,
   "id": "7ce03bc5-5fb6-4843-98e2-377c9d6c543f",
   "metadata": {
    "pycharm": {
     "name": "#%%\n"
    }
   },
   "outputs": [],
   "source": []
  },
  {
   "cell_type": "code",
   "execution_count": 25,
   "id": "d5ac4dd1-e56a-440a-a7f6-762f2f258843",
   "metadata": {
    "tags": [],
    "pycharm": {
     "name": "#%%\n"
    }
   },
   "outputs": [
    {
     "name": "stdout",
     "output_type": "stream",
     "text": [
      "Column: movieId, Data Type: int\n",
      "Column: title, Data Type: varchar(100)\n",
      "Column: genres, Data Type: varchar(100)\n",
      "Column: url, Data Type: text\n"
     ]
    }
   ],
   "source": [
    "with mysql.get_connection().cursor() as cursor:\n",
    "    cursor.execute(\"SHOW COLUMNS FROM movies\")\n",
    "    columns = cursor.fetchall()\n",
    "\n",
    "for column in columns:\n",
    "    column_name = column[0]\n",
    "    data_type = column[1]\n",
    "    print(f\"Column: {column_name}, Data Type: {data_type}\")\n"
   ]
  },
  {
   "cell_type": "code",
   "execution_count": null,
   "id": "f98973bc-2af7-40e2-8681-6c9230d5989a",
   "metadata": {
    "pycharm": {
     "name": "#%%\n"
    }
   },
   "outputs": [],
   "source": []
  },
  {
   "cell_type": "code",
   "execution_count": 23,
   "id": "7becf9ed-1053-4ab9-8928-e5cdb134a62f",
   "metadata": {
    "tags": [],
    "pycharm": {
     "name": "#%%\n"
    }
   },
   "outputs": [
    {
     "data": {
      "text/plain": [
       "4"
      ]
     },
     "execution_count": 23,
     "metadata": {},
     "output_type": "execute_result"
    }
   ],
   "source": [
    "insert_query = \"INSERT INTO daum_movies (column1, column2, column3) VALUES (%s, %s, %s)\"\n",
    "\n",
    "# 삽입할 데이터 정의\n",
    "data_to_insert = (\"value1\", \"value2\", \"value3\")\n",
    "\n",
    "# 쿼리 실행\n",
    "cursor.execute(insert_query, data_to_insert)\n",
    "\n",
    "# 변경사항 커밋\n",
    "connection.commit()"
   ]
  },
  {
   "cell_type": "code",
   "execution_count": 14,
   "id": "d10ae96d-a1fe-4d3a-877c-269bf64056b3",
   "metadata": {
    "tags": [],
    "pycharm": {
     "name": "#%%\n"
    }
   },
   "outputs": [],
   "source": [
    "table_create_sql = '''CREATE TABLE daum_movies (\n",
    "                                            movieId INT NOT NULL,\n",
    "                                            titleKo VARCHAR(100),\n",
    "                                            titleEn VARCHAR(100),\n",
    "                                            mainPageUrl TEXT,\n",
    "                                            posterUrl TEXT,\n",
    "                                            PRIMARY KEY(movieId)\n",
    "                                            )\n",
    "                                            '''"
   ]
  },
  {
   "cell_type": "code",
   "execution_count": null,
   "id": "8fd9b35d-7eba-4dc9-a690-129d565fb5ec",
   "metadata": {
    "pycharm": {
     "name": "#%%\n"
    }
   },
   "outputs": [],
   "source": []
  },
  {
   "cell_type": "code",
   "execution_count": null,
   "id": "d7ae3bdf-2a3a-4c49-bba9-9f20549974ec",
   "metadata": {
    "pycharm": {
     "name": "#%%\n"
    }
   },
   "outputs": [],
   "source": []
  },
  {
   "cell_type": "code",
   "execution_count": null,
   "id": "62c08e3c-0634-4bc4-ae23-ddd15c41177d",
   "metadata": {
    "pycharm": {
     "name": "#%%\n"
    }
   },
   "outputs": [],
   "source": []
  },
  {
   "cell_type": "code",
   "execution_count": null,
   "id": "581dc476-edf2-4e73-8275-201d7652cfe6",
   "metadata": {
    "pycharm": {
     "name": "#%%\n"
    }
   },
   "outputs": [],
   "source": []
  },
  {
   "cell_type": "code",
   "execution_count": 17,
   "id": "ded80dca-f079-4021-9ea8-f0928f246e02",
   "metadata": {
    "tags": [],
    "pycharm": {
     "name": "#%%\n"
    }
   },
   "outputs": [
    {
     "name": "stdout",
     "output_type": "stream",
     "text": [
      "Tables : \n",
      "daum_movies\n",
      "movies\n",
      "ratings\n"
     ]
    }
   ],
   "source": [
    "mysql.get_table_names()"
   ]
  },
  {
   "cell_type": "code",
   "execution_count": null,
   "id": "4d54640b-3f0f-4c24-bb4e-b6cc8c4e916a",
   "metadata": {
    "pycharm": {
     "name": "#%%\n"
    }
   },
   "outputs": [],
   "source": []
  },
  {
   "cell_type": "code",
   "execution_count": null,
   "id": "1f6acc76-ce0d-4335-ba96-6d78d22cfe72",
   "metadata": {
    "pycharm": {
     "name": "#%%\n"
    }
   },
   "outputs": [],
   "source": []
  },
  {
   "cell_type": "code",
   "execution_count": null,
   "id": "6ad47b4b-22c2-4aad-99fe-47da334c6439",
   "metadata": {
    "pycharm": {
     "name": "#%%\n"
    }
   },
   "outputs": [],
   "source": []
  },
  {
   "cell_type": "code",
   "execution_count": null,
   "id": "68f1bdad-70eb-44f7-9732-075a2cfb9ad8",
   "metadata": {
    "pycharm": {
     "name": "#%%\n"
    }
   },
   "outputs": [],
   "source": [
    "movie_id, title_ko, title_en, poster_url"
   ]
  },
  {
   "cell_type": "code",
   "execution_count": null,
   "id": "c8e488e0-3513-4a50-99dc-e7f11b187055",
   "metadata": {
    "pycharm": {
     "name": "#%%\n"
    }
   },
   "outputs": [],
   "source": [
    "with mysql.get_connection()"
   ]
  },
  {
   "cell_type": "code",
   "execution_count": null,
   "id": "55d2e501-5271-46a8-9f3d-9504094d17fc",
   "metadata": {
    "pycharm": {
     "name": "#%%\n"
    }
   },
   "outputs": [],
   "source": []
  },
  {
   "cell_type": "code",
   "execution_count": null,
   "id": "979dc6d2-401f-465f-896a-0c6142f0ed16",
   "metadata": {
    "pycharm": {
     "name": "#%%\n"
    }
   },
   "outputs": [],
   "source": []
  },
  {
   "cell_type": "code",
   "execution_count": null,
   "id": "3335be86-24bb-4abe-8a18-cc45552e58d0",
   "metadata": {
    "pycharm": {
     "name": "#%%\n"
    }
   },
   "outputs": [],
   "source": []
  },
  {
   "cell_type": "code",
   "execution_count": 53,
   "id": "512da200-f92b-453a-959a-ef5dd4c79b03",
   "metadata": {
    "tags": [],
    "pycharm": {
     "name": "#%%\n"
    }
   },
   "outputs": [
    {
     "data": {
      "text/plain": [
       "'실미도'"
      ]
     },
     "execution_count": 53,
     "metadata": {},
     "output_type": "execute_result"
    }
   ],
   "source": [
    "title_ko"
   ]
  },
  {
   "cell_type": "code",
   "execution_count": 51,
   "id": "ef354bc5-a628-4a83-8a9c-925b6f532e84",
   "metadata": {
    "tags": [],
    "pycharm": {
     "name": "#%%\n"
    }
   },
   "outputs": [
    {
     "ename": "ValueError",
     "evalue": "If using all scalar values, you must pass an index",
     "output_type": "error",
     "traceback": [
      "\u001B[0;31m---------------------------------------------------------------------------\u001B[0m",
      "\u001B[0;31mValueError\u001B[0m                                Traceback (most recent call last)",
      "Cell \u001B[0;32mIn[51], line 1\u001B[0m\n\u001B[0;32m----> 1\u001B[0m \u001B[43mpd\u001B[49m\u001B[38;5;241;43m.\u001B[39;49m\u001B[43mDataFrame\u001B[49m\u001B[43m(\u001B[49m\u001B[43m{\u001B[49m\n\u001B[1;32m      2\u001B[0m \u001B[43m    \u001B[49m\u001B[38;5;124;43m'\u001B[39;49m\u001B[38;5;124;43mtitle_ko\u001B[39;49m\u001B[38;5;124;43m'\u001B[39;49m\u001B[43m \u001B[49m\u001B[43m:\u001B[49m\u001B[43m \u001B[49m\u001B[43mtitle_ko\u001B[49m\u001B[43m,\u001B[49m\n\u001B[1;32m      3\u001B[0m \u001B[43m    \u001B[49m\u001B[38;5;124;43m'\u001B[39;49m\u001B[38;5;124;43mmainpageurl\u001B[39;49m\u001B[38;5;124;43m'\u001B[39;49m\u001B[43m \u001B[49m\u001B[43m:\u001B[49m\u001B[43m \u001B[49m\u001B[43mmainpageurl\u001B[49m\n\u001B[1;32m      4\u001B[0m \u001B[43m}\u001B[49m\u001B[43m)\u001B[49m\n",
      "File \u001B[0;32m/opt/homebrew/lib/python3.10/site-packages/pandas/core/frame.py:736\u001B[0m, in \u001B[0;36mDataFrame.__init__\u001B[0;34m(self, data, index, columns, dtype, copy)\u001B[0m\n\u001B[1;32m    730\u001B[0m     mgr \u001B[38;5;241m=\u001B[39m \u001B[38;5;28mself\u001B[39m\u001B[38;5;241m.\u001B[39m_init_mgr(\n\u001B[1;32m    731\u001B[0m         data, axes\u001B[38;5;241m=\u001B[39m{\u001B[38;5;124m\"\u001B[39m\u001B[38;5;124mindex\u001B[39m\u001B[38;5;124m\"\u001B[39m: index, \u001B[38;5;124m\"\u001B[39m\u001B[38;5;124mcolumns\u001B[39m\u001B[38;5;124m\"\u001B[39m: columns}, dtype\u001B[38;5;241m=\u001B[39mdtype, copy\u001B[38;5;241m=\u001B[39mcopy\n\u001B[1;32m    732\u001B[0m     )\n\u001B[1;32m    734\u001B[0m \u001B[38;5;28;01melif\u001B[39;00m \u001B[38;5;28misinstance\u001B[39m(data, \u001B[38;5;28mdict\u001B[39m):\n\u001B[1;32m    735\u001B[0m     \u001B[38;5;66;03m# GH#38939 de facto copy defaults to False only in non-dict cases\u001B[39;00m\n\u001B[0;32m--> 736\u001B[0m     mgr \u001B[38;5;241m=\u001B[39m \u001B[43mdict_to_mgr\u001B[49m\u001B[43m(\u001B[49m\u001B[43mdata\u001B[49m\u001B[43m,\u001B[49m\u001B[43m \u001B[49m\u001B[43mindex\u001B[49m\u001B[43m,\u001B[49m\u001B[43m \u001B[49m\u001B[43mcolumns\u001B[49m\u001B[43m,\u001B[49m\u001B[43m \u001B[49m\u001B[43mdtype\u001B[49m\u001B[38;5;241;43m=\u001B[39;49m\u001B[43mdtype\u001B[49m\u001B[43m,\u001B[49m\u001B[43m \u001B[49m\u001B[43mcopy\u001B[49m\u001B[38;5;241;43m=\u001B[39;49m\u001B[43mcopy\u001B[49m\u001B[43m,\u001B[49m\u001B[43m \u001B[49m\u001B[43mtyp\u001B[49m\u001B[38;5;241;43m=\u001B[39;49m\u001B[43mmanager\u001B[49m\u001B[43m)\u001B[49m\n\u001B[1;32m    737\u001B[0m \u001B[38;5;28;01melif\u001B[39;00m \u001B[38;5;28misinstance\u001B[39m(data, ma\u001B[38;5;241m.\u001B[39mMaskedArray):\n\u001B[1;32m    738\u001B[0m     \u001B[38;5;28;01mfrom\u001B[39;00m \u001B[38;5;21;01mnumpy\u001B[39;00m\u001B[38;5;21;01m.\u001B[39;00m\u001B[38;5;21;01mma\u001B[39;00m \u001B[38;5;28;01mimport\u001B[39;00m mrecords\n",
      "File \u001B[0;32m/opt/homebrew/lib/python3.10/site-packages/pandas/core/internals/construction.py:503\u001B[0m, in \u001B[0;36mdict_to_mgr\u001B[0;34m(data, index, columns, dtype, typ, copy)\u001B[0m\n\u001B[1;32m    499\u001B[0m     \u001B[38;5;28;01melse\u001B[39;00m:\n\u001B[1;32m    500\u001B[0m         \u001B[38;5;66;03m# dtype check to exclude e.g. range objects, scalars\u001B[39;00m\n\u001B[1;32m    501\u001B[0m         arrays \u001B[38;5;241m=\u001B[39m [x\u001B[38;5;241m.\u001B[39mcopy() \u001B[38;5;28;01mif\u001B[39;00m \u001B[38;5;28mhasattr\u001B[39m(x, \u001B[38;5;124m\"\u001B[39m\u001B[38;5;124mdtype\u001B[39m\u001B[38;5;124m\"\u001B[39m) \u001B[38;5;28;01melse\u001B[39;00m x \u001B[38;5;28;01mfor\u001B[39;00m x \u001B[38;5;129;01min\u001B[39;00m arrays]\n\u001B[0;32m--> 503\u001B[0m \u001B[38;5;28;01mreturn\u001B[39;00m \u001B[43marrays_to_mgr\u001B[49m\u001B[43m(\u001B[49m\u001B[43marrays\u001B[49m\u001B[43m,\u001B[49m\u001B[43m \u001B[49m\u001B[43mcolumns\u001B[49m\u001B[43m,\u001B[49m\u001B[43m \u001B[49m\u001B[43mindex\u001B[49m\u001B[43m,\u001B[49m\u001B[43m \u001B[49m\u001B[43mdtype\u001B[49m\u001B[38;5;241;43m=\u001B[39;49m\u001B[43mdtype\u001B[49m\u001B[43m,\u001B[49m\u001B[43m \u001B[49m\u001B[43mtyp\u001B[49m\u001B[38;5;241;43m=\u001B[39;49m\u001B[43mtyp\u001B[49m\u001B[43m,\u001B[49m\u001B[43m \u001B[49m\u001B[43mconsolidate\u001B[49m\u001B[38;5;241;43m=\u001B[39;49m\u001B[43mcopy\u001B[49m\u001B[43m)\u001B[49m\n",
      "File \u001B[0;32m/opt/homebrew/lib/python3.10/site-packages/pandas/core/internals/construction.py:114\u001B[0m, in \u001B[0;36marrays_to_mgr\u001B[0;34m(arrays, columns, index, dtype, verify_integrity, typ, consolidate)\u001B[0m\n\u001B[1;32m    111\u001B[0m \u001B[38;5;28;01mif\u001B[39;00m verify_integrity:\n\u001B[1;32m    112\u001B[0m     \u001B[38;5;66;03m# figure out the index, if necessary\u001B[39;00m\n\u001B[1;32m    113\u001B[0m     \u001B[38;5;28;01mif\u001B[39;00m index \u001B[38;5;129;01mis\u001B[39;00m \u001B[38;5;28;01mNone\u001B[39;00m:\n\u001B[0;32m--> 114\u001B[0m         index \u001B[38;5;241m=\u001B[39m \u001B[43m_extract_index\u001B[49m\u001B[43m(\u001B[49m\u001B[43marrays\u001B[49m\u001B[43m)\u001B[49m\n\u001B[1;32m    115\u001B[0m     \u001B[38;5;28;01melse\u001B[39;00m:\n\u001B[1;32m    116\u001B[0m         index \u001B[38;5;241m=\u001B[39m ensure_index(index)\n",
      "File \u001B[0;32m/opt/homebrew/lib/python3.10/site-packages/pandas/core/internals/construction.py:667\u001B[0m, in \u001B[0;36m_extract_index\u001B[0;34m(data)\u001B[0m\n\u001B[1;32m    664\u001B[0m         \u001B[38;5;28;01mraise\u001B[39;00m \u001B[38;5;167;01mValueError\u001B[39;00m(\u001B[38;5;124m\"\u001B[39m\u001B[38;5;124mPer-column arrays must each be 1-dimensional\u001B[39m\u001B[38;5;124m\"\u001B[39m)\n\u001B[1;32m    666\u001B[0m \u001B[38;5;28;01mif\u001B[39;00m \u001B[38;5;129;01mnot\u001B[39;00m indexes \u001B[38;5;129;01mand\u001B[39;00m \u001B[38;5;129;01mnot\u001B[39;00m raw_lengths:\n\u001B[0;32m--> 667\u001B[0m     \u001B[38;5;28;01mraise\u001B[39;00m \u001B[38;5;167;01mValueError\u001B[39;00m(\u001B[38;5;124m\"\u001B[39m\u001B[38;5;124mIf using all scalar values, you must pass an index\u001B[39m\u001B[38;5;124m\"\u001B[39m)\n\u001B[1;32m    669\u001B[0m \u001B[38;5;28;01mif\u001B[39;00m have_series:\n\u001B[1;32m    670\u001B[0m     index \u001B[38;5;241m=\u001B[39m union_indexes(indexes)\n",
      "\u001B[0;31mValueError\u001B[0m: If using all scalar values, you must pass an index"
     ]
    }
   ],
   "source": [
    "pd.DataFrame({\n",
    "    'title_ko' : title_ko,\n",
    "    'mainpageurl' : mainpageurl\n",
    "})"
   ]
  },
  {
   "cell_type": "code",
   "execution_count": 43,
   "id": "1d4eb6b5-95fe-47a6-9fbd-bcb523f0658e",
   "metadata": {
    "tags": [],
    "pycharm": {
     "name": "#%%\n"
    }
   },
   "outputs": [
    {
     "data": {
      "text/plain": [
       "<selenium.webdriver.remote.webelement.WebElement (session=\"beaa1e5540e9447ecab7ea52ae849ffc\", element=\"9F133918A08B6B00E60D04126BC44D78_element_1492\")>"
      ]
     },
     "execution_count": 43,
     "metadata": {},
     "output_type": "execute_result"
    }
   ],
   "source": [
    "movie"
   ]
  },
  {
   "cell_type": "code",
   "execution_count": 41,
   "id": "eec38935-6ac1-4779-9bec-f5992686baf1",
   "metadata": {
    "tags": [],
    "pycharm": {
     "name": "#%%\n"
    }
   },
   "outputs": [
    {
     "data": {
      "text/html": [
       "<div>\n",
       "<style scoped>\n",
       "    .dataframe tbody tr th:only-of-type {\n",
       "        vertical-align: middle;\n",
       "    }\n",
       "\n",
       "    .dataframe tbody tr th {\n",
       "        vertical-align: top;\n",
       "    }\n",
       "\n",
       "    .dataframe thead th {\n",
       "        text-align: right;\n",
       "    }\n",
       "</style>\n",
       "<table border=\"1\" class=\"dataframe\">\n",
       "  <thead>\n",
       "    <tr style=\"text-align: right;\">\n",
       "      <th></th>\n",
       "    </tr>\n",
       "  </thead>\n",
       "  <tbody>\n",
       "  </tbody>\n",
       "</table>\n",
       "</div>"
      ],
      "text/plain": [
       "Empty DataFrame\n",
       "Columns: []\n",
       "Index: []"
      ]
     },
     "execution_count": 41,
     "metadata": {},
     "output_type": "execute_result"
    }
   ],
   "source": [
    "movies"
   ]
  },
  {
   "cell_type": "code",
   "execution_count": 44,
   "id": "e4cc5e2f-d3fa-4820-ab0a-b98efdcc3452",
   "metadata": {
    "tags": [],
    "pycharm": {
     "name": "#%%\n"
    }
   },
   "outputs": [],
   "source": [
    "a_title = movie.find_element(By.CSS_SELECTOR, 'div > div.thumb_cont > strong > a')"
   ]
  },
  {
   "cell_type": "code",
   "execution_count": 47,
   "id": "d7bdc546-4d1b-4d11-a0c0-938d85556731",
   "metadata": {
    "tags": [],
    "pycharm": {
     "name": "#%%\n"
    }
   },
   "outputs": [],
   "source": [
    "mainpage = a_title.get_attribute('href')"
   ]
  },
  {
   "cell_type": "code",
   "execution_count": 48,
   "id": "8dd79e8c-3108-44e2-8867-adad7886dcc1",
   "metadata": {
    "tags": [],
    "pycharm": {
     "name": "#%%\n"
    }
   },
   "outputs": [],
   "source": [
    "title_ko = a_title.get_attribute('text')"
   ]
  },
  {
   "cell_type": "code",
   "execution_count": null,
   "id": "bcf62573-5bf4-4c4c-8895-281bde41b327",
   "metadata": {
    "pycharm": {
     "name": "#%%\n"
    }
   },
   "outputs": [],
   "source": []
  },
  {
   "cell_type": "code",
   "execution_count": null,
   "id": "66047d85-e4fd-4918-b926-9141eebeb55f",
   "metadata": {
    "pycharm": {
     "name": "#%%\n"
    }
   },
   "outputs": [],
   "source": []
  },
  {
   "cell_type": "code",
   "execution_count": 4,
   "id": "a15b702b-58a5-4109-89ab-65a093e2c1bf",
   "metadata": {
    "tags": [],
    "pycharm": {
     "name": "#%%\n"
    }
   },
   "outputs": [],
   "source": [
    "driver.get('https://movie.daum.net/ranking/boxoffice/weekly?date=20040101')"
   ]
  },
  {
   "cell_type": "code",
   "execution_count": null,
   "id": "7617e9d1-72f8-4775-a33f-db6b48313562",
   "metadata": {
    "pycharm": {
     "name": "#%%\n"
    }
   },
   "outputs": [],
   "source": [
    "# 일단 영화 url 다 받아오기. 영화제목, 영화 메인페이지"
   ]
  },
  {
   "cell_type": "code",
   "execution_count": 10,
   "id": "a5e8f5b7-ddb5-4872-b494-d302e232b1b1",
   "metadata": {
    "tags": [],
    "pycharm": {
     "name": "#%%\n"
    }
   },
   "outputs": [],
   "source": [
    "week_movies_lst = driver.find_elements(By.CSS_SELECTOR, '#mainContent > div > div.box_boxoffice > ol > li')"
   ]
  },
  {
   "cell_type": "code",
   "execution_count": 15,
   "id": "464c4c5a-d3eb-4bfd-ac6a-1e8dde036a2a",
   "metadata": {
    "tags": [],
    "pycharm": {
     "name": "#%%\n"
    }
   },
   "outputs": [],
   "source": [
    "title = week_movies_lst[0].find_element(By.CSS_SELECTOR, 'div > div.thumb_cont > strong > a')"
   ]
  },
  {
   "cell_type": "code",
   "execution_count": 16,
   "id": "524cee8e-0953-4755-bd6b-633806b73b5f",
   "metadata": {
    "tags": [],
    "pycharm": {
     "name": "#%%\n"
    }
   },
   "outputs": [
    {
     "data": {
      "text/plain": [
       "'https://movie.daum.net/moviedb/main?movieId=34452'"
      ]
     },
     "execution_count": 16,
     "metadata": {},
     "output_type": "execute_result"
    }
   ],
   "source": [
    "title.get_attribute('href')"
   ]
  },
  {
   "cell_type": "code",
   "execution_count": 17,
   "id": "24cd166c-d227-4d86-b76c-a5b32bfab633",
   "metadata": {
    "tags": [],
    "pycharm": {
     "name": "#%%\n"
    }
   },
   "outputs": [
    {
     "data": {
      "text/plain": [
       "'실미도'"
      ]
     },
     "execution_count": 17,
     "metadata": {},
     "output_type": "execute_result"
    }
   ],
   "source": [
    "title.get_attribute('text')"
   ]
  },
  {
   "cell_type": "code",
   "execution_count": null,
   "id": "22275f14-4ede-45ad-bb75-a336b22283ac",
   "metadata": {
    "pycharm": {
     "name": "#%%\n"
    }
   },
   "outputs": [],
   "source": [
    "#mainContent > div > div.box_boxoffice > ol > li:nth-child(9) > div > div.thumb_cont > strong > a"
   ]
  },
  {
   "cell_type": "code",
   "execution_count": null,
   "id": "48d37697-a3d6-4c90-92bc-53211a9fe21f",
   "metadata": {
    "pycharm": {
     "name": "#%%\n"
    }
   },
   "outputs": [],
   "source": []
  },
  {
   "cell_type": "code",
   "execution_count": null,
   "id": "8a833b65-5fa8-41a1-8287-f7364810ffc3",
   "metadata": {
    "pycharm": {
     "name": "#%%\n"
    }
   },
   "outputs": [],
   "source": []
  },
  {
   "cell_type": "code",
   "execution_count": null,
   "id": "fbf803ed-4398-4eb9-ae91-72238ed0468e",
   "metadata": {
    "pycharm": {
     "name": "#%%\n"
    }
   },
   "outputs": [],
   "source": []
  },
  {
   "cell_type": "code",
   "execution_count": null,
   "id": "8b0b8ef8-7e2e-4347-ba22-020de5d12fcb",
   "metadata": {
    "pycharm": {
     "name": "#%%\n"
    }
   },
   "outputs": [],
   "source": []
  },
  {
   "cell_type": "code",
   "execution_count": null,
   "id": "390dbfee-efc0-48c9-97c4-c9543311c942",
   "metadata": {
    "pycharm": {
     "name": "#%%\n"
    }
   },
   "outputs": [],
   "source": []
  },
  {
   "cell_type": "code",
   "execution_count": null,
   "id": "c887dbf4-177f-4b05-95a3-04a2bf335696",
   "metadata": {
    "pycharm": {
     "name": "#%%\n"
    }
   },
   "outputs": [],
   "source": []
  },
  {
   "cell_type": "markdown",
   "id": "8038cebf-b48a-4346-9e56-215a1f91ed8e",
   "metadata": {
    "pycharm": {
     "name": "#%% md\n"
    }
   },
   "source": [
    "# beautifulsoup"
   ]
  },
  {
   "cell_type": "code",
   "execution_count": 1,
   "id": "c099bace-10cf-402c-afcf-9c8aef3b8faa",
   "metadata": {
    "tags": [],
    "pycharm": {
     "name": "#%%\n"
    }
   },
   "outputs": [],
   "source": [
    "from bs4 import BeautifulSoup\n",
    "from urllib.robotparser import RobotFileParser\n",
    "from requests.compat import urlparse, urljoin\n",
    "from urllib.request import urlopen, Request\n",
    "import requests\n",
    "from requests.exceptions import HTTPError\n",
    "import time\n",
    "import re"
   ]
  },
  {
   "cell_type": "code",
   "execution_count": 2,
   "id": "083d549c-9662-4fde-a9ee-b76b1b584c38",
   "metadata": {
    "tags": [],
    "pycharm": {
     "name": "#%%\n"
    }
   },
   "outputs": [],
   "source": [
    "def canfetch(url, agent='*', path='/'):\n",
    "    robot = RobotFileParser(urljoin(url, '/robots.txt'))\n",
    "    robot.read()\n",
    "    return robot.can_fetch(agent, urlparse(url)[2])\n",
    "\n",
    "\n",
    "def download(url, params={}, headers={}, method='GET', limit=3):\n",
    "    if canfetch(url) is False:\n",
    "        print('[Error] ' + url)\n",
    "#     else:\n",
    "    try:\n",
    "        resp = requests.request(method,\n",
    "                                url,\n",
    "                                params=params if method == 'GET' else {},\n",
    "                                data=params if method == 'POST' else {},\n",
    "                                headers=headers)\n",
    "        resp.raise_for_status()\n",
    "    except HTTPError as e:\n",
    "        if limit > 0 and e.response.status_code >= 500:\n",
    "            print(limit)\n",
    "            time.sleep(1)  # => random\n",
    "            resp = download(url, params, headers, method, limit-1)\n",
    "        else:\n",
    "            print('[{}] '.format(e.response.status_code) + url)\n",
    "            print(e.response.status_code)\n",
    "            print(e.response.reason)\n",
    "            print(e.response.headers)\n",
    "    return resp"
   ]
  },
  {
   "cell_type": "code",
   "execution_count": 5,
   "id": "e1f33b8f-8b3c-45c4-8007-16d876a7ce84",
   "metadata": {
    "tags": [],
    "pycharm": {
     "name": "#%%\n"
    }
   },
   "outputs": [],
   "source": [
    "url = 'https://movie.daum.net/ranking/boxoffice/yearly?date=2021'\n",
    "resp = download(url)\n",
    "dom = BeautifulSoup(resp.content, 'html.parser')"
   ]
  },
  {
   "cell_type": "code",
   "execution_count": 6,
   "id": "0d4eb9b7-1113-41bd-b7ab-08b318f531c7",
   "metadata": {
    "tags": [],
    "pycharm": {
     "name": "#%%\n"
    }
   },
   "outputs": [
    {
     "ename": "NameError",
     "evalue": "name 'atag' is not defined",
     "output_type": "error",
     "traceback": [
      "\u001B[0;31m---------------------------------------------------------------------------\u001B[0m",
      "\u001B[0;31mNameError\u001B[0m                                 Traceback (most recent call last)",
      "Cell \u001B[0;32mIn[6], line 1\u001B[0m\n\u001B[0;32m----> 1\u001B[0m \u001B[43matag\u001B[49m\u001B[38;5;241m.\u001B[39mname\n",
      "\u001B[0;31mNameError\u001B[0m: name 'atag' is not defined"
     ]
    }
   ],
   "source": [
    "atag.name"
   ]
  },
  {
   "cell_type": "code",
   "execution_count": 37,
   "id": "b0acb9e9-4cce-4b85-bf75-02489b3b54d1",
   "metadata": {
    "tags": [],
    "pycharm": {
     "name": "#%%\n"
    }
   },
   "outputs": [
    {
     "data": {
      "text/plain": [
       "{'href': '/contents/news',\n",
       " 'class': ['link_txt'],\n",
       " 'data-tiara-layer': 'contents'}"
      ]
     },
     "execution_count": 37,
     "metadata": {},
     "output_type": "execute_result"
    }
   ],
   "source": [
    "atag.attrs\n"
   ]
  },
  {
   "cell_type": "code",
   "execution_count": 34,
   "id": "44602dfa-8fbd-4ba5-a4fe-9389a15f263a",
   "metadata": {
    "tags": [],
    "pycharm": {
     "name": "#%%\n"
    }
   },
   "outputs": [
    {
     "data": {
      "text/plain": [
       "'/contents/news'"
      ]
     },
     "execution_count": 34,
     "metadata": {},
     "output_type": "execute_result"
    }
   ],
   "source": [
    "atag['href']"
   ]
  },
  {
   "cell_type": "code",
   "execution_count": 8,
   "id": "0ca09a80-88c1-45df-93c2-726081ac6738",
   "metadata": {
    "tags": [],
    "pycharm": {
     "name": "#%%\n"
    }
   },
   "outputs": [],
   "source": [
    "url = 'https://movie.daum.net/moviedb/grade?movieId=122749'\n",
    "resp = download(url)\n",
    "dom = BeautifulSoup(resp.content, 'html.parser')"
   ]
  },
  {
   "cell_type": "code",
   "execution_count": 9,
   "id": "dc95133b-6239-45c6-847d-f990e913074a",
   "metadata": {
    "tags": [],
    "pycharm": {
     "name": "#%%\n"
    }
   },
   "outputs": [
    {
     "data": {
      "text/plain": [
       "<!DOCTYPE html>\n",
       "\n",
       "<html lang=\"ko\">\n",
       "<head>\n",
       "<meta charset=\"utf-8\"/>\n",
       "<title>범죄도시2 | 다음영화</title>\n",
       "<link href=\"//m2.daumcdn.net/img-media/2010ci/Daum_favicon.ico\" rel=\"shortcut icon\"/>\n",
       "<link href=\"//t1.daumcdn.net/media/kraken/movie/8c9a93d/PcCommonCssBundle.merged.css\" rel=\"stylesheet\" type=\"text/css\">\n",
       "<script src=\"//t1.daumcdn.net/media/kraken/movie/8c9a93d/common.merged.js\"></script>\n",
       "<script src=\"//t1.daumcdn.net/media/kraken/movie/8c9a93d/PcCommonScriptBundle.merged.js\"></script>\n",
       "<script src=\"//t1.daumcdn.net/cssjs/movie/v2/amchart/amcharts.js\"></script>\n",
       "<script src=\"//t1.daumcdn.net/cssjs/movie/v2/amchart/serial.js\"></script>\n",
       "<meta content=\"다음영화\" property=\"og:author\">\n",
       "<meta content=\"다음영화\" property=\"og:site_name\"/>\n",
       "<meta content=\"범죄도시2\" property=\"og:title\"/>\n",
       "<meta content=\"https://t1.daumcdn.net/movie/3f7e3035989e7918c6426e541c864d0d8a295de2\" property=\"og:image\"/>\n",
       "<meta content=\"Daum영화에서 자세한 내용을 확인하세요!\" property=\"og:description\"/>\n",
       "</meta></link></head>\n",
       "<body class=\"\">\n",
       "<div class=\"direct-link\">\n",
       "<a href=\"#mainContent\">본문 바로가기</a>\n",
       "<a href=\"#gnbContent\">메뉴 바로가기</a>\n",
       "</div>\n",
       "<div class=\"kakao_wrap detail_type\">\n",
       "<header class=\"kakao_head\" data-tiara-layer=\"gnb\">\n",
       "<div class=\"kakaohead_top\">\n",
       "<div class=\"inner_head\" data-tiara-layer=\"service\">\n",
       "<h1 class=\"tit_daum\">\n",
       "<a class=\"link_daum\" data-tiara-layer=\"logo\" href=\"https://daum.net\"><img alt=\"Daum\" class=\"logo_daum\" height=\"18\" src=\"https://t1.daumcdn.net/movie/movie2020/pc/rtn/logo_daum.png\" width=\"44\"/></a>\n",
       "<a class=\"tit_service\" data-tiara-layer=\"movie\" href=\"/main\"><span class=\"ir_wa\">영화</span></a>\n",
       "</h1>\n",
       "<strong class=\"screen_out\">관련 서비스</strong>\n",
       "<ul class=\"list_relservice\">\n",
       "<li>\n",
       "<a class=\"link_relservice\" data-tiara-layer=\"news\" href=\"https://news.daum.net\">뉴스</a>\n",
       "</li>\n",
       "<li>\n",
       "<a class=\"link_relservice\" data-tiara-layer=\"enter\" href=\"https://entertain.daum.net\">연예</a>\n",
       "</li>\n",
       "<li>\n",
       "<a class=\"link_relservice\" data-tiara-layer=\"sports\" href=\"https://sports.daum.net\">스포츠</a>\n",
       "</li>\n",
       "<li>\n",
       "<a class=\"link_relservice\" data-tiara-layer=\"car\" href=\"https://auto.daum.net\">자동차</a>\n",
       "</li>\n",
       "</ul>\n",
       "</div>\n",
       "</div>\n",
       "<div id=\"wrapMinidaum\"></div>\n",
       "<script type=\"text/javascript\">\n",
       "        var minidaum_options = {\n",
       "            // background 타입 지정 관련 옵션. default: white.\n",
       "            bgType: \"white\", // white, dark, custom(no background)\n",
       "\n",
       "\n",
       "            // logout 시 return url 변경 여부 flag : default: false - 다음탑으로 이동\n",
       "            enableLogoutRetun: true, // false - 다음탑으로 이동, true - 현재페이지 혹은 returnUrl 값으로 이동\n",
       "            returnUrl: '', // default - 현재페이지(window.location.href)\n",
       "\n",
       "\n",
       "            // 실시간 이슈 사용 여부, default: false\n",
       "            disableHotissue: true, // false일 경우 사용, true일 경우 미사용\n",
       "\n",
       "            // 로고 사용 여부, default: false\n",
       "            disableLogo: true, // false일 경우 사용, true일 경우 미사용\n",
       "\n",
       "            // 티아라 사용 여부, default: false\n",
       "            disableTracker: false, // false일 경우 사용, true일 경우 미사용\n",
       "\n",
       "            // 플래시에 의한 레이어 가림 현상 방지 사용 여부, default: false\n",
       "            enableShield: false // false일 경우 미사용, true일 경우 사용\n",
       "        }\n",
       "    </script>\n",
       "<script charset=\"utf-8\" src=\"https://go.daum.net/minidaum_pc.daum\" type=\"text/javascript\"></script>\n",
       "<div class=\"kakaohead_menu\">\n",
       "<div class=\"inner_head\">\n",
       "<nav class=\"gnb_movie\" id=\"gnbContent\">\n",
       "<h2 class=\"screen_out\">영화 메인메뉴</h2>\n",
       "<ul data-tiara-layer=\"tab\">\n",
       "<li class=\"home\">\n",
       "<a class=\"link_gnb\" data-tiara-layer=\"home\" href=\"/main\">홈</a>\n",
       "</li>\n",
       "<li class=\"ranking\">\n",
       "<a class=\"link_gnb\" data-tiara-layer=\"ranking\" href=\"/ranking/reservation\">랭킹</a>\n",
       "<ul class=\"list_subgnb\">\n",
       "<li><a class=\"link_subgnb\" data-tiara-layer=\"reserve\" href=\"/ranking/reservation\">예매순위</a></li>\n",
       "<li><a class=\"link_subgnb\" data-tiara-layer=\"boxoffice\" href=\"/ranking/boxoffice/weekly\">박스오피스</a></li>\n",
       "<li><a class=\"link_subgnb\" data-tiara-layer=\"ott\" href=\"/ranking/ott\">OTT</a></li>\n",
       "</ul>\n",
       "</li>\n",
       "<li class=\"premovie\">\n",
       "<a class=\"link_gnb\" data-tiara-layer=\"premovie\" href=\"/premovie/theater\">상영/예정작</a>\n",
       "<ul class=\"list_subgnb\">\n",
       "<li><a class=\"link_subgnb\" data-tiara-layer=\"theater\" href=\"/premovie/theater\">영화관</a></li>\n",
       "<li><a class=\"link_subgnb\" data-tiara-layer=\"netflix\" href=\"/premovie/netflix\">넷플릭스</a></li>\n",
       "<li><a class=\"link_subgnb\" data-tiara-layer=\"watcha\" href=\"/premovie/watcha\">왓챠</a></li>\n",
       "</ul>\n",
       "</li>\n",
       "<li class=\"contents\">\n",
       "<a class=\"link_gnb\" data-tiara-layer=\"contents\" href=\"/contents/news\">콘텐츠</a>\n",
       "<ul class=\"list_subgnb\">\n",
       "<li><a class=\"link_subgnb\" data-tiara-layer=\"news\" href=\"/contents/news\">영화 뉴스</a></li>\n",
       "<li><a class=\"link_subgnb\" data-tiara-layer=\"1boon\" href=\"/contents/1boon\">매거진</a></li>\n",
       "<li><a class=\"link_subgnb\" data-tiara-layer=\"brunch\" href=\"/contents/brunch\">브런치스토리</a></li>\n",
       "</ul>\n",
       "</li>\n",
       "</ul>\n",
       "</nav>\n",
       "<a class=\"link_search\" href=\"javascript:\">\n",
       "<span class=\"ico_movie ico_search\">검색하기</span>\n",
       "</a>\n",
       "<div class=\"moviesearch_wrap\">\n",
       "<h2 class=\"screen_out\">검색</h2>\n",
       "<form action=\"\" class=\"d_sch\" role=\"search\">\n",
       "<fieldset class=\"fld_sch\">\n",
       "<legend class=\"screen_out\">검색어 입력폼</legend>\n",
       "<div class=\"box_search\" data-tiara-layer=\"service search\">\n",
       "<input autocapitalize=\"off\" autocomplete=\"off\" autocorrect=\"off\" class=\"tf_keyword\" name=\"q\" placeholder=\"영화, 인물 검색\" spellcheck=\"false\" title=\"검색어 입력\" type=\"input\" value=\"\"/>\n",
       "<button class=\"btn_search\" type=\"button\"><span class=\"ico_movie ico_search\">검색</span></button>\n",
       "</div>\n",
       "</fieldset>\n",
       "</form>\n",
       "<div class=\"suggest_layer\">\n",
       "</div>\n",
       "</div>\n",
       "</div>\n",
       "</div>\n",
       "</header>\n",
       "<hr class=\"hide\"/>\n",
       "<main class=\"kakao_content\">\n",
       "<article class=\"kakao_article\" id=\"mainContent\">\n",
       "<h2 class=\"screen_out\">영화 상세 본문</h2>\n",
       "<div class=\"section_detail\">\n",
       "<!-- 상세상단 기본정보 -->\n",
       "<div class=\"box_basic\" data-tiara-layer=\"main\">\n",
       "<div class=\"info_poster\">\n",
       "<a class=\"thumb_img\" data-tiara-copy=\"메인_포스터\" data-tiara-layer=\"poster\" href=\"#photoId=1470666\">\n",
       "<span class=\"bg_img\" style=\"background-image:url(https://img1.daumcdn.net/thumb/C408x596/?fname=https%3A%2F%2Ft1.daumcdn.net%2Fmovie%2F3f7e3035989e7918c6426e541c864d0d8a295de2)\"></span>\n",
       "<span class=\"ico_movie ico_zoom\"></span>\n",
       "</a>\n",
       "</div>\n",
       "<div class=\"info_detail\">\n",
       "<div class=\"detail_tit\">\n",
       "<div aria-hidden=\"true\" class=\"detail_tit_fixed\">\n",
       "<div class=\"inner_tit\">\n",
       "<span class=\"txt_tit\">범죄도시2</span>\n",
       "</div>\n",
       "</div>\n",
       "<h3 class=\"tit_movie\">\n",
       "<span class=\"txt_tit\">\n",
       "                    범죄도시2\n",
       "                </span>\n",
       "<span class=\"txt_tag\">\n",
       "</span>\n",
       "</h3>\n",
       "<div class=\"head_origin\">\n",
       "<span class=\"txt_name\">The Roundup, 2022</span>\n",
       "<a class=\"ico_movie link_originmore\" href=\"javascript:\">원문 더보기</a>\n",
       "<div class=\"tooltip_origin\">\n",
       "<p class=\"txt_tooltip\">The Roundup, 2022</p>\n",
       "<a class=\"ico_movie link_close\" href=\"javascript:\">닫기</a>\n",
       "</div>\n",
       "</div>\n",
       "<input id=\"releaseFlag\" type=\"hidden\" value=\"N\">\n",
       "</input></div>\n",
       "<div class=\"detail_cont\">\n",
       "<div class=\"inner_cont\">\n",
       "<dl class=\"list_cont\">\n",
       "<dt>개봉</dt>\n",
       "<dd>2022.05.18</dd>\n",
       "</dl>\n",
       "<dl class=\"list_cont\">\n",
       "<dt>장르</dt>\n",
       "<dd>범죄/액션</dd>\n",
       "</dl>\n",
       "<dl class=\"list_cont\">\n",
       "<dt>국가</dt>\n",
       "<dd>한국</dd>\n",
       "</dl>\n",
       "<dl class=\"list_cont\">\n",
       "<dt>등급</dt>\n",
       "<dd>\n",
       "                            15세이상관람가\n",
       "                        </dd>\n",
       "</dl>\n",
       "<dl class=\"list_cont\">\n",
       "<dt>러닝타임</dt>\n",
       "<dd>\n",
       "                        106분\n",
       "                    </dd>\n",
       "</dl>\n",
       "</div>\n",
       "<div class=\"inner_cont\">\n",
       "<dl class=\"list_cont\">\n",
       "<dt>평점</dt>\n",
       "<dd><span class=\"ico_movie ico_star\"></span>8.0</dd>\n",
       "</dl>\n",
       "<dl class=\"list_cont\">\n",
       "<dt>누적관객</dt>\n",
       "<dd>12,693,415명</dd>\n",
       "</dl>\n",
       "<dl class=\"list_cont\">\n",
       "<dt>수상내역</dt>\n",
       "<dd>\n",
       "<a class=\"link_txt\" data-tiara-copy=\"메인_수상내역\" data-tiara-layer=\"award\" href=\"/filmfest/awards?filmfestId=110&amp;evtId=4008\">42회 황금촬영상, 2022</a>\n",
       "</dd>\n",
       "</dl>\n",
       "</div>\n",
       "</div>\n",
       "</div>\n",
       "<div class=\"util_socialchare\">\n",
       "<button class=\"btn_share\" id=\"rSocialShareButton1\">\n",
       "<span class=\"ico_movie ico_share\">공유목록 펼치기</span>\n",
       "</button>\n",
       "<div id=\"rSocialShareLayerContainer1\"></div>\n",
       "</div>\n",
       "</div>\n",
       "<!-- 상세하단 -->\n",
       "<div class=\"box_detailinfo\">\n",
       "<!-- 탭메뉴 -->\n",
       "<div class=\"tabmenu_wrap\">\n",
       "<strong class=\"screen_out\">영화제 탭메뉴</strong>\n",
       "<ul class=\"list_tabmenu\" data-tiara-layer=\"tab\" role=\"tablist\">\n",
       "<li role=\"presentation\"><!-- 선택시 on 클래스 추가 -->\n",
       "<a aria-selected=\"false\" class=\"link_tabmenu\" data-tiara-copy=\"탭_주요정보\" data-tiara-layer=\"menu\" href=\"/moviedb/main?movieId=122749\" role=\"tab\">\n",
       "<span class=\"txt_tabmenu\">주요정보</span>\n",
       "</a>\n",
       "</li>\n",
       "<li role=\"presentation\">\n",
       "<a aria-selected=\"false\" class=\"link_tabmenu\" data-tiara-copy=\"탭_출연/제작\" data-tiara-layer=\"crew\" href=\"/moviedb/crew?movieId=122749\" role=\"tab\">\n",
       "<span class=\"txt_tabmenu\">출연/제작</span>\n",
       "</a>\n",
       "</li>\n",
       "<li role=\"presentation\">\n",
       "<a aria-selected=\"false\" class=\"link_tabmenu\" data-tiara-copy=\"탭_영상/포토\" data-tiara-layer=\"media\" href=\"/moviedb/contents?movieId=122749\" role=\"tab\">\n",
       "<span class=\"txt_tabmenu\">영상/포토</span>\n",
       "</a>\n",
       "</li>\n",
       "<li role=\"presentation\">\n",
       "<a aria-selected=\"false\" class=\"link_tabmenu\" data-tiara-copy=\"탭_평점\" data-tiara-layer=\"grade\" href=\"/moviedb/grade?movieId=122749\" role=\"tab\">\n",
       "<span class=\"txt_tabmenu\">평점</span>\n",
       "</a>\n",
       "</li>\n",
       "</ul>\n",
       "</div> <div class=\"contents\"></div>\n",
       "</div>\n",
       "</div>\n",
       "</article> </main>\n",
       "<hr class=\"hide\"/>\n",
       "<footer class=\"kakao_foot\" data-tiara-layer=\"footer\">\n",
       "<div class=\"inner_foot\" data-cloud=\"pc_news_footer\">\n",
       "<div class=\"direct_link\">\n",
       "<h2 class=\"screen_out\">바로가기</h2>\n",
       "<div class=\"direct_bundle\">\n",
       "<div class=\"item_bundle\">\n",
       "<a class=\"link_txt\" data-tiara-layer=\"home\" href=\"/main\">홈</a>\n",
       "</div>\n",
       "<div class=\"item_bundle\">\n",
       "<a class=\"link_txt\" data-tiara-layer=\"ranking\" href=\"/ranking/reservation\">랭킹</a>\n",
       "</div>\n",
       "<div class=\"item_bundle\">\n",
       "<a class=\"link_txt\" data-tiara-layer=\"premovie\" href=\"/premovie/theater\">상영예정작</a>\n",
       "</div>\n",
       "<div class=\"item_bundle\">\n",
       "<a class=\"link_txt\" data-tiara-layer=\"contents\" href=\"/contents/news\">콘텐츠</a>\n",
       "</div>\n",
       "</div>\n",
       "</div>\n",
       "<h2 class=\"screen_out\">서비스 이용정보</h2>\n",
       "<div class=\"footer_link\">\n",
       "<a class=\"link_info\" data-tiara-layer=\"info_daumnews\" href=\"//news.daum.net/info/intro\">다음뉴스 소개</a>\n",
       "<a class=\"link_info\" data-tiara-layer=\"notice\" href=\"https://magazine.daum.net/daummovie_notice\">공지사항</a>\n",
       "<a class=\"link_info\" data-tiara-layer=\"bbsrule\" href=\"//news.daum.net/info/bbsrule\">게시물 운영원칙</a>\n",
       "<a class=\"link_info\" data-tiara-layer=\"policy\" href=\"//policy.daum.net/info/info\">서비스 약관/정책</a>\n",
       "<a class=\"link_info\" data-tiara-layer=\"harmony\" href=\"//with.kakao.com/media\">뉴스제휴</a>\n",
       "<a class=\"link_info\" data-tiara-layer=\"adinfo\" href=\"//business.kakao.com/\">비즈니스</a>\n",
       "<a class=\"link_info\" data-tiara-layer=\"redbell\" href=\"//cs.daum.net/redbell/top.html\">권리침해신고</a>\n",
       "<a class=\"link_info\" data-tiara-layer=\"movie_consumer\" href=\"//cs.daum.net/faq/32.html\">영화 고객센터</a>\n",
       "</div>\n",
       "<div class=\"footer_link\">\n",
       "<a class=\"link_info\" data-tiara-layer=\"newscenter\" href=\"//news.daum.net/info/newscenter24\">24시간 뉴스센터</a>\n",
       "<a class=\"link_info\" data-tiara-layer=\"principle\" href=\"//news.daum.net/info/edit\">서비스원칙</a>\n",
       "<span class=\"link_info\">기사배열책임자 : 황유지</span>\n",
       "<span class=\"link_info\">청소년보호책임자 : 손성희</span>\n",
       "</div>\n",
       "<div class=\"info_copyright\">\n",
       "<strong class=\"info_warn\">위 내용에 대한 저작권 및 법적 책임은 자료제공사 또는 <br/>글쓴이에 있으며, Kakao의 입장과 다를 수 있습니다.</strong>\n",
       "<small class=\"txt_copyright\">Copyright © <a class=\"link_kakao\" href=\"http://www.kakaocorp.com/\">Kakao Corp.</a> All rights reserved.</small>\n",
       "</div>\n",
       "<a class=\"btn_top\" data-tiara-layer=\"top_button\" href=\"javascript:\"><span class=\"inner_top\"><span class=\"ico_movie ico_top\"></span></span>TOP</a>\n",
       "</div>\n",
       "</footer>\n",
       "<script src=\"//t1.daumcdn.net/media/kraken/movie/8c9a93d/PcMoviedbRouterBundle.merged.js\"></script>\n",
       "<script src=\"//t1.daumcdn.net/media/kraken/movie/8c9a93d/PcCommonEventBundle.merged.js\"></script> </div>\n",
       "<div class=\"photoview_layer\" data-tiara-layer=\"photo list photoviewer\">\n",
       "<div class=\"inner_layer\">\n",
       "<div class=\"layer_head\">\n",
       "<div class=\"tit_group\">\n",
       "<strong class=\"tit_photoview\">\n",
       "<a class=\"link_phototit\" href=\"#none\"></a>\n",
       "</strong>\n",
       "<span class=\"info_page\">\n",
       "<span class=\"screen_out\">현재 페이지</span>\n",
       "<span class=\"txt_page\">/</span>\n",
       "<span class=\"screen_out\">총 페이지</span>\n",
       "</span>\n",
       "</div>\n",
       "<div class=\"btn_group\">\n",
       "<a class=\"link_listview\" href=\"#none\">\n",
       "<span class=\"ico_movie ico_listview\">리스트 보기</span>\n",
       "</a>\n",
       "<a class=\"link_photoviewer\" href=\"#none\">\n",
       "<span class=\"ico_movie ico_photoviewer\">포토뷰어 보기</span>\n",
       "</a>\n",
       "<a class=\"link_close\" href=\"#none\">\n",
       "<span class=\"ico_movie ico_close\">닫기</span>\n",
       "</a>\n",
       "</div>\n",
       "</div>\n",
       "<div class=\"layer_body\">\n",
       "<div class=\"slide_photoview\">\n",
       "<div class=\"slide_wrap wrap_photolist\">\n",
       "<div class=\"list_photolist\">\n",
       "</div>\n",
       "</div>\n",
       "<div class=\"slide_wrap wrap_photoview\">\n",
       "<ul class=\"list_photoview\">\n",
       "</ul>\n",
       "</div>\n",
       "<button class=\"btn_slide btn_prev\" type=\"button\"><span class=\"ico_movie\">이전</span></button>\n",
       "<button class=\"btn_slide btn_next\" type=\"button\"><span class=\"ico_movie\">다음</span></button>\n",
       "</div>\n",
       "</div>\n",
       "<div class=\"layer_foot\">\n",
       "</div>\n",
       "</div>\n",
       "</div>\n",
       "<script src=\"//t1.daumcdn.net/media/kraken/movie/8c9a93d/PcPhotoViewerBundle.merged.js\"></script>\n",
       "</body>\n",
       "</html>"
      ]
     },
     "execution_count": 9,
     "metadata": {},
     "output_type": "execute_result"
    }
   ],
   "source": [
    "dom"
   ]
  },
  {
   "cell_type": "code",
   "execution_count": 7,
   "id": "5bb247a5-60a4-4773-8b23-1d8e19041f5c",
   "metadata": {
    "tags": [],
    "pycharm": {
     "name": "#%%\n"
    }
   },
   "outputs": [
    {
     "name": "stdout",
     "output_type": "stream",
     "text": [
      "스파이더맨: 노 웨이 홈 : /moviedb/main?movieId=146656\n",
      "모가디슈 : /moviedb/main?movieId=132564\n",
      "이터널스 : /moviedb/main?movieId=130908\n",
      "블랙 위도우 : /moviedb/main?movieId=123215\n",
      "분노의 질주: 더 얼티메이트 : /moviedb/main?movieId=129101\n",
      "싱크홀 : /moviedb/main?movieId=134290\n",
      "극장판 귀멸의 칼날: 무한열차편 : /moviedb/main?movieId=145371\n",
      "베놈 2: 렛 데어 비 카니지 : /moviedb/main?movieId=129680\n",
      "소울 : /moviedb/main?movieId=136715\n",
      "크루엘라 : /moviedb/main?movieId=108699\n",
      "샹치와 텐 링즈의 전설 : /moviedb/main?movieId=129706\n",
      "인질 : /moviedb/main?movieId=127738\n",
      "듄 : /moviedb/main?movieId=130886\n",
      "보이스 : /moviedb/main?movieId=137628\n",
      "007 노 타임 투 다이 : /moviedb/main?movieId=119916\n",
      "미나리 : /moviedb/main?movieId=137317\n",
      "발신제한 : /moviedb/main?movieId=138391\n",
      "보스 베이비 2 : /moviedb/main?movieId=143722\n",
      "콰이어트 플레이스 2 : /moviedb/main?movieId=129982\n",
      "랑종 : /moviedb/main?movieId=144859\n",
      "유체이탈자 : /moviedb/main?movieId=124768\n",
      "컨저링3: 악마가 시켰다 : /moviedb/main?movieId=130902\n",
      "기적 : /moviedb/main?movieId=143697\n",
      "고질라 VS. 콩 : /moviedb/main?movieId=128987\n",
      "킹스맨: 퍼스트 에이전트 : /moviedb/main?movieId=125382\n",
      "엔칸토: 마법의 세계 : /moviedb/main?movieId=152081\n",
      "연애 빠진 로맨스 : /moviedb/main?movieId=144054\n",
      "장르만 로맨스 : /moviedb/main?movieId=128599\n",
      "미션 파서블 : /moviedb/main?movieId=132873\n",
      "더 수어사이드 스쿼드 : /moviedb/main?movieId=122276\n",
      "비와 당신의 이야기 : /moviedb/main?movieId=139825\n",
      "서복 : /moviedb/main?movieId=109355\n",
      "킬러의 보디가드 2 : /moviedb/main?movieId=\n",
      "루카 : /moviedb/main?movieId=143553\n",
      "자산어보 : /moviedb/main?movieId=127893\n",
      "내일의 기억 : /moviedb/main?movieId=131515\n",
      "라야와 마지막 드래곤 : /moviedb/main?movieId=138218\n",
      "프리 가이  : /moviedb/main?movieId=131277\n",
      "더 스파이 : /moviedb/main?movieId=137958\n",
      "강릉 : /moviedb/main?movieId=145338\n",
      "정글 크루즈 : /moviedb/main?movieId=129157\n",
      "명탐정 코난: 비색의 탄환 : /moviedb/main?movieId=141016\n",
      "캐시트럭 : /moviedb/main?movieId=144497\n",
      "크루즈 패밀리: 뉴 에이지 : /moviedb/main?movieId=121250\n",
      "이스케이프 룸 2: 노 웨이 아웃 : /moviedb/main?movieId=145805\n",
      "극장판 포켓몬스터: 정글의 아이, 코코 : /moviedb/main?movieId=147088\n",
      "극장판 짱구는 못말려: 격돌! 낙서왕국과 얼추 네 명의 용사들 : /moviedb/main?movieId=144508\n",
      "매트릭스: 리저렉션 : /moviedb/main?movieId=137516\n",
      "방법: 재차의 : /moviedb/main?movieId=139670\n",
      "새해전야 : /moviedb/main?movieId=136572\n",
      "홈 : /main\n",
      "랭킹 : /ranking/reservation\n",
      "상영예정작 : /premovie/theater\n",
      "콘텐츠 : /contents/news\n"
     ]
    }
   ],
   "source": [
    "for a in dom.select('a.link_txt'):\n",
    "    print(f\"{a.text} : {a['href']}\")\n",
    "    "
   ]
  },
  {
   "cell_type": "code",
   "execution_count": null,
   "id": "de9ab6ee-80e2-4237-8a4b-6b6da9c1d4cd",
   "metadata": {
    "pycharm": {
     "name": "#%%\n"
    }
   },
   "outputs": [],
   "source": []
  }
 ],
 "metadata": {
  "kernelspec": {
   "display_name": "Python 3 (ipykernel)",
   "language": "python",
   "name": "python3"
  },
  "language_info": {
   "codemirror_mode": {
    "name": "ipython",
    "version": 3
   },
   "file_extension": ".py",
   "mimetype": "text/x-python",
   "name": "python",
   "nbconvert_exporter": "python",
   "pygments_lexer": "ipython3",
   "version": "3.10.12"
  },
  "toc-autonumbering": true
 },
 "nbformat": 4,
 "nbformat_minor": 5
}