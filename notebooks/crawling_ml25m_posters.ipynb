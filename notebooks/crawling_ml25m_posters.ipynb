{
 "cells": [
  {
   "cell_type": "code",
   "execution_count": 1,
   "id": "5d5a2edb-5779-49a3-87d4-af00e0a9a929",
   "metadata": {
    "pycharm": {
     "name": "#%%\n"
    },
    "tags": []
   },
   "outputs": [],
   "source": [
    "import pymysql\n",
    "import sys\n",
    "import os\n",
    "import boto3\n",
    "# from dotenv import load_dotenv\n",
    "import io"
   ]
  },
  {
   "cell_type": "code",
   "execution_count": null,
   "id": "c6ee4dc8-24e0-4a27-ba5d-337da33e5c02",
   "metadata": {
    "pycharm": {
     "name": "#%%\n"
    }
   },
   "outputs": [],
   "source": []
  },
  {
   "cell_type": "code",
   "execution_count": null,
   "id": "79ebb239-2770-42a4-8dfd-45ce32189557",
   "metadata": {
    "pycharm": {
     "name": "#%%\n"
    }
   },
   "outputs": [],
   "source": []
  },
  {
   "cell_type": "code",
   "execution_count": null,
   "id": "55d41ff7-3e5e-4c64-8bb9-780f38fdf427",
   "metadata": {
    "pycharm": {
     "name": "#%%\n"
    }
   },
   "outputs": [],
   "source": []
  },
  {
   "cell_type": "code",
   "execution_count": 2,
   "id": "3d5476ed-4ebc-4d7b-8c98-23f506994b78",
   "metadata": {
    "pycharm": {
     "name": "#%%\n"
    },
    "tags": []
   },
   "outputs": [],
   "source": [
    "os.environ['AWS_ACCESS_KEY_ID'] = ''\n",
    "os.environ['AWS_ACCESS_KEY_SECRET'] = ''"
   ]
  },
  {
   "cell_type": "code",
   "execution_count": 3,
   "id": "e1a6ce74-8d50-43aa-a61f-d137253169c9",
   "metadata": {
    "pycharm": {
     "name": "#%%\n"
    },
    "tags": []
   },
   "outputs": [
    {
     "name": "stdout",
     "output_type": "stream",
     "text": [
      "s3 bucket connected!\n"
     ]
    }
   ],
   "source": [
    "import boto3\n",
    "\n",
    "def s3_connection():\n",
    "    try:\n",
    "        # s3 클라이언트 생성\n",
    "        s3 = boto3.client(\n",
    "            service_name=\"s3\",\n",
    "            region_name=\"ap-northeast-2\",\n",
    "            aws_access_key_id='',\n",
    "            aws_secret_access_key='',\n",
    "        )\n",
    "    except Exception as e:\n",
    "        print(e)\n",
    "    else:\n",
    "        print(\"s3 bucket connected!\") \n",
    "        return s3\n",
    "        \n",
    "s3 = s3_connection()"
   ]
  },
  {
   "cell_type": "code",
   "execution_count": 11,
   "id": "015ffbff-0ac4-4c29-a10a-500815dacf37",
   "metadata": {
    "pycharm": {
     "name": "#%%\n"
    },
    "tags": []
   },
   "outputs": [
    {
     "data": {
      "text/plain": [
       "{'ResponseMetadata': {'RequestId': 'A2Y6DG3H57K4SJ0Y',\n",
       "  'HostId': 'n0ZsBlgMhoZozK1O43T/YqmfQt1ynIZQa2n/4GcVE4/eFR3RGP1im8cy3p/8HPWurCHHOcdIRzxYP77w0CMI7A==',\n",
       "  'HTTPStatusCode': 200,\n",
       "  'HTTPHeaders': {'x-amz-id-2': 'n0ZsBlgMhoZozK1O43T/YqmfQt1ynIZQa2n/4GcVE4/eFR3RGP1im8cy3p/8HPWurCHHOcdIRzxYP77w0CMI7A==',\n",
       "   'x-amz-request-id': 'A2Y6DG3H57K4SJ0Y',\n",
       "   'date': 'Thu, 09 Nov 2023 11:47:30 GMT',\n",
       "   'x-amz-bucket-region': 'ap-northeast-2',\n",
       "   'content-type': 'application/xml',\n",
       "   'transfer-encoding': 'chunked',\n",
       "   'server': 'AmazonS3'},\n",
       "  'RetryAttempts': 0},\n",
       " 'IsTruncated': False,\n",
       " 'Marker': '',\n",
       " 'Contents': [{'Key': 'genome_scores.csv',\n",
       "   'LastModified': datetime.datetime(2023, 9, 14, 12, 48, 47, tzinfo=tzutc()),\n",
       "   'ETag': '\"a66f456a7c234d0cd64b3e6118a3ba2c-13\"',\n",
       "   'Size': 214322450,\n",
       "   'StorageClass': 'STANDARD',\n",
       "   'Owner': {'ID': 'ddb7b1455948463d29081e6bae2018271e63a348f789b533960db9fd283edd06'}},\n",
       "  {'Key': 'genome_tags.csv',\n",
       "   'LastModified': datetime.datetime(2023, 9, 14, 12, 48, 47, tzinfo=tzutc()),\n",
       "   'ETag': '\"e6a464a0516f467d14d749d5a0890ee8\"',\n",
       "   'Size': 20363,\n",
       "   'StorageClass': 'STANDARD',\n",
       "   'Owner': {'ID': 'ddb7b1455948463d29081e6bae2018271e63a348f789b533960db9fd283edd06'}},\n",
       "  {'Key': 'link.csv',\n",
       "   'LastModified': datetime.datetime(2023, 9, 14, 12, 48, 47, tzinfo=tzutc()),\n",
       "   'ETag': '\"2184e86514f74db1f32fdaa4aa018d52\"',\n",
       "   'Size': 539334,\n",
       "   'StorageClass': 'STANDARD',\n",
       "   'Owner': {'ID': 'ddb7b1455948463d29081e6bae2018271e63a348f789b533960db9fd283edd06'}},\n",
       "  {'Key': 'movie.csv',\n",
       "   'LastModified': datetime.datetime(2023, 9, 14, 12, 48, 48, tzinfo=tzutc()),\n",
       "   'ETag': '\"7b4f8c4aa28ae6f1dfbd18ad295f458e\"',\n",
       "   'Size': 1493648,\n",
       "   'StorageClass': 'STANDARD',\n",
       "   'Owner': {'ID': 'ddb7b1455948463d29081e6bae2018271e63a348f789b533960db9fd283edd06'}},\n",
       "  {'Key': 'rating.csv',\n",
       "   'LastModified': datetime.datetime(2023, 9, 14, 12, 48, 47, tzinfo=tzutc()),\n",
       "   'ETag': '\"1ab2c54c22e2947a85237af7847447be-41\"',\n",
       "   'Size': 690353377,\n",
       "   'StorageClass': 'STANDARD',\n",
       "   'Owner': {'ID': 'ddb7b1455948463d29081e6bae2018271e63a348f789b533960db9fd283edd06'}},\n",
       "  {'Key': 'tag.csv',\n",
       "   'LastModified': datetime.datetime(2023, 9, 14, 12, 48, 47, tzinfo=tzutc()),\n",
       "   'ETag': '\"a273da311ad4c82d4d024a5488fc5630-2\"',\n",
       "   'Size': 21725514,\n",
       "   'StorageClass': 'STANDARD',\n",
       "   'Owner': {'ID': 'ddb7b1455948463d29081e6bae2018271e63a348f789b533960db9fd283edd06'}}],\n",
       " 'Name': 'pseudorec-data',\n",
       " 'Prefix': '',\n",
       " 'MaxKeys': 1000,\n",
       " 'EncodingType': 'url'}"
      ]
     },
     "execution_count": 11,
     "metadata": {},
     "output_type": "execute_result"
    }
   ],
   "source": [
    "s3.list_objects(Bucket='pseudorec-data')"
   ]
  },
  {
   "cell_type": "code",
   "execution_count": null,
   "id": "55a2f42d-3a7d-483c-89d3-fbf3b2a637df",
   "metadata": {
    "pycharm": {
     "name": "#%%\n"
    }
   },
   "outputs": [],
   "source": [
    "s3.get_object(Bucket='pseudorec-data', )"
   ]
  },
  {
   "cell_type": "code",
   "execution_count": 75,
   "id": "adfd5bb9-4947-46b7-b3ab-f1646ba1f1e0",
   "metadata": {
    "pycharm": {
     "name": "#%%\n"
    },
    "tags": []
   },
   "outputs": [],
   "source": [
    "from clients import MysqlClient"
   ]
  },
  {
   "cell_type": "code",
   "execution_count": 3,
   "id": "6cf52a68-477e-4797-8d83-86af1a824370",
   "metadata": {
    "pycharm": {
     "name": "#%%\n"
    },
    "tags": []
   },
   "outputs": [],
   "source": [
    "import os\n",
    "os.environ['RDS_MYSQL_PW'] = 'Precsys1!'"
   ]
  },
  {
   "cell_type": "code",
   "execution_count": 76,
   "id": "d2a323cd-43c2-42e4-b34f-f34c1d9d2004",
   "metadata": {
    "pycharm": {
     "name": "#%%\n"
    },
    "tags": []
   },
   "outputs": [],
   "source": [
    "mysql = MysqlClient()"
   ]
  },
  {
   "cell_type": "code",
   "execution_count": 77,
   "id": "574ffc0f-80de-4ad6-8a59-18a222a30f7f",
   "metadata": {
    "pycharm": {
     "name": "#%%\n"
    },
    "tags": []
   },
   "outputs": [
    {
     "name": "stderr",
     "output_type": "stream",
     "text": [
      "/Users/kyeongchanlee/PycharmProjects/recsys_service_deployment/clients.py:30: UserWarning: pandas only supports SQLAlchemy connectable (engine/connection) or database string URI or sqlite3 DBAPI2 connection. Other DBAPI2 objects are not tested. Please consider using SQLAlchemy.\n",
      "  df = pd.read_sql(sql='select * from movies', con=connection)\n"
     ]
    }
   ],
   "source": [
    "movies = mysql.get_movies()"
   ]
  },
  {
   "cell_type": "code",
   "execution_count": 78,
   "id": "660c5770-a6aa-451e-abde-c531b0e6294e",
   "metadata": {
    "pycharm": {
     "name": "#%%\n"
    },
    "tags": []
   },
   "outputs": [
    {
     "data": {
      "text/html": [
       "<div>\n",
       "<style scoped>\n",
       "    .dataframe tbody tr th:only-of-type {\n",
       "        vertical-align: middle;\n",
       "    }\n",
       "\n",
       "    .dataframe tbody tr th {\n",
       "        vertical-align: top;\n",
       "    }\n",
       "\n",
       "    .dataframe thead th {\n",
       "        text-align: right;\n",
       "    }\n",
       "</style>\n",
       "<table border=\"1\" class=\"dataframe\">\n",
       "  <thead>\n",
       "    <tr style=\"text-align: right;\">\n",
       "      <th></th>\n",
       "      <th>movieId</th>\n",
       "      <th>title</th>\n",
       "      <th>genres</th>\n",
       "      <th>url</th>\n",
       "    </tr>\n",
       "  </thead>\n",
       "  <tbody>\n",
       "    <tr>\n",
       "      <th>0</th>\n",
       "      <td>1</td>\n",
       "      <td>Toy Story (1995)</td>\n",
       "      <td>Adventure|Animation|Children|Comedy|Fantasy</td>\n",
       "      <td>https://m.media-amazon.com/images/M/MV5BMDU2ZW...</td>\n",
       "    </tr>\n",
       "    <tr>\n",
       "      <th>1</th>\n",
       "      <td>2</td>\n",
       "      <td>Jumanji (1995)</td>\n",
       "      <td>Adventure|Children|Fantasy</td>\n",
       "      <td>https://m.media-amazon.com/images/M/MV5BZTk2Zm...</td>\n",
       "    </tr>\n",
       "    <tr>\n",
       "      <th>2</th>\n",
       "      <td>3</td>\n",
       "      <td>Grumpier Old Men (1995)</td>\n",
       "      <td>Comedy|Romance</td>\n",
       "      <td>https://m.media-amazon.com/images/M/MV5BMjQxM2...</td>\n",
       "    </tr>\n",
       "    <tr>\n",
       "      <th>3</th>\n",
       "      <td>4</td>\n",
       "      <td>Waiting to Exhale (1995)</td>\n",
       "      <td>Comedy|Drama|Romance</td>\n",
       "      <td>https://m.media-amazon.com/images/M/MV5BYzcyMD...</td>\n",
       "    </tr>\n",
       "    <tr>\n",
       "      <th>4</th>\n",
       "      <td>5</td>\n",
       "      <td>Father of the Bride Part II (1995)</td>\n",
       "      <td>Comedy</td>\n",
       "      <td>https://m.media-amazon.com/images/M/MV5BOTEyNz...</td>\n",
       "    </tr>\n",
       "  </tbody>\n",
       "</table>\n",
       "</div>"
      ],
      "text/plain": [
       "   movieId                               title  \\\n",
       "0        1                    Toy Story (1995)   \n",
       "1        2                      Jumanji (1995)   \n",
       "2        3             Grumpier Old Men (1995)   \n",
       "3        4            Waiting to Exhale (1995)   \n",
       "4        5  Father of the Bride Part II (1995)   \n",
       "\n",
       "                                        genres  \\\n",
       "0  Adventure|Animation|Children|Comedy|Fantasy   \n",
       "1                   Adventure|Children|Fantasy   \n",
       "2                               Comedy|Romance   \n",
       "3                         Comedy|Drama|Romance   \n",
       "4                                       Comedy   \n",
       "\n",
       "                                                 url  \n",
       "0  https://m.media-amazon.com/images/M/MV5BMDU2ZW...  \n",
       "1  https://m.media-amazon.com/images/M/MV5BZTk2Zm...  \n",
       "2  https://m.media-amazon.com/images/M/MV5BMjQxM2...  \n",
       "3  https://m.media-amazon.com/images/M/MV5BYzcyMD...  \n",
       "4  https://m.media-amazon.com/images/M/MV5BOTEyNz...  "
      ]
     },
     "execution_count": 78,
     "metadata": {},
     "output_type": "execute_result"
    }
   ],
   "source": [
    "movies.head()"
   ]
  },
  {
   "cell_type": "code",
   "execution_count": 79,
   "id": "c3b282c7-5cf1-4205-92f5-8694e3ef9f2f",
   "metadata": {
    "pycharm": {
     "name": "#%%\n"
    },
    "tags": []
   },
   "outputs": [
    {
     "data": {
      "text/plain": [
       "4963"
      ]
     },
     "execution_count": 79,
     "metadata": {},
     "output_type": "execute_result"
    }
   ],
   "source": [
    "sum(movies['url'].notnull())"
   ]
  },
  {
   "cell_type": "code",
   "execution_count": 8,
   "id": "f5d64174-1aff-416d-bbd7-7445e30290d7",
   "metadata": {
    "pycharm": {
     "name": "#%%\n"
    },
    "tags": []
   },
   "outputs": [],
   "source": [
    "import re"
   ]
  },
  {
   "cell_type": "code",
   "execution_count": null,
   "id": "12c801f2-80c0-4e59-bbd1-01e4ae161f7c",
   "metadata": {
    "pycharm": {
     "name": "#%%\n"
    }
   },
   "outputs": [],
   "source": []
  },
  {
   "cell_type": "markdown",
   "id": "ad35bf2b-94f3-41d8-8811-0dcf53bb39a0",
   "metadata": {
    "pycharm": {
     "name": "#%% md\n"
    }
   },
   "source": [
    "# movies 테이블에 url이라는 칼럼을 추가하자"
   ]
  },
  {
   "cell_type": "code",
   "execution_count": 80,
   "id": "3b8f3301-2d75-4130-b90e-3b07fc8df45d",
   "metadata": {
    "pycharm": {
     "name": "#%%\n"
    },
    "tags": []
   },
   "outputs": [],
   "source": [
    "import pymysql\n",
    "import sys\n",
    "import boto3\n",
    "import os\n",
    "\n",
    "ENDPOINT=\"pseudorec.cvhv2t0obyv3.ap-northeast-2.rds.amazonaws.com\"\n",
    "PORT=3306\n",
    "USER=\"admin\"\n",
    "REGION=\"ap-northeast-2c\"\n",
    "DBNAME=\"movielens25m\"\n",
    "os.environ['LIBMYSQL_ENABLE_CLEARTEXT_PLUGIN'] = '1'\n",
    "\n",
    "#gets the credentials from .aws/credentials\n",
    "# session = boto3.Session(profile_name='default')\n",
    "# client = session.client('rds')\n",
    "\n",
    "connection =  pymysql.connect(host=ENDPOINT, user=USER, passwd='Precsys1!', port=PORT, database=DBNAME)\n",
    "cursor = connection.cursor()"
   ]
  },
  {
   "cell_type": "code",
   "execution_count": 81,
   "id": "ad6d5951-5b06-4132-bfdb-0c7b8a0150c9",
   "metadata": {
    "pycharm": {
     "name": "#%%\n"
    },
    "tags": []
   },
   "outputs": [],
   "source": [
    "def get_connection():\n",
    "    connection =  pymysql.connect(host=ENDPOINT, user=USER, passwd='Precsys1!', port=PORT, database=DBNAME)\n",
    "    return connection"
   ]
  },
  {
   "cell_type": "code",
   "execution_count": 13,
   "id": "015ff237-f7d8-4298-a15d-07891b00dc22",
   "metadata": {
    "pycharm": {
     "name": "#%%\n"
    }
   },
   "outputs": [
    {
     "name": "stdout",
     "output_type": "stream",
     "text": [
      "movies\n",
      "ratings\n"
     ]
    }
   ],
   "source": [
    "with connection:\n",
    "    with connection.cursor() as cursor:\n",
    "        sql = \"SHOW TABLES\"\n",
    "        cursor.execute(sql)\n",
    "        result = cursor.fetchall()\n",
    "        for row in result:\n",
    "            print(row[0])"
   ]
  },
  {
   "cell_type": "code",
   "execution_count": 19,
   "id": "5f983757-30b1-4f7e-9ecc-7efc489c1f96",
   "metadata": {
    "pycharm": {
     "name": "#%%\n"
    },
    "tags": []
   },
   "outputs": [],
   "source": [
    "alter_sql = \"ALTER TABLE movies ADD url TEXT\""
   ]
  },
  {
   "cell_type": "code",
   "execution_count": 20,
   "id": "233060d5-35f5-4ea8-b799-dd9c4ce61e2f",
   "metadata": {
    "pycharm": {
     "name": "#%%\n"
    },
    "tags": []
   },
   "outputs": [
    {
     "name": "stdout",
     "output_type": "stream",
     "text": [
      "ALTER 명령이 성공적으로 실행되었습니다.\n"
     ]
    }
   ],
   "source": [
    "import pymysql\n",
    "\n",
    "connection =  pymysql.connect(host=ENDPOINT, user=USER, passwd='Precsys1!', port=PORT, database=DBNAME)\n",
    "\n",
    "# 커서 생성\n",
    "cursor = connection.cursor()\n",
    "\n",
    "# ALTER 명령 실행\n",
    "# alter_query = \"ALTER TABLE 테이블명 ADD COLUMN 새로운_컬럼명 데이터_타입\"\n",
    "try:\n",
    "    cursor.execute(alter_sql)\n",
    "    connection.commit()\n",
    "    print(\"ALTER 명령이 성공적으로 실행되었습니다.\")\n",
    "except pymysql.Error as e:\n",
    "    print(f\"ALTER 명령 실행 중 오류 발생: {e}\")\n",
    "    connection.rollback()\n",
    "\n",
    "# 연결 종료\n",
    "cursor.close()\n",
    "connection.close()\n",
    "\n",
    "        "
   ]
  },
  {
   "cell_type": "code",
   "execution_count": null,
   "id": "40cdacba-7f05-4ccf-96b2-31d310a0c664",
   "metadata": {
    "pycharm": {
     "name": "#%%\n"
    }
   },
   "outputs": [],
   "source": []
  },
  {
   "cell_type": "code",
   "execution_count": null,
   "id": "47fe48b5-9481-4675-838b-174c31323153",
   "metadata": {
    "pycharm": {
     "name": "#%%\n"
    }
   },
   "outputs": [],
   "source": []
  },
  {
   "cell_type": "code",
   "execution_count": null,
   "id": "1a14bdba-51a5-48e1-9961-f98e79e08584",
   "metadata": {
    "pycharm": {
     "name": "#%%\n"
    }
   },
   "outputs": [],
   "source": []
  },
  {
   "cell_type": "code",
   "execution_count": null,
   "id": "07670480-9939-4c06-8044-9d7611880afb",
   "metadata": {
    "pycharm": {
     "name": "#%%\n"
    }
   },
   "outputs": [],
   "source": []
  },
  {
   "cell_type": "code",
   "execution_count": null,
   "id": "a451cb08-3f7a-41a5-9950-537fd5352654",
   "metadata": {
    "pycharm": {
     "name": "#%%\n"
    }
   },
   "outputs": [],
   "source": []
  },
  {
   "cell_type": "code",
   "execution_count": 7,
   "id": "30ceaf25-36d0-4c1a-886f-99e2416f8e0f",
   "metadata": {
    "pycharm": {
     "name": "#%%\n"
    },
    "tags": []
   },
   "outputs": [],
   "source": [
    "# load_dotenv(verbose=True)\n",
    "\n",
    "def aws_session(region_name='ap-northeast-2c'):\n",
    "    return boto3.session.Session(aws_access_key_id=os.getenv('AWS_ACCESS_KEY_ID'),\n",
    "                                aws_secret_access_key=os.getenv('AWS_ACCESS_KEY_SECRET'),\n",
    "                                region_name=region_name)"
   ]
  },
  {
   "cell_type": "code",
   "execution_count": null,
   "id": "1ec8cf9f-f973-40ac-beae-aec927da8e49",
   "metadata": {
    "pycharm": {
     "name": "#%%\n"
    },
    "tags": []
   },
   "outputs": [],
   "source": [
    "s3 = boto3.resource('s3', )"
   ]
  },
  {
   "cell_type": "code",
   "execution_count": null,
   "id": "52f5f7d5-ce40-406b-a615-45ea19bddab1",
   "metadata": {
    "pycharm": {
     "name": "#%%\n"
    },
    "tags": []
   },
   "outputs": [],
   "source": [
    "\n",
    "s3 = boto3.resource('s3')\n",
    "for bucket in s3.buckets.all():\n",
    "    print(bucket.name)\n",
    "\n",
    "def get_data(bucket_name, s3_key):\n",
    "    session = aws_session()\n",
    "    s3_resource = session.resource('s3')\n",
    "    obj = s3_resource.Object(bucket_name, s3_key)\n",
    "    io_stream = io.BytesIO()\n",
    "    obj.download_filejob(io_stream)\n",
    "\n",
    "    io_stream.seek(0)\n",
    "    data = io_stream.read().decode('utf-8')\n",
    "\n",
    "    return data\n",
    "\n",
    "movie_data = get_data('pseudorec-data', 'movie.csv')\n"
   ]
  },
  {
   "cell_type": "code",
   "execution_count": 82,
   "id": "8fe4987c-582c-498a-899b-90f0a2909aac",
   "metadata": {
    "pycharm": {
     "name": "#%%\n"
    },
    "tags": []
   },
   "outputs": [],
   "source": [
    "from selenium import webdriver\n",
    "from selenium.webdriver.common.by import By\n",
    "from selenium.webdriver.common.keys import Keys\n",
    "from selenium.common.exceptions import NoSuchElementException\n",
    "import time"
   ]
  },
  {
   "cell_type": "code",
   "execution_count": null,
   "id": "184cd43a-0457-4b04-880d-dbb8b84f5ab1",
   "metadata": {
    "pycharm": {
     "name": "#%%\n"
    },
    "tags": []
   },
   "outputs": [],
   "source": [
    "driver.close()"
   ]
  },
  {
   "cell_type": "code",
   "execution_count": 116,
   "id": "8ecdca72-adfe-4f25-9904-4a0e548878db",
   "metadata": {
    "pycharm": {
     "name": "#%%\n"
    },
    "tags": []
   },
   "outputs": [],
   "source": [
    "driver = webdriver.Chrome()"
   ]
  },
  {
   "cell_type": "code",
   "execution_count": 117,
   "id": "4320560c-11bb-4443-acab-95e7195dfdab",
   "metadata": {
    "pycharm": {
     "name": "#%%\n"
    }
   },
   "outputs": [],
   "source": [
    "movies = mysql.get_movies()"
   ]
  },
  {
   "cell_type": "code",
   "execution_count": 118,
   "id": "b10ee155-20a7-441d-9c39-10dd7106db24",
   "metadata": {
    "pycharm": {
     "name": "#%%\n"
    },
    "tags": []
   },
   "outputs": [],
   "source": [
    "targets = movies[movies['url'].isnull()]['title']"
   ]
  },
  {
   "cell_type": "code",
   "execution_count": 119,
   "id": "d701a377-71f4-4d4b-933f-3f6f275cb2a3",
   "metadata": {
    "pycharm": {
     "name": "#%%\n"
    },
    "tags": []
   },
   "outputs": [
    {
     "data": {
      "text/plain": [
       "54108"
      ]
     },
     "execution_count": 119,
     "metadata": {},
     "output_type": "execute_result"
    }
   ],
   "source": [
    "len(targets)"
   ]
  },
  {
   "cell_type": "code",
   "execution_count": null,
   "id": "68b63360-50a8-4a9f-ae90-cd4cf80c934b",
   "metadata": {
    "pycharm": {
     "name": "#%%\n"
    },
    "tags": []
   },
   "outputs": [
    {
     "name": "stdout",
     "output_type": "stream",
     "text": [
      "0\n"
     ]
    }
   ],
   "source": [
    "img_url = {}\n",
    "for i, title in enumerate(targets):\n",
    "    title = title.replace(\"\\\"\", \"\").replace(\"\\'\", \"\")\n",
    "    driver.get('https://www.imdb.com/')\n",
    "    time.sleep(1)\n",
    "    searchbox = driver.find_element(by='id', value='suggestion-search')\n",
    "    searchbox.click()\n",
    "    searchbox.send_keys(title)\n",
    "    searchbox.send_keys(Keys.ENTER)\n",
    "    \n",
    "    try: # 검색 결과 없으면 다음 영화로\n",
    "        driver.find_element(by=By.XPATH, value='//*[@id=\"__next\"]/main/div[2]/div[3]/section/div/div[1]/section[2]/div[2]/ul/li[1]/div[1]/div').click()\n",
    "        driver.find_element(by=By.XPATH, value='//*[@id=\"__next\"]/main/div/section[1]/section/div[3]/section/section/div[3]/div[1]/div[1]/div/a').click()\n",
    "        img = driver.find_element(by=By.XPATH, value='//*[@id=\"__next\"]/main/div[2]/div[3]/div[4]/img')\n",
    "        url = img.get_attribute('src')\n",
    "        img_url[title] = url\n",
    "        \n",
    "    except NoSuchElementException as e:\n",
    "        url = 'not found'\n",
    "        img_url[title] = 'not found'\n",
    "\n",
    "    \n",
    "    with mysql.get_connection() as connection:\n",
    "        cursor = connection.cursor()\n",
    "        insert_query = f\"\"\"\n",
    "        UPDATE movies SET url = \"{url}\" WHERE title = \"{title}\"\n",
    "        \"\"\"\n",
    "        cursor.execute(insert_query)\n",
    "        connection.commit()\n",
    "    \n",
    "    if i % 1000 == 0:\n",
    "        print(i)"
   ]
  },
  {
   "cell_type": "code",
   "execution_count": null,
   "id": "f56d4f35-bcbd-4deb-ac9e-3b495bb4460d",
   "metadata": {
    "pycharm": {
     "name": "#%%\n"
    }
   },
   "outputs": [],
   "source": []
  },
  {
   "cell_type": "code",
   "execution_count": null,
   "id": "a619b36e-6e8b-4f91-810c-59e0394a9c87",
   "metadata": {
    "pycharm": {
     "name": "#%%\n"
    }
   },
   "outputs": [],
   "source": []
  },
  {
   "cell_type": "code",
   "execution_count": null,
   "id": "6f786529-4b71-472a-9388-97c6c7079315",
   "metadata": {
    "pycharm": {
     "name": "#%%\n"
    }
   },
   "outputs": [],
   "source": []
  },
  {
   "cell_type": "code",
   "execution_count": null,
   "id": "6f62920c-ff4c-47d3-bb00-b167e9c426b7",
   "metadata": {
    "pycharm": {
     "name": "#%%\n"
    }
   },
   "outputs": [],
   "source": []
  },
  {
   "cell_type": "code",
   "execution_count": null,
   "id": "5eb1c121-648b-41c9-b467-db2dd459374b",
   "metadata": {
    "pycharm": {
     "name": "#%%\n"
    }
   },
   "outputs": [],
   "source": []
  },
  {
   "cell_type": "code",
   "execution_count": null,
   "id": "91c814da-dfeb-45fd-a6f7-c35e73fa5772",
   "metadata": {
    "pycharm": {
     "name": "#%%\n"
    }
   },
   "outputs": [],
   "source": []
  },
  {
   "cell_type": "code",
   "execution_count": null,
   "id": "80e14932-1a0a-4d73-bf7a-d081af4292e4",
   "metadata": {
    "pycharm": {
     "name": "#%%\n"
    }
   },
   "outputs": [],
   "source": []
  },
  {
   "cell_type": "code",
   "execution_count": 18,
   "id": "4fb66c23-e55b-4001-91d6-9211bc7524d8",
   "metadata": {
    "pycharm": {
     "name": "#%%\n"
    },
    "tags": []
   },
   "outputs": [
    {
     "data": {
      "text/plain": [
       "'https://m.media-amazon.com/images/M/MV5BMDU2ZWJlMjktMTRhMy00ZTA5LWEzNDgtYmNmZTEwZTViZWJkXkEyXkFqcGdeQXVyNDQ2OTk4MzI@._V1_.jpg'"
      ]
     },
     "execution_count": 18,
     "metadata": {},
     "output_type": "execute_result"
    }
   ],
   "source": [
    "img_url['Toy Story (1995)']"
   ]
  },
  {
   "cell_type": "code",
   "execution_count": 15,
   "id": "96c02b16-7cb3-42a4-a058-a52ecb16715a",
   "metadata": {
    "pycharm": {
     "name": "#%%\n"
    },
    "tags": []
   },
   "outputs": [
    {
     "data": {
      "text/plain": [
       "353"
      ]
     },
     "execution_count": 15,
     "metadata": {},
     "output_type": "execute_result"
    }
   ],
   "source": [
    "len(img_url)"
   ]
  },
  {
   "cell_type": "code",
   "execution_count": 53,
   "id": "4b322629-27bd-4257-a408-40a0010d77d9",
   "metadata": {
    "pycharm": {
     "name": "#%%\n"
    },
    "tags": []
   },
   "outputs": [
    {
     "data": {
      "text/plain": [
       "\"Mr. Holland's Opus (1995)\""
      ]
     },
     "execution_count": 53,
     "metadata": {},
     "output_type": "execute_result"
    }
   ],
   "source": [
    "title"
   ]
  },
  {
   "cell_type": "code",
   "execution_count": 54,
   "id": "4c033fa3-509e-4246-878e-9582e0adfc37",
   "metadata": {
    "pycharm": {
     "name": "#%%\n"
    },
    "tags": []
   },
   "outputs": [
    {
     "data": {
      "text/plain": [
       "'https://m.media-amazon.com/images/M/MV5BMjYzMWM5NDAtZDlkMS00NTNhLWIxNTktNzA3ZjkyMDQ3MWQzXkEyXkFqcGdeQXVyMTA0MjU0Ng@@._V1_.jpg'"
      ]
     },
     "execution_count": 54,
     "metadata": {},
     "output_type": "execute_result"
    }
   ],
   "source": [
    "url"
   ]
  },
  {
   "cell_type": "code",
   "execution_count": 55,
   "id": "7f11f6d2-31e4-4809-a76e-f94c8202a69e",
   "metadata": {
    "pycharm": {
     "name": "#%%\n"
    },
    "tags": []
   },
   "outputs": [
    {
     "data": {
      "text/plain": [
       "\"UPDATE movies SET url = 'https://m.media-amazon.com/images/M/MV5BMjYzMWM5NDAtZDlkMS00NTNhLWIxNTktNzA3ZjkyMDQ3MWQzXkEyXkFqcGdeQXVyMTA0MjU0Ng@@._V1_.jpg' WHERE title = 'Mr. Holland's Opus (1995)'\""
      ]
     },
     "execution_count": 55,
     "metadata": {},
     "output_type": "execute_result"
    }
   ],
   "source": [
    "insert_query"
   ]
  },
  {
   "cell_type": "code",
   "execution_count": 56,
   "id": "9856ded9-6903-48a4-a9aa-6d9b0bc6cfd6",
   "metadata": {
    "pycharm": {
     "name": "#%%\n"
    },
    "tags": []
   },
   "outputs": [],
   "source": [
    "for title, url in img_url.items():\n",
    "    with mysql.get_connection() as connection:\n",
    "        cursor = connection.cursor()\n",
    "        insert_query = f\"\"\"\n",
    "        UPDATE movies SET url = \"{url}\" WHERE title = \"{title}\"\n",
    "        \"\"\"\n",
    "        cursor.execute(insert_query)\n",
    "        connection.commit()"
   ]
  },
  {
   "cell_type": "code",
   "execution_count": 22,
   "id": "9b9bc89c-32af-4d3b-b33b-1ce0115b0811",
   "metadata": {
    "pycharm": {
     "name": "#%%\n"
    },
    "tags": []
   },
   "outputs": [
    {
     "data": {
      "text/plain": [
       "'Toy Story (1995)'"
      ]
     },
     "execution_count": 22,
     "metadata": {},
     "output_type": "execute_result"
    }
   ],
   "source": []
  },
  {
   "cell_type": "code",
   "execution_count": 23,
   "id": "a1cc57b2-d053-446b-a86c-a90563d82d41",
   "metadata": {
    "pycharm": {
     "name": "#%%\n"
    },
    "tags": []
   },
   "outputs": [
    {
     "data": {
      "text/plain": [
       "'https://m.media-amazon.com/images/M/MV5BMDU2ZWJlMjktMTRhMy00ZTA5LWEzNDgtYmNmZTEwZTViZWJkXkEyXkFqcGdeQXVyNDQ2OTk4MzI@._V1_.jpg'"
      ]
     },
     "execution_count": 23,
     "metadata": {},
     "output_type": "execute_result"
    }
   ],
   "source": [
    "url"
   ]
  },
  {
   "cell_type": "code",
   "execution_count": 46,
   "id": "b2299384-a2b1-413e-8203-9f92c3fd1cc2",
   "metadata": {
    "pycharm": {
     "name": "#%%\n"
    },
    "tags": []
   },
   "outputs": [
    {
     "data": {
      "text/html": [
       "<div>\n",
       "<style scoped>\n",
       "    .dataframe tbody tr th:only-of-type {\n",
       "        vertical-align: middle;\n",
       "    }\n",
       "\n",
       "    .dataframe tbody tr th {\n",
       "        vertical-align: top;\n",
       "    }\n",
       "\n",
       "    .dataframe thead th {\n",
       "        text-align: right;\n",
       "    }\n",
       "</style>\n",
       "<table border=\"1\" class=\"dataframe\">\n",
       "  <thead>\n",
       "    <tr style=\"text-align: right;\">\n",
       "      <th></th>\n",
       "      <th>movieId</th>\n",
       "      <th>title</th>\n",
       "      <th>genres</th>\n",
       "      <th>url</th>\n",
       "    </tr>\n",
       "  </thead>\n",
       "  <tbody>\n",
       "    <tr>\n",
       "      <th>0</th>\n",
       "      <td>1</td>\n",
       "      <td>Toy Story (1995)</td>\n",
       "      <td>Adventure|Animation|Children|Comedy|Fantasy</td>\n",
       "      <td>None</td>\n",
       "    </tr>\n",
       "    <tr>\n",
       "      <th>1</th>\n",
       "      <td>2</td>\n",
       "      <td>Jumanji (1995)</td>\n",
       "      <td>Adventure|Children|Fantasy</td>\n",
       "      <td>None</td>\n",
       "    </tr>\n",
       "    <tr>\n",
       "      <th>2</th>\n",
       "      <td>3</td>\n",
       "      <td>Grumpier Old Men (1995)</td>\n",
       "      <td>Comedy|Romance</td>\n",
       "      <td>None</td>\n",
       "    </tr>\n",
       "    <tr>\n",
       "      <th>3</th>\n",
       "      <td>4</td>\n",
       "      <td>Waiting to Exhale (1995)</td>\n",
       "      <td>Comedy|Drama|Romance</td>\n",
       "      <td>None</td>\n",
       "    </tr>\n",
       "    <tr>\n",
       "      <th>4</th>\n",
       "      <td>5</td>\n",
       "      <td>Father of the Bride Part II (1995)</td>\n",
       "      <td>Comedy</td>\n",
       "      <td>None</td>\n",
       "    </tr>\n",
       "    <tr>\n",
       "      <th>...</th>\n",
       "      <td>...</td>\n",
       "      <td>...</td>\n",
       "      <td>...</td>\n",
       "      <td>...</td>\n",
       "    </tr>\n",
       "    <tr>\n",
       "      <th>62418</th>\n",
       "      <td>209157</td>\n",
       "      <td>We (2018)</td>\n",
       "      <td>Drama</td>\n",
       "      <td>None</td>\n",
       "    </tr>\n",
       "    <tr>\n",
       "      <th>62419</th>\n",
       "      <td>209159</td>\n",
       "      <td>Window of the Soul (2001)</td>\n",
       "      <td>Documentary</td>\n",
       "      <td>None</td>\n",
       "    </tr>\n",
       "    <tr>\n",
       "      <th>62420</th>\n",
       "      <td>209163</td>\n",
       "      <td>Bad Poems (2018)</td>\n",
       "      <td>Comedy|Drama</td>\n",
       "      <td>None</td>\n",
       "    </tr>\n",
       "    <tr>\n",
       "      <th>62421</th>\n",
       "      <td>209169</td>\n",
       "      <td>A Girl Thing (2001)</td>\n",
       "      <td>(no genres listed)</td>\n",
       "      <td>None</td>\n",
       "    </tr>\n",
       "    <tr>\n",
       "      <th>62422</th>\n",
       "      <td>209171</td>\n",
       "      <td>Women of Devil's Island (1962)</td>\n",
       "      <td>Action|Adventure|Drama</td>\n",
       "      <td>None</td>\n",
       "    </tr>\n",
       "  </tbody>\n",
       "</table>\n",
       "<p>62423 rows × 4 columns</p>\n",
       "</div>"
      ],
      "text/plain": [
       "       movieId                               title  \\\n",
       "0            1                    Toy Story (1995)   \n",
       "1            2                      Jumanji (1995)   \n",
       "2            3             Grumpier Old Men (1995)   \n",
       "3            4            Waiting to Exhale (1995)   \n",
       "4            5  Father of the Bride Part II (1995)   \n",
       "...        ...                                 ...   \n",
       "62418   209157                           We (2018)   \n",
       "62419   209159           Window of the Soul (2001)   \n",
       "62420   209163                    Bad Poems (2018)   \n",
       "62421   209169                 A Girl Thing (2001)   \n",
       "62422   209171      Women of Devil's Island (1962)   \n",
       "\n",
       "                                            genres   url  \n",
       "0      Adventure|Animation|Children|Comedy|Fantasy  None  \n",
       "1                       Adventure|Children|Fantasy  None  \n",
       "2                                   Comedy|Romance  None  \n",
       "3                             Comedy|Drama|Romance  None  \n",
       "4                                           Comedy  None  \n",
       "...                                            ...   ...  \n",
       "62418                                        Drama  None  \n",
       "62419                                  Documentary  None  \n",
       "62420                                 Comedy|Drama  None  \n",
       "62421                           (no genres listed)  None  \n",
       "62422                       Action|Adventure|Drama  None  \n",
       "\n",
       "[62423 rows x 4 columns]"
      ]
     },
     "execution_count": 46,
     "metadata": {},
     "output_type": "execute_result"
    }
   ],
   "source": [
    "movies"
   ]
  },
  {
   "cell_type": "code",
   "execution_count": 33,
   "id": "f2a5f0df-46da-46a8-a059-261d95f41441",
   "metadata": {
    "pycharm": {
     "name": "#%%\n"
    },
    "tags": []
   },
   "outputs": [],
   "source": [
    "    data_to_insert = url\n",
    "    condition = f\"title = '{title}'\""
   ]
  },
  {
   "cell_type": "code",
   "execution_count": 29,
   "id": "439191b3-7e7f-4101-bcc1-9e3782983bba",
   "metadata": {
    "pycharm": {
     "name": "#%%\n"
    },
    "tags": []
   },
   "outputs": [
    {
     "data": {
      "text/plain": [
       "'https://m.media-amazon.com/images/M/MV5BMDU2ZWJlMjktMTRhMy00ZTA5LWEzNDgtYmNmZTEwZTViZWJkXkEyXkFqcGdeQXVyNDQ2OTk4MzI@._V1_.jpg'"
      ]
     },
     "execution_count": 29,
     "metadata": {},
     "output_type": "execute_result"
    }
   ],
   "source": [
    "data_to_insert"
   ]
  },
  {
   "cell_type": "code",
   "execution_count": 35,
   "id": "1c366b4f-09e7-4b6b-af6a-be99df916f86",
   "metadata": {
    "pycharm": {
     "name": "#%%\n"
    },
    "tags": []
   },
   "outputs": [
    {
     "data": {
      "text/plain": [
       "\"title = 'Toy Story (1995)'\""
      ]
     },
     "execution_count": 35,
     "metadata": {},
     "output_type": "execute_result"
    }
   ],
   "source": [
    "condition"
   ]
  },
  {
   "cell_type": "code",
   "execution_count": 40,
   "id": "03fdcc67-3ba2-409d-ac87-318c951fbad8",
   "metadata": {
    "pycharm": {
     "name": "#%%\n"
    },
    "tags": []
   },
   "outputs": [
    {
     "data": {
      "text/plain": [
       "\"INSERT INTO my_table (url) VALUE ('https://m.media-amazon.com/images/M/MV5BMDU2ZWJlMjktMTRhMy00ZTA5LWEzNDgtYmNmZTEwZTViZWJkXkEyXkFqcGdeQXVyNDQ2OTk4MzI@._V1_.jpg') WHERE title = Toy Story (1995)\""
      ]
     },
     "execution_count": 40,
     "metadata": {},
     "output_type": "execute_result"
    }
   ],
   "source": [
    "insert_query"
   ]
  },
  {
   "cell_type": "code",
   "execution_count": 38,
   "id": "701e5216-5218-47b3-a8eb-5dcbe20e7215",
   "metadata": {
    "pycharm": {
     "name": "#%%\n"
    },
    "tags": []
   },
   "outputs": [
    {
     "data": {
      "text/plain": [
       "\"INSERT INTO my_table (name, age) VALUES ('John', 35) WHERE age >= 30\""
      ]
     },
     "execution_count": 38,
     "metadata": {},
     "output_type": "execute_result"
    }
   ],
   "source": [
    "# 삽입할 데이터\n",
    "name = \"John\"\n",
    "age = 35\n",
    "\n",
    "# 조건\n",
    "condition = \"age >= 30\"\n",
    "\n",
    "# 데이터 삽입 SQL 쿼리 작성\n",
    "insert_query = f\"INSERT INTO my_table (name, age) VALUES ('{name}', {age}) WHERE {condition}\"\n",
    "insert_query"
   ]
  },
  {
   "cell_type": "code",
   "execution_count": null,
   "id": "9f0985cf-6e21-40c9-a2a0-2af70ff7187a",
   "metadata": {
    "pycharm": {
     "name": "#%%\n"
    }
   },
   "outputs": [],
   "source": [
    "UPDATE my_table SET url = 'https://m.media-amazon.com/images/M/MV5BMDU2ZWJlMjktMTRhMy00ZTA5LWEzNDgtYmNmZTEwZTViZWJkXkEyXkFqcGdeQXVyNDQ2OTk4MzI@._V1_.jpg' WHERE title = 'Toy Story (1995)';\n"
   ]
  },
  {
   "cell_type": "code",
   "execution_count": 42,
   "id": "234fe57a-71b3-45fa-871f-e888c9296bea",
   "metadata": {
    "pycharm": {
     "name": "#%%\n"
    },
    "tags": []
   },
   "outputs": [
    {
     "data": {
      "text/plain": [
       "\"UPDATE movies SET url = https://m.media-amazon.com/images/M/MV5BMDU2ZWJlMjktMTRhMy00ZTA5LWEzNDgtYmNmZTEwZTViZWJkXkEyXkFqcGdeQXVyNDQ2OTk4MzI@._V1_.jpg WHERE title = 'Toy Story (1995)'\""
      ]
     },
     "execution_count": 42,
     "metadata": {},
     "output_type": "execute_result"
    }
   ],
   "source": [
    "insert_query"
   ]
  },
  {
   "cell_type": "code",
   "execution_count": 49,
   "id": "51d503b6-cf6b-44f3-8240-9bfb7c9b6b38",
   "metadata": {
    "pycharm": {
     "name": "#%%\n"
    },
    "tags": []
   },
   "outputs": [],
   "source": [
    "\n",
    "\n"
   ]
  },
  {
   "cell_type": "code",
   "execution_count": null,
   "id": "5fe3b6e1-9995-4611-bea3-08a7eff7b6ea",
   "metadata": {
    "pycharm": {
     "name": "#%%\n"
    }
   },
   "outputs": [],
   "source": [
    "# import pymysql\n",
    "\n",
    "# # MySQL 서버에 연결\n",
    "# db = pymysql.connect(\n",
    "#     host='localhost',  # MySQL 서버 호스트\n",
    "#     user='사용자명',    # MySQL 사용자명\n",
    "#     password='비밀번호', # MySQL 비밀번호\n",
    "#     database='데이터베이스명'  # 사용할 데이터베이스 이름\n",
    "# )\n",
    "\n",
    "# # 커서 생성\n",
    "# cursor = db.cursor()\n",
    "\n",
    "# 삽입할 데이터와 조건\n",
    "data_to_insert = \"삽입할 데이터 값\"\n",
    "condition = \"조건 필드=조건 값\"\n",
    "\n",
    "# 데이터 삽입 SQL 쿼리 작성\n",
    "insert_query = f\"INSERT INTO my_table (column_name) VALUES ('{data_to_insert}') WHERE {condition}\"\n",
    "\n",
    "# SQL 쿼리 실행\n",
    "try:\n",
    "    cursor.execute(insert_query)\n",
    "    db.commit()  # 변경 내용을 커밋\n",
    "    print(\"데이터 삽입 성공\")\n",
    "except Exception as e:\n",
    "    db.rollback()  # 롤백하여 변경 내용 취소\n",
    "    print(f\"데이터 삽입 실패: {str(e)}\")\n",
    "\n",
    "# 연결과 커서 닫기\n",
    "cursor.close()\n",
    "db.close()\n"
   ]
  },
  {
   "cell_type": "code",
   "execution_count": null,
   "id": "91899862-3bd1-49fa-aee8-8b823d603b15",
   "metadata": {
    "pycharm": {
     "name": "#%%\n"
    }
   },
   "outputs": [],
   "source": [
    "\"\"\"INSERT INTO movies(url)\n",
    "\"\"\""
   ]
  },
  {
   "cell_type": "code",
   "execution_count": null,
   "id": "9886805e-16a7-4a34-a326-0d5e1570a808",
   "metadata": {
    "pycharm": {
     "name": "#%%\n"
    }
   },
   "outputs": [],
   "source": []
  },
  {
   "cell_type": "code",
   "execution_count": 9,
   "id": "28383c30-ae9c-4459-b3c2-83f936c3f3d6",
   "metadata": {
    "pycharm": {
     "name": "#%%\n"
    },
    "tags": []
   },
   "outputs": [
    {
     "data": {
      "text/plain": [
       "28"
      ]
     },
     "execution_count": 9,
     "metadata": {},
     "output_type": "execute_result"
    }
   ],
   "source": [
    "i"
   ]
  },
  {
   "cell_type": "code",
   "execution_count": 67,
   "id": "1bf6c4bf-0ef7-4d78-8a2f-44513d28107c",
   "metadata": {
    "pycharm": {
     "name": "#%%\n"
    },
    "tags": []
   },
   "outputs": [
    {
     "data": {
      "text/plain": [
       "'Postman, The (Postino, Il) (1994)'"
      ]
     },
     "execution_count": 67,
     "metadata": {},
     "output_type": "execute_result"
    }
   ],
   "source": [
    "title"
   ]
  },
  {
   "cell_type": "code",
   "execution_count": 37,
   "id": "605522fd-d4c7-42aa-8e28-b21f4ddbd99d",
   "metadata": {
    "pycharm": {
     "name": "#%%\n"
    },
    "tags": []
   },
   "outputs": [],
   "source": []
  },
  {
   "cell_type": "code",
   "execution_count": 38,
   "id": "a7f1f8bf-a154-4bd7-a3f3-6f3535d17305",
   "metadata": {
    "pycharm": {
     "name": "#%%\n"
    },
    "tags": []
   },
   "outputs": [],
   "source": [
    "img = driver.find_element(by=By.XPATH, value='//*[@id=\"__next\"]/main/div[2]/div[3]/div[4]/img')"
   ]
  },
  {
   "cell_type": "code",
   "execution_count": 40,
   "id": "86eb4e8b-9abd-45e7-a739-e0750929d5c3",
   "metadata": {
    "pycharm": {
     "name": "#%%\n"
    },
    "tags": []
   },
   "outputs": [
    {
     "data": {
      "text/plain": [
       "'https://m.media-amazon.com/images/M/MV5BMDU2ZWJlMjktMTRhMy00ZTA5LWEzNDgtYmNmZTEwZTViZWJkXkEyXkFqcGdeQXVyNDQ2OTk4MzI@._V1_.jpg'"
      ]
     },
     "execution_count": 40,
     "metadata": {},
     "output_type": "execute_result"
    }
   ],
   "source": [
    "img.get_attribute('src')"
   ]
  },
  {
   "cell_type": "code",
   "execution_count": null,
   "id": "ebd7f6b8-a7e6-47e2-bd34-1733c7861847",
   "metadata": {
    "pycharm": {
     "name": "#%%\n"
    }
   },
   "outputs": [],
   "source": []
  },
  {
   "cell_type": "code",
   "execution_count": 14,
   "id": "b3b42f74-2aff-4ac8-a482-4561ed995c06",
   "metadata": {
    "pycharm": {
     "name": "#%%\n"
    }
   },
   "outputs": [],
   "source": [
    "import os\n",
    "\n",
    "import pandas as pd\n",
    "import pymysql\n",
    "\n",
    "\n",
    "class MysqlClient:\n",
    "    def __init__(self):\n",
    "        self.endpoint = \"pseudorec.cvhv2t0obyv3.ap-northeast-2.rds.amazonaws.com\"\n",
    "        self.port = 3306\n",
    "        self.user = \"admin\"\n",
    "        self.region = \"ap-northeast-2c\"\n",
    "        self.dbname = \"movielens25m\"\n",
    "        self.passwd = os.environ['RDS_MYSQL_PW']\n",
    "        os.environ['LIBMYSQL_ENABLE_CLEARTEXT_PLUGIN'] = '1'\n",
    "        # self.connection = pymysql.connect(host=endpoint, user=user, passwd=passwd, port=port, database=dbname)\n",
    "\n",
    "    def get_connection(self):\n",
    "        connection = pymysql.connect(host=self.endpoint, user=self.user, passwd=self.passwd, port=self.port,\n",
    "                                     database=self.dbname)\n",
    "        return connection\n",
    "\n",
    "    def get_count(self, table_name):\n",
    "        with self.get_connection().cursor() as cursor:\n",
    "            cursor.execute(f\"select count(*) from {table_name}\")\n",
    "            return cursor.fetchall()[0][0]\n",
    "\n",
    "    def get_movies(self):\n",
    "        with self.get_connection() as connection:\n",
    "            df = pd.read_sql(sql='select * from movies', con=connection)\n",
    "            return df\n",
    "\n",
    "\n",
    "    def get_url(self, title):\n",
    "        with mysql.get_connection() as connection:\n",
    "            cursor = connection.cursor()\n",
    "            cursor.execute(f\"\"\"\n",
    "            select url from movies where title = '{title}'\n",
    "            \"\"\")\n",
    "            url = cursor.fetchall()[0][0]\n",
    "            return url"
   ]
  },
  {
   "cell_type": "code",
   "execution_count": 15,
   "id": "cf2b7be2-6d58-4710-88e6-54ac6060abd1",
   "metadata": {
    "pycharm": {
     "name": "#%%\n"
    }
   },
   "outputs": [],
   "source": [
    "mysql = MysqlClient()"
   ]
  },
  {
   "cell_type": "code",
   "execution_count": 41,
   "id": "37f1fcae-3de9-4136-b160-621890d7e86c",
   "metadata": {
    "pycharm": {
     "name": "#%%\n"
    },
    "tags": []
   },
   "outputs": [
    {
     "name": "stderr",
     "output_type": "stream",
     "text": [
      "/Users/kyeongchanlee/PycharmProjects/recsys_service_deployment/clients.py:30: UserWarning: pandas only supports SQLAlchemy connectable (engine/connection) or database string URI or sqlite3 DBAPI2 connection. Other DBAPI2 objects are not tested. Please consider using SQLAlchemy.\n",
      "  df = pd.read_sql(sql='select * from movies', con=connection)\n"
     ]
    },
    {
     "data": {
      "text/html": [
       "<div>\n",
       "<style scoped>\n",
       "    .dataframe tbody tr th:only-of-type {\n",
       "        vertical-align: middle;\n",
       "    }\n",
       "\n",
       "    .dataframe tbody tr th {\n",
       "        vertical-align: top;\n",
       "    }\n",
       "\n",
       "    .dataframe thead th {\n",
       "        text-align: right;\n",
       "    }\n",
       "</style>\n",
       "<table border=\"1\" class=\"dataframe\">\n",
       "  <thead>\n",
       "    <tr style=\"text-align: right;\">\n",
       "      <th></th>\n",
       "      <th>movieId</th>\n",
       "      <th>title</th>\n",
       "      <th>genres</th>\n",
       "      <th>url</th>\n",
       "    </tr>\n",
       "  </thead>\n",
       "  <tbody>\n",
       "    <tr>\n",
       "      <th>0</th>\n",
       "      <td>1</td>\n",
       "      <td>Toy Story (1995)</td>\n",
       "      <td>Adventure|Animation|Children|Comedy|Fantasy</td>\n",
       "      <td>https://m.media-amazon.com/images/M/MV5BMDU2ZW...</td>\n",
       "    </tr>\n",
       "    <tr>\n",
       "      <th>1</th>\n",
       "      <td>2</td>\n",
       "      <td>Jumanji (1995)</td>\n",
       "      <td>Adventure|Children|Fantasy</td>\n",
       "      <td>https://m.media-amazon.com/images/M/MV5BZTk2Zm...</td>\n",
       "    </tr>\n",
       "    <tr>\n",
       "      <th>2</th>\n",
       "      <td>3</td>\n",
       "      <td>Grumpier Old Men (1995)</td>\n",
       "      <td>Comedy|Romance</td>\n",
       "      <td>https://m.media-amazon.com/images/M/MV5BMjQxM2...</td>\n",
       "    </tr>\n",
       "    <tr>\n",
       "      <th>3</th>\n",
       "      <td>4</td>\n",
       "      <td>Waiting to Exhale (1995)</td>\n",
       "      <td>Comedy|Drama|Romance</td>\n",
       "      <td>https://m.media-amazon.com/images/M/MV5BYzcyMD...</td>\n",
       "    </tr>\n",
       "    <tr>\n",
       "      <th>4</th>\n",
       "      <td>5</td>\n",
       "      <td>Father of the Bride Part II (1995)</td>\n",
       "      <td>Comedy</td>\n",
       "      <td>https://m.media-amazon.com/images/M/MV5BOTEyNz...</td>\n",
       "    </tr>\n",
       "    <tr>\n",
       "      <th>...</th>\n",
       "      <td>...</td>\n",
       "      <td>...</td>\n",
       "      <td>...</td>\n",
       "      <td>...</td>\n",
       "    </tr>\n",
       "    <tr>\n",
       "      <th>62418</th>\n",
       "      <td>209157</td>\n",
       "      <td>We (2018)</td>\n",
       "      <td>Drama</td>\n",
       "      <td>None</td>\n",
       "    </tr>\n",
       "    <tr>\n",
       "      <th>62419</th>\n",
       "      <td>209159</td>\n",
       "      <td>Window of the Soul (2001)</td>\n",
       "      <td>Documentary</td>\n",
       "      <td>None</td>\n",
       "    </tr>\n",
       "    <tr>\n",
       "      <th>62420</th>\n",
       "      <td>209163</td>\n",
       "      <td>Bad Poems (2018)</td>\n",
       "      <td>Comedy|Drama</td>\n",
       "      <td>None</td>\n",
       "    </tr>\n",
       "    <tr>\n",
       "      <th>62421</th>\n",
       "      <td>209169</td>\n",
       "      <td>A Girl Thing (2001)</td>\n",
       "      <td>(no genres listed)</td>\n",
       "      <td>None</td>\n",
       "    </tr>\n",
       "    <tr>\n",
       "      <th>62422</th>\n",
       "      <td>209171</td>\n",
       "      <td>Women of Devil's Island (1962)</td>\n",
       "      <td>Action|Adventure|Drama</td>\n",
       "      <td>None</td>\n",
       "    </tr>\n",
       "  </tbody>\n",
       "</table>\n",
       "<p>62423 rows × 4 columns</p>\n",
       "</div>"
      ],
      "text/plain": [
       "       movieId                               title  \\\n",
       "0            1                    Toy Story (1995)   \n",
       "1            2                      Jumanji (1995)   \n",
       "2            3             Grumpier Old Men (1995)   \n",
       "3            4            Waiting to Exhale (1995)   \n",
       "4            5  Father of the Bride Part II (1995)   \n",
       "...        ...                                 ...   \n",
       "62418   209157                           We (2018)   \n",
       "62419   209159           Window of the Soul (2001)   \n",
       "62420   209163                    Bad Poems (2018)   \n",
       "62421   209169                 A Girl Thing (2001)   \n",
       "62422   209171      Women of Devil's Island (1962)   \n",
       "\n",
       "                                            genres  \\\n",
       "0      Adventure|Animation|Children|Comedy|Fantasy   \n",
       "1                       Adventure|Children|Fantasy   \n",
       "2                                   Comedy|Romance   \n",
       "3                             Comedy|Drama|Romance   \n",
       "4                                           Comedy   \n",
       "...                                            ...   \n",
       "62418                                        Drama   \n",
       "62419                                  Documentary   \n",
       "62420                                 Comedy|Drama   \n",
       "62421                           (no genres listed)   \n",
       "62422                       Action|Adventure|Drama   \n",
       "\n",
       "                                                     url  \n",
       "0      https://m.media-amazon.com/images/M/MV5BMDU2ZW...  \n",
       "1      https://m.media-amazon.com/images/M/MV5BZTk2Zm...  \n",
       "2      https://m.media-amazon.com/images/M/MV5BMjQxM2...  \n",
       "3      https://m.media-amazon.com/images/M/MV5BYzcyMD...  \n",
       "4      https://m.media-amazon.com/images/M/MV5BOTEyNz...  \n",
       "...                                                  ...  \n",
       "62418                                               None  \n",
       "62419                                               None  \n",
       "62420                                               None  \n",
       "62421                                               None  \n",
       "62422                                               None  \n",
       "\n",
       "[62423 rows x 4 columns]"
      ]
     },
     "execution_count": 41,
     "metadata": {},
     "output_type": "execute_result"
    }
   ],
   "source": [
    "mysql.get_movies()"
   ]
  },
  {
   "cell_type": "code",
   "execution_count": 42,
   "id": "2afe3509-7057-49ef-bdf7-14cfe21d5bbb",
   "metadata": {
    "pycharm": {
     "name": "#%%\n"
    },
    "tags": []
   },
   "outputs": [
    {
     "data": {
      "text/plain": [
       "'https://m.media-amazon.com/images/M/MV5BMDU2ZWJlMjktMTRhMy00ZTA5LWEzNDgtYmNmZTEwZTViZWJkXkEyXkFqcGdeQXVyNDQ2OTk4MzI@._V1_.jpg'"
      ]
     },
     "execution_count": 42,
     "metadata": {},
     "output_type": "execute_result"
    }
   ],
   "source": [
    "mysql.get_url('Toy Story (1995)')"
   ]
  },
  {
   "cell_type": "code",
   "execution_count": 43,
   "id": "84fbff84-982d-435c-a8c3-96d75f9fe96e",
   "metadata": {
    "pycharm": {
     "name": "#%%\n"
    },
    "tags": []
   },
   "outputs": [],
   "source": [
    "import os\n",
    "os.environ['RDS_MYSQL_PW'] = 'Precsys1!'"
   ]
  },
  {
   "cell_type": "code",
   "execution_count": 12,
   "id": "68402e1f-a555-4734-87c5-2ed358558ec9",
   "metadata": {
    "pycharm": {
     "name": "#%%\n"
    },
    "tags": []
   },
   "outputs": [],
   "source": []
  },
  {
   "cell_type": "code",
   "execution_count": 13,
   "id": "566bfb19-5203-45af-ac76-cec1925503fb",
   "metadata": {
    "pycharm": {
     "name": "#%%\n"
    },
    "tags": []
   },
   "outputs": [
    {
     "data": {
      "text/plain": [
       "'https://m.media-amazon.com/images/M/MV5BMDU2ZWJlMjktMTRhMy00ZTA5LWEzNDgtYmNmZTEwZTViZWJkXkEyXkFqcGdeQXVyNDQ2OTk4MzI@._V1_.jpg'"
      ]
     },
     "execution_count": 13,
     "metadata": {},
     "output_type": "execute_result"
    }
   ],
   "source": [
    "url"
   ]
  },
  {
   "cell_type": "code",
   "execution_count": null,
   "id": "a74211c7-eb4f-4c9c-a24d-c13a97a26a85",
   "metadata": {
    "pycharm": {
     "name": "#%%\n"
    }
   },
   "outputs": [],
   "source": []
  },
  {
   "cell_type": "code",
   "execution_count": 29,
   "id": "77a2ee0d-de34-4321-bcf8-c583ef3e9516",
   "metadata": {
    "pycharm": {
     "name": "#%%\n"
    },
    "tags": []
   },
   "outputs": [],
   "source": [
    "from urllib.robotparser import RobotFileParser\n",
    "from requests.compat import urlparse, urljoin\n",
    "from requests.exceptions import HTTPError\n",
    "import requests\n",
    "from bs4 import BeautifulSoup"
   ]
  },
  {
   "cell_type": "code",
   "execution_count": 30,
   "id": "e2398fef-7a20-43f4-964c-2ed696b1c5ee",
   "metadata": {
    "pycharm": {
     "name": "#%%\n"
    },
    "tags": []
   },
   "outputs": [],
   "source": [
    "def canfetch(url, agent='*', path='/'):\n",
    "    robot = RobotFileParser(urljoin(url, '/robots.txt'))\n",
    "    robot.read()\n",
    "    return robot.can_fetch(agent, urlparse(url)[2])\n",
    "\n",
    "def download(url, params={}, headers={}, method='GET', limit=3):\n",
    "    if canfetch(url) is False:\n",
    "        print('[Error] ' + url)\n",
    "#     else:\n",
    "    try:\n",
    "        resp = requests.request(method,\n",
    "                                url,\n",
    "                                params=params if method == 'GET' else {},\n",
    "                                data=params if method == 'POST' else {},\n",
    "                                headers=headers)\n",
    "        resp.raise_for_status()\n",
    "    except HTTPError as e:\n",
    "        if limit > 0 and e.response.status_code >= 500:\n",
    "            print(limit)\n",
    "            time.sleep(1)  # => random\n",
    "            resp = download(url, params, headers, method, limit-1)\n",
    "        else:\n",
    "            print('[{}] '.format(e.response.status_code) + url)\n",
    "            print(e.response.status_code)\n",
    "            print(e.response.reason)\n",
    "            print(e.response.headers)\n",
    "    return resp"
   ]
  },
  {
   "cell_type": "code",
   "execution_count": 37,
   "id": "e23b48c6-f8b6-4690-b93b-950588eafec7",
   "metadata": {
    "pycharm": {
     "name": "#%%\n"
    },
    "tags": []
   },
   "outputs": [
    {
     "data": {
      "text/plain": [
       "{'q': 'Toy Story (1995)'}"
      ]
     },
     "execution_count": 37,
     "metadata": {},
     "output_type": "execute_result"
    }
   ],
   "source": [
    "params"
   ]
  },
  {
   "cell_type": "code",
   "execution_count": 40,
   "id": "295e7eaf-93e1-4b9a-859c-fae9ad792b9a",
   "metadata": {
    "pycharm": {
     "name": "#%%\n"
    },
    "tags": []
   },
   "outputs": [
    {
     "data": {
      "text/plain": [
       "b'<html>\\n<head>\\n<style>\\nimg{\\n\\twidth:75px;\\n}\\ntable{\\n\\twidth:50%;\\n}\\ntd{\\n\\tmargin:10px;\\n\\tpadding:10px;\\n}\\n.wrapper{\\n\\twidth:800px;\\n}\\n.excitingNote{\\n\\tfont-style:italic;\\n\\tfont-weight:bold;\\n}\\n</style>\\n</head>\\n<body>\\n<div id=\"wrapper\">\\n<img src=\"../img/gifts/logo.jpg\" style=\"float:left;\">\\n<h1>Totally Normal Gifts</h1>\\n<div id=\"content\">Here is a collection of totally normal, totally reasonable gifts that your friends are sure to love! Our collection is\\nhand-curated by well-paid, free-range Tibetan monks.<p>\\nWe haven\\'t figured out how to make online shopping carts yet, but you can send us a check to:<br>\\n123 Main St.<br>\\nAbuja, Nigeria\\n</br>We will then send your totally amazing gift, pronto! Please include an extra $5.00 for gift wrapping.</div>\\n<table id=\"giftList\">\\n<tr><th>\\nItem Title\\n</th><th>\\nDescription\\n</th><th>\\nCost\\n</th><th>\\nImage\\n</th></tr>\\n\\n<tr id=\"gift1\" class=\"gift\"><td>\\nVegetable Basket\\n</td><td>\\nThis vegetable basket is the perfect gift for your health conscious (or overweight) friends!\\n<span class=\"excitingNote\">Now with super-colorful bell peppers!</span>\\n</td><td>\\n$15.00\\n</td><td>\\n<img src=\"../img/gifts/img1.jpg\">\\n</td></tr>\\n\\n<tr id=\"gift2\" class=\"gift\"><td>\\nRussian Nesting Dolls\\n</td><td>\\nHand-painted by trained monkeys, these exquisite dolls are priceless! And by \"priceless,\" we mean \"extremely expensive\"! <span class=\"excitingNote\">8 entire dolls per set! Octuple the presents!</span>\\n</td><td>\\n$10,000.52\\n</td><td>\\n<img src=\"../img/gifts/img2.jpg\">\\n</td></tr>\\n\\n<tr id=\"gift3\" class=\"gift\"><td>\\nFish Painting\\n</td><td>\\nIf something seems fishy about this painting, it\\'s because it\\'s a fish! <span class=\"excitingNote\">Also hand-painted by trained monkeys!</span>\\n</td><td>\\n$10,005.00\\n</td><td>\\n<img src=\"../img/gifts/img3.jpg\">\\n</td></tr>\\n\\n<tr id=\"gift4\" class=\"gift\"><td>\\nDead Parrot\\n</td><td>\\nThis is an ex-parrot! <span class=\"excitingNote\">Or maybe he\\'s only resting?</span>\\n</td><td>\\n$0.50\\n</td><td>\\n<img src=\"../img/gifts/img4.jpg\">\\n</td></tr>\\n\\n<tr id=\"gift5\" class=\"gift\"><td>\\nMystery Box\\n</td><td>\\nIf you love suprises, this mystery box is for you! Do not place on light-colored surfaces. May cause oil staining. <span class=\"excitingNote\">Keep your friends guessing!</span>\\n</td><td>\\n$1.50\\n</td><td>\\n<img src=\"../img/gifts/img6.jpg\">\\n</td></tr>\\n</table>\\n</p>\\n<div id=\"footer\">\\n&copy; Totally Normal Gifts, Inc. <br>\\n+234 (617) 863-0736\\n</div>\\n\\n</div>\\n</body>\\n</html>\\n'"
      ]
     },
     "execution_count": 40,
     "metadata": {},
     "output_type": "execute_result"
    }
   ],
   "source": [
    "resp.content"
   ]
  },
  {
   "cell_type": "code",
   "execution_count": 47,
   "id": "4c92dd77-2a42-41e3-ac7b-7d4ec697960e",
   "metadata": {
    "pycharm": {
     "name": "#%%\n"
    },
    "tags": []
   },
   "outputs": [],
   "source": [
    "resp = requests.request(method='POST',\n",
    "                        url='https://www.imdb.com/find/?q=Toy Story (1995)',\n",
    "                        # params=params if method == 'GET' else {},\n",
    "                        # data=params if method == 'POST' else {},\n",
    "                        # headers=headers\n",
    "                       )"
   ]
  },
  {
   "cell_type": "code",
   "execution_count": 48,
   "id": "7c14318f-9265-4978-a1ff-cc13c9fe0c05",
   "metadata": {
    "pycharm": {
     "name": "#%%\n"
    },
    "tags": []
   },
   "outputs": [
    {
     "data": {
      "text/plain": [
       "<Response [403]>"
      ]
     },
     "execution_count": 48,
     "metadata": {},
     "output_type": "execute_result"
    }
   ],
   "source": [
    "resp"
   ]
  },
  {
   "cell_type": "code",
   "execution_count": 49,
   "id": "fd0512bf-8b7c-414d-893d-a225ea6a3f4c",
   "metadata": {
    "pycharm": {
     "name": "#%%\n"
    },
    "tags": []
   },
   "outputs": [
    {
     "data": {
      "text/plain": [
       "b'<html>\\r\\n<head><title>403 Forbidden</title></head>\\r\\n<body>\\r\\n<center><h1>403 Forbidden</h1></center>\\r\\n</body>\\r\\n</html>\\r\\n'"
      ]
     },
     "execution_count": 49,
     "metadata": {},
     "output_type": "execute_result"
    }
   ],
   "source": [
    "resp.content"
   ]
  },
  {
   "cell_type": "code",
   "execution_count": 38,
   "id": "0c9810b2-1a08-4e83-9b93-2d4c7add8e1f",
   "metadata": {
    "pycharm": {
     "name": "#%%\n"
    },
    "tags": []
   },
   "outputs": [
    {
     "name": "stdout",
     "output_type": "stream",
     "text": [
      "[Error] https://www.imdb.com/find\n"
     ]
    },
    {
     "ename": "AttributeError",
     "evalue": "'str' object has no attribute 'items'",
     "output_type": "error",
     "traceback": [
      "\u001B[0;31m---------------------------------------------------------------------------\u001B[0m",
      "\u001B[0;31mAttributeError\u001B[0m                            Traceback (most recent call last)",
      "Cell \u001B[0;32mIn[38], line 14\u001B[0m\n\u001B[1;32m      9\u001B[0m params[\u001B[38;5;124m'\u001B[39m\u001B[38;5;124mq\u001B[39m\u001B[38;5;124m'\u001B[39m]\u001B[38;5;241m=\u001B[39m \u001B[38;5;124m'\u001B[39m\u001B[38;5;124mToy Story (1995)\u001B[39m\u001B[38;5;124m'\u001B[39m\n\u001B[1;32m     10\u001B[0m headers \u001B[38;5;241m=\u001B[39m {\n\u001B[1;32m     11\u001B[0m     \u001B[38;5;124m'\u001B[39m\u001B[38;5;124muser-agent\u001B[39m\u001B[38;5;124m'\u001B[39m: \u001B[38;5;124m'\u001B[39m\u001B[38;5;124mMozilla/5.0 (Windows NT 10.0; Win64; x64) AppleWebKit/\u001B[39m\u001B[38;5;130;01m\\\u001B[39;00m\n\u001B[1;32m     12\u001B[0m \u001B[38;5;124m        537.36 (KHTML, like Gecko) Chrome/86.0.4240.183 Safari/537.36\u001B[39m\u001B[38;5;124m'\u001B[39m\n\u001B[1;32m     13\u001B[0m     }\n\u001B[0;32m---> 14\u001B[0m resp \u001B[38;5;241m=\u001B[39m \u001B[43mdownload\u001B[49m\u001B[43m(\u001B[49m\u001B[43murl\u001B[49m\u001B[43m,\u001B[49m\u001B[43m \u001B[49m\n\u001B[1;32m     15\u001B[0m \u001B[43m                \u001B[49m\u001B[43mparams\u001B[49m\u001B[43m,\u001B[49m\u001B[43m \u001B[49m\n\u001B[1;32m     16\u001B[0m \u001B[43m                \u001B[49m\u001B[38;5;66;43;03m# headers, \u001B[39;49;00m\n\u001B[1;32m     17\u001B[0m \u001B[43m                \u001B[49m\u001B[38;5;124;43m'\u001B[39;49m\u001B[38;5;124;43mPOST\u001B[39;49m\u001B[38;5;124;43m'\u001B[39;49m\u001B[43m)\u001B[49m\n\u001B[1;32m     18\u001B[0m dom \u001B[38;5;241m=\u001B[39m BeautifulSoup(resp\u001B[38;5;241m.\u001B[39mcontent, \u001B[38;5;124m'\u001B[39m\u001B[38;5;124mhtml.parser\u001B[39m\u001B[38;5;124m'\u001B[39m)\n",
      "Cell \u001B[0;32mIn[30], line 11\u001B[0m, in \u001B[0;36mdownload\u001B[0;34m(url, params, headers, method, limit)\u001B[0m\n\u001B[1;32m      9\u001B[0m \u001B[38;5;66;03m#     else:\u001B[39;00m\n\u001B[1;32m     10\u001B[0m     \u001B[38;5;28;01mtry\u001B[39;00m:\n\u001B[0;32m---> 11\u001B[0m         resp \u001B[38;5;241m=\u001B[39m \u001B[43mrequests\u001B[49m\u001B[38;5;241;43m.\u001B[39;49m\u001B[43mrequest\u001B[49m\u001B[43m(\u001B[49m\u001B[43mmethod\u001B[49m\u001B[43m,\u001B[49m\n\u001B[1;32m     12\u001B[0m \u001B[43m                                \u001B[49m\u001B[43murl\u001B[49m\u001B[43m,\u001B[49m\n\u001B[1;32m     13\u001B[0m \u001B[43m                                \u001B[49m\u001B[43mparams\u001B[49m\u001B[38;5;241;43m=\u001B[39;49m\u001B[43mparams\u001B[49m\u001B[43m \u001B[49m\u001B[38;5;28;43;01mif\u001B[39;49;00m\u001B[43m \u001B[49m\u001B[43mmethod\u001B[49m\u001B[43m \u001B[49m\u001B[38;5;241;43m==\u001B[39;49m\u001B[43m \u001B[49m\u001B[38;5;124;43m'\u001B[39;49m\u001B[38;5;124;43mGET\u001B[39;49m\u001B[38;5;124;43m'\u001B[39;49m\u001B[43m \u001B[49m\u001B[38;5;28;43;01melse\u001B[39;49;00m\u001B[43m \u001B[49m\u001B[43m{\u001B[49m\u001B[43m}\u001B[49m\u001B[43m,\u001B[49m\n\u001B[1;32m     14\u001B[0m \u001B[43m                                \u001B[49m\u001B[43mdata\u001B[49m\u001B[38;5;241;43m=\u001B[39;49m\u001B[43mparams\u001B[49m\u001B[43m \u001B[49m\u001B[38;5;28;43;01mif\u001B[39;49;00m\u001B[43m \u001B[49m\u001B[43mmethod\u001B[49m\u001B[43m \u001B[49m\u001B[38;5;241;43m==\u001B[39;49m\u001B[43m \u001B[49m\u001B[38;5;124;43m'\u001B[39;49m\u001B[38;5;124;43mPOST\u001B[39;49m\u001B[38;5;124;43m'\u001B[39;49m\u001B[43m \u001B[49m\u001B[38;5;28;43;01melse\u001B[39;49;00m\u001B[43m \u001B[49m\u001B[43m{\u001B[49m\u001B[43m}\u001B[49m\u001B[43m,\u001B[49m\n\u001B[1;32m     15\u001B[0m \u001B[43m                                \u001B[49m\u001B[43mheaders\u001B[49m\u001B[38;5;241;43m=\u001B[39;49m\u001B[43mheaders\u001B[49m\u001B[43m)\u001B[49m\n\u001B[1;32m     16\u001B[0m         resp\u001B[38;5;241m.\u001B[39mraise_for_status()\n\u001B[1;32m     17\u001B[0m     \u001B[38;5;28;01mexcept\u001B[39;00m HTTPError \u001B[38;5;28;01mas\u001B[39;00m e:\n",
      "File \u001B[0;32m/opt/homebrew/lib/python3.10/site-packages/requests/api.py:59\u001B[0m, in \u001B[0;36mrequest\u001B[0;34m(method, url, **kwargs)\u001B[0m\n\u001B[1;32m     55\u001B[0m \u001B[38;5;66;03m# By using the 'with' statement we are sure the session is closed, thus we\u001B[39;00m\n\u001B[1;32m     56\u001B[0m \u001B[38;5;66;03m# avoid leaving sockets open which can trigger a ResourceWarning in some\u001B[39;00m\n\u001B[1;32m     57\u001B[0m \u001B[38;5;66;03m# cases, and look like a memory leak in others.\u001B[39;00m\n\u001B[1;32m     58\u001B[0m \u001B[38;5;28;01mwith\u001B[39;00m sessions\u001B[38;5;241m.\u001B[39mSession() \u001B[38;5;28;01mas\u001B[39;00m session:\n\u001B[0;32m---> 59\u001B[0m     \u001B[38;5;28;01mreturn\u001B[39;00m \u001B[43msession\u001B[49m\u001B[38;5;241;43m.\u001B[39;49m\u001B[43mrequest\u001B[49m\u001B[43m(\u001B[49m\u001B[43mmethod\u001B[49m\u001B[38;5;241;43m=\u001B[39;49m\u001B[43mmethod\u001B[49m\u001B[43m,\u001B[49m\u001B[43m \u001B[49m\u001B[43murl\u001B[49m\u001B[38;5;241;43m=\u001B[39;49m\u001B[43murl\u001B[49m\u001B[43m,\u001B[49m\u001B[43m \u001B[49m\u001B[38;5;241;43m*\u001B[39;49m\u001B[38;5;241;43m*\u001B[39;49m\u001B[43mkwargs\u001B[49m\u001B[43m)\u001B[49m\n",
      "File \u001B[0;32m/opt/homebrew/lib/python3.10/site-packages/requests/sessions.py:575\u001B[0m, in \u001B[0;36mSession.request\u001B[0;34m(self, method, url, params, data, headers, cookies, files, auth, timeout, allow_redirects, proxies, hooks, stream, verify, cert, json)\u001B[0m\n\u001B[1;32m    562\u001B[0m \u001B[38;5;66;03m# Create the Request.\u001B[39;00m\n\u001B[1;32m    563\u001B[0m req \u001B[38;5;241m=\u001B[39m Request(\n\u001B[1;32m    564\u001B[0m     method\u001B[38;5;241m=\u001B[39mmethod\u001B[38;5;241m.\u001B[39mupper(),\n\u001B[1;32m    565\u001B[0m     url\u001B[38;5;241m=\u001B[39murl,\n\u001B[0;32m   (...)\u001B[0m\n\u001B[1;32m    573\u001B[0m     hooks\u001B[38;5;241m=\u001B[39mhooks,\n\u001B[1;32m    574\u001B[0m )\n\u001B[0;32m--> 575\u001B[0m prep \u001B[38;5;241m=\u001B[39m \u001B[38;5;28;43mself\u001B[39;49m\u001B[38;5;241;43m.\u001B[39;49m\u001B[43mprepare_request\u001B[49m\u001B[43m(\u001B[49m\u001B[43mreq\u001B[49m\u001B[43m)\u001B[49m\n\u001B[1;32m    577\u001B[0m proxies \u001B[38;5;241m=\u001B[39m proxies \u001B[38;5;129;01mor\u001B[39;00m {}\n\u001B[1;32m    579\u001B[0m settings \u001B[38;5;241m=\u001B[39m \u001B[38;5;28mself\u001B[39m\u001B[38;5;241m.\u001B[39mmerge_environment_settings(\n\u001B[1;32m    580\u001B[0m     prep\u001B[38;5;241m.\u001B[39murl, proxies, stream, verify, cert\n\u001B[1;32m    581\u001B[0m )\n",
      "File \u001B[0;32m/opt/homebrew/lib/python3.10/site-packages/requests/sessions.py:486\u001B[0m, in \u001B[0;36mSession.prepare_request\u001B[0;34m(self, request)\u001B[0m\n\u001B[1;32m    483\u001B[0m     auth \u001B[38;5;241m=\u001B[39m get_netrc_auth(request\u001B[38;5;241m.\u001B[39murl)\n\u001B[1;32m    485\u001B[0m p \u001B[38;5;241m=\u001B[39m PreparedRequest()\n\u001B[0;32m--> 486\u001B[0m \u001B[43mp\u001B[49m\u001B[38;5;241;43m.\u001B[39;49m\u001B[43mprepare\u001B[49m\u001B[43m(\u001B[49m\n\u001B[1;32m    487\u001B[0m \u001B[43m    \u001B[49m\u001B[43mmethod\u001B[49m\u001B[38;5;241;43m=\u001B[39;49m\u001B[43mrequest\u001B[49m\u001B[38;5;241;43m.\u001B[39;49m\u001B[43mmethod\u001B[49m\u001B[38;5;241;43m.\u001B[39;49m\u001B[43mupper\u001B[49m\u001B[43m(\u001B[49m\u001B[43m)\u001B[49m\u001B[43m,\u001B[49m\n\u001B[1;32m    488\u001B[0m \u001B[43m    \u001B[49m\u001B[43murl\u001B[49m\u001B[38;5;241;43m=\u001B[39;49m\u001B[43mrequest\u001B[49m\u001B[38;5;241;43m.\u001B[39;49m\u001B[43murl\u001B[49m\u001B[43m,\u001B[49m\n\u001B[1;32m    489\u001B[0m \u001B[43m    \u001B[49m\u001B[43mfiles\u001B[49m\u001B[38;5;241;43m=\u001B[39;49m\u001B[43mrequest\u001B[49m\u001B[38;5;241;43m.\u001B[39;49m\u001B[43mfiles\u001B[49m\u001B[43m,\u001B[49m\n\u001B[1;32m    490\u001B[0m \u001B[43m    \u001B[49m\u001B[43mdata\u001B[49m\u001B[38;5;241;43m=\u001B[39;49m\u001B[43mrequest\u001B[49m\u001B[38;5;241;43m.\u001B[39;49m\u001B[43mdata\u001B[49m\u001B[43m,\u001B[49m\n\u001B[1;32m    491\u001B[0m \u001B[43m    \u001B[49m\u001B[43mjson\u001B[49m\u001B[38;5;241;43m=\u001B[39;49m\u001B[43mrequest\u001B[49m\u001B[38;5;241;43m.\u001B[39;49m\u001B[43mjson\u001B[49m\u001B[43m,\u001B[49m\n\u001B[1;32m    492\u001B[0m \u001B[43m    \u001B[49m\u001B[43mheaders\u001B[49m\u001B[38;5;241;43m=\u001B[39;49m\u001B[43mmerge_setting\u001B[49m\u001B[43m(\u001B[49m\n\u001B[1;32m    493\u001B[0m \u001B[43m        \u001B[49m\u001B[43mrequest\u001B[49m\u001B[38;5;241;43m.\u001B[39;49m\u001B[43mheaders\u001B[49m\u001B[43m,\u001B[49m\u001B[43m \u001B[49m\u001B[38;5;28;43mself\u001B[39;49m\u001B[38;5;241;43m.\u001B[39;49m\u001B[43mheaders\u001B[49m\u001B[43m,\u001B[49m\u001B[43m \u001B[49m\u001B[43mdict_class\u001B[49m\u001B[38;5;241;43m=\u001B[39;49m\u001B[43mCaseInsensitiveDict\u001B[49m\n\u001B[1;32m    494\u001B[0m \u001B[43m    \u001B[49m\u001B[43m)\u001B[49m\u001B[43m,\u001B[49m\n\u001B[1;32m    495\u001B[0m \u001B[43m    \u001B[49m\u001B[43mparams\u001B[49m\u001B[38;5;241;43m=\u001B[39;49m\u001B[43mmerge_setting\u001B[49m\u001B[43m(\u001B[49m\u001B[43mrequest\u001B[49m\u001B[38;5;241;43m.\u001B[39;49m\u001B[43mparams\u001B[49m\u001B[43m,\u001B[49m\u001B[43m \u001B[49m\u001B[38;5;28;43mself\u001B[39;49m\u001B[38;5;241;43m.\u001B[39;49m\u001B[43mparams\u001B[49m\u001B[43m)\u001B[49m\u001B[43m,\u001B[49m\n\u001B[1;32m    496\u001B[0m \u001B[43m    \u001B[49m\u001B[43mauth\u001B[49m\u001B[38;5;241;43m=\u001B[39;49m\u001B[43mmerge_setting\u001B[49m\u001B[43m(\u001B[49m\u001B[43mauth\u001B[49m\u001B[43m,\u001B[49m\u001B[43m \u001B[49m\u001B[38;5;28;43mself\u001B[39;49m\u001B[38;5;241;43m.\u001B[39;49m\u001B[43mauth\u001B[49m\u001B[43m)\u001B[49m\u001B[43m,\u001B[49m\n\u001B[1;32m    497\u001B[0m \u001B[43m    \u001B[49m\u001B[43mcookies\u001B[49m\u001B[38;5;241;43m=\u001B[39;49m\u001B[43mmerged_cookies\u001B[49m\u001B[43m,\u001B[49m\n\u001B[1;32m    498\u001B[0m \u001B[43m    \u001B[49m\u001B[43mhooks\u001B[49m\u001B[38;5;241;43m=\u001B[39;49m\u001B[43mmerge_hooks\u001B[49m\u001B[43m(\u001B[49m\u001B[43mrequest\u001B[49m\u001B[38;5;241;43m.\u001B[39;49m\u001B[43mhooks\u001B[49m\u001B[43m,\u001B[49m\u001B[43m \u001B[49m\u001B[38;5;28;43mself\u001B[39;49m\u001B[38;5;241;43m.\u001B[39;49m\u001B[43mhooks\u001B[49m\u001B[43m)\u001B[49m\u001B[43m,\u001B[49m\n\u001B[1;32m    499\u001B[0m \u001B[43m\u001B[49m\u001B[43m)\u001B[49m\n\u001B[1;32m    500\u001B[0m \u001B[38;5;28;01mreturn\u001B[39;00m p\n",
      "File \u001B[0;32m/opt/homebrew/lib/python3.10/site-packages/requests/models.py:369\u001B[0m, in \u001B[0;36mPreparedRequest.prepare\u001B[0;34m(self, method, url, headers, files, data, params, auth, cookies, hooks, json)\u001B[0m\n\u001B[1;32m    367\u001B[0m \u001B[38;5;28mself\u001B[39m\u001B[38;5;241m.\u001B[39mprepare_method(method)\n\u001B[1;32m    368\u001B[0m \u001B[38;5;28mself\u001B[39m\u001B[38;5;241m.\u001B[39mprepare_url(url, params)\n\u001B[0;32m--> 369\u001B[0m \u001B[38;5;28;43mself\u001B[39;49m\u001B[38;5;241;43m.\u001B[39;49m\u001B[43mprepare_headers\u001B[49m\u001B[43m(\u001B[49m\u001B[43mheaders\u001B[49m\u001B[43m)\u001B[49m\n\u001B[1;32m    370\u001B[0m \u001B[38;5;28mself\u001B[39m\u001B[38;5;241m.\u001B[39mprepare_cookies(cookies)\n\u001B[1;32m    371\u001B[0m \u001B[38;5;28mself\u001B[39m\u001B[38;5;241m.\u001B[39mprepare_body(data, files, json)\n",
      "File \u001B[0;32m/opt/homebrew/lib/python3.10/site-packages/requests/models.py:489\u001B[0m, in \u001B[0;36mPreparedRequest.prepare_headers\u001B[0;34m(self, headers)\u001B[0m\n\u001B[1;32m    487\u001B[0m \u001B[38;5;28mself\u001B[39m\u001B[38;5;241m.\u001B[39mheaders \u001B[38;5;241m=\u001B[39m CaseInsensitiveDict()\n\u001B[1;32m    488\u001B[0m \u001B[38;5;28;01mif\u001B[39;00m headers:\n\u001B[0;32m--> 489\u001B[0m     \u001B[38;5;28;01mfor\u001B[39;00m header \u001B[38;5;129;01min\u001B[39;00m \u001B[43mheaders\u001B[49m\u001B[38;5;241;43m.\u001B[39;49m\u001B[43mitems\u001B[49m():\n\u001B[1;32m    490\u001B[0m         \u001B[38;5;66;03m# Raise exception on invalid header value.\u001B[39;00m\n\u001B[1;32m    491\u001B[0m         check_header_validity(header)\n\u001B[1;32m    492\u001B[0m         name, value \u001B[38;5;241m=\u001B[39m header\n",
      "\u001B[0;31mAttributeError\u001B[0m: 'str' object has no attribute 'items'"
     ]
    }
   ],
   "source": [
    "url = 'https://www.imdb.com/find'\n",
    "params = {\n",
    "    'q': '',\n",
    "    # 'oq': '',\n",
    "    # 'aqs': 'chrome.0.69i59l2j69i61l2.826j0j7',\n",
    "    # 'sourceid': 'chrome',\n",
    "    # 'ie': 'UTF-8'\n",
    "    }\n",
    "params['q']= 'Toy Story (1995)'\n",
    "headers = {\n",
    "    'user-agent': 'Mozilla/5.0 (Windows NT 10.0; Win64; x64) AppleWebKit/\\\n",
    "        537.36 (KHTML, like Gecko) Chrome/86.0.4240.183 Safari/537.36'\n",
    "    }\n",
    "resp = download(url, \n",
    "                params, \n",
    "                # headers, \n",
    "                'POST')\n",
    "dom = BeautifulSoup(resp.content, 'html.parser')"
   ]
  },
  {
   "cell_type": "code",
   "execution_count": null,
   "id": "6e561c8e-55f5-480d-a7c0-7a4e7fcc771d",
   "metadata": {
    "pycharm": {
     "name": "#%%\n"
    }
   },
   "outputs": [],
   "source": []
  }
 ],
 "metadata": {
  "kernelspec": {
   "display_name": "Python 3 (ipykernel)",
   "language": "python",
   "name": "python3"
  },
  "language_info": {
   "codemirror_mode": {
    "name": "ipython",
    "version": 3
   },
   "file_extension": ".py",
   "mimetype": "text/x-python",
   "name": "python",
   "nbconvert_exporter": "python",
   "pygments_lexer": "ipython3",
   "version": "3.10.12"
  }
 },
 "nbformat": 4,
 "nbformat_minor": 5
}