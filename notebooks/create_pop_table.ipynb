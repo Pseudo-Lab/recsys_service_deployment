{
 "cells": [
  {
   "cell_type": "code",
   "execution_count": 1,
   "id": "28306711-6275-456d-999e-83af563650dc",
   "metadata": {
    "tags": []
   },
   "outputs": [],
   "source": [
    "import sys\n",
    "sys.path.append('../')\n",
    "\n",
    "from clients import MysqlClient\n",
    "from dotenv import load_dotenv\n",
    "import os\n",
    "\n",
    "load_dotenv()\n",
    "os.getenv('AWS_ACCESS_KEY_ID')\n",
    "os.getenv('AWS_SECRET_ACCESS_KEY')\n",
    "mysql = MysqlClient()"
   ]
  },
  {
   "cell_type": "code",
   "execution_count": 74,
   "id": "8c95959e-1bb5-45ca-bc79-68e1495b5432",
   "metadata": {
    "tags": []
   },
   "outputs": [
    {
     "name": "stdout",
     "output_type": "stream",
     "text": [
      "Tables : \n",
      "daum_movies\n",
      "daum_pop_movies_update_info\n",
      "daum_ratings\n",
      "movies\n",
      "ratings\n"
     ]
    }
   ],
   "source": [
    "mysql.get_table_names()"
   ]
  },
  {
   "cell_type": "code",
   "execution_count": 18,
   "id": "6819b307-15b1-4605-bc4a-e55e6a555d54",
   "metadata": {
    "tags": []
   },
   "outputs": [],
   "source": [
    "sql = \"\"\"\n",
    "SELECT *\n",
    "FROM daum_movies\n",
    "WHERE movieId = '1'\n",
    "\"\"\"\n",
    "\n",
    "sql = \"\"\"\n",
    "SHOW TABLES\n",
    "\"\"\"\n",
    "\n",
    "sql = \"\"\"\n",
    "CREATE TABLE daum_pop_movies AS\n",
    "SELECT * FROM daum_movies WHERE 1=0;\n",
    "\"\"\"\n",
    "with mysql.get_connection().cursor() as cursor:\n",
    "    cursor.execute(sql)\n",
    "    data = cursor.fetchall()"
   ]
  },
  {
   "cell_type": "code",
   "execution_count": 16,
   "id": "b2d6c46f-e357-40eb-8c50-b82a69a1ca5d",
   "metadata": {
    "tags": []
   },
   "outputs": [
    {
     "data": {
      "text/plain": [
       "()"
      ]
     },
     "execution_count": 16,
     "metadata": {},
     "output_type": "execute_result"
    }
   ],
   "source": [
    "cursor.fetchall()"
   ]
  },
  {
   "cell_type": "code",
   "execution_count": 17,
   "id": "2e926825-0ebb-435d-9daa-58f0ad94c3f7",
   "metadata": {
    "tags": []
   },
   "outputs": [
    {
     "data": {
      "text/plain": [
       "(('daum_movies',), ('daum_ratings',), ('movies',), ('ratings',))"
      ]
     },
     "execution_count": 17,
     "metadata": {},
     "output_type": "execute_result"
    }
   ],
   "source": [
    "data"
   ]
  },
  {
   "cell_type": "code",
   "execution_count": 6,
   "id": "1293d774-21c5-43dc-ad6b-e4d9169bdf1b",
   "metadata": {
    "tags": []
   },
   "outputs": [
    {
     "data": {
      "text/plain": [
       "()"
      ]
     },
     "execution_count": 6,
     "metadata": {},
     "output_type": "execute_result"
    }
   ],
   "source": [
    "cursor.fetchall()"
   ]
  },
  {
   "cell_type": "code",
   "execution_count": 19,
   "id": "329aec04-fc99-462a-993d-6a13845e81aa",
   "metadata": {
    "tags": []
   },
   "outputs": [
    {
     "name": "stdout",
     "output_type": "stream",
     "text": [
      "Tables : \n",
      "daum_movies\n",
      "daum_pop_movies\n",
      "daum_ratings\n",
      "movies\n",
      "ratings\n"
     ]
    }
   ],
   "source": [
    "mysql.get_table_names()"
   ]
  },
  {
   "cell_type": "code",
   "execution_count": 23,
   "id": "d80aeb0a-dbce-4b55-af7a-dd977e93b02a",
   "metadata": {
    "tags": []
   },
   "outputs": [
    {
     "name": "stderr",
     "output_type": "stream",
     "text": [
      "/var/folders/cg/2vt5wbq5767fsxv0005k5x4m0000gn/T/ipykernel_62885/2521560428.py:9: UserWarning: pandas only supports SQLAlchemy connectable (engine/connection) or database string URI or sqlite3 DBAPI2 connection. Other DBAPI2 objects are not tested. Please consider using SQLAlchemy.\n",
      "  df = pd.read_sql(sql=sql, con=connection)\n"
     ]
    }
   ],
   "source": [
    "import pandas as pd\n",
    "\n",
    "sql = \"\"\"\n",
    "select *\n",
    "from daum_pop_movies\n",
    "\"\"\"\n",
    "\n",
    "with mysql.get_connection() as connection:\n",
    "    df = pd.read_sql(sql=sql, con=connection)"
   ]
  },
  {
   "cell_type": "code",
   "execution_count": 25,
   "id": "c3b13bd9-d77a-4b61-9050-e41558e1ff06",
   "metadata": {
    "tags": []
   },
   "outputs": [
    {
     "data": {
      "text/html": [
       "<div>\n",
       "<style scoped>\n",
       "    .dataframe tbody tr th:only-of-type {\n",
       "        vertical-align: middle;\n",
       "    }\n",
       "\n",
       "    .dataframe tbody tr th {\n",
       "        vertical-align: top;\n",
       "    }\n",
       "\n",
       "    .dataframe thead th {\n",
       "        text-align: right;\n",
       "    }\n",
       "</style>\n",
       "<table border=\"1\" class=\"dataframe\">\n",
       "  <thead>\n",
       "    <tr style=\"text-align: right;\">\n",
       "      <th></th>\n",
       "      <th>movieId</th>\n",
       "      <th>titleKo</th>\n",
       "      <th>titleEn</th>\n",
       "      <th>synopsis</th>\n",
       "      <th>cast</th>\n",
       "      <th>mainPageUrl</th>\n",
       "      <th>posterUrl</th>\n",
       "      <th>numOfSiteRatings</th>\n",
       "    </tr>\n",
       "  </thead>\n",
       "  <tbody>\n",
       "  </tbody>\n",
       "</table>\n",
       "</div>"
      ],
      "text/plain": [
       "Empty DataFrame\n",
       "Columns: [movieId, titleKo, titleEn, synopsis, cast, mainPageUrl, posterUrl, numOfSiteRatings]\n",
       "Index: []"
      ]
     },
     "execution_count": 25,
     "metadata": {},
     "output_type": "execute_result"
    }
   ],
   "source": [
    "df"
   ]
  },
  {
   "cell_type": "code",
   "execution_count": 89,
   "id": "3d2fd961-16b5-4dad-aab7-2e7e9094568e",
   "metadata": {
    "tags": []
   },
   "outputs": [],
   "source": [
    "host = \"pseudorec.cvhv2t0obyv3.ap-northeast-2.rds.amazonaws.com\"\n",
    "db_url = f\"mysql+mysqlconnector://admin:{os.getenv('RDS_MYSQL_PW')}@{host}:3306/movielens25m\""
   ]
  },
  {
   "cell_type": "code",
   "execution_count": 90,
   "id": "a532b288-0f92-45d5-bc6c-8efd8fb8c547",
   "metadata": {
    "tags": []
   },
   "outputs": [],
   "source": [
    "from sqlalchemy import create_engine\n",
    "import pandas as pd\n",
    "\n",
    "engine = create_engine(db_url)"
   ]
  },
  {
   "cell_type": "code",
   "execution_count": 91,
   "id": "2d014c1c-cf17-40d9-b6c1-54d38711dbfc",
   "metadata": {
    "tags": []
   },
   "outputs": [
    {
     "data": {
      "text/plain": [
       "30157"
      ]
     },
     "execution_count": 91,
     "metadata": {},
     "output_type": "execute_result"
    }
   ],
   "source": [
    "grouped_df = daum_ratings.groupby('movieId')['rating'].agg(['mean', 'count']).reset_index()\n",
    "rating_calculated_df = grouped_df.sort_values('mean', ascending=False)\n",
    "rating_calculated_df\n",
    "\n",
    "rating_calculated_df.to_sql(name='daum_pop_movies', con=engine, if_exists='replace', index=False)"
   ]
  },
  {
   "cell_type": "code",
   "execution_count": 92,
   "id": "aa547db9-371e-47eb-927f-a933236d3e81",
   "metadata": {
    "tags": []
   },
   "outputs": [],
   "source": [
    "sql = \"\"\"\n",
    "select *\n",
    "from daum_pop_movies\n",
    "\"\"\"\n",
    "df = pd.read_sql(sql=sql, con=engine)"
   ]
  },
  {
   "cell_type": "code",
   "execution_count": 93,
   "id": "e43c6681-5270-4232-a880-1423755260bd",
   "metadata": {
    "tags": []
   },
   "outputs": [
    {
     "data": {
      "text/html": [
       "<div>\n",
       "<style scoped>\n",
       "    .dataframe tbody tr th:only-of-type {\n",
       "        vertical-align: middle;\n",
       "    }\n",
       "\n",
       "    .dataframe tbody tr th {\n",
       "        vertical-align: top;\n",
       "    }\n",
       "\n",
       "    .dataframe thead th {\n",
       "        text-align: right;\n",
       "    }\n",
       "</style>\n",
       "<table border=\"1\" class=\"dataframe\">\n",
       "  <thead>\n",
       "    <tr style=\"text-align: right;\">\n",
       "      <th></th>\n",
       "      <th>movieId</th>\n",
       "      <th>mean</th>\n",
       "      <th>count</th>\n",
       "    </tr>\n",
       "  </thead>\n",
       "  <tbody>\n",
       "    <tr>\n",
       "      <th>0</th>\n",
       "      <td>33335</td>\n",
       "      <td>10.0</td>\n",
       "      <td>4</td>\n",
       "    </tr>\n",
       "    <tr>\n",
       "      <th>1</th>\n",
       "      <td>30103</td>\n",
       "      <td>10.0</td>\n",
       "      <td>1</td>\n",
       "    </tr>\n",
       "    <tr>\n",
       "      <th>2</th>\n",
       "      <td>30182</td>\n",
       "      <td>10.0</td>\n",
       "      <td>1</td>\n",
       "    </tr>\n",
       "    <tr>\n",
       "      <th>3</th>\n",
       "      <td>106973</td>\n",
       "      <td>10.0</td>\n",
       "      <td>1</td>\n",
       "    </tr>\n",
       "    <tr>\n",
       "      <th>4</th>\n",
       "      <td>106974</td>\n",
       "      <td>10.0</td>\n",
       "      <td>1</td>\n",
       "    </tr>\n",
       "    <tr>\n",
       "      <th>...</th>\n",
       "      <td>...</td>\n",
       "      <td>...</td>\n",
       "      <td>...</td>\n",
       "    </tr>\n",
       "    <tr>\n",
       "      <th>30152</th>\n",
       "      <td>101049</td>\n",
       "      <td>0.0</td>\n",
       "      <td>1</td>\n",
       "    </tr>\n",
       "    <tr>\n",
       "      <th>30153</th>\n",
       "      <td>44097</td>\n",
       "      <td>0.0</td>\n",
       "      <td>1</td>\n",
       "    </tr>\n",
       "    <tr>\n",
       "      <th>30154</th>\n",
       "      <td>101210</td>\n",
       "      <td>0.0</td>\n",
       "      <td>1</td>\n",
       "    </tr>\n",
       "    <tr>\n",
       "      <th>30155</th>\n",
       "      <td>101223</td>\n",
       "      <td>0.0</td>\n",
       "      <td>1</td>\n",
       "    </tr>\n",
       "    <tr>\n",
       "      <th>30156</th>\n",
       "      <td>84920</td>\n",
       "      <td>0.0</td>\n",
       "      <td>1</td>\n",
       "    </tr>\n",
       "  </tbody>\n",
       "</table>\n",
       "<p>30157 rows × 3 columns</p>\n",
       "</div>"
      ],
      "text/plain": [
       "       movieId  mean  count\n",
       "0        33335  10.0      4\n",
       "1        30103  10.0      1\n",
       "2        30182  10.0      1\n",
       "3       106973  10.0      1\n",
       "4       106974  10.0      1\n",
       "...        ...   ...    ...\n",
       "30152   101049   0.0      1\n",
       "30153    44097   0.0      1\n",
       "30154   101210   0.0      1\n",
       "30155   101223   0.0      1\n",
       "30156    84920   0.0      1\n",
       "\n",
       "[30157 rows x 3 columns]"
      ]
     },
     "execution_count": 93,
     "metadata": {},
     "output_type": "execute_result"
    }
   ],
   "source": [
    "df"
   ]
  },
  {
   "cell_type": "code",
   "execution_count": null,
   "id": "fd5a6747-5d76-4bf7-a96b-400bb2079860",
   "metadata": {},
   "outputs": [],
   "source": [
    "만들었으니 계산식 .py에 만들고 \n",
    "시간 저장하는 테이블 또 만들고\n",
    "\n",
    ".py 파일 작성하자\n"
   ]
  },
  {
   "cell_type": "code",
   "execution_count": 83,
   "id": "12d8c051-91ff-4c66-9267-aca574e67177",
   "metadata": {
    "tags": []
   },
   "outputs": [],
   "source": [
    "create_table_query = \"\"\"\n",
    "CREATE TABLE daum_pop_movies (\n",
    "                                movieId INT PRIMARY KEY,\n",
    "                                mean FLOAT,\n",
    "                                count INT\n",
    "                                )\n",
    "\"\"\"\n",
    "\n",
    "\n",
    "with mysql.get_connection().cursor() as cursor:\n",
    "    cursor.execute(create_table_query)"
   ]
  },
  {
   "cell_type": "code",
   "execution_count": 84,
   "id": "eb2b0583-133f-4c43-a181-394b8c78e80f",
   "metadata": {
    "tags": []
   },
   "outputs": [
    {
     "name": "stdout",
     "output_type": "stream",
     "text": [
      "Tables : \n",
      "daum_movies\n",
      "daum_pop_movies\n",
      "daum_ratings\n",
      "movies\n",
      "ratings\n"
     ]
    }
   ],
   "source": [
    "mysql.get_table_names()"
   ]
  },
  {
   "cell_type": "code",
   "execution_count": 94,
   "id": "f45c50ec-881f-41af-b5f0-2998cdc63988",
   "metadata": {
    "tags": []
   },
   "outputs": [
    {
     "data": {
      "text/html": [
       "<div>\n",
       "<style scoped>\n",
       "    .dataframe tbody tr th:only-of-type {\n",
       "        vertical-align: middle;\n",
       "    }\n",
       "\n",
       "    .dataframe tbody tr th {\n",
       "        vertical-align: top;\n",
       "    }\n",
       "\n",
       "    .dataframe thead th {\n",
       "        text-align: right;\n",
       "    }\n",
       "</style>\n",
       "<table border=\"1\" class=\"dataframe\">\n",
       "  <thead>\n",
       "    <tr style=\"text-align: right;\">\n",
       "      <th></th>\n",
       "      <th>movieId</th>\n",
       "      <th>mean</th>\n",
       "      <th>count</th>\n",
       "    </tr>\n",
       "  </thead>\n",
       "  <tbody>\n",
       "    <tr>\n",
       "      <th>0</th>\n",
       "      <td>33335</td>\n",
       "      <td>10.0</td>\n",
       "      <td>4</td>\n",
       "    </tr>\n",
       "    <tr>\n",
       "      <th>1</th>\n",
       "      <td>30103</td>\n",
       "      <td>10.0</td>\n",
       "      <td>1</td>\n",
       "    </tr>\n",
       "    <tr>\n",
       "      <th>2</th>\n",
       "      <td>30182</td>\n",
       "      <td>10.0</td>\n",
       "      <td>1</td>\n",
       "    </tr>\n",
       "    <tr>\n",
       "      <th>3</th>\n",
       "      <td>106973</td>\n",
       "      <td>10.0</td>\n",
       "      <td>1</td>\n",
       "    </tr>\n",
       "    <tr>\n",
       "      <th>4</th>\n",
       "      <td>106974</td>\n",
       "      <td>10.0</td>\n",
       "      <td>1</td>\n",
       "    </tr>\n",
       "    <tr>\n",
       "      <th>...</th>\n",
       "      <td>...</td>\n",
       "      <td>...</td>\n",
       "      <td>...</td>\n",
       "    </tr>\n",
       "    <tr>\n",
       "      <th>30152</th>\n",
       "      <td>101049</td>\n",
       "      <td>0.0</td>\n",
       "      <td>1</td>\n",
       "    </tr>\n",
       "    <tr>\n",
       "      <th>30153</th>\n",
       "      <td>44097</td>\n",
       "      <td>0.0</td>\n",
       "      <td>1</td>\n",
       "    </tr>\n",
       "    <tr>\n",
       "      <th>30154</th>\n",
       "      <td>101210</td>\n",
       "      <td>0.0</td>\n",
       "      <td>1</td>\n",
       "    </tr>\n",
       "    <tr>\n",
       "      <th>30155</th>\n",
       "      <td>101223</td>\n",
       "      <td>0.0</td>\n",
       "      <td>1</td>\n",
       "    </tr>\n",
       "    <tr>\n",
       "      <th>30156</th>\n",
       "      <td>84920</td>\n",
       "      <td>0.0</td>\n",
       "      <td>1</td>\n",
       "    </tr>\n",
       "  </tbody>\n",
       "</table>\n",
       "<p>30157 rows × 3 columns</p>\n",
       "</div>"
      ],
      "text/plain": [
       "       movieId  mean  count\n",
       "0        33335  10.0      4\n",
       "1        30103  10.0      1\n",
       "2        30182  10.0      1\n",
       "3       106973  10.0      1\n",
       "4       106974  10.0      1\n",
       "...        ...   ...    ...\n",
       "30152   101049   0.0      1\n",
       "30153    44097   0.0      1\n",
       "30154   101210   0.0      1\n",
       "30155   101223   0.0      1\n",
       "30156    84920   0.0      1\n",
       "\n",
       "[30157 rows x 3 columns]"
      ]
     },
     "execution_count": 94,
     "metadata": {},
     "output_type": "execute_result"
    }
   ],
   "source": [
    "import pandas as pd\n",
    "sql = \"\"\"\n",
    "select *\n",
    "from daum_pop_movies\n",
    "\"\"\"\n",
    "df = pd.read_sql(sql=sql, con=engine)\n",
    "\n",
    "df"
   ]
  },
  {
   "cell_type": "code",
   "execution_count": 96,
   "id": "92e29663-9f39-4dfa-a8c2-60212f237b9b",
   "metadata": {
    "tags": []
   },
   "outputs": [
    {
     "data": {
      "text/html": [
       "<div>\n",
       "<style scoped>\n",
       "    .dataframe tbody tr th:only-of-type {\n",
       "        vertical-align: middle;\n",
       "    }\n",
       "\n",
       "    .dataframe tbody tr th {\n",
       "        vertical-align: top;\n",
       "    }\n",
       "\n",
       "    .dataframe thead th {\n",
       "        text-align: right;\n",
       "    }\n",
       "</style>\n",
       "<table border=\"1\" class=\"dataframe\">\n",
       "  <thead>\n",
       "    <tr style=\"text-align: right;\">\n",
       "      <th></th>\n",
       "      <th>movieId</th>\n",
       "      <th>mean</th>\n",
       "      <th>count</th>\n",
       "    </tr>\n",
       "  </thead>\n",
       "  <tbody>\n",
       "    <tr>\n",
       "      <th>3620</th>\n",
       "      <td>76325</td>\n",
       "      <td>9.563291</td>\n",
       "      <td>2686</td>\n",
       "    </tr>\n",
       "    <tr>\n",
       "      <th>4035</th>\n",
       "      <td>91662</td>\n",
       "      <td>9.462662</td>\n",
       "      <td>616</td>\n",
       "    </tr>\n",
       "    <tr>\n",
       "      <th>4036</th>\n",
       "      <td>108595</td>\n",
       "      <td>9.455903</td>\n",
       "      <td>1406</td>\n",
       "    </tr>\n",
       "    <tr>\n",
       "      <th>4045</th>\n",
       "      <td>108944</td>\n",
       "      <td>9.452693</td>\n",
       "      <td>687</td>\n",
       "    </tr>\n",
       "    <tr>\n",
       "      <th>4143</th>\n",
       "      <td>119688</td>\n",
       "      <td>9.395866</td>\n",
       "      <td>629</td>\n",
       "    </tr>\n",
       "    <tr>\n",
       "      <th>...</th>\n",
       "      <td>...</td>\n",
       "      <td>...</td>\n",
       "      <td>...</td>\n",
       "    </tr>\n",
       "    <tr>\n",
       "      <th>25155</th>\n",
       "      <td>120834</td>\n",
       "      <td>4.832727</td>\n",
       "      <td>550</td>\n",
       "    </tr>\n",
       "    <tr>\n",
       "      <th>25325</th>\n",
       "      <td>119835</td>\n",
       "      <td>4.667732</td>\n",
       "      <td>626</td>\n",
       "    </tr>\n",
       "    <tr>\n",
       "      <th>25406</th>\n",
       "      <td>125372</td>\n",
       "      <td>4.658672</td>\n",
       "      <td>1084</td>\n",
       "    </tr>\n",
       "    <tr>\n",
       "      <th>25494</th>\n",
       "      <td>94647</td>\n",
       "      <td>4.569767</td>\n",
       "      <td>688</td>\n",
       "    </tr>\n",
       "    <tr>\n",
       "      <th>25821</th>\n",
       "      <td>134684</td>\n",
       "      <td>4.363359</td>\n",
       "      <td>655</td>\n",
       "    </tr>\n",
       "  </tbody>\n",
       "</table>\n",
       "<p>100 rows × 3 columns</p>\n",
       "</div>"
      ],
      "text/plain": [
       "       movieId      mean  count\n",
       "3620     76325  9.563291   2686\n",
       "4035     91662  9.462662    616\n",
       "4036    108595  9.455903   1406\n",
       "4045    108944  9.452693    687\n",
       "4143    119688  9.395866    629\n",
       "...        ...       ...    ...\n",
       "25155   120834  4.832727    550\n",
       "25325   119835  4.667732    626\n",
       "25406   125372  4.658672   1084\n",
       "25494    94647  4.569767    688\n",
       "25821   134684  4.363359    655\n",
       "\n",
       "[100 rows x 3 columns]"
      ]
     },
     "execution_count": 96,
     "metadata": {},
     "output_type": "execute_result"
    }
   ],
   "source": [
    "df[df['count'] > 500].sort_values('mean', ascending=False).head(100)"
   ]
  },
  {
   "cell_type": "code",
   "execution_count": 20,
   "id": "0537c737-2b6c-45ca-ae97-1c6aa6139729",
   "metadata": {
    "tags": []
   },
   "outputs": [
    {
     "name": "stdout",
     "output_type": "stream",
     "text": [
      "1705737470\n"
     ]
    }
   ],
   "source": [
    "from datetime import datetime\n",
    "\n",
    "current_timestamp = int(datetime.now().timestamp())\n",
    "print(current_timestamp)\n"
   ]
  },
  {
   "cell_type": "code",
   "execution_count": 14,
   "id": "c625f579-3790-49ce-a303-8575e4214143",
   "metadata": {
    "tags": []
   },
   "outputs": [
    {
     "data": {
      "text/plain": [
       "'\\nselect *\\nfrom daum_pop_movies_update_info\\n'"
      ]
     },
     "execution_count": 14,
     "metadata": {},
     "output_type": "execute_result"
    }
   ],
   "source": [
    "sql"
   ]
  },
  {
   "cell_type": "code",
   "execution_count": null,
   "id": "259f1325-fd3f-4009-a5e1-3b7dc9d65bbe",
   "metadata": {},
   "outputs": [],
   "source": [
    "ALTER TABLE daum_pop_movies_update_info\n",
    "MODIFY COLUMN last_update_timestamp INT NOT NULL;"
   ]
  },
  {
   "cell_type": "code",
   "execution_count": 30,
   "id": "c33a3cc8-c37d-4f47-a813-4491af880e18",
   "metadata": {
    "tags": []
   },
   "outputs": [
    {
     "data": {
      "text/plain": [
       "1705737843"
      ]
     },
     "execution_count": 30,
     "metadata": {},
     "output_type": "execute_result"
    }
   ],
   "source": [
    "import time\n",
    "current_timestamp = int(time.time())\n",
    "current_timestamp"
   ]
  },
  {
   "cell_type": "code",
   "execution_count": 26,
   "id": "652ff2ed-2d9a-4926-a82d-966aef3f975d",
   "metadata": {
    "tags": []
   },
   "outputs": [],
   "source": [
    "import time\n",
    "current_timestamp = int(time.time())\n",
    "\n",
    "sql = \"INSERT INTO daum_pop_movies_update_info (last_update_timestamp) VALUES (%s);\"\n",
    "sql\n",
    "\n",
    "\n",
    "with mysql.get_connection() as connection:\n",
    "    cursor = connection.cursor()\n",
    "    # cursor.execute(sql)\n",
    "    cursor.execute(sql, (current_timestamp,))\n",
    "    \n",
    "    connection.commit()"
   ]
  },
  {
   "cell_type": "code",
   "execution_count": 55,
   "id": "ee12b20f-a178-4d29-8d7d-6e05e62fdf58",
   "metadata": {
    "tags": []
   },
   "outputs": [],
   "source": []
  },
  {
   "cell_type": "code",
   "execution_count": 56,
   "id": "f65a6145-4768-47de-81a1-76caea47cb01",
   "metadata": {
    "tags": []
   },
   "outputs": [
    {
     "data": {
      "text/plain": [
       "1705736847"
      ]
     },
     "execution_count": 56,
     "metadata": {},
     "output_type": "execute_result"
    }
   ],
   "source": [
    "current_timestamp"
   ]
  },
  {
   "cell_type": "markdown",
   "id": "1eea0b1b-d0e3-4758-ace3-2f69696db7d7",
   "metadata": {},
   "source": [
    "# 삭제 (평점 테이블 삭제하지않게 조심)"
   ]
  },
  {
   "cell_type": "code",
   "execution_count": 75,
   "id": "93a83945-c797-464b-8746-d98125b3ff4f",
   "metadata": {
    "tags": []
   },
   "outputs": [],
   "source": [
    "sql = \"\"\"\n",
    "DROP TABLE daum_pop_movies_update_info\n",
    "\"\"\"\n",
    "\n",
    "with mysql.get_connection() as connection:\n",
    "    cursor = connection.cursor()\n",
    "    cursor.execute(sql)\n",
    "    connection.commit()"
   ]
  },
  {
   "cell_type": "code",
   "execution_count": 76,
   "id": "89091fcc-86fd-4825-b40b-d62907513b19",
   "metadata": {
    "tags": []
   },
   "outputs": [
    {
     "name": "stdout",
     "output_type": "stream",
     "text": [
      "Tables : \n",
      "daum_movies\n",
      "daum_ratings\n",
      "movies\n",
      "ratings\n"
     ]
    }
   ],
   "source": [
    "mysql.get_table_names()"
   ]
  },
  {
   "cell_type": "code",
   "execution_count": 32,
   "id": "44f18aa1-76d2-4eb2-8bc8-989ea48ac2fb",
   "metadata": {
    "tags": []
   },
   "outputs": [],
   "source": [
    "from collections import Counter"
   ]
  },
  {
   "cell_type": "code",
   "execution_count": 43,
   "id": "df228321-a458-4bdc-9d20-cb2514d01020",
   "metadata": {
    "tags": []
   },
   "outputs": [
    {
     "name": "stderr",
     "output_type": "stream",
     "text": [
      "/Users/kyeongchanlee/PycharmProjects/recsys_service_deployment/notebooks/../clients.py:45: UserWarning: pandas only supports SQLAlchemy connectable (engine/connection) or database string URI or sqlite3 DBAPI2 connection. Other DBAPI2 objects are not tested. Please consider using SQLAlchemy.\n",
      "  df = pd.read_sql(sql='select * from daum_ratings', con=connection)\n",
      "/Users/kyeongchanlee/PycharmProjects/recsys_service_deployment/notebooks/../clients.py:40: UserWarning: pandas only supports SQLAlchemy connectable (engine/connection) or database string URI or sqlite3 DBAPI2 connection. Other DBAPI2 objects are not tested. Please consider using SQLAlchemy.\n",
      "  df = pd.read_sql(sql='select * from daum_movies', con=connection)\n"
     ]
    }
   ],
   "source": [
    "daum_ratings = mysql.get_daum_ratings()\n",
    "daum_ratings = daum_ratings[daum_ratings['nickName'].map(lambda x: x not in ['휴면 사용자', '', '닉네임을 등록해 주세요', '닉네임'])]\n",
    "daum_movies = mysql.get_daum_movies()\n"
   ]
  },
  {
   "cell_type": "code",
   "execution_count": null,
   "id": "fc97e601-1ab1-45cc-9202-a32d5715f479",
   "metadata": {},
   "outputs": [],
   "source": [
    "from sqlalchemy import create_engine\n",
    "import pandas as pd\n",
    "\n",
    "# MySQL 연결 문자열\n",
    "host = \"pseudorec.cvhv2t0obyv3.ap-northeast-2.rds.amazonaws.com\"\n",
    "db_url = f\"mysql+mysqlconnector://admin:{os.getenv('RDS_MYSQL_PW')}@{host}:3306/movielens25m\"\n",
    "\n",
    "\n",
    "# MySQL 테이블에 저장\n",
    "engine = create_engine(db_url)\n",
    "your_dataframe.to_sql(name='your_table_name', con=engine, if_exists='replace', index=False)\n"
   ]
  },
  {
   "cell_type": "code",
   "execution_count": 44,
   "id": "0a995c3c-1af4-454a-b8d1-9ef347dbe3a5",
   "metadata": {
    "collapsed": true,
    "jupyter": {
     "outputs_hidden": true
    },
    "tags": []
   },
   "outputs": [
    {
     "data": {
      "text/html": [
       "<div>\n",
       "<style scoped>\n",
       "    .dataframe tbody tr th:only-of-type {\n",
       "        vertical-align: middle;\n",
       "    }\n",
       "\n",
       "    .dataframe tbody tr th {\n",
       "        vertical-align: top;\n",
       "    }\n",
       "\n",
       "    .dataframe thead th {\n",
       "        text-align: right;\n",
       "    }\n",
       "</style>\n",
       "<table border=\"1\" class=\"dataframe\">\n",
       "  <thead>\n",
       "    <tr style=\"text-align: right;\">\n",
       "      <th></th>\n",
       "      <th>movieId</th>\n",
       "      <th>titleKo</th>\n",
       "      <th>titleEn</th>\n",
       "      <th>synopsis</th>\n",
       "      <th>cast</th>\n",
       "      <th>mainPageUrl</th>\n",
       "      <th>posterUrl</th>\n",
       "      <th>numOfSiteRatings</th>\n",
       "    </tr>\n",
       "  </thead>\n",
       "  <tbody>\n",
       "    <tr>\n",
       "      <th>0</th>\n",
       "      <td>1</td>\n",
       "      <td>플란다스의 개</td>\n",
       "      <td>Barking Dogs Never Bite, 2000</td>\n",
       "      <td>대학 시간강사인 고윤주(이성재)는 이번에도 교수직 추천에서 보기 좋게 떨어진다. 돈...</td>\n",
       "      <td>[{'role': '감독', 'personId': '/person/main?pers...</td>\n",
       "      <td>https://movie.daum.net/moviedb/grade?movieId=1</td>\n",
       "      <td>https://img1.daumcdn.net/thumb/C408x596/?fname...</td>\n",
       "      <td>126.0</td>\n",
       "    </tr>\n",
       "    <tr>\n",
       "      <th>1</th>\n",
       "      <td>2</td>\n",
       "      <td>카라</td>\n",
       "      <td>Calla, 1999</td>\n",
       "      <td>팬시회사 디자이너인 선우(송승헌)는 출근길 버스에서 지희(김희선)를 보고 첫눈에 반...</td>\n",
       "      <td>[{'role': '감독', 'personId': '/person/main?pers...</td>\n",
       "      <td>https://movie.daum.net/moviedb/grade?movieId=2</td>\n",
       "      <td>https://img1.daumcdn.net/thumb/C408x596/?fname...</td>\n",
       "      <td>23.0</td>\n",
       "    </tr>\n",
       "    <tr>\n",
       "      <th>2</th>\n",
       "      <td>3</td>\n",
       "      <td>주노명 베이커리</td>\n",
       "      <td>2000</td>\n",
       "      <td>빵과 결혼에 관한 性스러운 이야기 빵을 만드는 기쁨이 이런 것 아닐까? 사랑이 빵을...</td>\n",
       "      <td>[{'role': '감독', 'personId': '/person/main?pers...</td>\n",
       "      <td>https://movie.daum.net/moviedb/grade?movieId=3</td>\n",
       "      <td>None</td>\n",
       "      <td>15.0</td>\n",
       "    </tr>\n",
       "    <tr>\n",
       "      <th>3</th>\n",
       "      <td>4</td>\n",
       "      <td>여고괴담 두번째 이야기</td>\n",
       "      <td>Memento Mori, 1999</td>\n",
       "      <td>지각을 하는 바람에 학교 담을 넘어 등교한 민아(김민선)는 수돗가에서 우연히 붉은 ...</td>\n",
       "      <td>[{'role': '감독', 'personId': '/person/main?pers...</td>\n",
       "      <td>https://movie.daum.net/moviedb/grade?movieId=4</td>\n",
       "      <td>https://img1.daumcdn.net/thumb/C408x596/?fname...</td>\n",
       "      <td>74.0</td>\n",
       "    </tr>\n",
       "    <tr>\n",
       "      <th>4</th>\n",
       "      <td>5</td>\n",
       "      <td>행복한 장의사</td>\n",
       "      <td>2000</td>\n",
       "      <td>장판돌(오현경)은 시골의 한 마을에서 평생 장의사로 살아온 사람이다. 그의 손자 재...</td>\n",
       "      <td>[{'role': '감독', 'personId': '/person/main?pers...</td>\n",
       "      <td>https://movie.daum.net/moviedb/grade?movieId=5</td>\n",
       "      <td>https://img1.daumcdn.net/thumb/C408x596/?fname...</td>\n",
       "      <td>53.0</td>\n",
       "    </tr>\n",
       "    <tr>\n",
       "      <th>...</th>\n",
       "      <td>...</td>\n",
       "      <td>...</td>\n",
       "      <td>...</td>\n",
       "      <td>...</td>\n",
       "      <td>...</td>\n",
       "      <td>...</td>\n",
       "      <td>...</td>\n",
       "      <td>...</td>\n",
       "    </tr>\n",
       "    <tr>\n",
       "      <th>30218</th>\n",
       "      <td>176047</td>\n",
       "      <td>땡큐 아임 소리</td>\n",
       "      <td>Thank You, I'm Sorry, Tack och förlåt, 2023</td>\n",
       "      <td>출산이 멀지 않은 상황에서 갑자기 혼자가 되어버린 사라. 그런데 구원의 손길이 전혀...</td>\n",
       "      <td>[{'role': '감독', 'personId': '/person/main?pers...</td>\n",
       "      <td>https://movie.daum.net/moviedb/grade?movieId=1...</td>\n",
       "      <td>https://img1.daumcdn.net/thumb/C408x596/?fname...</td>\n",
       "      <td>1.0</td>\n",
       "    </tr>\n",
       "    <tr>\n",
       "      <th>30219</th>\n",
       "      <td>176048</td>\n",
       "      <td>헬 캠프: 청소년 지옥 훈련소</td>\n",
       "      <td>Hell Camp: Teen Nightmare, 2023</td>\n",
       "      <td>None</td>\n",
       "      <td>[{'role': '감독', 'personId': '/person/main?pers...</td>\n",
       "      <td>https://movie.daum.net/moviedb/grade?movieId=1...</td>\n",
       "      <td>https://img1.daumcdn.net/thumb/C408x596/?fname...</td>\n",
       "      <td>1.0</td>\n",
       "    </tr>\n",
       "    <tr>\n",
       "      <th>30220</th>\n",
       "      <td>176049</td>\n",
       "      <td>가상의 가상화폐</td>\n",
       "      <td>Bitconned, 2024</td>\n",
       "      <td>None</td>\n",
       "      <td>[{'role': '감독', 'personId': '/person/main?pers...</td>\n",
       "      <td>https://movie.daum.net/moviedb/grade?movieId=1...</td>\n",
       "      <td>https://img1.daumcdn.net/thumb/C408x596/?fname...</td>\n",
       "      <td>1.0</td>\n",
       "    </tr>\n",
       "    <tr>\n",
       "      <th>30221</th>\n",
       "      <td>176148</td>\n",
       "      <td>쿵푸팬더4</td>\n",
       "      <td>Kung Fu Panda 4, 2024</td>\n",
       "      <td>용의 전사 ‘포’(잭 블랙)가 상대의 기술을 그대로 카피하는 강력한 빌런 ‘카멜레온...</td>\n",
       "      <td>[{'role': '감독', 'personId': '/person/main?pers...</td>\n",
       "      <td>https://movie.daum.net/moviedb/grade?movieId=1...</td>\n",
       "      <td>https://img1.daumcdn.net/thumb/C408x596/?fname...</td>\n",
       "      <td>1.0</td>\n",
       "    </tr>\n",
       "    <tr>\n",
       "      <th>30222</th>\n",
       "      <td>176336</td>\n",
       "      <td>아이 러브 리지</td>\n",
       "      <td>I Love Lizzy, 2023</td>\n",
       "      <td>신학교를 떠나 여행을 하던 예비 성직자. 지역 투어 가이드와 사랑에 빠져 신앙의 위...</td>\n",
       "      <td>[{'role': '감독', 'personId': '/person/main?pers...</td>\n",
       "      <td>https://movie.daum.net/moviedb/grade?movieId=1...</td>\n",
       "      <td>https://img1.daumcdn.net/thumb/C408x596/?fname...</td>\n",
       "      <td>1.0</td>\n",
       "    </tr>\n",
       "  </tbody>\n",
       "</table>\n",
       "<p>30223 rows × 8 columns</p>\n",
       "</div>"
      ],
      "text/plain": [
       "       movieId           titleKo                                      titleEn  \\\n",
       "0            1           플란다스의 개                Barking Dogs Never Bite, 2000   \n",
       "1            2                카라                                  Calla, 1999   \n",
       "2            3          주노명 베이커리                                         2000   \n",
       "3            4      여고괴담 두번째 이야기                           Memento Mori, 1999   \n",
       "4            5           행복한 장의사                                         2000   \n",
       "...        ...               ...                                          ...   \n",
       "30218   176047          땡큐 아임 소리  Thank You, I'm Sorry, Tack och förlåt, 2023   \n",
       "30219   176048  헬 캠프: 청소년 지옥 훈련소              Hell Camp: Teen Nightmare, 2023   \n",
       "30220   176049          가상의 가상화폐                              Bitconned, 2024   \n",
       "30221   176148             쿵푸팬더4                        Kung Fu Panda 4, 2024   \n",
       "30222   176336          아이 러브 리지                           I Love Lizzy, 2023   \n",
       "\n",
       "                                                synopsis  \\\n",
       "0      대학 시간강사인 고윤주(이성재)는 이번에도 교수직 추천에서 보기 좋게 떨어진다. 돈...   \n",
       "1      팬시회사 디자이너인 선우(송승헌)는 출근길 버스에서 지희(김희선)를 보고 첫눈에 반...   \n",
       "2      빵과 결혼에 관한 性스러운 이야기 빵을 만드는 기쁨이 이런 것 아닐까? 사랑이 빵을...   \n",
       "3      지각을 하는 바람에 학교 담을 넘어 등교한 민아(김민선)는 수돗가에서 우연히 붉은 ...   \n",
       "4      장판돌(오현경)은 시골의 한 마을에서 평생 장의사로 살아온 사람이다. 그의 손자 재...   \n",
       "...                                                  ...   \n",
       "30218  출산이 멀지 않은 상황에서 갑자기 혼자가 되어버린 사라. 그런데 구원의 손길이 전혀...   \n",
       "30219                                               None   \n",
       "30220                                               None   \n",
       "30221  용의 전사 ‘포’(잭 블랙)가 상대의 기술을 그대로 카피하는 강력한 빌런 ‘카멜레온...   \n",
       "30222  신학교를 떠나 여행을 하던 예비 성직자. 지역 투어 가이드와 사랑에 빠져 신앙의 위...   \n",
       "\n",
       "                                                    cast  \\\n",
       "0      [{'role': '감독', 'personId': '/person/main?pers...   \n",
       "1      [{'role': '감독', 'personId': '/person/main?pers...   \n",
       "2      [{'role': '감독', 'personId': '/person/main?pers...   \n",
       "3      [{'role': '감독', 'personId': '/person/main?pers...   \n",
       "4      [{'role': '감독', 'personId': '/person/main?pers...   \n",
       "...                                                  ...   \n",
       "30218  [{'role': '감독', 'personId': '/person/main?pers...   \n",
       "30219  [{'role': '감독', 'personId': '/person/main?pers...   \n",
       "30220  [{'role': '감독', 'personId': '/person/main?pers...   \n",
       "30221  [{'role': '감독', 'personId': '/person/main?pers...   \n",
       "30222  [{'role': '감독', 'personId': '/person/main?pers...   \n",
       "\n",
       "                                             mainPageUrl  \\\n",
       "0         https://movie.daum.net/moviedb/grade?movieId=1   \n",
       "1         https://movie.daum.net/moviedb/grade?movieId=2   \n",
       "2         https://movie.daum.net/moviedb/grade?movieId=3   \n",
       "3         https://movie.daum.net/moviedb/grade?movieId=4   \n",
       "4         https://movie.daum.net/moviedb/grade?movieId=5   \n",
       "...                                                  ...   \n",
       "30218  https://movie.daum.net/moviedb/grade?movieId=1...   \n",
       "30219  https://movie.daum.net/moviedb/grade?movieId=1...   \n",
       "30220  https://movie.daum.net/moviedb/grade?movieId=1...   \n",
       "30221  https://movie.daum.net/moviedb/grade?movieId=1...   \n",
       "30222  https://movie.daum.net/moviedb/grade?movieId=1...   \n",
       "\n",
       "                                               posterUrl  numOfSiteRatings  \n",
       "0      https://img1.daumcdn.net/thumb/C408x596/?fname...             126.0  \n",
       "1      https://img1.daumcdn.net/thumb/C408x596/?fname...              23.0  \n",
       "2                                                   None              15.0  \n",
       "3      https://img1.daumcdn.net/thumb/C408x596/?fname...              74.0  \n",
       "4      https://img1.daumcdn.net/thumb/C408x596/?fname...              53.0  \n",
       "...                                                  ...               ...  \n",
       "30218  https://img1.daumcdn.net/thumb/C408x596/?fname...               1.0  \n",
       "30219  https://img1.daumcdn.net/thumb/C408x596/?fname...               1.0  \n",
       "30220  https://img1.daumcdn.net/thumb/C408x596/?fname...               1.0  \n",
       "30221  https://img1.daumcdn.net/thumb/C408x596/?fname...               1.0  \n",
       "30222  https://img1.daumcdn.net/thumb/C408x596/?fname...               1.0  \n",
       "\n",
       "[30223 rows x 8 columns]"
      ]
     },
     "execution_count": 44,
     "metadata": {},
     "output_type": "execute_result"
    }
   ],
   "source": [
    "daum_movies"
   ]
  },
  {
   "cell_type": "code",
   "execution_count": 45,
   "id": "4159d92b-7de0-454a-9ad7-cfa60df03ae7",
   "metadata": {
    "tags": []
   },
   "outputs": [],
   "source": [
    "daum_movies_movieid = daum_movies[['movieId']]"
   ]
  },
  {
   "cell_type": "code",
   "execution_count": 46,
   "id": "c49df969-2e82-4d83-8d5a-6d2d1a91df04",
   "metadata": {
    "collapsed": true,
    "jupyter": {
     "outputs_hidden": true
    },
    "tags": []
   },
   "outputs": [
    {
     "data": {
      "text/html": [
       "<div>\n",
       "<style scoped>\n",
       "    .dataframe tbody tr th:only-of-type {\n",
       "        vertical-align: middle;\n",
       "    }\n",
       "\n",
       "    .dataframe tbody tr th {\n",
       "        vertical-align: top;\n",
       "    }\n",
       "\n",
       "    .dataframe thead th {\n",
       "        text-align: right;\n",
       "    }\n",
       "</style>\n",
       "<table border=\"1\" class=\"dataframe\">\n",
       "  <thead>\n",
       "    <tr style=\"text-align: right;\">\n",
       "      <th></th>\n",
       "      <th>movieId</th>\n",
       "    </tr>\n",
       "  </thead>\n",
       "  <tbody>\n",
       "    <tr>\n",
       "      <th>0</th>\n",
       "      <td>1</td>\n",
       "    </tr>\n",
       "    <tr>\n",
       "      <th>1</th>\n",
       "      <td>2</td>\n",
       "    </tr>\n",
       "    <tr>\n",
       "      <th>2</th>\n",
       "      <td>3</td>\n",
       "    </tr>\n",
       "    <tr>\n",
       "      <th>3</th>\n",
       "      <td>4</td>\n",
       "    </tr>\n",
       "    <tr>\n",
       "      <th>4</th>\n",
       "      <td>5</td>\n",
       "    </tr>\n",
       "    <tr>\n",
       "      <th>...</th>\n",
       "      <td>...</td>\n",
       "    </tr>\n",
       "    <tr>\n",
       "      <th>30218</th>\n",
       "      <td>176047</td>\n",
       "    </tr>\n",
       "    <tr>\n",
       "      <th>30219</th>\n",
       "      <td>176048</td>\n",
       "    </tr>\n",
       "    <tr>\n",
       "      <th>30220</th>\n",
       "      <td>176049</td>\n",
       "    </tr>\n",
       "    <tr>\n",
       "      <th>30221</th>\n",
       "      <td>176148</td>\n",
       "    </tr>\n",
       "    <tr>\n",
       "      <th>30222</th>\n",
       "      <td>176336</td>\n",
       "    </tr>\n",
       "  </tbody>\n",
       "</table>\n",
       "<p>30223 rows × 1 columns</p>\n",
       "</div>"
      ],
      "text/plain": [
       "       movieId\n",
       "0            1\n",
       "1            2\n",
       "2            3\n",
       "3            4\n",
       "4            5\n",
       "...        ...\n",
       "30218   176047\n",
       "30219   176048\n",
       "30220   176049\n",
       "30221   176148\n",
       "30222   176336\n",
       "\n",
       "[30223 rows x 1 columns]"
      ]
     },
     "execution_count": 46,
     "metadata": {},
     "output_type": "execute_result"
    }
   ],
   "source": [
    "daum_movies_movieid"
   ]
  },
  {
   "cell_type": "code",
   "execution_count": 47,
   "id": "dc8db3ea-b99f-4414-9086-6b1fa2c54d1c",
   "metadata": {
    "collapsed": true,
    "jupyter": {
     "outputs_hidden": true
    },
    "tags": []
   },
   "outputs": [
    {
     "data": {
      "text/html": [
       "<div>\n",
       "<style scoped>\n",
       "    .dataframe tbody tr th:only-of-type {\n",
       "        vertical-align: middle;\n",
       "    }\n",
       "\n",
       "    .dataframe tbody tr th {\n",
       "        vertical-align: top;\n",
       "    }\n",
       "\n",
       "    .dataframe thead th {\n",
       "        text-align: right;\n",
       "    }\n",
       "</style>\n",
       "<table border=\"1\" class=\"dataframe\">\n",
       "  <thead>\n",
       "    <tr style=\"text-align: right;\">\n",
       "      <th></th>\n",
       "      <th>nickName</th>\n",
       "      <th>movieId</th>\n",
       "      <th>rating</th>\n",
       "      <th>timestamp</th>\n",
       "      <th>userId</th>\n",
       "      <th>review</th>\n",
       "    </tr>\n",
       "  </thead>\n",
       "  <tbody>\n",
       "    <tr>\n",
       "      <th>0</th>\n",
       "      <td>매력적그녀</td>\n",
       "      <td>121721</td>\n",
       "      <td>8</td>\n",
       "      <td>1.702394e+09</td>\n",
       "      <td>None</td>\n",
       "      <td>이런 영화 안좋아하는데 어쩔수 없이 봤다가 솔직히 기분은 진짜 별로였음 근데 또 영...</td>\n",
       "    </tr>\n",
       "    <tr>\n",
       "      <th>1</th>\n",
       "      <td>매력적그녀</td>\n",
       "      <td>1660</td>\n",
       "      <td>10</td>\n",
       "      <td>1.701700e+09</td>\n",
       "      <td>None</td>\n",
       "      <td>첨엔 내가 주인공이고 이렇게 술술 풀리는 행복한 인생 부럽다 이러다가 갈수록 숨막히...</td>\n",
       "    </tr>\n",
       "    <tr>\n",
       "      <th>2</th>\n",
       "      <td>매력적그녀</td>\n",
       "      <td>164920</td>\n",
       "      <td>10</td>\n",
       "      <td>1.692027e+09</td>\n",
       "      <td>None</td>\n",
       "      <td>처음엔 넷플에.떴길래 별 생각없이 보기 시작했는데 너무 잔잔해서 뭐지 하다가 이상하...</td>\n",
       "    </tr>\n",
       "    <tr>\n",
       "      <th>3</th>\n",
       "      <td>매력적그녀</td>\n",
       "      <td>130710</td>\n",
       "      <td>1</td>\n",
       "      <td>1.684073e+09</td>\n",
       "      <td>None</td>\n",
       "      <td>이거 왜 영화로 만든건가요?</td>\n",
       "    </tr>\n",
       "    <tr>\n",
       "      <th>4</th>\n",
       "      <td>매력적그녀</td>\n",
       "      <td>1953</td>\n",
       "      <td>6</td>\n",
       "      <td>1.677165e+09</td>\n",
       "      <td>None</td>\n",
       "      <td>당시엔 평이 엄청 낮고 여주 혹평이던 영화도 시간이 지나면 이렇게 평점이 좋아지는구...</td>\n",
       "    </tr>\n",
       "    <tr>\n",
       "      <th>...</th>\n",
       "      <td>...</td>\n",
       "      <td>...</td>\n",
       "      <td>...</td>\n",
       "      <td>...</td>\n",
       "      <td>...</td>\n",
       "      <td>...</td>\n",
       "    </tr>\n",
       "    <tr>\n",
       "      <th>582312</th>\n",
       "      <td>아림</td>\n",
       "      <td>96030</td>\n",
       "      <td>10</td>\n",
       "      <td>1.614238e+09</td>\n",
       "      <td>None</td>\n",
       "      <td>👍👍👍👍👍👍</td>\n",
       "    </tr>\n",
       "    <tr>\n",
       "      <th>582313</th>\n",
       "      <td>아림</td>\n",
       "      <td>134684</td>\n",
       "      <td>9</td>\n",
       "      <td>1.593245e+09</td>\n",
       "      <td>None</td>\n",
       "      <td>사람들마다 취향이 다르니 재미없으신 분들도 계시겠지만 부산행+엑시트 느낌이라 재밌었...</td>\n",
       "    </tr>\n",
       "    <tr>\n",
       "      <th>582314</th>\n",
       "      <td>버들치</td>\n",
       "      <td>48253</td>\n",
       "      <td>10</td>\n",
       "      <td>1.482238e+09</td>\n",
       "      <td>None</td>\n",
       "      <td>가슴이 아프다..</td>\n",
       "    </tr>\n",
       "    <tr>\n",
       "      <th>582315</th>\n",
       "      <td>이뿐수기</td>\n",
       "      <td>45801</td>\n",
       "      <td>9</td>\n",
       "      <td>1.516678e+09</td>\n",
       "      <td>None</td>\n",
       "      <td>추자현하면 이 영화가 생각남</td>\n",
       "    </tr>\n",
       "    <tr>\n",
       "      <th>582316</th>\n",
       "      <td>이뿐수기</td>\n",
       "      <td>48253</td>\n",
       "      <td>10</td>\n",
       "      <td>1.478506e+09</td>\n",
       "      <td>None</td>\n",
       "      <td>난 몇번을 더 봤다..\\n보고 또 울고 울고 울고..\\n넘 슬펐다...\\n근데 남자...</td>\n",
       "    </tr>\n",
       "  </tbody>\n",
       "</table>\n",
       "<p>561972 rows × 6 columns</p>\n",
       "</div>"
      ],
      "text/plain": [
       "       nickName  movieId  rating     timestamp userId  \\\n",
       "0         매력적그녀   121721       8  1.702394e+09   None   \n",
       "1         매력적그녀     1660      10  1.701700e+09   None   \n",
       "2         매력적그녀   164920      10  1.692027e+09   None   \n",
       "3         매력적그녀   130710       1  1.684073e+09   None   \n",
       "4         매력적그녀     1953       6  1.677165e+09   None   \n",
       "...         ...      ...     ...           ...    ...   \n",
       "582312       아림    96030      10  1.614238e+09   None   \n",
       "582313       아림   134684       9  1.593245e+09   None   \n",
       "582314      버들치    48253      10  1.482238e+09   None   \n",
       "582315     이뿐수기    45801       9  1.516678e+09   None   \n",
       "582316     이뿐수기    48253      10  1.478506e+09   None   \n",
       "\n",
       "                                                   review  \n",
       "0       이런 영화 안좋아하는데 어쩔수 없이 봤다가 솔직히 기분은 진짜 별로였음 근데 또 영...  \n",
       "1       첨엔 내가 주인공이고 이렇게 술술 풀리는 행복한 인생 부럽다 이러다가 갈수록 숨막히...  \n",
       "2       처음엔 넷플에.떴길래 별 생각없이 보기 시작했는데 너무 잔잔해서 뭐지 하다가 이상하...  \n",
       "3                                         이거 왜 영화로 만든건가요?  \n",
       "4       당시엔 평이 엄청 낮고 여주 혹평이던 영화도 시간이 지나면 이렇게 평점이 좋아지는구...  \n",
       "...                                                   ...  \n",
       "582312                                             👍👍👍👍👍👍  \n",
       "582313  사람들마다 취향이 다르니 재미없으신 분들도 계시겠지만 부산행+엑시트 느낌이라 재밌었...  \n",
       "582314                                          가슴이 아프다..  \n",
       "582315                                    추자현하면 이 영화가 생각남  \n",
       "582316  난 몇번을 더 봤다..\\n보고 또 울고 울고 울고..\\n넘 슬펐다...\\n근데 남자...  \n",
       "\n",
       "[561972 rows x 6 columns]"
      ]
     },
     "execution_count": 47,
     "metadata": {},
     "output_type": "execute_result"
    }
   ],
   "source": [
    "daum_ratings"
   ]
  },
  {
   "cell_type": "code",
   "execution_count": 88,
   "id": "cdcc13f1-7fb8-4def-b0ab-5d6f04e512ee",
   "metadata": {
    "tags": []
   },
   "outputs": [
    {
     "data": {
      "text/html": [
       "<div>\n",
       "<style scoped>\n",
       "    .dataframe tbody tr th:only-of-type {\n",
       "        vertical-align: middle;\n",
       "    }\n",
       "\n",
       "    .dataframe tbody tr th {\n",
       "        vertical-align: top;\n",
       "    }\n",
       "\n",
       "    .dataframe thead th {\n",
       "        text-align: right;\n",
       "    }\n",
       "</style>\n",
       "<table border=\"1\" class=\"dataframe\">\n",
       "  <thead>\n",
       "    <tr style=\"text-align: right;\">\n",
       "      <th></th>\n",
       "      <th>movieId</th>\n",
       "      <th>mean</th>\n",
       "      <th>count</th>\n",
       "    </tr>\n",
       "  </thead>\n",
       "  <tbody>\n",
       "    <tr>\n",
       "      <th>6437</th>\n",
       "      <td>33335</td>\n",
       "      <td>10.0</td>\n",
       "      <td>4</td>\n",
       "    </tr>\n",
       "    <tr>\n",
       "      <th>5928</th>\n",
       "      <td>30103</td>\n",
       "      <td>10.0</td>\n",
       "      <td>1</td>\n",
       "    </tr>\n",
       "    <tr>\n",
       "      <th>5942</th>\n",
       "      <td>30182</td>\n",
       "      <td>10.0</td>\n",
       "      <td>1</td>\n",
       "    </tr>\n",
       "    <tr>\n",
       "      <th>21094</th>\n",
       "      <td>106973</td>\n",
       "      <td>10.0</td>\n",
       "      <td>1</td>\n",
       "    </tr>\n",
       "    <tr>\n",
       "      <th>21095</th>\n",
       "      <td>106974</td>\n",
       "      <td>10.0</td>\n",
       "      <td>1</td>\n",
       "    </tr>\n",
       "    <tr>\n",
       "      <th>...</th>\n",
       "      <td>...</td>\n",
       "      <td>...</td>\n",
       "      <td>...</td>\n",
       "    </tr>\n",
       "    <tr>\n",
       "      <th>20197</th>\n",
       "      <td>101049</td>\n",
       "      <td>0.0</td>\n",
       "      <td>1</td>\n",
       "    </tr>\n",
       "    <tr>\n",
       "      <th>9504</th>\n",
       "      <td>44097</td>\n",
       "      <td>0.0</td>\n",
       "      <td>1</td>\n",
       "    </tr>\n",
       "    <tr>\n",
       "      <th>20218</th>\n",
       "      <td>101210</td>\n",
       "      <td>0.0</td>\n",
       "      <td>1</td>\n",
       "    </tr>\n",
       "    <tr>\n",
       "      <th>20220</th>\n",
       "      <td>101223</td>\n",
       "      <td>0.0</td>\n",
       "      <td>1</td>\n",
       "    </tr>\n",
       "    <tr>\n",
       "      <th>17580</th>\n",
       "      <td>84920</td>\n",
       "      <td>0.0</td>\n",
       "      <td>1</td>\n",
       "    </tr>\n",
       "  </tbody>\n",
       "</table>\n",
       "<p>30157 rows × 3 columns</p>\n",
       "</div>"
      ],
      "text/plain": [
       "       movieId  mean  count\n",
       "6437     33335  10.0      4\n",
       "5928     30103  10.0      1\n",
       "5942     30182  10.0      1\n",
       "21094   106973  10.0      1\n",
       "21095   106974  10.0      1\n",
       "...        ...   ...    ...\n",
       "20197   101049   0.0      1\n",
       "9504     44097   0.0      1\n",
       "20218   101210   0.0      1\n",
       "20220   101223   0.0      1\n",
       "17580    84920   0.0      1\n",
       "\n",
       "[30157 rows x 3 columns]"
      ]
     },
     "execution_count": 88,
     "metadata": {},
     "output_type": "execute_result"
    }
   ],
   "source": []
  },
  {
   "cell_type": "code",
   "execution_count": null,
   "id": "28f8d6ae-3a50-42cb-a06c-4906da62ecc1",
   "metadata": {},
   "outputs": [],
   "source": [
    "grouped_df[count]"
   ]
  },
  {
   "cell_type": "code",
   "execution_count": 95,
   "id": "247a39cb-ec50-459d-aa46-8759a470962f",
   "metadata": {
    "tags": []
   },
   "outputs": [
    {
     "ename": "KeyError",
     "evalue": "'num_of_collected_ratings'",
     "output_type": "error",
     "traceback": [
      "\u001b[0;31m---------------------------------------------------------------------------\u001b[0m",
      "\u001b[0;31mKeyError\u001b[0m                                  Traceback (most recent call last)",
      "File \u001b[0;32m/opt/homebrew/lib/python3.10/site-packages/pandas/core/indexes/base.py:3790\u001b[0m, in \u001b[0;36mIndex.get_loc\u001b[0;34m(self, key)\u001b[0m\n\u001b[1;32m   3789\u001b[0m \u001b[38;5;28;01mtry\u001b[39;00m:\n\u001b[0;32m-> 3790\u001b[0m     \u001b[38;5;28;01mreturn\u001b[39;00m \u001b[38;5;28;43mself\u001b[39;49m\u001b[38;5;241;43m.\u001b[39;49m\u001b[43m_engine\u001b[49m\u001b[38;5;241;43m.\u001b[39;49m\u001b[43mget_loc\u001b[49m\u001b[43m(\u001b[49m\u001b[43mcasted_key\u001b[49m\u001b[43m)\u001b[49m\n\u001b[1;32m   3791\u001b[0m \u001b[38;5;28;01mexcept\u001b[39;00m \u001b[38;5;167;01mKeyError\u001b[39;00m \u001b[38;5;28;01mas\u001b[39;00m err:\n",
      "File \u001b[0;32mindex.pyx:152\u001b[0m, in \u001b[0;36mpandas._libs.index.IndexEngine.get_loc\u001b[0;34m()\u001b[0m\n",
      "File \u001b[0;32mindex.pyx:181\u001b[0m, in \u001b[0;36mpandas._libs.index.IndexEngine.get_loc\u001b[0;34m()\u001b[0m\n",
      "File \u001b[0;32mpandas/_libs/hashtable_class_helper.pxi:7080\u001b[0m, in \u001b[0;36mpandas._libs.hashtable.PyObjectHashTable.get_item\u001b[0;34m()\u001b[0m\n",
      "File \u001b[0;32mpandas/_libs/hashtable_class_helper.pxi:7088\u001b[0m, in \u001b[0;36mpandas._libs.hashtable.PyObjectHashTable.get_item\u001b[0;34m()\u001b[0m\n",
      "\u001b[0;31mKeyError\u001b[0m: 'num_of_collected_ratings'",
      "\nThe above exception was the direct cause of the following exception:\n",
      "\u001b[0;31mKeyError\u001b[0m                                  Traceback (most recent call last)",
      "Cell \u001b[0;32mIn[95], line 1\u001b[0m\n\u001b[0;32m----> 1\u001b[0m daum_movies[\u001b[43mdaum_movies\u001b[49m\u001b[43m[\u001b[49m\u001b[38;5;124;43m'\u001b[39;49m\u001b[38;5;124;43mnum_of_collected_ratings\u001b[39;49m\u001b[38;5;124;43m'\u001b[39;49m\u001b[43m]\u001b[49m \u001b[38;5;241m>\u001b[39m \u001b[38;5;241m500\u001b[39m]\u001b[38;5;241m.\u001b[39msort_values(\u001b[38;5;124m'\u001b[39m\u001b[38;5;124mrating_mean\u001b[39m\u001b[38;5;124m'\u001b[39m, ascending\u001b[38;5;241m=\u001b[39m\u001b[38;5;28;01mFalse\u001b[39;00m)\u001b[38;5;241m.\u001b[39mhead(\u001b[38;5;241m100\u001b[39m)\n",
      "File \u001b[0;32m/opt/homebrew/lib/python3.10/site-packages/pandas/core/frame.py:3896\u001b[0m, in \u001b[0;36mDataFrame.__getitem__\u001b[0;34m(self, key)\u001b[0m\n\u001b[1;32m   3894\u001b[0m \u001b[38;5;28;01mif\u001b[39;00m \u001b[38;5;28mself\u001b[39m\u001b[38;5;241m.\u001b[39mcolumns\u001b[38;5;241m.\u001b[39mnlevels \u001b[38;5;241m>\u001b[39m \u001b[38;5;241m1\u001b[39m:\n\u001b[1;32m   3895\u001b[0m     \u001b[38;5;28;01mreturn\u001b[39;00m \u001b[38;5;28mself\u001b[39m\u001b[38;5;241m.\u001b[39m_getitem_multilevel(key)\n\u001b[0;32m-> 3896\u001b[0m indexer \u001b[38;5;241m=\u001b[39m \u001b[38;5;28;43mself\u001b[39;49m\u001b[38;5;241;43m.\u001b[39;49m\u001b[43mcolumns\u001b[49m\u001b[38;5;241;43m.\u001b[39;49m\u001b[43mget_loc\u001b[49m\u001b[43m(\u001b[49m\u001b[43mkey\u001b[49m\u001b[43m)\u001b[49m\n\u001b[1;32m   3897\u001b[0m \u001b[38;5;28;01mif\u001b[39;00m is_integer(indexer):\n\u001b[1;32m   3898\u001b[0m     indexer \u001b[38;5;241m=\u001b[39m [indexer]\n",
      "File \u001b[0;32m/opt/homebrew/lib/python3.10/site-packages/pandas/core/indexes/base.py:3797\u001b[0m, in \u001b[0;36mIndex.get_loc\u001b[0;34m(self, key)\u001b[0m\n\u001b[1;32m   3792\u001b[0m     \u001b[38;5;28;01mif\u001b[39;00m \u001b[38;5;28misinstance\u001b[39m(casted_key, \u001b[38;5;28mslice\u001b[39m) \u001b[38;5;129;01mor\u001b[39;00m (\n\u001b[1;32m   3793\u001b[0m         \u001b[38;5;28misinstance\u001b[39m(casted_key, abc\u001b[38;5;241m.\u001b[39mIterable)\n\u001b[1;32m   3794\u001b[0m         \u001b[38;5;129;01mand\u001b[39;00m \u001b[38;5;28many\u001b[39m(\u001b[38;5;28misinstance\u001b[39m(x, \u001b[38;5;28mslice\u001b[39m) \u001b[38;5;28;01mfor\u001b[39;00m x \u001b[38;5;129;01min\u001b[39;00m casted_key)\n\u001b[1;32m   3795\u001b[0m     ):\n\u001b[1;32m   3796\u001b[0m         \u001b[38;5;28;01mraise\u001b[39;00m InvalidIndexError(key)\n\u001b[0;32m-> 3797\u001b[0m     \u001b[38;5;28;01mraise\u001b[39;00m \u001b[38;5;167;01mKeyError\u001b[39;00m(key) \u001b[38;5;28;01mfrom\u001b[39;00m \u001b[38;5;21;01merr\u001b[39;00m\n\u001b[1;32m   3798\u001b[0m \u001b[38;5;28;01mexcept\u001b[39;00m \u001b[38;5;167;01mTypeError\u001b[39;00m:\n\u001b[1;32m   3799\u001b[0m     \u001b[38;5;66;03m# If we have a listlike key, _check_indexing_error will raise\u001b[39;00m\n\u001b[1;32m   3800\u001b[0m     \u001b[38;5;66;03m#  InvalidIndexError. Otherwise we fall through and re-raise\u001b[39;00m\n\u001b[1;32m   3801\u001b[0m     \u001b[38;5;66;03m#  the TypeError.\u001b[39;00m\n\u001b[1;32m   3802\u001b[0m     \u001b[38;5;28mself\u001b[39m\u001b[38;5;241m.\u001b[39m_check_indexing_error(key)\n",
      "\u001b[0;31mKeyError\u001b[0m: 'num_of_collected_ratings'"
     ]
    }
   ],
   "source": [
    "daum_movies[daum_movies['num_of_collected_ratings'] > 500].sort_values('rating_mean', ascending=False).head(100)"
   ]
  },
  {
   "cell_type": "code",
   "execution_count": null,
   "id": "f063428b-ca0a-4a07-8d2e-0dbaedbac745",
   "metadata": {},
   "outputs": [],
   "source": [
    "pop_movies_id = \\\n",
    "    daum_movies[daum_movies['num_of_collected_ratings'] > 100].sort_values('rating_mean', ascending=False).head(\n",
    "        100)[\n",
    "        'movieId'].tolist()\n",
    "# print(f\"get popular movies..done\")"
   ]
  }
 ],
 "metadata": {
  "kernelspec": {
   "display_name": "Python 3 (ipykernel)",
   "language": "python",
   "name": "python3"
  },
  "language_info": {
   "codemirror_mode": {
    "name": "ipython",
    "version": 3
   },
   "file_extension": ".py",
   "mimetype": "text/x-python",
   "name": "python",
   "nbconvert_exporter": "python",
   "pygments_lexer": "ipython3",
   "version": "3.10.12"
  }
 },
 "nbformat": 4,
 "nbformat_minor": 5
}
