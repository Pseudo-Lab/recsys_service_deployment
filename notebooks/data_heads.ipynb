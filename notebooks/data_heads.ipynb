{
 "cells": [
  {
   "cell_type": "code",
   "execution_count": 11,
   "id": "9784821a-318b-4bf5-928e-db57bc0bce9e",
   "metadata": {
    "tags": []
   },
   "outputs": [],
   "source": [
    "import csv\n",
    "i = 0\n",
    "movie_2019 = []\n",
    "with open('data/ml-25m/movies.csv') as f:\n",
    "    reader_obj = csv.reader(f) \n",
    "    for row_i, row in enumerate(reader_obj): \n",
    "        # print(row)\n",
    "        movieid, title, genres = row\n",
    "        i += 1\n",
    "        # if i > 10:\n",
    "        #     break\n",
    "        if '2019' in title:\n",
    "            movie_2019.append(title)\n",
    "            break"
   ]
  },
  {
   "cell_type": "code",
   "execution_count": 12,
   "id": "30eb07d4-6bbf-46dc-97b4-139b375e9c15",
   "metadata": {
    "tags": []
   },
   "outputs": [
    {
     "data": {
      "text/plain": [
       "['2019: After the Fall of New York (1983)']"
      ]
     },
     "execution_count": 12,
     "metadata": {},
     "output_type": "execute_result"
    }
   ],
   "source": [
    "movie_2019"
   ]
  },
  {
   "cell_type": "code",
   "execution_count": 10,
   "id": "a8e2d8f9-fe7a-4552-8a08-d8f14247afc5",
   "metadata": {
    "tags": []
   },
   "outputs": [
    {
     "data": {
      "text/plain": [
       "62423"
      ]
     },
     "execution_count": 10,
     "metadata": {},
     "output_type": "execute_result"
    }
   ],
   "source": [
    "row_i"
   ]
  },
  {
   "cell_type": "code",
   "execution_count": null,
   "id": "375407cb-22a1-4b76-a03b-c0b540f475e9",
   "metadata": {},
   "outputs": [],
   "source": []
  },
  {
   "cell_type": "code",
   "execution_count": 2,
   "id": "94f5a5c7-67e1-474c-844c-341357447fd9",
   "metadata": {
    "tags": []
   },
   "outputs": [
    {
     "name": "stdout",
     "output_type": "stream",
     "text": [
      "['userId', 'movieId', 'tag', 'timestamp']\n",
      "['3', '260', 'classic', '1439472355']\n",
      "['3', '260', 'sci-fi', '1439472256']\n",
      "['4', '1732', 'dark comedy', '1573943598']\n",
      "['4', '1732', 'great dialogue', '1573943604']\n",
      "['4', '7569', \"so bad it's good\", '1573943455']\n",
      "['4', '44665', 'unreliable narrators', '1573943619']\n",
      "['4', '115569', 'tense', '1573943077']\n",
      "['4', '115713', 'artificial intelligence', '1573942979']\n",
      "['4', '115713', 'philosophical', '1573943033']\n",
      "['4', '115713', 'tense', '1573943042']\n"
     ]
    }
   ],
   "source": [
    "import csv\n",
    "i = 0\n",
    "with open('data/ml-25m/tags.csv') as f:\n",
    "    reader_obj = csv.reader(f) \n",
    "    for row in reader_obj: \n",
    "        print(row)\n",
    "        i += 1\n",
    "        if i > 10:\n",
    "            break"
   ]
  },
  {
   "cell_type": "code",
   "execution_count": 3,
   "id": "5ed15e74-4558-46de-845a-34240d5c0e59",
   "metadata": {
    "tags": []
   },
   "outputs": [
    {
     "name": "stdout",
     "output_type": "stream",
     "text": [
      "['movieId', 'tagId', 'relevance']\n",
      "['1', '1', '0.028749999999999998']\n",
      "['1', '2', '0.023749999999999993']\n",
      "['1', '3', '0.0625']\n",
      "['1', '4', '0.07574999999999998']\n",
      "['1', '5', '0.14075']\n",
      "['1', '6', '0.14675']\n",
      "['1', '7', '0.0635']\n",
      "['1', '8', '0.20375']\n",
      "['1', '9', '0.202']\n",
      "['1', '10', '0.03075']\n"
     ]
    }
   ],
   "source": [
    "import csv\n",
    "i = 0\n",
    "with open('data/ml-25m/genome-scores.csv') as f:\n",
    "    reader_obj = csv.reader(f) \n",
    "    for row in reader_obj: \n",
    "        print(row)\n",
    "        i += 1\n",
    "        if i > 10:\n",
    "            break"
   ]
  },
  {
   "cell_type": "code",
   "execution_count": 5,
   "id": "a259593e-0b35-4ce2-897d-853cbde0538a",
   "metadata": {
    "tags": []
   },
   "outputs": [
    {
     "name": "stdout",
     "output_type": "stream",
     "text": [
      "['tagId', 'tag']\n",
      "['1', '007']\n",
      "['2', '007 (series)']\n",
      "['3', '18th century']\n",
      "['4', '1920s']\n",
      "['5', '1930s']\n",
      "['6', '1950s']\n",
      "['7', '1960s']\n",
      "['8', '1970s']\n",
      "['9', '1980s']\n",
      "['10', '19th century']\n"
     ]
    }
   ],
   "source": [
    "import csv\n",
    "i = 0\n",
    "with open('data/ml-25m/genome-tags.csv') as f:\n",
    "    reader_obj = csv.reader(f) \n",
    "    for row in reader_obj: \n",
    "        print(row)\n",
    "        i += 1\n",
    "        if i > 10:\n",
    "            break"
   ]
  },
  {
   "cell_type": "code",
   "execution_count": null,
   "id": "7125c7d8-d80a-42bd-bbfd-1d3c3873759e",
   "metadata": {},
   "outputs": [],
   "source": []
  }
 ],
 "metadata": {
  "kernelspec": {
   "display_name": "Python 3 (ipykernel)",
   "language": "python",
   "name": "python3"
  },
  "language_info": {
   "codemirror_mode": {
    "name": "ipython",
    "version": 3
   },
   "file_extension": ".py",
   "mimetype": "text/x-python",
   "name": "python",
   "nbconvert_exporter": "python",
   "pygments_lexer": "ipython3",
   "version": "3.10.12"
  }
 },
 "nbformat": 4,
 "nbformat_minor": 5
}
