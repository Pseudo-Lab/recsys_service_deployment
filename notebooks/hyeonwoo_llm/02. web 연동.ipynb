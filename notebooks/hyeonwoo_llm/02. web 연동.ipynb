{
 "cells": [
  {
   "cell_type": "code",
   "execution_count": 1,
   "metadata": {
    "pycharm": {
     "name": "#%%\n"
    }
   },
   "outputs": [
    {
     "data": {
      "text/plain": [
       "True"
      ]
     },
     "execution_count": 1,
     "metadata": {},
     "output_type": "execute_result"
    }
   ],
   "source": [
    "import pandas as pd\n",
    "from dotenv import load_dotenv\n",
    "import os\n",
    "\n",
    "load_dotenv()"
   ]
  },
  {
   "cell_type": "code",
   "execution_count": null,
   "metadata": {
    "pycharm": {
     "name": "#%%\n"
    }
   },
   "outputs": [],
   "source": [
    "# 영화 내용 요약 필요 !"
   ]
  },
  {
   "cell_type": "code",
   "execution_count": 2,
   "metadata": {
    "pycharm": {
     "name": "#%%\n"
    }
   },
   "outputs": [
    {
     "name": "stderr",
     "output_type": "stream",
     "text": [
      "26339it [00:39, 662.35it/s]\n"
     ]
    }
   ],
   "source": [
    "# import pymysql\n",
    "import os, json\n",
    "import pandas as pd\n",
    "from langchain_community.document_loaders.csv_loader import CSVLoader\n",
    "import random\n",
    "import numpy as np \n",
    "\n",
    "# CSV 파일 로드\n",
    "df = pd.read_csv(\"/data/project/private/hyeonwoo/llm-chat/daum_movies.csv\")\n",
    "df = df[df[\"synopsis\"].notnull()].reset_index(drop=True)\n",
    "df = df[df[\"cast\"].notnull()].reset_index(drop=True)\n",
    "df = df[df[\"cast\"].apply(len) > 2].reset_index(drop=True)\n",
    "\n",
    "from itertools import product\n",
    "from tqdm import tqdm\n",
    "from langchain.schema import Document\n",
    "\n",
    "documents = []\n",
    "for i, r in tqdm(df.sort_values(by=\"numOfSiteRatings\", ascending=False).iterrows()):\n",
    "    title = r.titleEn if pd.isna(r.titleKo) else r.titleKo\n",
    "    cast = eval(r.cast)\n",
    "    full_content = title\n",
    "    # full_content = \"영화 제목 : \" + title +\\\n",
    "    #     \"\\n영화 감독 : \" + cast[0][\"name\"] +\\\n",
    "    #     \"\\n영화 등장인물(출연진) : \" + ' '.join([c[\"name\"] for c in cast[1:6]]) +\\\n",
    "    #     \"\\n영화 줄거리 : \" + (r.synopsis if len(r.synopsis) <= 3500 else r.synopsis[0:3500//2][-3500//2:]) +\\\n",
    "    #     \"\\n유사 영화 :\\n\" + '\\n'.join([f\"  유사영화 {i}: {j}\" for i, j in enumerate(np.random.choice(df[\"titleKo\"].values, 5))])\n",
    "    idx = np.random.choice(range(0, df.shape[0]), 5)\n",
    "    document = Document(\n",
    "        # page_content=i, \n",
    "        page_content=full_content,\n",
    "        metadata={\n",
    "            \"영화 제목\": title,\n",
    "            \"영화 감독\": cast[0][\"name\"],\n",
    "            \"영화 등장인물\": ' '.join([c['name'] for c in cast[1:6]]),\n",
    "            \"영화 줄거리\": r.synopsis if len(r.synopsis) <= 3500 else r.synopsis[0:3500//2][-3500//2:], \n",
    "            \"유사 영화\": ', '.join([str(df[\"titleKo\"].values[i]) for i in idx])\n",
    "        }\n",
    "    )\n",
    "    documents.append(document)\n",
    "    \n",
    "# pd.DataFrame(train_data[0:1000]).to_csv(\"train_data2.csv\", index=False, encoding='utf-8')\n",
    "# documents = []\n",
    "# for index, row in df.iterrows():\n",
    "#     document = create_movie_document(row['title'], row['content'], row['cast'])\n",
    "#     documents.append(document)"
   ]
  },
  {
   "cell_type": "code",
   "execution_count": 54,
   "metadata": {
    "pycharm": {
     "name": "#%%\n"
    }
   },
   "outputs": [
    {
     "data": {
      "text/html": [
       "<div>\n",
       "<style scoped>\n",
       "    .dataframe tbody tr th:only-of-type {\n",
       "        vertical-align: middle;\n",
       "    }\n",
       "\n",
       "    .dataframe tbody tr th {\n",
       "        vertical-align: top;\n",
       "    }\n",
       "\n",
       "    .dataframe thead th {\n",
       "        text-align: right;\n",
       "    }\n",
       "</style>\n",
       "<table border=\"1\" class=\"dataframe\">\n",
       "  <thead>\n",
       "    <tr style=\"text-align: right;\">\n",
       "      <th></th>\n",
       "      <th>movieId</th>\n",
       "      <th>titleKo</th>\n",
       "      <th>titleEn</th>\n",
       "      <th>synopsis</th>\n",
       "      <th>cast</th>\n",
       "      <th>mainPageUrl</th>\n",
       "      <th>posterUrl</th>\n",
       "      <th>numOfSiteRatings</th>\n",
       "    </tr>\n",
       "  </thead>\n",
       "  <tbody>\n",
       "    <tr>\n",
       "      <th>0</th>\n",
       "      <td>1</td>\n",
       "      <td>플란다스의 개</td>\n",
       "      <td>Barking Dogs Never Bite, 2000</td>\n",
       "      <td>대학 시간강사인 고윤주(이성재)는 이번에도 교수직 추천에서 보기 좋게 떨어진다. 돈...</td>\n",
       "      <td>[{'role': '감독', 'personId': '/person/main?pers...</td>\n",
       "      <td>https://movie.daum.net/moviedb/grade?movieId=1</td>\n",
       "      <td>https://img1.daumcdn.net/thumb/C408x596/?fname...</td>\n",
       "      <td>126.0</td>\n",
       "    </tr>\n",
       "    <tr>\n",
       "      <th>1</th>\n",
       "      <td>2</td>\n",
       "      <td>카라</td>\n",
       "      <td>Calla, 1999</td>\n",
       "      <td>팬시회사 디자이너인 선우(송승헌)는 출근길 버스에서 지희(김희선)를 보고 첫눈에 반...</td>\n",
       "      <td>[{'role': '감독', 'personId': '/person/main?pers...</td>\n",
       "      <td>https://movie.daum.net/moviedb/grade?movieId=2</td>\n",
       "      <td>https://img1.daumcdn.net/thumb/C408x596/?fname...</td>\n",
       "      <td>23.0</td>\n",
       "    </tr>\n",
       "    <tr>\n",
       "      <th>2</th>\n",
       "      <td>3</td>\n",
       "      <td>주노명 베이커리</td>\n",
       "      <td>2000</td>\n",
       "      <td>빵과 결혼에 관한 性스러운 이야기 빵을 만드는 기쁨이 이런 것 아닐까? 사랑이 빵을...</td>\n",
       "      <td>[{'role': '감독', 'personId': '/person/main?pers...</td>\n",
       "      <td>https://movie.daum.net/moviedb/grade?movieId=3</td>\n",
       "      <td>NaN</td>\n",
       "      <td>15.0</td>\n",
       "    </tr>\n",
       "    <tr>\n",
       "      <th>3</th>\n",
       "      <td>4</td>\n",
       "      <td>여고괴담 두번째 이야기</td>\n",
       "      <td>Memento Mori, 1999</td>\n",
       "      <td>지각을 하는 바람에 학교 담을 넘어 등교한 민아(김민선)는 수돗가에서 우연히 붉은 ...</td>\n",
       "      <td>[{'role': '감독', 'personId': '/person/main?pers...</td>\n",
       "      <td>https://movie.daum.net/moviedb/grade?movieId=4</td>\n",
       "      <td>https://img1.daumcdn.net/thumb/C408x596/?fname...</td>\n",
       "      <td>74.0</td>\n",
       "    </tr>\n",
       "    <tr>\n",
       "      <th>4</th>\n",
       "      <td>5</td>\n",
       "      <td>행복한 장의사</td>\n",
       "      <td>2000</td>\n",
       "      <td>장판돌(오현경)은 시골의 한 마을에서 평생 장의사로 살아온 사람이다. 그의 손자 재...</td>\n",
       "      <td>[{'role': '감독', 'personId': '/person/main?pers...</td>\n",
       "      <td>https://movie.daum.net/moviedb/grade?movieId=5</td>\n",
       "      <td>https://img1.daumcdn.net/thumb/C408x596/?fname...</td>\n",
       "      <td>53.0</td>\n",
       "    </tr>\n",
       "    <tr>\n",
       "      <th>...</th>\n",
       "      <td>...</td>\n",
       "      <td>...</td>\n",
       "      <td>...</td>\n",
       "      <td>...</td>\n",
       "      <td>...</td>\n",
       "      <td>...</td>\n",
       "      <td>...</td>\n",
       "      <td>...</td>\n",
       "    </tr>\n",
       "    <tr>\n",
       "      <th>26334</th>\n",
       "      <td>175738</td>\n",
       "      <td>파묘</td>\n",
       "      <td>2022</td>\n",
       "      <td>거액의 돈을 받고 수상한 묘를 이장한 풍수사와 장의사, 무속인들에게 벌어지는 기이한...</td>\n",
       "      <td>[{'role': '감독', 'personId': '/person/main?pers...</td>\n",
       "      <td>https://movie.daum.net/moviedb/grade?movieId=1...</td>\n",
       "      <td>https://img1.daumcdn.net/thumb/C408x596/?fname...</td>\n",
       "      <td>2.0</td>\n",
       "    </tr>\n",
       "    <tr>\n",
       "      <th>26335</th>\n",
       "      <td>175957</td>\n",
       "      <td>머즐</td>\n",
       "      <td>Muzzle, 2023</td>\n",
       "      <td>LA경찰 K-9의 경관 제이크(아론 에크하트)와 그의 파트너 경찰견 에이스는 LA거...</td>\n",
       "      <td>[{'role': '감독', 'personId': '/person/main?pers...</td>\n",
       "      <td>https://movie.daum.net/moviedb/grade?movieId=1...</td>\n",
       "      <td>https://img1.daumcdn.net/thumb/C408x596/?fname...</td>\n",
       "      <td>3.0</td>\n",
       "    </tr>\n",
       "    <tr>\n",
       "      <th>26336</th>\n",
       "      <td>176047</td>\n",
       "      <td>땡큐 아임 소리</td>\n",
       "      <td>Thank You, I'm Sorry, Tack och förlåt, 2023</td>\n",
       "      <td>출산이 멀지 않은 상황에서 갑자기 혼자가 되어버린 사라. 그런데 구원의 손길이 전혀...</td>\n",
       "      <td>[{'role': '감독', 'personId': '/person/main?pers...</td>\n",
       "      <td>https://movie.daum.net/moviedb/grade?movieId=1...</td>\n",
       "      <td>https://img1.daumcdn.net/thumb/C408x596/?fname...</td>\n",
       "      <td>1.0</td>\n",
       "    </tr>\n",
       "    <tr>\n",
       "      <th>26337</th>\n",
       "      <td>176148</td>\n",
       "      <td>쿵푸팬더4</td>\n",
       "      <td>Kung Fu Panda 4, 2024</td>\n",
       "      <td>용의 전사 ‘포’(잭 블랙)가 상대의 기술을 그대로 카피하는 강력한 빌런 ‘카멜레온...</td>\n",
       "      <td>[{'role': '감독', 'personId': '/person/main?pers...</td>\n",
       "      <td>https://movie.daum.net/moviedb/grade?movieId=1...</td>\n",
       "      <td>https://img1.daumcdn.net/thumb/C408x596/?fname...</td>\n",
       "      <td>1.0</td>\n",
       "    </tr>\n",
       "    <tr>\n",
       "      <th>26338</th>\n",
       "      <td>176336</td>\n",
       "      <td>아이 러브 리지</td>\n",
       "      <td>I Love Lizzy, 2023</td>\n",
       "      <td>신학교를 떠나 여행을 하던 예비 성직자. 지역 투어 가이드와 사랑에 빠져 신앙의 위...</td>\n",
       "      <td>[{'role': '감독', 'personId': '/person/main?pers...</td>\n",
       "      <td>https://movie.daum.net/moviedb/grade?movieId=1...</td>\n",
       "      <td>https://img1.daumcdn.net/thumb/C408x596/?fname...</td>\n",
       "      <td>1.0</td>\n",
       "    </tr>\n",
       "  </tbody>\n",
       "</table>\n",
       "<p>26339 rows × 8 columns</p>\n",
       "</div>"
      ],
      "text/plain": [
       "       movieId       titleKo                                      titleEn  \\\n",
       "0            1       플란다스의 개                Barking Dogs Never Bite, 2000   \n",
       "1            2            카라                                  Calla, 1999   \n",
       "2            3      주노명 베이커리                                         2000   \n",
       "3            4  여고괴담 두번째 이야기                           Memento Mori, 1999   \n",
       "4            5       행복한 장의사                                         2000   \n",
       "...        ...           ...                                          ...   \n",
       "26334   175738            파묘                                         2022   \n",
       "26335   175957            머즐                                 Muzzle, 2023   \n",
       "26336   176047      땡큐 아임 소리  Thank You, I'm Sorry, Tack och förlåt, 2023   \n",
       "26337   176148         쿵푸팬더4                        Kung Fu Panda 4, 2024   \n",
       "26338   176336      아이 러브 리지                           I Love Lizzy, 2023   \n",
       "\n",
       "                                                synopsis  \\\n",
       "0      대학 시간강사인 고윤주(이성재)는 이번에도 교수직 추천에서 보기 좋게 떨어진다. 돈...   \n",
       "1      팬시회사 디자이너인 선우(송승헌)는 출근길 버스에서 지희(김희선)를 보고 첫눈에 반...   \n",
       "2      빵과 결혼에 관한 性스러운 이야기 빵을 만드는 기쁨이 이런 것 아닐까? 사랑이 빵을...   \n",
       "3      지각을 하는 바람에 학교 담을 넘어 등교한 민아(김민선)는 수돗가에서 우연히 붉은 ...   \n",
       "4      장판돌(오현경)은 시골의 한 마을에서 평생 장의사로 살아온 사람이다. 그의 손자 재...   \n",
       "...                                                  ...   \n",
       "26334  거액의 돈을 받고 수상한 묘를 이장한 풍수사와 장의사, 무속인들에게 벌어지는 기이한...   \n",
       "26335  LA경찰 K-9의 경관 제이크(아론 에크하트)와 그의 파트너 경찰견 에이스는 LA거...   \n",
       "26336  출산이 멀지 않은 상황에서 갑자기 혼자가 되어버린 사라. 그런데 구원의 손길이 전혀...   \n",
       "26337  용의 전사 ‘포’(잭 블랙)가 상대의 기술을 그대로 카피하는 강력한 빌런 ‘카멜레온...   \n",
       "26338  신학교를 떠나 여행을 하던 예비 성직자. 지역 투어 가이드와 사랑에 빠져 신앙의 위...   \n",
       "\n",
       "                                                    cast  \\\n",
       "0      [{'role': '감독', 'personId': '/person/main?pers...   \n",
       "1      [{'role': '감독', 'personId': '/person/main?pers...   \n",
       "2      [{'role': '감독', 'personId': '/person/main?pers...   \n",
       "3      [{'role': '감독', 'personId': '/person/main?pers...   \n",
       "4      [{'role': '감독', 'personId': '/person/main?pers...   \n",
       "...                                                  ...   \n",
       "26334  [{'role': '감독', 'personId': '/person/main?pers...   \n",
       "26335  [{'role': '감독', 'personId': '/person/main?pers...   \n",
       "26336  [{'role': '감독', 'personId': '/person/main?pers...   \n",
       "26337  [{'role': '감독', 'personId': '/person/main?pers...   \n",
       "26338  [{'role': '감독', 'personId': '/person/main?pers...   \n",
       "\n",
       "                                             mainPageUrl  \\\n",
       "0         https://movie.daum.net/moviedb/grade?movieId=1   \n",
       "1         https://movie.daum.net/moviedb/grade?movieId=2   \n",
       "2         https://movie.daum.net/moviedb/grade?movieId=3   \n",
       "3         https://movie.daum.net/moviedb/grade?movieId=4   \n",
       "4         https://movie.daum.net/moviedb/grade?movieId=5   \n",
       "...                                                  ...   \n",
       "26334  https://movie.daum.net/moviedb/grade?movieId=1...   \n",
       "26335  https://movie.daum.net/moviedb/grade?movieId=1...   \n",
       "26336  https://movie.daum.net/moviedb/grade?movieId=1...   \n",
       "26337  https://movie.daum.net/moviedb/grade?movieId=1...   \n",
       "26338  https://movie.daum.net/moviedb/grade?movieId=1...   \n",
       "\n",
       "                                               posterUrl  numOfSiteRatings  \n",
       "0      https://img1.daumcdn.net/thumb/C408x596/?fname...             126.0  \n",
       "1      https://img1.daumcdn.net/thumb/C408x596/?fname...              23.0  \n",
       "2                                                    NaN              15.0  \n",
       "3      https://img1.daumcdn.net/thumb/C408x596/?fname...              74.0  \n",
       "4      https://img1.daumcdn.net/thumb/C408x596/?fname...              53.0  \n",
       "...                                                  ...               ...  \n",
       "26334  https://img1.daumcdn.net/thumb/C408x596/?fname...               2.0  \n",
       "26335  https://img1.daumcdn.net/thumb/C408x596/?fname...               3.0  \n",
       "26336  https://img1.daumcdn.net/thumb/C408x596/?fname...               1.0  \n",
       "26337  https://img1.daumcdn.net/thumb/C408x596/?fname...               1.0  \n",
       "26338  https://img1.daumcdn.net/thumb/C408x596/?fname...               1.0  \n",
       "\n",
       "[26339 rows x 8 columns]"
      ]
     },
     "execution_count": 54,
     "metadata": {},
     "output_type": "execute_result"
    }
   ],
   "source": [
    "df"
   ]
  },
  {
   "cell_type": "markdown",
   "metadata": {
    "pycharm": {
     "name": "#%% md\n"
    }
   },
   "source": [
    "## 문서 집어넣고 대화 하기 "
   ]
  },
  {
   "cell_type": "code",
   "execution_count": 5,
   "metadata": {
    "pycharm": {
     "name": "#%%\n"
    }
   },
   "outputs": [],
   "source": [
    "# langchain 가장 기본적인 템플릿\n",
    "from langchain_core.prompts import PromptTemplate\n",
    "from langchain_core.runnables import RunnablePassthrough\n",
    "from langchain_core.output_parsers import StrOutputParser\n",
    "\n",
    "from langchain_upstage import (\n",
    "    UpstageLayoutAnalysisLoader,\n",
    "    UpstageGroundednessCheck,\n",
    "    ChatUpstage,\n",
    "    UpstageEmbeddings,\n",
    ")\n",
    "from langchain_chroma import Chroma\n",
    "from langchain.text_splitter import RecursiveCharacterTextSplitter\n",
    "embeddings_model = UpstageEmbeddings(model=\"solar-embedding-1-large\")"
   ]
  },
  {
   "cell_type": "code",
   "execution_count": 6,
   "metadata": {
    "pycharm": {
     "name": "#%%\n"
    }
   },
   "outputs": [],
   "source": [
    "vectorstore = Chroma.from_documents(\n",
    "    documents=documents[0:100], \n",
    "    embedding=embeddings_model, \n",
    "    # persist_directory=\"./chroma_db\"\n",
    ")"
   ]
  },
  {
   "cell_type": "markdown",
   "metadata": {
    "pycharm": {
     "name": "#%% md\n"
    }
   },
   "source": [
    "## 문서 집어넣고 대화 하기 "
   ]
  },
  {
   "cell_type": "code",
   "execution_count": 7,
   "metadata": {
    "pycharm": {
     "name": "#%%\n"
    }
   },
   "outputs": [],
   "source": [
    "from langchain.prompts import PromptTemplate\n",
    "from langchain_core.runnables import RunnablePassthrough\n",
    "from langchain.chat_models import ChatAnthropic\n",
    "from langchain.schema.output_parser import StrOutputParser\n",
    "\n",
    "from langchain_upstage import (\n",
    "    UpstageLayoutAnalysisLoader,\n",
    "    UpstageGroundednessCheck,\n",
    "    ChatUpstage,\n",
    "    UpstageEmbeddings,\n",
    ")\n",
    "from langchain_chroma import Chroma\n",
    "from langchain.text_splitter import RecursiveCharacterTextSplitter"
   ]
  },
  {
   "cell_type": "code",
   "execution_count": 33,
   "metadata": {
    "pycharm": {
     "name": "#%%\n"
    }
   },
   "outputs": [],
   "source": [
    "# 챗봇1: `영화추천`` / `검색`` / `채팅`` 3개 중 하나로 분류하는 챗봇 \n",
    "chain = PromptTemplate.from_template(\"\"\"주어진 아래의 질문을 보고, `영화추천`, `검색` 혹은 `채팅` 중 하나로 분류하세요.                                     \n",
    "하나의 단어 이상 표현하지 마세요. \n",
    "\n",
    "<질문>\n",
    "{question}\n",
    "</질문>\n",
    "\n",
    "분류:\"\"\") | ChatUpstage() | StrOutputParser()"
   ]
  },
  {
   "cell_type": "code",
   "execution_count": 34,
   "metadata": {
    "pycharm": {
     "name": "#%%\n"
    }
   },
   "outputs": [
    {
     "data": {
      "text/plain": [
       "'채팅.'"
      ]
     },
     "execution_count": 34,
     "metadata": {},
     "output_type": "execute_result"
    }
   ],
   "source": [
    "chain.invoke(\"안녕?\")"
   ]
  },
  {
   "cell_type": "code",
   "execution_count": 35,
   "metadata": {
    "pycharm": {
     "name": "#%%\n"
    }
   },
   "outputs": [
    {
     "data": {
      "text/plain": [
       "'검색'"
      ]
     },
     "execution_count": 35,
     "metadata": {},
     "output_type": "execute_result"
    }
   ],
   "source": [
    "chain.invoke(\"범죄도시4 감독?\")"
   ]
  },
  {
   "cell_type": "code",
   "execution_count": 36,
   "metadata": {
    "pycharm": {
     "name": "#%%\n"
    }
   },
   "outputs": [
    {
     "data": {
      "text/plain": [
       "'영화추천'"
      ]
     },
     "execution_count": 36,
     "metadata": {},
     "output_type": "execute_result"
    }
   ],
   "source": [
    "chain.invoke(\"범죄도시4 유사 영화?\")"
   ]
  },
  {
   "cell_type": "code",
   "execution_count": 19,
   "metadata": {
    "pycharm": {
     "name": "#%%\n"
    }
   },
   "outputs": [],
   "source": [
    "import os\n",
    "# os.environ['OPENAI_API_KEY'] = os.environ[\"api_key\"]\n",
    "os.environ[\"UPSTAGE_API_KEY\"] = os.environ[\"api_key\"]\n",
    "os.environ[\"SOLAR_API_KEY\"] = os.environ[\"api_key\"]\n",
    "# 구글 검색 API - 나무위키나.. 네이버 이런곳 \n",
    "# os.environ[\"GOOGLE_CSE_ID\"] = os.environ[\"GOOGLE_API_KEY\"]\n",
    "# os.environ[\"GOOGLE_API_KEY\"] = os.environ[\"GOOGLE_API_KEY\"]"
   ]
  },
  {
   "cell_type": "code",
   "execution_count": 56,
   "metadata": {
    "pycharm": {
     "name": "#%%\n"
    }
   },
   "outputs": [],
   "source": [
    "# from langchain_community.llms.solar import Solar\n",
    "# # {doc.metadata[\"유사 영화 내용\"]}\n",
    "# def invoke_form(doc): \n",
    "#     content = f\"\"\"\n",
    "#     <제목>\n",
    "#     {doc.metadata[\"영화 제목\"]}\n",
    "#     </제목>\n",
    "\n",
    "#     <감독>\n",
    "#     {doc.metadata[\"영화 감독\"]}\n",
    "#     </감독>\n",
    "\n",
    "#     <등장인물>\n",
    "#     {doc.metadata[\"영화 등장인물\"]}\n",
    "#     </등장인물>\n",
    "    \n",
    "#     <줄거리>\n",
    "#     {doc.metadata[\"영화 줄거리\"]}\n",
    "#     </줄거리>\n",
    "\n",
    "#     <유사 영화>\n",
    "#     {doc.metadata[\"유사 영화\"]}\n",
    "#     </유사 영화>\n",
    "#     \"\"\"\n",
    "#     return content \n",
    "# \"\"\"\n",
    "# 1. 90 Minutes in Heaven (2015) - 이 영화는 교통사고 후 천국을 경험한 남자의 이야기를 그린 작품으로, 범죄도시2와는 다른 장르이지만 감동적인 이야기를 담고 있습니다.\n",
    "# 2. Noise (2007) - 이 영화는 소음으로 인해 괴로워하는 사람들의 이야기를 그린 작품으로, 범죄도시2와는 다른 분위기를 가지고 있지만 사회적인 문제를 다루고 있습니다.\n",
    "# 3. Good Night, and Good Luck. (2005) - 이 영화는 1950년대 미국의 언론인과 그의 동료들이 언론의 자유를 위해 싸우는 이야기를 그린 작품으로, 범죄도시2와는 다른 시대와 배경을 가지고 있지만 사회적인 메시지를 담고 있습니다.\n",
    "# 4. The Bulwark (2019) - 이 영화는 범죄도시2와 마찬가지로 범죄와 싸우는 경찰의 이야기를 그린 작품으로, 범죄도시2와 비슷한 분위기를 가지고 있습니다.\n",
    "# 5. Mulan: Rise of a Warrior (2009) - 이 영화는 중국 전통 이야기를 바탕으로 한 애니메이션으로, 범죄도시2와는 다른 장르이지만 용기와 희생에 대한 이야기를 담고 있습니다.\n",
    "# \"\"\"\n",
    "# def format_docs(docs):\n",
    "#     return \"\\n\\n\".join(invoke_form(doc) for doc in docs[0:1])"
   ]
  },
  {
   "cell_type": "code",
   "execution_count": 21,
   "metadata": {
    "pycharm": {
     "name": "#%%\n"
    }
   },
   "outputs": [],
   "source": [
    "template_rec = \"\"\"\n",
    "당신은 추천시스템 서비스2 모임에서 만들어진 영화 추천을 도와주는 AI Chatbot인 PseudoRec입니다.\n",
    "주어진 <영화정보>를 바탕으로 유사한 영화에 대해 알려주세요. \n",
    "만약, 모르는 영화인 경우 \"검색\"을 출력하세요. \n",
    "\n",
    "<영화정보> \n",
    "{context}\n",
    "</영화정보> \n",
    "\n",
    "<질문> \n",
    "{question}\n",
    "</질문> \n",
    "\"\"\"\n",
    "\n",
    "template_search = \"\"\"\n",
    "당신은 추천시스템 서비스2 모임에서 만들어진 영화 추천을 도와주는 AI Chatbot인 PseudoRec입니다.\n",
    "\n",
    "<내용>\n",
    "{context}\n",
    "</내용>\n",
    "\n",
    "<질문> \n",
    "{question}\n",
    "</질문>\n",
    "\n",
    "주어진 <내용>을 기반으로 사용자의 <질문>에 답변을 해주세요. \n",
    "\"\"\"\n",
    "\n",
    "template_chat = \"\"\"\n",
    "당신은 추천시스템 서비스2 모임에서 만들어진 영화 추천을 도와주는 AI Chatbot인 PseudoRec입니다.\n",
    "친절하고, 상냥하고, 존댓말로 사용자의 질문에 답변을 해주세요. \n",
    "\n",
    "<질문> \n",
    "{question}\n",
    "</질문>\n",
    "\"\"\"\n",
    "\n",
    "custom_rec_prompt = PromptTemplate.from_template(template_rec)\n",
    "custom_search_prompt = PromptTemplate.from_template(template_search)\n",
    "custom_chat_prompt = PromptTemplate.from_template(template_chat)"
   ]
  },
  {
   "cell_type": "code",
   "execution_count": 22,
   "metadata": {
    "pycharm": {
     "name": "#%%\n"
    }
   },
   "outputs": [],
   "source": [
    "retriever = vectorstore.as_retriever(\n",
    "    search_type=\"similarity_score_threshold\", \n",
    "    search_kwargs={\"k\": 1, \"score_threshold\": 0.01}) # Query와 유사한거 찾는 녀석 (K=4)"
   ]
  },
  {
   "cell_type": "code",
   "execution_count": 23,
   "metadata": {
    "pycharm": {
     "name": "#%%\n"
    }
   },
   "outputs": [],
   "source": [
    "from langchain.tools import DuckDuckGoSearchRun\n",
    "from langchain.utilities import GoogleSearchAPIWrapper\n",
    "from langchain.retrievers.web_research import WebResearchRetriever\n",
    "\n",
    "search = DuckDuckGoSearchRun()\n",
    "# search = GoogleSearchAPIWrapper()\n",
    "\n",
    "# # Web Research Retriever 셋팅하기\n",
    "# web_research_retriever = WebResearchRetriever.from_llm(\n",
    "#     llm=ChatUpstage(), \n",
    "#     search=search, \n",
    "# )"
   ]
  },
  {
   "cell_type": "code",
   "execution_count": 29,
   "metadata": {
    "pycharm": {
     "name": "#%%\n"
    }
   },
   "outputs": [
    {
     "name": "stdout",
     "output_type": "stream",
     "text": [
      "영화 '범죄도시4' 허명행 감독/사진=에이비오엔터테인먼트 제공. 허명행 감독은 약 20년간 인연을 이어오고 있는 마동석에 대한 존경을 숨기지 않았다. 허명행 감독은 \"마동석은 정말 노력을 많이 한다. 지금 ('범죄도시' 시리즈 등으로) 현실화한 것들을 ... 영화 '범죄도시 4'를 연출한 허명행 감독을 만났다. 그동안 무술감독으로 이름을 알려온 허명행 감독은 '범죄도시' 시리즈에서도 무술감독으로 활약하다 이번 4편에서는 직접 메가폰을 들고 액션 연출을 넘어 작품 전체를 감독했다. 압도적인 예매율을 보이고 ... 허명행 감독이 '범죄도시4' 관련 인터뷰를 진행했다. 에이비오엔터테인먼트 제공. '범죄도시'는 그간 빌런 역의 많은 배우들을 대세 스타로 만들어 ... 영화 '범죄도시 4'를 연출한 허명행 감독은 무술감독으로 알려진 그의 역량을 활용하여 작품 전체를 감독했다. 그는 캐릭터부터 설계, 액션부터 구현, 대결부터 결과까지 자연스럽게 연결되었다고 말하며, 권일용의 연기와 영화 전체 중 가장 많은 테이크 갔던 장면을 인 무술감독→연출..'범죄도시4', 허명행이 개척한 새로운 길 [★FULL인터뷰] '범죄도시4'의 허명행 감독이 새로운 길을 개척했다. 최근 서울시 종로구 팔판동의 한 카페에서 영화 '범죄도시4'의 연출을 맡은 허명행 감독과 만나 다양한 이야기를 나눴다. '범죄도시4'는 ...\n"
     ]
    }
   ],
   "source": [
    "print(search.run(\"범죄도시4 감독\"))"
   ]
  },
  {
   "cell_type": "code",
   "execution_count": 30,
   "metadata": {
    "pycharm": {
     "name": "#%%\n"
    }
   },
   "outputs": [
    {
     "name": "stdout",
     "output_type": "stream",
     "text": [
      "영화 '범죄도시4'가 개봉 22일째인 5월 15일(수요일) 누적 관객수 천만명을 돌파하며 한국영화 시리즈 최초 3편 연속 천만 영화를 탄생시켰다. ... 좀 더 진화되지 않고 오히려 더 심플하게 정형화시켜 공장처럼 찍어내며 4편까지 왔다. 영화를 본 실관람평이 1편의 9 ... 영화 '범죄도시4'가 한국 시리즈 영화 사상 최초로 누적 관객 4천만 명을 돌파했다. '범죄도시4'가 개봉 20일째인 5월 13일 오전 7시 30분 누적 관객수 ... 압도적인 예매율로 흥행을 예고했던 영화 '범죄도시4'가 개봉 이틀 만에 100만 관객을 돌파했습니다. '범죄도시4'는 개봉 날인 그제 (24일) 82만 관객을 ... 13. 08:35. '범죄도시4'가 개봉 20일째 한국영화 시리즈 최초로 누적 관객수 4천만 명을 돌파하는 기염을 토했다. 12일 영화진흥위원회 영화관입장권 ... 영화 '범죄도시4'가 가 개봉 첫 주, 단 5일 만에 누적 4,253,551명의 관객을 동원하며 압도적 박스오피스 1위에 등극했다. '범죄도시4'는 개봉 이후 5일간 2024년 최고 오프닝을 비롯 최단기간 100만, 200만, 300만, 400만 관객 돌파 및 일일 최다 관객수 그리고 개봉주 최다 ...\n"
     ]
    }
   ],
   "source": [
    "print(search.run(\"현재 범죄도시4 관람객수\"))"
   ]
  },
  {
   "cell_type": "code",
   "execution_count": 31,
   "metadata": {
    "pycharm": {
     "name": "#%%\n"
    }
   },
   "outputs": [
    {
     "name": "stdout",
     "output_type": "stream",
     "text": [
      "오늘의 날씨 - 오전 (2024년 05월 25일) 5월 25일 토요일, 아침 날씨입니다. 아침 최저기온은 서울 18.0도, 인천 17.0도, 수원 17.0도, 춘천 14.0도, 강릉 15.0도, 청주 17.0도, 대전 15.0도, 전주 18.0도, 광주 16.0도, 대구 16.0도, 부산 15.0도, 제주 16.0도로 예상됩니다. 낮 최고 ... 2024년 5월 서울의 평균 기온은 18°C에서 23°C 사이로 예상 되며, 이는 봄의 마지막을 장식하는 따뜻하고 쾌적한 기후를 의미합니다. 낮 최고 기온은 때때로 25°C를 웃돌 수 있으며, 아침 저녁으로는 15°C까지 떨어질 수 있어 적절한 복장 선택이 중요합니다. 2024년 5월 20일~26일 서울 날씨 전망 그래프. 아래 그래프는 위에서 날짜별로 정리한 날씨 내용을 하나의 그래프로 나타낸 것입니다. 기상청 날씨누리 홈페이지에 게시되어 있는 정보입니다. 날씨누리 홈페이지 . 2024년 5월 20일~26일 서울 최저 기온 최고 기온표 주말인 5월 25일(토)과 5월 26일(일)은 특히 쌀쌀할 수 있으니 외출 시 겉옷을 챙기시는 것이 좋겠습니다. ... (2024년 비교) 📌 1주차 (5월 1일 - 5월 7일) ... 📌 4주차 (5월 22일 - 5월 28일) 이 기간 동안 날씨는 다소 변동성이 있었으며, 평균기온은 20.5℃로 ... 낙동강 상수원 '발암물질'…당국은 \"괜찮다\". [오늘의 날씨] 2024년 5월 24일 그늘이 반가운 한낮…주말까지 초여름 더위. 올여름, 평년보다 덥고 많은 비. 낙동강 수계 곳곳서 '좀비 발암물질' 미국 기준치 넘겼다···환경부 \"먹는물 우려 없어\". 문화·교육.\n"
     ]
    }
   ],
   "source": [
    "print(search.run(\"2024년 5월 25일 날씨는?\"))"
   ]
  },
  {
   "cell_type": "code",
   "execution_count": null,
   "metadata": {
    "pycharm": {
     "name": "#%%\n"
    }
   },
   "outputs": [],
   "source": [
    "# 넥슨 LLM 발표에서 그분들이 챗봇한테 역할을 여러개를 줌 \n",
    "# 예를들면, 말을 예쁘게 만드는 챗봇 \n",
    "# 너는 DB에서 정보를 가져오는 챗봇 \n",
    "# 챗봇이 서로 돌아가면서 최종결과를 나오도록 \n",
    "# 오.. 앙상블 느낌? 이것도 어떻게 보면 우선은 챗봇하나가 추천에서 나와야하는건지 / 검색을 해야하는건지 / "
   ]
  },
  {
   "cell_type": "code",
   "execution_count": 26,
   "metadata": {
    "pycharm": {
     "name": "#%%\n"
    }
   },
   "outputs": [],
   "source": [
    "# 에러\n",
    "# search = GoogleSearchAPIWrapper()\n",
    "# print(search.run(\"범죄도시4 개봉일자?\"))"
   ]
  },
  {
   "cell_type": "code",
   "execution_count": 42,
   "metadata": {
    "pycharm": {
     "name": "#%%\n"
    }
   },
   "outputs": [],
   "source": [
    "from colorama import Fore, Style\n",
    "# router -> 질문이 들어왔을때 \n",
    "# 내가 원하는 모델? 방법으로 케이스를 나누는것임 \n",
    "def router(chain, question): \n",
    "    print(Fore.BLACK+f'질문: {question}'+Style.RESET_ALL+'\\n')\n",
    "    response = chain.invoke(question) # 영화추천 / 검색 / 챗봇 \n",
    "    new_response = \"None\"\n",
    "    # 1차 개선 \n",
    "    # DB -> 임베딩화까지 시키면 \n",
    "    if \"영화추천\" in response: \n",
    "        print(\"영화추천: \", response)\n",
    "        # DB에 영화 추천정보를 담아놓은 방법 \n",
    "        # 히스토리까지 담겨있으면? 같이 활용 가능 \n",
    "        # 챗봇 2 : 영화추천 봇 \n",
    "        rag_chain = (\n",
    "            {\"context\": retriever | format_docs, \"question\": RunnablePassthrough()}\n",
    "            | custom_rec_prompt # prompt\n",
    "            | ChatUpstage() # chat\n",
    "            | StrOutputParser() # output parser\n",
    "        )\n",
    "        new_response = rag_chain.invoke(question)\n",
    "    # 못찾는 경우 검색으로 넘어가도록 .. \n",
    "    elif (\"검색\" in response) or (\"검색\" in new_response): \n",
    "        print(\"검색: \", response)\n",
    "        # 챗봇 3 : 검색을 기반으로 채팅해주는 챗봇3 \n",
    "        # 얘도 검색 개선 필요 !! Cohere <-- 요 회사? 완전 짱! \n",
    "        # 미국 1대장과 학생들 + 아이들 \n",
    "        # 1대장 : OpenAI >>>>> 학생 : 앤트로픽 / 코히어 (RAG 특화 + 검색 잘하는 곳 <- : 한국어는 코히어가 더 잘함) / ... >>>> \n",
    "        rag_chain = (\n",
    "            {\"context\": RunnablePassthrough(), \"question\": RunnablePassthrough()}\n",
    "            | custom_search_prompt \n",
    "            | ChatUpstage() \n",
    "            | StrOutputParser()\n",
    "        )\n",
    "        result = search.run(question)\n",
    "        print(Fore.RED+f'검색결과: {result}'+Style.RESET_ALL+'\\n')\n",
    "        new_response = rag_chain.invoke({\"question\": question, \"context\": search.run(question)})\n",
    "    else: \n",
    "        print(\"채팅: \", response)\n",
    "        # | ChatUpstage() | StrOutputParser()\n",
    "        # 챗봇4 : 검색을 기반으로 채팅해주는 챗봇4 \n",
    "        rag_chain = (\n",
    "            custom_chat_prompt\n",
    "            | ChatUpstage() # chat\n",
    "            | StrOutputParser() # output parser\n",
    "        )\n",
    "        new_response = rag_chain.invoke(question)\n",
    "    print(Fore.BLUE+f'답변: {new_response}'+Style.RESET_ALL+'\\n')\n",
    "    # return new_response"
   ]
  },
  {
   "cell_type": "code",
   "execution_count": null,
   "metadata": {
    "pycharm": {
     "name": "#%%\n"
    }
   },
   "outputs": [],
   "source": [
    "# 그.. llama3 / aya-23개국어되는 모델? <- 코히어 모델 \n",
    "# aya-23 : FT된거같아요. 채팅 쳐봤는데 생각보다 잘 하더라구요. \n",
    "# llama package (PT) 재학습 <- 얘로 시작하는 것 같아요! 회사에서는 라이센스 걸려있어서 못하는데, 사이드 프로젝트로는 상관 X.. !! 저희도 해볼수 있구요?!"
   ]
  },
  {
   "cell_type": "code",
   "execution_count": 43,
   "metadata": {
    "pycharm": {
     "name": "#%%\n"
    }
   },
   "outputs": [
    {
     "name": "stdout",
     "output_type": "stream",
     "text": [
      "\u001B[30m질문: 넌 누구야?\u001B[0m\n",
      "\n",
      "채팅:  채팅.\n",
      "\u001B[34m답변: 안녕하세요! 저는 PseudoRec입니다. 영화 추천을 도와주는 AI 챗봇으로, 추천시스템 서비스2 모임에서 만들어졌습니다. 친절하고 상냥한 태도로 여러분께 도움을 드리고자 합니다. 어떤 영화 추천이 필요하신가요?\u001B[0m\n",
      "\n"
     ]
    }
   ],
   "source": [
    "router(chain, \"넌 누구야?\")"
   ]
  },
  {
   "cell_type": "code",
   "execution_count": 53,
   "metadata": {
    "pycharm": {
     "name": "#%%\n"
    }
   },
   "outputs": [
    {
     "name": "stdout",
     "output_type": "stream",
     "text": [
      "\u001B[30m질문: 범죄도시1과 유사한 영화 알려줘\u001B[0m\n",
      "\n",
      "영화추천:  영화추천\n",
      "\u001B[34m답변: 죄송하지만, \"공각기동대 S.A.C Solid State Society 3D\", \"외계인들\", \"비행기\", \"이름 없는 별들\", \"느린 여름\"은 범죄도시1과 유사한 영화로 보이지 않습니다. \n",
      "\n",
      "범죄도시1과 유사한 영화로는 \"신세계\", \"악마를 보았다\", \"베테랑\", \"마녀\", \"범죄와의 전쟁: 나쁜놈들 전성시대\" 등이 있습니다.\u001B[0m\n",
      "\n"
     ]
    }
   ],
   "source": [
    "router(chain, \"범죄도시1과 유사한 영화 알려줘\")"
   ]
  },
  {
   "cell_type": "code",
   "execution_count": null,
   "metadata": {
    "pycharm": {
     "name": "#%%\n"
    }
   },
   "outputs": [],
   "source": []
  },
  {
   "cell_type": "code",
   "execution_count": 45,
   "metadata": {
    "pycharm": {
     "name": "#%%\n"
    }
   },
   "outputs": [
    {
     "data": {
      "text/plain": [
       "\"영화 '범죄도시4'가 83만 장이라는 역대급 사전 예매량으로 '범죄도시' 시리즈는 물론 2024년 최고 예매량 기록했다.24일 영화관입장권 통합전산망에 ... 마동석 주연의 액션 영화 '범죄도시 4'가 개봉일에 82만명이 넘는 관객을 모았다. 25일 영화관입장권 통합전산망에 따르면 '범죄도시 4'는 개봉일인 전날 82만1000여명 (매출액 점유율 96.6%)이 관람해 박스오피스 정상에 올랐다. 이는 '범죄도시 3' (74만여명)을 훌쩍 ... 믿고 보는 '범죄도시4', 개봉일 나왔다 (+날짜) [TV리포트=한아름 기자] 영화 '범죄도시4'가 오는 4월 24일 국내 개봉을 확정하며, 티저 포스터를 공개했다. 영화 '범죄도시4'가 오는 4월 24일 국내에서 개봉된다. 월드 프리미어 상영을 진행한 제74회 베를린 ... 영화 '범죄도시4'가 24일 개봉 첫날 관객 수 82만명을 돌파했다. 시리즈 가운데 가장 높은 기록이며 역대 한국영화 오프닝 기록으로는 4위다. 영화 '범죄도시4'가 다시 한번 천만 흥행에 도전합니다. 이번에는 4월 24일에 개봉하며, 이번 편에서는 무술 전문가인 허명행 감독이 메가폰을 잡았습니다. 온라인 불법 도박을 주제로 다루는 '범죄도시4'에 대해 자세히 살펴보겠습니다. 영화 소개 '범죄도시' 시리즈의 4번째 작품으로, 마동석 배우가 ...\""
      ]
     },
     "execution_count": 45,
     "metadata": {},
     "output_type": "execute_result"
    }
   ],
   "source": [
    "search.run(\"범죄도시4 개봉일 알려줘\")"
   ]
  },
  {
   "cell_type": "code",
   "execution_count": 46,
   "metadata": {
    "pycharm": {
     "name": "#%%\n"
    }
   },
   "outputs": [
    {
     "name": "stdout",
     "output_type": "stream",
     "text": [
      "\u001B[30m질문: 범죄도시4 개봉일 알려줘\u001B[0m\n",
      "\n",
      "검색:  검색\n",
      "\u001B[31m검색결과: 바로 범죄도시4 영화 인데요.마동석 외에도 김무열, 이동휘, 박지환, 이범수, 김민재, 이지훈, 이주빈 등이 열연했습니다. 오늘 개봉한 따끈따끈한 영화네요! 범죄도시4에 대해 상세히 알아보겠습니다.범죄도시4 개봉일, 범죄도시4 시사회 범죄도시4는 2024년 4월 24 ... 마동석 주연의 액션 영화 '범죄도시 4'가 개봉일에 82만명이 넘는 관객을 모았다. 25일 영화관입장권 통합전산망에 따르면 '범죄도시 4'는 개봉일인 전날 82만1000여명 (매출액 점유율 96.6%)이 관람해 박스오피스 정상에 올랐다. 이는 '범죄도시 3' (74만여명)을 훌쩍 ... 믿고 보는 '범죄도시4', 개봉일 나왔다 (+날짜) [TV리포트=한아름 기자] 영화 '범죄도시4'가 오는 4월 24일 국내 개봉을 확정하며, 티저 포스터를 공개했다. 영화 '범죄도시4'가 오는 4월 24일 국내에서 개봉된다. 월드 프리미어 상영을 진행한 제74회 베를린 ... 영화 '범죄도시4'가 83만 장이라는 역대급 사전 예매량으로 '범죄도시' 시리즈는 물론 2024년 최고 예매량 기록했다.24일 영화관입장권 통합전산망에 ... 마동석 주연의 액션 영화 '범죄도시4'가 오는 4월 24일 개봉한다. '범죄도시4'는 괴물형사 마석도가 대규모 온라인 불법 도박 조직을 움직이는 특수 ...\u001B[0m\n",
      "\n",
      "\u001B[34m답변: 범죄도시4는 2024년 4월 24일에 개봉합니다.\u001B[0m\n",
      "\n"
     ]
    }
   ],
   "source": [
    "router(chain, \"범죄도시4 개봉일 알려줘\")"
   ]
  },
  {
   "cell_type": "code",
   "execution_count": 47,
   "metadata": {
    "pycharm": {
     "name": "#%%\n"
    }
   },
   "outputs": [
    {
     "name": "stdout",
     "output_type": "stream",
     "text": [
      "\u001B[30m질문: 범죄도시4를 연출한 감독 알려줘\u001B[0m\n",
      "\n",
      "검색:  검색\n",
      "\u001B[31m검색결과: 영화 '범죄도시 4'를 연출한 허명행 감독을 만났다. 그동안 무술감독으로 이름을 알려온 허명행 감독은 '범죄도시' 시리즈에서도 무술감독으로 활약하다 이번 4편에서는 직접 메가폰을 들고 액션 연출을 넘어 작품 전체를 감독했다. 압도적인 예매율을 보이고 ... 인쇄. (서울=연합뉴스) 진연수 기자 = 허명행 감독이 16일 오후 서울 강남구 메가박스 코엑스에서 열린 영화 '범죄도시 4' 흥행 감사 쇼케이스에서 인사말을 하고 있다. 누적 관객수 1천만명을 돌파한 '범죄도시4'는 '범죄도시' 시리즈에서 2편 (1천269만명)과 3편 (1천 ... 영화 '범죄도시4'를 연출한 허명행 감독. 그는 '악마를 보았다', '신세계', '부산행', '범죄도시' 1, 2, 3편 등을 비롯해 무수한 영화의 ... 영화 '범죄도시 4'를 연출한 허명행 감독을 만났다. 그동안 무술감독으로 이름을 알려온 허명행 감독은 '범죄도시' 시리즈에서도 무술감독으로 활약하다 이번 4편에서는 직접 메가폰을 들고 액션 연출을 넘어 작품 전체를 감독했다. 시리즈의 연이은 흥행, 사전 ... 가. 가. 가. 가. 인쇄. 허명행 감독 / 에이비오 엔터테인먼트. '범죄도시4' 허명행 감독이 마동석과의 인연을 이야기했다. 23일 서울 종로구 삼청동의 한 카페에서는 영화 '범죄도시4'를 연출한 허명행 감독의 인터뷰가 진행됐다. 허명행 감독은 '부산행'(2016) '독전 ...\u001B[0m\n",
      "\n",
      "\u001B[34m답변: 영화 '범죄도시4'를 연출한 감독은 허명행입니다.\u001B[0m\n",
      "\n"
     ]
    }
   ],
   "source": [
    "router(chain, \"범죄도시4를 연출한 감독 알려줘\")"
   ]
  },
  {
   "cell_type": "code",
   "execution_count": 48,
   "metadata": {
    "pycharm": {
     "name": "#%%\n"
    }
   },
   "outputs": [
    {
     "name": "stdout",
     "output_type": "stream",
     "text": [
      "\u001B[30m질문: 퓨리오사: 매드 맥스 사가 내용이 뭐야?\u001B[0m\n",
      "\n",
      "검색:  검색\n",
      "\u001B[31m검색결과: 액션 및 포스트 아포칼립스 영화의 입지를 다진 매드 맥스 시리즈의 ip, 개봉 당시 입소문을 통해 흥행 역주행을 기록할 정도로 안정적인 흥행 추이를 보이며 380만여 명의 무난한 성적을 거둔 이전작 〈매드 맥스: 분노의 도로〉의 전적, 한국 영화가 2배 이상 ... 퓨리오사 매드맥스 사가 감독 조지밀러. 올해 79세 노장 감독 조지밀러는 매드맥스 분노의 도로 감독으로 매드 맥스 시리즈 각본을 모두 쓴 장본인입니다. 여담으로 각본 내용이 강력한 매드맥스와 달리 조지밀러 필모그래피 꼬마돼지베이브2 도 있습니다. \"퓨리오사 : 매드 맥스 사가\"를 가지고 왔습니다 퓨리오사가 어떻게 그 곳으로 오게 되었는지의 과정을 들여다보는 영화는 . 할리우드에서 가장 핫한 여배우인 안야 테일러 조이가 . 젋은 퓨리오사 역을 연기하며 마블의 토르 시리즈로 알려진 크리스 햄스워스가 전작인 '매드 맥스: 분노의 도로' 이후 무려 9년 만의 시리즈 신작이며 할리우드의 신예 안야 테일러조이와 크리스 헴스워스가 출연한다. ... '퓨리오사: 매드맥스 사가'는 문명 붕괴 45년 후, 황폐해진 세상에 무참히 던져진 '퓨리오사'가 고향으로 돌아가기 위해 ... 예고편에서는 줄거리의 많은 부분이 공개되지는 않았지만, 고향에서 납치된 어린 퓨리오사가 성장하여 유능한 전사로 거듭나고, 헴스워스의 캐릭터가 임모탄 조와 맞붙는 모습을 담았다. <퓨리오사: 매드 맥스 사가>는 2024년 5월 24일에 극장에서 개봉한다. golgo ...\u001B[0m\n",
      "\n",
      "\u001B[34m답변: 퓨리오사: 매드 맥스 사가는 9년 만에 돌아온 매드 맥스 시리즈의 신작입니다. 이 영화는 문명 붕괴 45년 후, 황폐해진 세상에서 젊은 퓨리오사가 고향으로 돌아가기 위해 모험을 떠나는 이야기를 그립니다. 할리우드에서 가장 핫한 여배우인 안야 테일러 조이가 퓨리오사 역을 맡았으며, 크리스 헴스워스도 출연합니다. 이 영화는 해외 평단의 호평을 받았으며, 북미에서 먼저 영화를 관람한 매체 관계자들은 긍정적인 평가를 내렸습니다.\u001B[0m\n",
      "\n"
     ]
    }
   ],
   "source": [
    "router(chain, \"퓨리오사: 매드 맥스 사가 내용이 뭐야?\")"
   ]
  },
  {
   "cell_type": "code",
   "execution_count": 49,
   "metadata": {
    "pycharm": {
     "name": "#%%\n"
    }
   },
   "outputs": [
    {
     "name": "stdout",
     "output_type": "stream",
     "text": [
      "\u001B[30m질문: 범죄도시4 내용이 뭐야?\u001B[0m\n",
      "\n",
      "검색:  검색.\n",
      "\u001B[31m검색결과: 범죄도시4 관람평, 후기, 리뷰를 솔직하게 알려드리도록 하겠습니다. . . . . 줄거리. 존재하지 않는 이미지입니다. 신종 마약 사건 3년 뒤, 괴물형사 '마석도' (마동석)와 서울 광수대는 배달앱을 이용한 마약 판매 사건을 수사하던 중 수배 중인 앱 개발자가 ... 범죄도시 1편이 워낙 강력해서 후속작품이 안될거라는 의견도 있었지만, 계속 승승장구하면서 4편까지 오게 되었네요. 우리의 #마석도형사가 주먹하나로 때려잡는다는 내용입니다. 가장 큰 이유가 '범죄도시3'에 #장이수가 나오지 않는다는 것이었죠. 예매를 ... 범죄도시2 다음에 4였으면 얘기는 나왔을 것 같은데. 이번 4는 1+2를 잘 차용한 느낌이었어요. 장점은 백창기가 특수부대 출신이고 . 감독이 액션감독이라서 그런지 액션신이 훨씬 좋아졌어요. 마지막 비행기에서 벌여지는 액션신은 칼 소지가 안되는 영화 '범죄도시4'는 이전 시리즈 흥행 성공에 힘입어 또 다시 개봉이 되었습니다. 묵직하고 시원한 액션과 주인공인 마석도 외에도 이전 빌런 역할로 나온 배우들이 주목 받으면서 많은 분들이 악역을 기대하는 영화 이기도 합니다. 특히나 이번에는 빌런 김무열의 나이프 파이팅이 돋보여 더 많은 ... 범죄도시 시리즈는 2017년부터 현재 시리즈 4편이자, 시리즈 1부의 마지막 작품이라고 한다. 가장 최고인건 아무래도 1편이 아닌가 싶다. 2~3편이 그냥저냥 볼만해서 그런지 4편은 기대없이. 보는데 뭐야 너무 재밌잖아! 몰입해서 보니 러닝타임이 훅 끝나버렸다.\u001B[0m\n",
      "\n",
      "\u001B[34m답변: 죄송하지만, 제가 이해한 바로는 '범죄도시4'라는 영화가 존재하지 않는 것으로 알고 있습니다. '범죄도시' 시리즈는 현재 2편까지 출시되었으며, 3편은 아직 출시되지 않았습니다. '범죄도시4'에 대한 내용은 제가 알고 있는 한 없습니다.\u001B[0m\n",
      "\n"
     ]
    }
   ],
   "source": [
    "# sungkim <--- 이분한테 직접 ㅋㅋ..\n",
    "router(chain, \"범죄도시4 내용이 뭐야?\")"
   ]
  },
  {
   "cell_type": "code",
   "execution_count": 50,
   "metadata": {
    "pycharm": {
     "name": "#%%\n"
    }
   },
   "outputs": [
    {
     "name": "stdout",
     "output_type": "stream",
     "text": [
      "\u001B[30m질문: 범죄도시4 개봉날 언제야?\u001B[0m\n",
      "\n",
      "검색:  검색\n",
      "\u001B[31m검색결과: 영화 '범죄도시4'가 개봉 첫날 82만 관객을 동원하며 박스오피스 1위에 올랐다. 영화관입장권 통합전산망 집계에 따르면 '범죄도시4'는 개봉일인 지난 24일 하루 동안 82만 1626명을 동원하며 전체 박스오피스 1위에 등극했다. 또한 올해 최고 오프닝 스코어 기록을 ... 영화 '범죄도시4'가 개봉 첫날 82만 관객을 동원하며 박스오피스 1위에 올랐다. 영화관입장권 통합전산망 집계에 따르면 '범죄도시4'는 개봉일인 지난 24일 하루 동안 82만 1626명을 동원하며 전체 박스오피스 1위에 등극했다. 또한 올해 최고 오프닝 스코어 기록을 ... 영화 '범죄도시4'가 개봉 22일째인 5월 15일 (수요일) 누적 관객수 천만명을 돌파하며 한국영화 시리즈 최초 3편 연속 천만 영화를 탄생시켰다. 누적 관객수까지 포함하면 '범죄도시' 시리즈로 4천만 명을 돌파한 것. 이로써 '범죄도시' 시리즈는 시리즈의 시작을 ... 영화 '범죄도시4'가 개봉 첫날 82만 관객을 동원하며 박스오피스 1위에 올랐다. 영화 '범죄도시4'가 4월 24일 (수) 영화관입장권 통합전산망 일일 박스오피스 기준, 개봉 첫날 821,631명의 관객을 동원하며 전체 박스오피스 1위에 등극해 2024년 최고 오프닝 스코어 ... 이처럼 관객들의 입소문을 타고 전격 흥행 중인 <범죄도시4>는 5월 1일 (수) 근로자의 날을 비롯해 5월 4일 (토)부터 본격적으로 시작되는 3일간의 어린이날 황금 연휴에 극장가의 신바람을 이어나갈 것으로 전망된다. 관객들의 뜨거운 성원으로 흥행 질주 중인 ...\u001B[0m\n",
      "\n",
      "\u001B[34m답변: 영화 '범죄도시4'는 4월 24일에 개봉했습니다.\u001B[0m\n",
      "\n"
     ]
    }
   ],
   "source": [
    "router(chain, \"범죄도시4 개봉날 언제야?\")"
   ]
  },
  {
   "cell_type": "code",
   "execution_count": null,
   "metadata": {
    "pycharm": {
     "name": "#%%\n"
    }
   },
   "outputs": [],
   "source": [
    "router(chain, \"범죄도시4 개봉날 언제야?\")"
   ]
  },
  {
   "cell_type": "code",
   "execution_count": 243,
   "metadata": {
    "pycharm": {
     "name": "#%%\n"
    }
   },
   "outputs": [
    {
     "name": "stdout",
     "output_type": "stream",
     "text": [
      "\u001B[30m질문: 범죄도시4를 연출한 감독 알려줘\u001B[0m\n",
      "\n",
      "\u001B[31m검색결과: 인쇄. (서울=연합뉴스) 진연수 기자 = 허명행 감독이 16일 오후 서울 강남구 메가박스 코엑스에서 열린 영화 '범죄도시 4' 흥행 감사 쇼케이스에서 인사말을 하고 있다. 누적 관객수 1천만명을 돌파한 '범죄도시4'는 '범죄도시' 시리즈에서 2편 (1천269만명)과 3편 (1천 ... 영화 '범죄도시4'를 연출한 허명행 감독. 그는 '악마를 보았다', '신세계', '부산행', '범죄도시' 1, 2, 3편 등을 비롯해 무수한 영화의 ... 영화 '범죄도시 4'를 연출한 허명행 감독을 만났다. 그동안 무술감독으로 이름을 알려온 허명행 감독은 '범죄도시' 시리즈에서도 무술감독으로 활약하다 이번 4편에서는 직접 메가폰을 들고 액션 연출을 넘어 작품 전체를 감독했다. 압도적인 예매율을 보이고 ... 허명행 감독이 '범죄도시4' 관련 인터뷰를 진행했다. 에이비오엔터테인먼트 제공. '범죄도시'는 그간 빌런 역의 많은 배우들을 대세 스타로 만들어 ... 영화 '범죄도시 4'를 연출한 허명행 감독을 만났다. 그동안 무술감독으로 이름을 알려온 허명행 감독은 '범죄도시' 시리즈에서도 무술감독으로 활약하다 이번 4편에서는 직접 메가폰을 들고 액션 연출을 넘어 작품 전체를 감독했다. 시리즈의 연이은 흥행, 사전 ...\u001B[0m\n",
      "\n",
      "\u001B[34m답변: 범죄도시4를 연출한 감독은 허명행입니다.\u001B[0m\n",
      "\n"
     ]
    }
   ],
   "source": [
    "router(chain, \"범죄도시4를 연출한 감독 알려줘\")"
   ]
  },
  {
   "cell_type": "code",
   "execution_count": 245,
   "metadata": {
    "pycharm": {
     "name": "#%%\n"
    }
   },
   "outputs": [
    {
     "name": "stdout",
     "output_type": "stream",
     "text": [
      "\u001B[30m질문: 안녕\u001B[0m\n",
      "\n",
      "\u001B[34m답변: 안녕하세요! 어떻게 도와드릴까요? 영화 추천이 필요하신가요?\u001B[0m\n",
      "\n"
     ]
    }
   ],
   "source": [
    "router(chain, \"안녕\")"
   ]
  },
  {
   "cell_type": "code",
   "execution_count": 246,
   "metadata": {
    "pycharm": {
     "name": "#%%\n"
    }
   },
   "outputs": [
    {
     "name": "stdout",
     "output_type": "stream",
     "text": [
      "\u001B[30m질문: 변호인하고 유사한 영화 추천해줘\u001B[0m\n",
      "\n",
      "\u001B[34m답변: 영화 변호인과 유사한 영화로는 다음과 같은 작품들이 있습니다:\n",
      "\n",
      "1. 미스비헤이비어 (Misbehaviour, 2020) - 1970년 미스 월드 대회에서 일어난 실제 사건을 바탕으로 한 영화로, 성차별과 여성 인권에 대한 이야기를 다룹니다.\n",
      "2. 스포트라이트 (Spotlight, 2015) - 보스턴 글로브의 '스포트라이트' 팀 기자들이 가톨릭 교회의 성추행 사건을 파헤치는 과정을 그린 영화입니다.\n",
      "3. 스포트라이트 (The Post, 2017) - 워싱턴 포스트의 편집장 케이 그레이엄과 발행인 벤 브래들리가 펜타곤 페이퍼를 공개하기로 결정하는 과정을 그린 영화입니다.\n",
      "4. 더 리포트 (The Report, 2019) - CIA의 고문 프로그램에 대한 조사를 다룬 영화로, 진실과 정의를 추구하는 이야기를 그립니다.\n",
      "5. 트루스 (Truth, 2015) - CBS 뉴스의 '60분' 프로그램에서 방영된 조지 부시 대통령의 이라크 전쟁 관련 보도의 오류를 파헤치는 이야기를 그린 영화입니다.\n",
      "\n",
      "이 영화들은 변호인과 마찬가지로 진실과 정의를 추구하는 이야기를 다루며, 사회적인 이슈와 인물들의 갈등을 다룹니다.\u001B[0m\n",
      "\n"
     ]
    }
   ],
   "source": [
    "router(chain, \"변호인하고 유사한 영화 추천해줘\")"
   ]
  },
  {
   "cell_type": "code",
   "execution_count": 51,
   "metadata": {
    "pycharm": {
     "name": "#%%\n"
    }
   },
   "outputs": [
    {
     "name": "stdout",
     "output_type": "stream",
     "text": [
      "\u001B[30m질문: 업스테이지에 대해 알려줘\u001B[0m\n",
      "\n",
      "검색:  검색\n",
      "\u001B[31m검색결과: SK네트웍스가 투자한 '업스테이지'는 누구? 최근 우리 회사가 새로운 투자 소식을 알렸는데요. 250 억원을 투자키로 했습니다. 기술 산업의 본거지라 할 수 있는 미국에서 진행해 의미를 더했는데요. 그렇다면 오늘은 업스테이지에 대해 알아보는 시간을 ... '업스테이지(Upstage)'에 250억원을 투자키로 했습니다. (축하축하) 특히 양사 주요 경영진 등이 이번 투자 체결 기념행사를. 기술 산업의 본거지라 할 수 있는 미국에서 진행해 의미를 더했는데요. 그렇다면 오늘은 업스테이지에 대해 알아보는 시간을 갖겠습니다. SK네트웍스는 미국 라스베이거스에서 열리고 있는 세계 최대 가전·IT 전시회 'CES 2024'에서 최성환 사업총괄 사장 등이 참석한 가운데 업스테이지 투자 체결 기념행사를 개최했다. 업스테이지는 AI 솔루션 개발·공급과 관련해 한국을 대표하는 스타트업으로 ... 국내에서도 오픈소스 AI 생태계 확장을 위한 움직임이 커지고 있습니다. 허깅페이스 오픈LLM 리더보드에서 1위를 차지했던 업스테이지는 최근 한국지능정보사회진흥원(NIA)과 손잡고 한국어 LLM의 성능을 평가하고 비교할 수 있는'Open Ko-LLM 리더보드'를 ... (업스테이지=2023/9/18) 업스테이지가 글로벌 생성ai 대표 기업들과 어깨를 나란히 했다. 국내 대표 ai 스타트업 업스테이지(대표 김성훈)는 자사 llm 모델 'solar'(이하 솔라)가 글로벌 생성 ai 활용 플랫폼 'poe'에 메인 모델로 등록됐다고 18일 밝혔다.\u001B[0m\n",
      "\n",
      "\u001B[34m답변: 업스테이지는 AI 솔루션 개발 및 공급 분야에서 한국을 대표하는 스타트업입니다. 최근 약 1000억 원 규모의 시리즈 B 투자를 유치하여, 2021년 시리즈 A 투자의 약 3배에 달하는 성과를 거두었습니다. 이번 투자에는 SK네트웍스가 250억 원을 투자하였으며, 업스테이지는 AI 소프트웨어 분야에서 국내 최대 규모의 투자를 유치하였습니다.\u001B[0m\n",
      "\n"
     ]
    }
   ],
   "source": [
    "router(chain, \"업스테이지에 대해 알려줘\")"
   ]
  },
  {
   "cell_type": "code",
   "execution_count": 214,
   "metadata": {
    "pycharm": {
     "name": "#%%\n"
    }
   },
   "outputs": [
    {
     "name": "stdout",
     "output_type": "stream",
     "text": [
      "검색결과 :  SK네트웍스가 투자한 '업스테이지'는 누구? 최근 우리 회사가 새로운 투자 소식을 알렸는데요. 250 억원을 투자키로 했습니다. 기술 산업의 본거지라 할 수 있는 미국에서 진행해 의미를 더했는데요. 그렇다면 오늘은 업스테이지에 대해 알아보는 시간을 ... '업스테이지(Upstage)'에 250억원을 투자키로 했습니다. (축하축하) 특히 양사 주요 경영진 등이 이번 투자 체결 기념행사를. 기술 산업의 본거지라 할 수 있는 미국에서 진행해 의미를 더했는데요. 그렇다면 오늘은 업스테이지에 대해 알아보는 시간을 갖겠습니다. \"챗gpt 능가\" 업스테이지·콴다·kt, 수학 특화 언어모델 개발 [서울=뉴시스] 오동현 기자 = 업스테이지는 인공지능(ai) 기반 학습 플랫폼 '콴다'를 운영하는 매스프레소, kt와 공동 개발한 수학 도메인 특화 'mathgpt(가칭)'가 오픈ai의 챗gpt와 마이크로소프트(ms) 모델을 제치고 세계 신기록을 ... SK네트웍스는 미국 라스베이거스에서 열리고 있는 세계 최대 가전·IT 전시회 'CES 2024'에서 최성환 사업총괄 사장 등이 참석한 가운데 업스테이지 투자 체결 기념행사를 개최했다. 업스테이지는 AI 솔루션 개발·공급과 관련해 한국을 대표하는 스타트업으로 ... 누적 투자금 1천400여억원 확보…\"AI SW 분야 최대 규모\". (서울=연합뉴스) 최현석 기자 = AI 스타트업 업스테이지는 약 1천억 원 규모의 시리즈 B (사업 개발을 본격화하는 단계) 투자를 유치했다고 16일 밝혔다. 이는 2021년 316억 원 규모로 마무리한 시리즈 A 투자의 약 ...\n",
      "업스테이지는 AI 솔루션 개발 및 공급 분야에서 한국을 대표하는 스타트업입니다. 최근 SK네트웍스가 250억원을 투자하여 기술 산업의 본거지인 미국에서 업스테이지에 투자하기로 결정했습니다. 업스테이지는 오픈소스 AI 생태계 확장을 위해 노력하고 있으며, 허깅페이스 오픈LLM 리더보드에서 1위를 차지한 바 있습니다. 최근에는 자체 개발한 사전학습 LLM 'Solar'를 공개하여 글로벌 LLM 대전에 본격적으로 참전하고 있습니다.\n"
     ]
    }
   ],
   "source": [
    "chain = PromptTemplate.from_template(\"\"\"주어진 아래의 질문을 보고, `영화추천`, `검색` 혹은 `채팅` 중 하나로 분류하세요.\n",
    "                                     \n",
    "하나의 단어 이상 표현하지 마세요. \n",
    "\n",
    "<질문>\n",
    "{question}\n",
    "</질문>\n",
    "\n",
    "분류:\"\"\") | ChatUpstage() | StrOutputParser()\n",
    "\n",
    "print(router(chain, \"업스테이지에 대해 알려줘\"))"
   ]
  },
  {
   "cell_type": "code",
   "execution_count": 217,
   "metadata": {
    "pycharm": {
     "name": "#%%\n"
    }
   },
   "outputs": [
    {
     "name": "stdout",
     "output_type": "stream",
     "text": [
      "네, 업스테이지의 성킴은 업스테이지의 창업자이자 대표인 김성훈을 가리키는 것 같습니다. 업스테이지는 업계 최고 수준의 AI 기술 조직을 보유하고 있으며, 글로벌 빅테크 출신 구성원들이 지속적으로 유입되고 있습니다. 김성훈 대표는 지난 2월 방한했던 마크 저커버그 메타 최고경영자(CEO)와 면담을 가졌으며, 1천억원 추가 투자 유치에 성공하며 승승장구하고 있습니다. 특히, 업스테이지의 최신 모델은 챗GPT의 기반이 되는 GPT-3.5의 벤치마크 평가 점수를 넘기는 이변을 연출했으며, 허깅페이스 리더보드 기준 생성 AI 모델의 대명사 격인 GPT-3.5의 점수를 능가한 사례는 업스테이지가 최초로, 토종 스타트업이 개발한 소형 LLM이 ... 주인공은 업스테이지의 창업자 김성훈(Sung Kim) 대표. 그는 업스테이지 스웨트셔츠를 입고 명함을 돌리고 있었습니다. 업스테이지는 부스를 차린 공식 참가 기업도 아니고, 따로 컨퍼런스를 여는 것도 아니었습니다. 그는 정말 CES에서 지나가는 사람 아무나를 ... 그 결과 업스테이지의 모델은 메타가 오늘 새벽 저커버그가 직접 공개한 '라마2' 70b 모델에 이어 평균 64.7점으로 2위를 차지했다. 이는 30b(300억)매개변수 모델 최고의 순위로 라마2의 절반도 안되는 사이즈로 경쟁력 있는 결과를 만든 것 이다.\"\n"
     ]
    }
   ],
   "source": [
    "chain = PromptTemplate.from_template(\"\"\"주어진 아래의 질문을 보고, `영화추천`, `검색` 혹은 `채팅` 중 하나로 분류하세요.\n",
    "                                     \n",
    "하나의 단어 이상 표현하지 마세요. \n",
    "\n",
    "<질문>\n",
    "{question}\n",
    "</질문>\n",
    "\n",
    "분류:\"\"\") | ChatUpstage() | StrOutputParser()\n",
    "\n",
    "print(router(chain, \"업스테이지의 성킴 알아?\"))"
   ]
  },
  {
   "cell_type": "code",
   "execution_count": 218,
   "metadata": {
    "pycharm": {
     "name": "#%%\n"
    }
   },
   "outputs": [
    {
     "name": "stdout",
     "output_type": "stream",
     "text": [
      "마동석이 나온 영화로는 다음과 같은 작품들이 있습니다:\n",
      "\n",
      "1. 부산행 (Train to Busan, 2016)\n",
      "2. 범죄도시 (The Outlaws, 2017)\n",
      "3. 신세계 (New World, 2012)\n",
      "4. 굿모닝 프레지던트 (Good Morning President, 2009)\n",
      "5. 챔피언 (Champion, 2018)\n",
      "6. 부라더 (Brotherhood, 2017)\n",
      "7. 악인전 (The Gangster, The Cop, The Devil, 2019)\n",
      "8. 마녀 (The Witch: Part 1. The Subversion, 2018)\n",
      "9. 성난황소 (The Drug King, 2018)\n",
      "10. 범죄도시 2 (The Roundup, 2022)\n",
      "\n",
      "이 영화들은 마동석이 출연한 작품들 중 일부입니다. 마동석은 다양한 장르의 영화에서 활약하며, 그의 강렬한 연기와 액션으로 많은 사랑을 받고 있습니다.\n"
     ]
    }
   ],
   "source": [
    "chain = PromptTemplate.from_template(\"\"\"주어진 아래의 질문을 보고, `영화추천`, `검색` 혹은 `채팅` 중 하나로 분류하세요.\n",
    "                                     \n",
    "하나의 단어 이상 표현하지 마세요. \n",
    "\n",
    "<질문>\n",
    "{question}\n",
    "</질문>\n",
    "\n",
    "분류:\"\"\") | ChatUpstage() | StrOutputParser()\n",
    "\n",
    "print(router(chain, \"마동석이 나온 영화 알려줘\"))"
   ]
  },
  {
   "cell_type": "code",
   "execution_count": 223,
   "metadata": {
    "pycharm": {
     "name": "#%%\n"
    }
   },
   "outputs": [
    {
     "name": "stdout",
     "output_type": "stream",
     "text": [
      "범죄도시 1은 2017년 10월 3일에 개봉한 범죄, 액션 장르의 한국 영화입니다. 이 영화는 강윤성 감독이 제작하였고, 배우 마동석의 통쾌한 액션을 보여주는 영화로써, 600만 명의 관객이 넘게 관람한 인기 있는 작품입니다. 이 영화는 가리봉동 차이나타운에서 조선족 출신의 이수파 행동대장과 독사파 조직원 간의 싸움을 다루고 있습니다. 이 과정에서 마석도 형사가 등장하여 사건을 해결하게 됩니다. 이 영화는 범죄도시 2와 범죄도시 3으로 이어지는 시리즈로, 두 번째와 세 번째 작품에서도 마동석이 주연으로 출연합니다.\n"
     ]
    }
   ],
   "source": [
    "chain = PromptTemplate.from_template(\"\"\"주어진 아래의 질문을 보고, `영화추천`, `검색` 혹은 `채팅` 중 하나로 분류하세요.\n",
    "                                     \n",
    "하나의 단어 이상 표현하지 마세요. \n",
    "\n",
    "<질문>\n",
    "{question}\n",
    "</질문>\n",
    "\n",
    "분류:\"\"\") | ChatUpstage() | StrOutputParser()\n",
    "\n",
    "print(router(chain, \"범죄도시1의 내용을 알려줘\"))"
   ]
  },
  {
   "cell_type": "code",
   "execution_count": 224,
   "metadata": {
    "pycharm": {
     "name": "#%%\n"
    }
   },
   "outputs": [
    {
     "name": "stdout",
     "output_type": "stream",
     "text": [
      "범죄도시2의 감독은 이상용입니다.\n"
     ]
    }
   ],
   "source": [
    "chain = PromptTemplate.from_template(\"\"\"주어진 아래의 질문을 보고, `영화추천`, `검색` 혹은 `채팅` 중 하나로 분류하세요.\n",
    "                                     \n",
    "하나의 단어 이상 표현하지 마세요. \n",
    "\n",
    "<질문>\n",
    "{question}\n",
    "</질문>\n",
    "\n",
    "분류:\"\"\") | ChatUpstage() | StrOutputParser()\n",
    "\n",
    "print(router(chain, \"범죄도시2 감독 알려줘\"))"
   ]
  },
  {
   "cell_type": "code",
   "execution_count": 227,
   "metadata": {
    "pycharm": {
     "name": "#%%\n"
    }
   },
   "outputs": [
    {
     "name": "stdout",
     "output_type": "stream",
     "text": [
      "질문 :  범죄도시4 개봉일 알려줘\n",
      "검색결과 : 범죄도시4 개봉일, 출연진, 빌런, 악역 (+김무열) 범죄도시4 - 마동석. 영화 범죄도시 시리즈 '범죄도시4' 는 현재 제 74회 베를린 국제 영화제에서 선공개됐으며, 한국 개봉일은 2024년 4월 24일 입니다. 주요 출연진은 마동석 (마석도 역), 김무열 (백창기 역) , 박지환 ... 바로 범죄도시4 영화 인데요.마동석 외에도 김무열, 이동휘, 박지환, 이범수, 김민재, 이지훈, 이주빈 등이 열연했습니다. 오늘 개봉한 따끈따끈한 영화네요! 범죄도시4에 대해 상세히 알아보겠습니다.범죄도시4 개봉일, 범죄도시4 시사회 범죄도시4는 2024년 4월 24 ... 영화 '범죄도시4'가 83만 장이라는 역대급 사전 예매량으로 '범죄도시' 시리즈는 물론 2024년 최고 예매량 기록했다.24일 영화관입장권 통합전산망에 ... 영화 범죄도시4 예고편이 공개되면서 마동석과 김무열의 대치 장면에 대한 기대감이 커지고 있습니다. 범죄도시4 개봉일, 출연진, 빌런, 악역 (+김무열)영화 범죄도시 시리즈 '범죄도시4'는 현재 제 74회 베를린 국제 영화제에서 선공개됐으며, 한국 개봉일은 2024년 4월 24일입니다 마동석 주연의 액션 영화 '범죄도시4'가 오는 4월 24일 개봉한다. '범죄도시4'는 괴물형사 마석도가 대규모 온라인 불법 도박 조직을 움직이는 특수 ...\n",
      "범죄도시4의 개봉일은 2024년 4월 24일입니다.\n"
     ]
    }
   ],
   "source": [
    "chain = PromptTemplate.from_template(\"\"\"주어진 아래의 질문을 보고, `영화추천`, `검색` 혹은 `채팅` 중 하나로 분류하세요.\n",
    "                                     \n",
    "하나의 단어 이상 표현하지 마세요. \n",
    "\n",
    "<질문>\n",
    "{question}\n",
    "</질문>\n",
    "\n",
    "분류:\"\"\") | ChatUpstage() | StrOutputParser()\n",
    "\n",
    "print(router(chain, \"범죄도시4 개봉일 알려줘\"))"
   ]
  },
  {
   "cell_type": "code",
   "execution_count": 228,
   "metadata": {
    "pycharm": {
     "name": "#%%\n"
    }
   },
   "outputs": [
    {
     "name": "stdout",
     "output_type": "stream",
     "text": [
      "질문 :  범죄도시4 현재 관람객수는?\n",
      "검색결과 : 25일 영화관입장권 통합전산망에 따르면 '범죄도시 4'는 개봉일인 전날 82만1천여명 (매출액 점유율 96.6%)이 관람해 박스오피스 정상에 올랐다. 개봉 당일 관객 수를 가리키는 오프닝 스코어가 지난해 천만 영화 반열에 든 '범죄도시 3' (74만여명)을 훌쩍 넘어섰고 ... 영화 '범죄도시4'가 개봉 22일째인 5월 15일 (수요일) 누적 관객수 천만명을 돌파하며 한국영화 시리즈 최초 3편 연속 천만 영화를 탄생시켰다. 누적 관객수까지 포함하면 '범죄도시' 시리즈로 4천만 명을 돌파한 것. 이로써 '범죄도시' 시리즈는 시리즈의 시작을 ... '범죄도시4'는 개봉 이후 5일간 2024년 최고 오프닝을 비롯 최단기간 100만, 200만, 300만, 400만 관객 돌파 및 일일 최다 관객수 그리고 개봉주 최다 관객 동원 신기록을 세웠다. 그러나 실 관람객의 관람평을 보면 높은 수치가 작품성과 이어지는 것 같지는 않다. 전국 누적관람객수는 86만 1465명이다. '범죄도시4'의 개봉 첫날 오프닝 스코어는 팬데믹 이후 최고 오프닝 스코어이며 역대 한국영화 오프닝 스코어 중 4위에 해당하는 성적이다. 앞서 개봉일 124만 6000명이 관람한 영화 '신과함께2'가 역대 오프닝 성적 1위를 ... 영화 '범죄도시4'가 한국 영화 최초로 '트리플 천만'을 달성했다. 15일 배급사 에이비오엔터테인먼트에 따르면 '범죄도시4'는 이날 오전 누적\n",
      "죄송하지만, 제가 이해한 바로는 범죄도시4의 현재 관람객수는 제공된 정보에서 명시되어 있지 않습니다. 제공된 정보에 따르면, 범죄도시4는 개봉 첫날 82만 1천여 명이 관람하여 박스오피스 정상에 올랐다고 합니다. 그러나 현재 관람객수에 대한 정보는 제공되지 않았습니다.\n"
     ]
    }
   ],
   "source": [
    "chain = PromptTemplate.from_template(\"\"\"주어진 아래의 질문을 보고, `영화추천`, `검색` 혹은 `채팅` 중 하나로 분류하세요.\n",
    "                                     \n",
    "하나의 단어 이상 표현하지 마세요. \n",
    "\n",
    "<질문>\n",
    "{question}\n",
    "</질문>\n",
    "\n",
    "분류:\"\"\") | ChatUpstage() | StrOutputParser()\n",
    "\n",
    "print(router(chain, \"범죄도시4 현재 관람객수는?\"))"
   ]
  },
  {
   "cell_type": "code",
   "execution_count": null,
   "metadata": {
    "pycharm": {
     "name": "#%%\n"
    }
   },
   "outputs": [],
   "source": [
    "chain = PromptTemplate.from_template(\"\"\"주어진 아래의 질문을 보고, `영화추천`, `검색` 혹은 `채팅` 중 하나로 분류하세요.\n",
    "                                     \n",
    "하나의 단어 이상 표현하지 마세요. \n",
    "\n",
    "<질문>\n",
    "{question}\n",
    "</질문>\n",
    "\n",
    "분류:\"\"\") | ChatUpstage() | StrOutputParser()\n",
    "\n",
    "print(router(chain, \"범죄도시4 현재 관람객수는?\"))"
   ]
  }
 ],
 "metadata": {
  "kernelspec": {
   "display_name": "Python 3 (ipykernel)",
   "language": "python",
   "name": "python3"
  },
  "language_info": {
   "codemirror_mode": {
    "name": "ipython",
    "version": 3
   },
   "file_extension": ".py",
   "mimetype": "text/x-python",
   "name": "python",
   "nbconvert_exporter": "python",
   "pygments_lexer": "ipython3",
   "version": "3.10.12"
  },
  "vscode": {
   "interpreter": {
    "hash": "b37f4f5c835732c8f23077bc5b6aee5ef176cf4c5f9c5114bd1b53818bf01924"
   }
  }
 },
 "nbformat": 4,
 "nbformat_minor": 4
}