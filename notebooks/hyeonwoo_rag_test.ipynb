{
 "cells": [
  {
   "cell_type": "code",
   "execution_count": 5,
   "id": "54a603a3-fa40-4af2-92e3-991ed3e0bbe6",
   "metadata": {
    "tags": []
   },
   "outputs": [
    {
     "data": {
      "text/plain": [
       "True"
      ]
     },
     "execution_count": 5,
     "metadata": {},
     "output_type": "execute_result"
    }
   ],
   "source": [
    "from dotenv import load_dotenv\n",
    "\n",
    "load_dotenv('.env.dev')"
   ]
  },
  {
   "cell_type": "code",
   "execution_count": 6,
   "id": "4fb89775-8986-42f4-be62-17fc4f58aea2",
   "metadata": {
    "tags": []
   },
   "outputs": [],
   "source": [
    "from langchain_core.prompts import PromptTemplate\n",
    "from langchain_core.runnables import RunnablePassthrough\n",
    "from langchain_core.output_parsers import StrOutputParser\n",
    "\n",
    "from langchain_upstage import (\n",
    "    UpstageLayoutAnalysisLoader,\n",
    "    UpstageGroundednessCheck,\n",
    "    ChatUpstage,\n",
    "    UpstageEmbeddings,\n",
    ")\n",
    "from langchain_chroma import Chroma\n",
    "from langchain.text_splitter import RecursiveCharacterTextSplitter\n",
    "embeddings_model = UpstageEmbeddings(model=\"solar-embedding-1-large\")"
   ]
  },
  {
   "cell_type": "code",
   "execution_count": 9,
   "id": "2166a142-1dc1-45af-95f6-53ddbf805c46",
   "metadata": {
    "tags": []
   },
   "outputs": [],
   "source": [
    "vectorstore = Chroma(persist_directory='chromadb.sqlite', embedding_function=embeddings_model)\n",
    "\n",
    "\n",
    "# vectorstore = Chroma.from_documents(\n",
    "#     documents=documents[0:100], \n",
    "#     embedding=embeddings_model, \n",
    "#     # persist_directory=\"./chroma_db\"\n",
    "# )"
   ]
  },
  {
   "cell_type": "code",
   "execution_count": 10,
   "id": "954a99ba-b9bc-4f67-8a35-e0e2d1521b19",
   "metadata": {
    "tags": []
   },
   "outputs": [],
   "source": [
    "from langchain_community.llms.solar import Solar\n",
    "# {doc.metadata[\"유사 영화 내용\"]}\n",
    "def invoke_form(doc): \n",
    "    content = f\"\"\"\n",
    "    <제목>\n",
    "    {doc.metadata[\"영화 제목\"]}\n",
    "    </제목>\n",
    "\n",
    "    <감독>\n",
    "    {doc.metadata[\"영화 감독\"]}\n",
    "    </감독>\n",
    "\n",
    "    <등장인물>\n",
    "    {doc.metadata[\"영화 등장인물\"]}\n",
    "    </등장인물>\n",
    "    \n",
    "    <줄거리>\n",
    "    {doc.metadata[\"영화 줄거리\"]}\n",
    "    </줄거리>\n",
    "\n",
    "    <유사 영화>\n",
    "    {doc.metadata[\"유사 영화\"]}\n",
    "    </유사 영화>\n",
    "    \"\"\"\n",
    "    return content \n",
    "\"\"\"\n",
    "1. 90 Minutes in Heaven (2015) - 이 영화는 교통사고 후 천국을 경험한 남자의 이야기를 그린 작품으로, 범죄도시2와는 다른 장르이지만 감동적인 이야기를 담고 있습니다.\n",
    "2. Noise (2007) - 이 영화는 소음으로 인해 괴로워하는 사람들의 이야기를 그린 작품으로, 범죄도시2와는 다른 분위기를 가지고 있지만 사회적인 문제를 다루고 있습니다.\n",
    "3. Good Night, and Good Luck. (2005) - 이 영화는 1950년대 미국의 언론인과 그의 동료들이 언론의 자유를 위해 싸우는 이야기를 그린 작품으로, 범죄도시2와는 다른 시대와 배경을 가지고 있지만 사회적인 메시지를 담고 있습니다.\n",
    "4. The Bulwark (2019) - 이 영화는 범죄도시2와 마찬가지로 범죄와 싸우는 경찰의 이야기를 그린 작품으로, 범죄도시2와 비슷한 분위기를 가지고 있습니다.\n",
    "5. Mulan: Rise of a Warrior (2009) - 이 영화는 중국 전통 이야기를 바탕으로 한 애니메이션으로, 범죄도시2와는 다른 장르이지만 용기와 희생에 대한 이야기를 담고 있습니다.\n",
    "\"\"\"\n",
    "def format_docs(docs):\n",
    "    return \"\\n\\n\".join(invoke_form(doc) for doc in docs[0:1])\n",
    "\n",
    "retriever = vectorstore.as_retriever(\n",
    "    search_type=\"similarity_score_threshold\", \n",
    "    search_kwargs={\"k\": 1, \"score_threshold\": 0.01}) # Query와 유사한거 찾는 녀석 (K=4)"
   ]
  },
  {
   "cell_type": "code",
   "execution_count": 12,
   "id": "841aa5fd-e0c9-48ca-9bbf-4d55c5c0873f",
   "metadata": {
    "tags": []
   },
   "outputs": [],
   "source": [
    "template_rec = \"\"\"\n",
    "당신은 추천시스템 서비스2 모임에서 만들어진 영화 추천을 도와주는 AI Chatbot인 PseudoRec입니다.\n",
    "주어진 <영화정보>를 바탕으로 유사한 영화에 대해 알려주세요. \n",
    "만약, 모르는 영화인 경우 \"검색\"을 출력하세요. \n",
    "\n",
    "<영화정보> \n",
    "{context}\n",
    "</영화정보> \n",
    "\n",
    "<질문> \n",
    "{question}\n",
    "</질문> \n",
    "\"\"\"\n",
    "\n",
    "template_search = \"\"\"\n",
    "당신은 추천시스템 서비스2 모임에서 만들어진 영화 추천을 도와주는 AI Chatbot인 PseudoRec입니다.\n",
    "\n",
    "<내용>\n",
    "{context}\n",
    "</내용>\n",
    "\n",
    "<질문> \n",
    "{question}\n",
    "</질문>\n",
    "\n",
    "주어진 <내용>을 기반으로 사용자의 <질문>에 답변을 해주세요. \n",
    "\"\"\"\n",
    "\n",
    "template_chat = \"\"\"\n",
    "당신은 추천시스템 서비스2 모임에서 만들어진 영화 추천을 도와주는 AI Chatbot인 PseudoRec입니다.\n",
    "친절하고, 상냥하고, 존댓말로 사용자의 질문에 답변을 해주세요. \n",
    "\n",
    "<질문> \n",
    "{question}\n",
    "</질문>\n",
    "\"\"\"\n",
    "\n",
    "custom_rec_prompt = PromptTemplate.from_template(template_rec)\n",
    "custom_search_prompt = PromptTemplate.from_template(template_search)\n",
    "custom_chat_prompt = PromptTemplate.from_template(template_chat)"
   ]
  },
  {
   "cell_type": "code",
   "execution_count": 17,
   "id": "f5c41042-5006-45da-966f-933842993624",
   "metadata": {
    "tags": []
   },
   "outputs": [
    {
     "name": "stderr",
     "output_type": "stream",
     "text": [
      "/Users/kyeongchanlee/PycharmProjects/recsys_service_deployment/venv/lib/python3.10/site-packages/langchain_core/vectorstores.py:342: UserWarning: No relevant docs were retrieved using the relevance score threshold 0.01\n",
      "  warnings.warn(\n"
     ]
    }
   ],
   "source": [
    "rag_chain = (\n",
    "    {\"context\": retriever | format_docs, \"question\": RunnablePassthrough()}\n",
    "    | custom_rec_prompt # prompt\n",
    "    | ChatUpstage() # chat\n",
    "    | StrOutputParser() # output parser\n",
    ")\n",
    "\n",
    "question = '범죄도시와 비슷한 영화 추천해줘'\n",
    "question = '너 누구야'\n",
    "new_response = rag_chain.invoke(question)"
   ]
  },
  {
   "cell_type": "code",
   "execution_count": 19,
   "id": "e9f87012-8a0f-40ad-a7e1-91e3bf96c450",
   "metadata": {
    "tags": []
   },
   "outputs": [
    {
     "data": {
      "text/plain": [
       "'죄송합니다, 하지만 제공된 정보가 없어서 당신을 도와드릴 수 없습니다. 영화 정보를 제공해주실 수 있을까요?'"
      ]
     },
     "execution_count": 19,
     "metadata": {},
     "output_type": "execute_result"
    }
   ],
   "source": [
    "new_response"
   ]
  },
  {
   "cell_type": "code",
   "execution_count": 20,
   "id": "c3fe39ee-025b-448e-b87e-11d452f5af30",
   "metadata": {
    "tags": []
   },
   "outputs": [],
   "source": [
    "import os"
   ]
  },
  {
   "cell_type": "code",
   "execution_count": 23,
   "id": "d933c034-62b7-4c49-a615-5f926926b074",
   "metadata": {
    "tags": []
   },
   "outputs": [],
   "source": [
    "import boto3"
   ]
  },
  {
   "cell_type": "code",
   "execution_count": 24,
   "id": "d941d861-d408-440b-9b98-f455349933c7",
   "metadata": {
    "tags": []
   },
   "outputs": [],
   "source": [
    "s3 = boto3.client('s3', \n",
    "                       aws_access_key_id=os.getenv('AWS_ACCESS_KEY_ID'), \n",
    "                       aws_secret_access_key=os.getenv('AWS_SECRET_ACCESS_KEY'))"
   ]
  },
  {
   "cell_type": "code",
   "execution_count": 29,
   "id": "d200990f-91f5-4d50-a697-dcc99df575a6",
   "metadata": {
    "tags": []
   },
   "outputs": [],
   "source": [
    "s3.upload_file('chroma.sqlite3', 'pseudorec-data', 'hyeonwoo/chroma.sqlite3')"
   ]
  }
 ],
 "metadata": {
  "kernelspec": {
   "display_name": "recsys_service_deployment",
   "language": "python",
   "name": "recsys_service_deployment"
  },
  "language_info": {
   "codemirror_mode": {
    "name": "ipython",
    "version": 3
   },
   "file_extension": ".py",
   "mimetype": "text/x-python",
   "name": "python",
   "nbconvert_exporter": "python",
   "pygments_lexer": "ipython3",
   "version": "3.10.4"
  }
 },
 "nbformat": 4,
 "nbformat_minor": 5
}
