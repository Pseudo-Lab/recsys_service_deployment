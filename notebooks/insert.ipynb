{
 "cells": [
  {
   "cell_type": "code",
   "execution_count": 10,
   "id": "9e6d52c9-2e3a-45d5-90a3-e7dca4655963",
   "metadata": {
    "tags": []
   },
   "outputs": [],
   "source": [
    "from clients import MysqlClient\n",
    "import os\n",
    "os.environ['RDS_MYSQL_PW'] = 'Precsys1!'"
   ]
  },
  {
   "cell_type": "code",
   "execution_count": 17,
   "id": "39d9a1b7-01ad-4565-af9f-37299870a63e",
   "metadata": {
    "tags": []
   },
   "outputs": [],
   "source": [
    "mysql = MysqlClient()\n"
   ]
  },
  {
   "cell_type": "code",
   "execution_count": 22,
   "id": "ff7fd433-996a-4137-8045-f729a54d2b74",
   "metadata": {
    "tags": []
   },
   "outputs": [],
   "source": [
    "movies = mysql.get_movies()\n",
    "targets = movies[movies['url'].isnull()]['title']"
   ]
  },
  {
   "cell_type": "code",
   "execution_count": 23,
   "id": "c011509b-4442-4772-9cf2-bc2f4cc0fc62",
   "metadata": {
    "tags": []
   },
   "outputs": [
    {
     "data": {
      "text/plain": [
       "55168"
      ]
     },
     "execution_count": 23,
     "metadata": {},
     "output_type": "execute_result"
    }
   ],
   "source": [
    "len(targets)"
   ]
  },
  {
   "cell_type": "code",
   "execution_count": null,
   "id": "e9180ace-5c38-4a73-a632-57fce836016c",
   "metadata": {},
   "outputs": [],
   "source": [
    "i"
   ]
  },
  {
   "cell_type": "code",
   "execution_count": 1,
   "id": "ca98b663-0e3c-4811-b69b-c469dd87d1d8",
   "metadata": {
    "tags": []
   },
   "outputs": [
    {
     "data": {
      "text/plain": [
       "pmem(rss=65945600, vms=419562635264, pfaults=8544, pageins=66)"
      ]
     },
     "execution_count": 1,
     "metadata": {},
     "output_type": "execute_result"
    }
   ],
   "source": [
    "import psutil\n",
    "p = psutil.Process()\n",
    "p.memory_info()"
   ]
  },
  {
   "cell_type": "code",
   "execution_count": null,
   "id": "cad8b4b3-9bc1-466f-9bea-02f0478da6bd",
   "metadata": {},
   "outputs": [],
   "source": []
  },
  {
   "cell_type": "code",
   "execution_count": null,
   "id": "3f8ebadc-1fbc-4da7-8f96-e40ae257d218",
   "metadata": {},
   "outputs": [],
   "source": []
  },
  {
   "cell_type": "code",
   "execution_count": 7,
   "id": "34d72d87-5a3b-4b99-8c4f-1e906460cbf8",
   "metadata": {
    "pycharm": {
     "name": "#%%\n"
    },
    "tags": []
   },
   "outputs": [
    {
     "data": {
      "text/plain": [
       "'/Users/kyeongchanlee/PycharmProjects/recsys_service_deployment'"
      ]
     },
     "execution_count": 7,
     "metadata": {},
     "output_type": "execute_result"
    }
   ],
   "source": [
    "import os\n",
    "os.getcwd()"
   ]
  },
  {
   "cell_type": "code",
   "execution_count": 8,
   "id": "2aaad4e5-f88c-49ef-9e92-1df6f51e2797",
   "metadata": {
    "pycharm": {
     "name": "#%%\n"
    },
    "tags": []
   },
   "outputs": [],
   "source": [
    "import csv"
   ]
  },
  {
   "cell_type": "code",
   "execution_count": 88,
   "id": "abe18c89-298c-4126-b058-c89346b9d3b6",
   "metadata": {
    "pycharm": {
     "name": "#%%\n"
    },
    "tags": []
   },
   "outputs": [
    {
     "name": "stdout",
     "output_type": "stream",
     "text": [
      "['userId', 'movieId', 'rating', 'timestamp']\n",
      "['1', '296', '5.0', '1147880044']\n",
      "['1', '306', '3.5', '1147868817']\n",
      "['1', '307', '5.0', '1147868828']\n",
      "['1', '665', '5.0', '1147878820']\n",
      "['1', '899', '3.5', '1147868510']\n",
      "['1', '1088', '4.0', '1147868495']\n",
      "['1', '1175', '3.5', '1147868826']\n",
      "['1', '1217', '3.5', '1147878326']\n",
      "['1', '1237', '5.0', '1147868839']\n",
      "['1', '1250', '4.0', '1147868414']\n"
     ]
    }
   ],
   "source": [
    "i = 0\n",
    "with open('data/ml-25m/ratings.csv') as f:\n",
    "    reader_obj = csv.reader(f) \n",
    "\n",
    "    for row in reader_obj: \n",
    "        print(row)\n",
    "        i += 1\n",
    "        if i > 10:\n",
    "            break"
   ]
  },
  {
   "cell_type": "code",
   "execution_count": 9,
   "id": "c4c79a46-8171-4fa4-9dfd-1ca1191e4b4f",
   "metadata": {
    "pycharm": {
     "name": "#%%\n"
    },
    "tags": []
   },
   "outputs": [],
   "source": [
    "import pymysql\n",
    "import sys\n",
    "import boto3\n",
    "import os\n",
    "\n",
    "ENDPOINT=\"pseudorec.cvhv2t0obyv3.ap-northeast-2.rds.amazonaws.com\"\n",
    "PORT=3306\n",
    "USER=\"admin\"\n",
    "REGION=\"ap-northeast-2c\"\n",
    "DBNAME=\"movielens25m\"\n",
    "os.environ['LIBMYSQL_ENABLE_CLEARTEXT_PLUGIN'] = '1'\n",
    "\n",
    "#gets the credentials from .aws/credentials\n",
    "# session = boto3.Session(profile_name='default')\n",
    "# client = session.client('rds')\n",
    "\n",
    "connection =  pymysql.connect(host=ENDPOINT, user=USER, passwd='Precsys1!', port=PORT, database=DBNAME)\n",
    "cursor = connection.cursor()"
   ]
  },
  {
   "cell_type": "code",
   "execution_count": 91,
   "id": "1ddc51ec-6828-4e0c-853e-3b8528a76edc",
   "metadata": {
    "pycharm": {
     "name": "#%%\n"
    },
    "tags": []
   },
   "outputs": [
    {
     "name": "stdout",
     "output_type": "stream",
     "text": [
      "movies\n",
      "ratings\n"
     ]
    }
   ],
   "source": [
    "with connection:\n",
    "    with connection.cursor() as cursor:\n",
    "        sql = \"SHOW TABLES\"\n",
    "        cursor.execute(sql)\n",
    "        result = cursor.fetchall()\n",
    "        for row in result:\n",
    "            print(row[0])"
   ]
  },
  {
   "cell_type": "code",
   "execution_count": 108,
   "id": "7bcc7037-3daa-4aad-9669-97b2b7ebb0fb",
   "metadata": {
    "pycharm": {
     "name": "#%%\n"
    },
    "tags": []
   },
   "outputs": [],
   "source": [
    "frame = pd.read_sql('select count(*) from ratings', connection)"
   ]
  },
  {
   "cell_type": "code",
   "execution_count": 111,
   "id": "fe8a22b1-cb1c-4629-a7d8-1b8f599721d3",
   "metadata": {
    "pycharm": {
     "name": "#%%\n"
    },
    "tags": []
   },
   "outputs": [
    {
     "data": {
      "text/html": [
       "<div>\n",
       "<style scoped>\n",
       "    .dataframe tbody tr th:only-of-type {\n",
       "        vertical-align: middle;\n",
       "    }\n",
       "\n",
       "    .dataframe tbody tr th {\n",
       "        vertical-align: top;\n",
       "    }\n",
       "\n",
       "    .dataframe thead th {\n",
       "        text-align: right;\n",
       "    }\n",
       "</style>\n",
       "<table border=\"1\" class=\"dataframe\">\n",
       "  <thead>\n",
       "    <tr style=\"text-align: right;\">\n",
       "      <th></th>\n",
       "      <th>count(*)</th>\n",
       "    </tr>\n",
       "  </thead>\n",
       "  <tbody>\n",
       "    <tr>\n",
       "      <th>0</th>\n",
       "      <td>1000000</td>\n",
       "    </tr>\n",
       "  </tbody>\n",
       "</table>\n",
       "</div>"
      ],
      "text/plain": [
       "   count(*)\n",
       "0   1000000"
      ]
     },
     "execution_count": 111,
     "metadata": {},
     "output_type": "execute_result"
    }
   ],
   "source": [
    "frame"
   ]
  },
  {
   "cell_type": "code",
   "execution_count": 72,
   "id": "1f73aca6-61bf-40cc-8fcd-1a8e4185fbb8",
   "metadata": {
    "pycharm": {
     "name": "#%%\n"
    },
    "tags": []
   },
   "outputs": [
    {
     "name": "stderr",
     "output_type": "stream",
     "text": [
      "/opt/homebrew/lib/python3.10/site-packages/pandas/io/sql.py:761: UserWarning: pandas only support SQLAlchemy connectable(engine/connection) ordatabase string URI or sqlite3 DBAPI2 connectionother DBAPI2 objects are not tested, please consider using SQLAlchemy\n",
      "  warnings.warn(\n"
     ]
    }
   ],
   "source": [
    "frame = pd.read_sql('select * from ratings', connection)"
   ]
  },
  {
   "cell_type": "code",
   "execution_count": 84,
   "id": "3ef08efd-d7ba-4e66-a2de-b182ad864d4f",
   "metadata": {
    "pycharm": {
     "name": "#%%\n"
    },
    "tags": []
   },
   "outputs": [
    {
     "data": {
      "text/html": [
       "<div>\n",
       "<style scoped>\n",
       "    .dataframe tbody tr th:only-of-type {\n",
       "        vertical-align: middle;\n",
       "    }\n",
       "\n",
       "    .dataframe tbody tr th {\n",
       "        vertical-align: top;\n",
       "    }\n",
       "\n",
       "    .dataframe thead th {\n",
       "        text-align: right;\n",
       "    }\n",
       "</style>\n",
       "<table border=\"1\" class=\"dataframe\">\n",
       "  <thead>\n",
       "    <tr style=\"text-align: right;\">\n",
       "      <th></th>\n",
       "      <th>userId</th>\n",
       "      <th>movieId</th>\n",
       "      <th>rating</th>\n",
       "      <th>timestamp</th>\n",
       "    </tr>\n",
       "  </thead>\n",
       "  <tbody>\n",
       "  </tbody>\n",
       "</table>\n",
       "</div>"
      ],
      "text/plain": [
       "Empty DataFrame\n",
       "Columns: [userId, movieId, rating, timestamp]\n",
       "Index: []"
      ]
     },
     "execution_count": 84,
     "metadata": {},
     "output_type": "execute_result"
    }
   ],
   "source": [
    "frame"
   ]
  },
  {
   "cell_type": "code",
   "execution_count": null,
   "id": "0376a449-f156-4614-ac01-4fbb4032223e",
   "metadata": {
    "pycharm": {
     "name": "#%%\n"
    }
   },
   "outputs": [],
   "source": []
  },
  {
   "cell_type": "code",
   "execution_count": 4,
   "id": "40b486ea-619d-452c-8264-ccbc638d0d92",
   "metadata": {
    "pycharm": {
     "name": "#%%\n"
    },
    "tags": []
   },
   "outputs": [],
   "source": [
    "def get_connection():\n",
    "    connection =  pymysql.connect(host=ENDPOINT, user=USER, passwd='Precsys1!', port=PORT, database=DBNAME)\n",
    "    return connection"
   ]
  },
  {
   "cell_type": "code",
   "execution_count": 5,
   "id": "a248351a-39c4-47c3-ab62-0da74c638f6d",
   "metadata": {
    "pycharm": {
     "name": "#%%\n"
    },
    "tags": []
   },
   "outputs": [],
   "source": [
    "def get_count(table_name):\n",
    "    with get_connection().cursor() as cursor:\n",
    "        cursor.execute(f\"select count(*) from {table_name}\")\n",
    "        return cursor.fetchall()[0][0]"
   ]
  },
  {
   "cell_type": "code",
   "execution_count": 6,
   "id": "ebbbd5f9-f34a-46d1-b01d-46650d0993ba",
   "metadata": {
    "pycharm": {
     "name": "#%%\n"
    },
    "tags": []
   },
   "outputs": [
    {
     "ename": "NameError",
     "evalue": "name 'pymysql' is not defined",
     "output_type": "error",
     "traceback": [
      "\u001b[0;31m---------------------------------------------------------------------------\u001b[0m",
      "\u001b[0;31mNameError\u001b[0m                                 Traceback (most recent call last)",
      "Cell \u001b[0;32mIn[6], line 1\u001b[0m\n\u001b[0;32m----> 1\u001b[0m \u001b[43mget_count\u001b[49m\u001b[43m(\u001b[49m\u001b[43mtable_name\u001b[49m\u001b[38;5;241;43m=\u001b[39;49m\u001b[38;5;124;43m'\u001b[39;49m\u001b[38;5;124;43mmovies\u001b[39;49m\u001b[38;5;124;43m'\u001b[39;49m\u001b[43m)\u001b[49m\n",
      "Cell \u001b[0;32mIn[5], line 2\u001b[0m, in \u001b[0;36mget_count\u001b[0;34m(table_name)\u001b[0m\n\u001b[1;32m      1\u001b[0m \u001b[38;5;28;01mdef\u001b[39;00m \u001b[38;5;21mget_count\u001b[39m(table_name):\n\u001b[0;32m----> 2\u001b[0m     \u001b[38;5;28;01mwith\u001b[39;00m \u001b[43mget_connection\u001b[49m\u001b[43m(\u001b[49m\u001b[43m)\u001b[49m\u001b[38;5;241m.\u001b[39mcursor() \u001b[38;5;28;01mas\u001b[39;00m cursor:\n\u001b[1;32m      3\u001b[0m         cursor\u001b[38;5;241m.\u001b[39mexecute(\u001b[38;5;124mf\u001b[39m\u001b[38;5;124m\"\u001b[39m\u001b[38;5;124mselect count(*) from \u001b[39m\u001b[38;5;132;01m{\u001b[39;00mtable_name\u001b[38;5;132;01m}\u001b[39;00m\u001b[38;5;124m\"\u001b[39m)\n\u001b[1;32m      4\u001b[0m         \u001b[38;5;28;01mreturn\u001b[39;00m cursor\u001b[38;5;241m.\u001b[39mfetchall()[\u001b[38;5;241m0\u001b[39m][\u001b[38;5;241m0\u001b[39m]\n",
      "Cell \u001b[0;32mIn[4], line 2\u001b[0m, in \u001b[0;36mget_connection\u001b[0;34m()\u001b[0m\n\u001b[1;32m      1\u001b[0m \u001b[38;5;28;01mdef\u001b[39;00m \u001b[38;5;21mget_connection\u001b[39m():\n\u001b[0;32m----> 2\u001b[0m     connection \u001b[38;5;241m=\u001b[39m  \u001b[43mpymysql\u001b[49m\u001b[38;5;241m.\u001b[39mconnect(host\u001b[38;5;241m=\u001b[39mENDPOINT, user\u001b[38;5;241m=\u001b[39mUSER, passwd\u001b[38;5;241m=\u001b[39m\u001b[38;5;124m'\u001b[39m\u001b[38;5;124mPrecsys1!\u001b[39m\u001b[38;5;124m'\u001b[39m, port\u001b[38;5;241m=\u001b[39mPORT, database\u001b[38;5;241m=\u001b[39mDBNAME)\n\u001b[1;32m      3\u001b[0m     \u001b[38;5;28;01mreturn\u001b[39;00m connection\n",
      "\u001b[0;31mNameError\u001b[0m: name 'pymysql' is not defined"
     ]
    }
   ],
   "source": [
    "get_count(table_name='movies')"
   ]
  },
  {
   "cell_type": "code",
   "execution_count": 189,
   "id": "4ad4757e-d1bb-467d-8052-5862f55fcae7",
   "metadata": {
    "pycharm": {
     "name": "#%%\n"
    },
    "tags": []
   },
   "outputs": [],
   "source": [
    "\n",
    "def insert_ratings_lst(ratings_lst):\n",
    "    sql = 'INSERT INTO ratings (userId, movieId, rating, timestamp) VALUES (%s, %s, %s, %s)'\n",
    "    connection = get_connection()\n",
    "    try:\n",
    "        with connection.cursor() as cursor:\n",
    "            cursor.executemany(sql, ratings_lst)\n",
    "            connection.commit()\n",
    "    finally:\n",
    "        connection.close()\n",
    "    \n",
    "    print(f\"insert done.\")"
   ]
  },
  {
   "cell_type": "code",
   "execution_count": 179,
   "id": "a9ee065a-163f-4847-a588-6366c3afdaec",
   "metadata": {
    "pycharm": {
     "name": "#%%\n"
    },
    "tags": []
   },
   "outputs": [
    {
     "data": {
      "text/plain": [
       "1000000"
      ]
     },
     "execution_count": 179,
     "metadata": {},
     "output_type": "execute_result"
    }
   ],
   "source": [
    "row_i"
   ]
  },
  {
   "cell_type": "code",
   "execution_count": 181,
   "id": "f33e06b7-7603-4815-84c7-4500ce4f0ee2",
   "metadata": {
    "pycharm": {
     "name": "#%%\n"
    },
    "tags": []
   },
   "outputs": [],
   "source": [
    "from collections import Counter"
   ]
  },
  {
   "cell_type": "code",
   "execution_count": 185,
   "id": "81435af8-3575-479d-99ce-101e1a71f974",
   "metadata": {
    "pycharm": {
     "name": "#%%\n"
    },
    "tags": []
   },
   "outputs": [
    {
     "data": {
      "text/plain": [
       "1000000"
      ]
     },
     "execution_count": 185,
     "metadata": {},
     "output_type": "execute_result"
    }
   ],
   "source": [
    "i"
   ]
  },
  {
   "cell_type": "code",
   "execution_count": 130,
   "id": "240b9c11-421b-44f3-9bb1-491295f523fd",
   "metadata": {
    "pycharm": {
     "name": "#%%\n"
    },
    "tags": []
   },
   "outputs": [],
   "source": [
    "def truncate(table_name):\n",
    "    with get_connection().cursor() as cursor:\n",
    "        cursor.execute(f\"TRUNCATE TABLE {table_name}\")\n",
    "        "
   ]
  },
  {
   "cell_type": "code",
   "execution_count": 187,
   "id": "8b14136d-d6f7-493f-a2bf-35c8e10032e1",
   "metadata": {
    "pycharm": {
     "name": "#%%\n"
    },
    "tags": []
   },
   "outputs": [],
   "source": [
    "truncate(table_name='ratings')"
   ]
  },
  {
   "cell_type": "code",
   "execution_count": 134,
   "id": "92ebc22f-ea57-4c08-a614-e8afd591d7d1",
   "metadata": {
    "pycharm": {
     "name": "#%%\n"
    },
    "tags": []
   },
   "outputs": [],
   "source": [
    "def get_process_list():\n",
    "    with get_connection() as connection:\n",
    "        cursor = connection.cursor()\n",
    "        cursor.execute('SHOW PROCESSLIST')\n",
    "        return pd.read_sql('SHOW PROCESSLIST', connection)"
   ]
  },
  {
   "cell_type": "markdown",
   "id": "0cbbd1bb-2496-448d-8bf4-bfbea278d134",
   "metadata": {
    "pycharm": {
     "name": "#%% md\n"
    }
   },
   "source": [
    "# ratings"
   ]
  },
  {
   "cell_type": "code",
   "execution_count": 190,
   "id": "9dc4b2d9-9e57-435a-a102-e5ea5502b8d0",
   "metadata": {
    "pycharm": {
     "name": "#%%\n"
    },
    "tags": []
   },
   "outputs": [
    {
     "name": "stdout",
     "output_type": "stream",
     "text": [
      "insert done.\n",
      "row_i : 1,000,000\n",
      "insert done.\n",
      "row_i : 2,000,000\n",
      "insert done.\n",
      "row_i : 3,000,000\n",
      "insert done.\n",
      "row_i : 4,000,000\n",
      "insert done.\n",
      "row_i : 5,000,000\n",
      "insert done.\n",
      "row_i : 6,000,000\n",
      "insert done.\n",
      "row_i : 7,000,000\n",
      "insert done.\n",
      "row_i : 8,000,000\n",
      "insert done.\n",
      "row_i : 9,000,000\n",
      "insert done.\n",
      "row_i : 10,000,000\n",
      "insert done.\n",
      "row_i : 11,000,000\n",
      "insert done.\n",
      "row_i : 12,000,000\n",
      "insert done.\n",
      "row_i : 13,000,000\n",
      "insert done.\n",
      "row_i : 14,000,000\n",
      "insert done.\n",
      "row_i : 15,000,000\n",
      "insert done.\n",
      "row_i : 16,000,000\n",
      "insert done.\n",
      "row_i : 17,000,000\n",
      "insert done.\n",
      "row_i : 18,000,000\n",
      "insert done.\n",
      "row_i : 19,000,000\n",
      "insert done.\n",
      "row_i : 20,000,000\n",
      "insert done.\n",
      "row_i : 21,000,000\n",
      "insert done.\n",
      "row_i : 22,000,000\n",
      "insert done.\n",
      "row_i : 23,000,000\n",
      "insert done.\n",
      "row_i : 24,000,000\n",
      "insert done.\n",
      "row_i : 25,000,000\n"
     ]
    }
   ],
   "source": [
    "ratings_lst = []\n",
    "i = 0\n",
    "with open('data/ml-25m/ratings.csv') as f:\n",
    "    reader_obj = csv.reader(f)\n",
    "    for row_i, row in enumerate(reader_obj):\n",
    "        if row == ['userId', 'movieId', 'rating', 'timestamp']:\n",
    "            continue\n",
    "        userid, movieid, rating, timestamp = row\n",
    "        ratings_lst.append((int(userid), int(movieid), float(rating), int(timestamp)))\n",
    "        i += 1\n",
    "        \n",
    "        if i == 1000000:\n",
    "            insert_ratings_lst(ratings_lst)\n",
    "            ratings_lst = []\n",
    "            i = 0\n",
    "            print(f\"row_i : {row_i:,}\")\n",
    "    \n",
    "            "
   ]
  },
  {
   "cell_type": "code",
   "execution_count": 191,
   "id": "a4de7be0-4c5e-4b49-a487-9d15432ed62e",
   "metadata": {
    "pycharm": {
     "name": "#%%\n"
    },
    "tags": []
   },
   "outputs": [
    {
     "data": {
      "text/plain": [
       "95"
      ]
     },
     "execution_count": 191,
     "metadata": {},
     "output_type": "execute_result"
    }
   ],
   "source": [
    "len(ratings_lst)"
   ]
  },
  {
   "cell_type": "code",
   "execution_count": 192,
   "id": "59481671-637c-4522-9a2b-f3d5cdb46d97",
   "metadata": {
    "pycharm": {
     "name": "#%%\n"
    },
    "tags": []
   },
   "outputs": [
    {
     "name": "stdout",
     "output_type": "stream",
     "text": [
      "insert done.\n"
     ]
    }
   ],
   "source": [
    "insert_ratings_lst(ratings_lst)"
   ]
  },
  {
   "cell_type": "code",
   "execution_count": 193,
   "id": "8280bfb0-aaa5-4bac-a7f3-b1323b91df1d",
   "metadata": {
    "pycharm": {
     "name": "#%%\n"
    },
    "tags": []
   },
   "outputs": [
    {
     "data": {
      "text/plain": [
       "25000095"
      ]
     },
     "execution_count": 193,
     "metadata": {},
     "output_type": "execute_result"
    }
   ],
   "source": [
    "row_i"
   ]
  },
  {
   "cell_type": "markdown",
   "id": "9fbe576a-f884-42ab-87f6-218fed291b51",
   "metadata": {
    "pycharm": {
     "name": "#%% md\n"
    }
   },
   "source": [
    "# movies"
   ]
  },
  {
   "cell_type": "code",
   "execution_count": 194,
   "id": "63ea8585-234c-4596-bf63-6c4d68349080",
   "metadata": {
    "pycharm": {
     "name": "#%%\n"
    },
    "tags": []
   },
   "outputs": [],
   "source": [
    "with open('data/ml-25m/movies.csv') as f:\n",
    "    reader_obj = csv.reader(f) \n",
    "    for row_i, row in enumerate(reader_obj):\n",
    "        break"
   ]
  },
  {
   "cell_type": "code",
   "execution_count": 195,
   "id": "66891f1d-3cfa-4b0a-9674-f874b2470bbf",
   "metadata": {
    "pycharm": {
     "name": "#%%\n"
    },
    "tags": []
   },
   "outputs": [
    {
     "data": {
      "text/plain": [
       "['movieId', 'title', 'genres']"
      ]
     },
     "execution_count": 195,
     "metadata": {},
     "output_type": "execute_result"
    }
   ],
   "source": [
    "row"
   ]
  },
  {
   "cell_type": "code",
   "execution_count": 197,
   "id": "e1b6caf9-6604-4703-b0c3-3db4294e2fa2",
   "metadata": {
    "pycharm": {
     "name": "#%%\n"
    },
    "tags": []
   },
   "outputs": [],
   "source": [
    "import csv\n",
    "\n",
    "movies_lst = []\n",
    "i == 0\n",
    "with open('data/ml-25m/movies.csv') as f:\n",
    "    reader_obj = csv.reader(f) \n",
    "    for row_i, row in enumerate(reader_obj):\n",
    "        if row == ['movieId', 'title', 'genres']:\n",
    "            continue\n",
    "            \n",
    "        movieid, title, genres = row\n",
    "        movies_lst.append((int(movieid), title, genres))\n",
    "        i += 1"
   ]
  },
  {
   "cell_type": "code",
   "execution_count": 198,
   "id": "d1640de9-d241-4609-ab63-32ddcae7f7c3",
   "metadata": {
    "pycharm": {
     "name": "#%%\n"
    },
    "tags": []
   },
   "outputs": [
    {
     "data": {
      "text/plain": [
       "62423"
      ]
     },
     "execution_count": 198,
     "metadata": {},
     "output_type": "execute_result"
    }
   ],
   "source": [
    "len(movies_lst)"
   ]
  },
  {
   "cell_type": "code",
   "execution_count": null,
   "id": "178c7f60-2448-418b-9e92-d414e38cd036",
   "metadata": {
    "pycharm": {
     "name": "#%%\n"
    }
   },
   "outputs": [],
   "source": [
    "\n",
    "sql = 'INSERT INTO movies (movieId, title, genres) VALUES (%s, %s, %s)'\n"
   ]
  },
  {
   "cell_type": "code",
   "execution_count": 199,
   "id": "eaf7c96d-436d-43ae-b198-57d9fa777f8e",
   "metadata": {
    "pycharm": {
     "name": "#%%\n"
    },
    "tags": []
   },
   "outputs": [],
   "source": [
    "def insert_movies_lst(movies_lst):\n",
    "    sql = 'INSERT INTO movies (movieId, title, genres) VALUES (%s, %s, %s)'\n",
    "    connection = get_connection()\n",
    "    try:\n",
    "        with connection.cursor() as cursor:\n",
    "            cursor.executemany(sql, movies_lst)\n",
    "            connection.commit()\n",
    "    finally:\n",
    "        connection.close()\n",
    "    \n",
    "    print(f\"insert done.\")"
   ]
  },
  {
   "cell_type": "code",
   "execution_count": 201,
   "id": "9e4538c9-9cf8-4ec8-98bc-72da57946982",
   "metadata": {
    "pycharm": {
     "name": "#%%\n"
    },
    "tags": []
   },
   "outputs": [],
   "source": [
    "truncate(table_name='movies')\n",
    "\n"
   ]
  },
  {
   "cell_type": "code",
   "execution_count": 202,
   "id": "5ff627da-48bf-49c4-97a5-8315f176314f",
   "metadata": {
    "pycharm": {
     "name": "#%%\n"
    },
    "tags": []
   },
   "outputs": [
    {
     "name": "stdout",
     "output_type": "stream",
     "text": [
      "insert done.\n"
     ]
    }
   ],
   "source": [
    "insert_movies_lst(movies_lst)"
   ]
  },
  {
   "cell_type": "markdown",
   "id": "fcf3c5b2-b31d-4e29-b21e-6d1933cd7b93",
   "metadata": {
    "pycharm": {
     "name": "#%% md\n"
    }
   },
   "source": [
    "# 불러오기 확인"
   ]
  },
  {
   "cell_type": "code",
   "execution_count": 11,
   "id": "f3dcad7f-0298-48b6-bb12-a418c71db5be",
   "metadata": {
    "tags": []
   },
   "outputs": [],
   "source": [
    "import pandas as pd"
   ]
  },
  {
   "cell_type": "code",
   "execution_count": 12,
   "id": "6381c3be-6666-4229-b77d-019928eb0c4c",
   "metadata": {
    "pycharm": {
     "name": "#%%\n"
    },
    "tags": []
   },
   "outputs": [
    {
     "name": "stderr",
     "output_type": "stream",
     "text": [
      "/var/folders/cg/2vt5wbq5767fsxv0005k5x4m0000gn/T/ipykernel_15123/618232439.py:2: UserWarning: pandas only supports SQLAlchemy connectable (engine/connection) or database string URI or sqlite3 DBAPI2 connection. Other DBAPI2 objects are not tested. Please consider using SQLAlchemy.\n",
      "  df = pd.read_sql(sql='select * from ratings where userId = 100', con=connection)\n"
     ]
    }
   ],
   "source": [
    "with get_connection() as connection:\n",
    "    df = pd.read_sql(sql='select * from ratings where userId = 100', con=connection)"
   ]
  },
  {
   "cell_type": "code",
   "execution_count": 13,
   "id": "9e4c4570-7188-46af-ab92-835ef005aebb",
   "metadata": {
    "pycharm": {
     "name": "#%%\n"
    },
    "tags": []
   },
   "outputs": [
    {
     "data": {
      "text/html": [
       "<div>\n",
       "<style scoped>\n",
       "    .dataframe tbody tr th:only-of-type {\n",
       "        vertical-align: middle;\n",
       "    }\n",
       "\n",
       "    .dataframe tbody tr th {\n",
       "        vertical-align: top;\n",
       "    }\n",
       "\n",
       "    .dataframe thead th {\n",
       "        text-align: right;\n",
       "    }\n",
       "</style>\n",
       "<table border=\"1\" class=\"dataframe\">\n",
       "  <thead>\n",
       "    <tr style=\"text-align: right;\">\n",
       "      <th></th>\n",
       "      <th>userId</th>\n",
       "      <th>movieId</th>\n",
       "      <th>rating</th>\n",
       "      <th>timestamp</th>\n",
       "    </tr>\n",
       "  </thead>\n",
       "  <tbody>\n",
       "    <tr>\n",
       "      <th>0</th>\n",
       "      <td>100</td>\n",
       "      <td>5</td>\n",
       "      <td>2.0</td>\n",
       "      <td>862168434.0</td>\n",
       "    </tr>\n",
       "    <tr>\n",
       "      <th>1</th>\n",
       "      <td>100</td>\n",
       "      <td>17</td>\n",
       "      <td>4.0</td>\n",
       "      <td>862168376.0</td>\n",
       "    </tr>\n",
       "    <tr>\n",
       "      <th>2</th>\n",
       "      <td>100</td>\n",
       "      <td>25</td>\n",
       "      <td>4.0</td>\n",
       "      <td>862168376.0</td>\n",
       "    </tr>\n",
       "    <tr>\n",
       "      <th>3</th>\n",
       "      <td>100</td>\n",
       "      <td>26</td>\n",
       "      <td>4.0</td>\n",
       "      <td>862168751.0</td>\n",
       "    </tr>\n",
       "    <tr>\n",
       "      <th>4</th>\n",
       "      <td>100</td>\n",
       "      <td>32</td>\n",
       "      <td>3.0</td>\n",
       "      <td>862168374.0</td>\n",
       "    </tr>\n",
       "    <tr>\n",
       "      <th>...</th>\n",
       "      <td>...</td>\n",
       "      <td>...</td>\n",
       "      <td>...</td>\n",
       "      <td>...</td>\n",
       "    </tr>\n",
       "    <tr>\n",
       "      <th>56</th>\n",
       "      <td>100</td>\n",
       "      <td>1429</td>\n",
       "      <td>3.0</td>\n",
       "      <td>862169009.0</td>\n",
       "    </tr>\n",
       "    <tr>\n",
       "      <th>57</th>\n",
       "      <td>100</td>\n",
       "      <td>1464</td>\n",
       "      <td>3.0</td>\n",
       "      <td>862169335.0</td>\n",
       "    </tr>\n",
       "    <tr>\n",
       "      <th>58</th>\n",
       "      <td>100</td>\n",
       "      <td>1466</td>\n",
       "      <td>5.0</td>\n",
       "      <td>862169186.0</td>\n",
       "    </tr>\n",
       "    <tr>\n",
       "      <th>59</th>\n",
       "      <td>100</td>\n",
       "      <td>1485</td>\n",
       "      <td>3.0</td>\n",
       "      <td>862169065.0</td>\n",
       "    </tr>\n",
       "    <tr>\n",
       "      <th>60</th>\n",
       "      <td>100</td>\n",
       "      <td>4424</td>\n",
       "      <td>4.0</td>\n",
       "      <td>862169101.0</td>\n",
       "    </tr>\n",
       "  </tbody>\n",
       "</table>\n",
       "<p>61 rows × 4 columns</p>\n",
       "</div>"
      ],
      "text/plain": [
       "    userId  movieId  rating    timestamp\n",
       "0      100        5     2.0  862168434.0\n",
       "1      100       17     4.0  862168376.0\n",
       "2      100       25     4.0  862168376.0\n",
       "3      100       26     4.0  862168751.0\n",
       "4      100       32     3.0  862168374.0\n",
       "..     ...      ...     ...          ...\n",
       "56     100     1429     3.0  862169009.0\n",
       "57     100     1464     3.0  862169335.0\n",
       "58     100     1466     5.0  862169186.0\n",
       "59     100     1485     3.0  862169065.0\n",
       "60     100     4424     4.0  862169101.0\n",
       "\n",
       "[61 rows x 4 columns]"
      ]
     },
     "execution_count": 13,
     "metadata": {},
     "output_type": "execute_result"
    }
   ],
   "source": [
    "df"
   ]
  },
  {
   "cell_type": "code",
   "execution_count": 14,
   "id": "d787104f-7dac-404e-adb7-29b2112885ff",
   "metadata": {
    "tags": []
   },
   "outputs": [],
   "source": [
    "from clients import MysqlClient"
   ]
  },
  {
   "cell_type": "code",
   "execution_count": 15,
   "id": "89ae66ba-1ed7-4f21-ae74-9150198e4b72",
   "metadata": {
    "tags": []
   },
   "outputs": [],
   "source": [
    "import os\n",
    "os.environ['RDS_MYSQL_PW'] = 'Precsys1!'"
   ]
  },
  {
   "cell_type": "code",
   "execution_count": 16,
   "id": "d93a5b38-d201-4fbb-865f-122e6d5ed810",
   "metadata": {
    "tags": []
   },
   "outputs": [],
   "source": [
    "mysql = MysqlClient()"
   ]
  },
  {
   "cell_type": "code",
   "execution_count": 95,
   "id": "7e663dae-0c1b-4fa0-89ac-a2d9da970f80",
   "metadata": {
    "tags": []
   },
   "outputs": [],
   "source": [
    "movies = mysql.get_movies()"
   ]
  },
  {
   "cell_type": "code",
   "execution_count": 96,
   "id": "e573a713-bcf7-4344-af9e-a40f23bfcf15",
   "metadata": {
    "tags": []
   },
   "outputs": [
    {
     "data": {
      "text/plain": [
       "3050"
      ]
     },
     "execution_count": 96,
     "metadata": {},
     "output_type": "execute_result"
    }
   ],
   "source": [
    "sum(movies['url'].notnull())"
   ]
  },
  {
   "cell_type": "code",
   "execution_count": null,
   "id": "739f28b3-74d9-4e89-aa62-618e3355eb7f",
   "metadata": {
    "tags": []
   },
   "outputs": [],
   "source": [
    "movies.head(60)"
   ]
  },
  {
   "cell_type": "code",
   "execution_count": 19,
   "id": "ed2c0e4f-8451-4d64-823d-5cf7ec5d21bc",
   "metadata": {
    "pycharm": {
     "name": "#%%\n"
    },
    "tags": []
   },
   "outputs": [],
   "source": [
    "import re"
   ]
  },
  {
   "cell_type": "code",
   "execution_count": 29,
   "id": "b8966372-87f5-4089-ac18-3b593feb4c7a",
   "metadata": {
    "tags": []
   },
   "outputs": [],
   "source": [
    "year_regex = re.compile(r'(\\d){4}')"
   ]
  },
  {
   "cell_type": "code",
   "execution_count": 21,
   "id": "c4d510c8-a693-473e-9b9b-634d3f37c6e8",
   "metadata": {
    "tags": []
   },
   "outputs": [],
   "source": [
    "title = 'Toy Story (1995)'"
   ]
  },
  {
   "cell_type": "code",
   "execution_count": 24,
   "id": "b19163db-889f-4678-8462-cd4dfb9eb797",
   "metadata": {
    "tags": []
   },
   "outputs": [],
   "source": [
    "from collections import defaultdict"
   ]
  },
  {
   "cell_type": "code",
   "execution_count": 38,
   "id": "b4f0ad73-f1a8-4ac8-a736-2ed94d50b092",
   "metadata": {
    "tags": []
   },
   "outputs": [],
   "source": [
    "year_cntr = defaultdict(int)\n",
    "\n",
    "for title in movies['title']:\n",
    "    search = re.search(year_regex, title)\n",
    "    if search:\n",
    "        year_cntr[int(search.group())] += 1"
   ]
  },
  {
   "cell_type": "code",
   "execution_count": null,
   "id": "5eb85fad-341d-40a6-aedc-8c41b385dcd3",
   "metadata": {
    "tags": []
   },
   "outputs": [],
   "source": [
    "sorted(year_cntr.items(), key=lambda x: x[0], reverse=True)"
   ]
  },
  {
   "cell_type": "code",
   "execution_count": 49,
   "id": "28c075d9-5a8e-4cc2-8248-5c128caecf85",
   "metadata": {
    "tags": []
   },
   "outputs": [],
   "source": [
    "movies['year'] = movies['title'].map(lambda x: x[-6:].replace('(', '').replace(')', ''))"
   ]
  },
  {
   "cell_type": "code",
   "execution_count": 50,
   "id": "e56c0d60-f5b6-4454-8892-f3c8b034c47b",
   "metadata": {
    "tags": []
   },
   "outputs": [],
   "source": [
    "from collections import Counter"
   ]
  },
  {
   "cell_type": "code",
   "execution_count": 54,
   "id": "6e45e957-9178-4e62-a993-30f951469ced",
   "metadata": {
    "tags": []
   },
   "outputs": [
    {
     "data": {
      "text/html": [
       "<div>\n",
       "<style scoped>\n",
       "    .dataframe tbody tr th:only-of-type {\n",
       "        vertical-align: middle;\n",
       "    }\n",
       "\n",
       "    .dataframe tbody tr th {\n",
       "        vertical-align: top;\n",
       "    }\n",
       "\n",
       "    .dataframe thead th {\n",
       "        text-align: right;\n",
       "    }\n",
       "</style>\n",
       "<table border=\"1\" class=\"dataframe\">\n",
       "  <thead>\n",
       "    <tr style=\"text-align: right;\">\n",
       "      <th></th>\n",
       "      <th>movieId</th>\n",
       "      <th>title</th>\n",
       "      <th>genres</th>\n",
       "      <th>url</th>\n",
       "      <th>year</th>\n",
       "    </tr>\n",
       "  </thead>\n",
       "  <tbody>\n",
       "    <tr>\n",
       "      <th>25068</th>\n",
       "      <td>122914</td>\n",
       "      <td>Avengers: Infinity War - Part II (2019)</td>\n",
       "      <td>Action|Adventure|Sci-Fi</td>\n",
       "      <td>None</td>\n",
       "      <td>2019</td>\n",
       "    </tr>\n",
       "    <tr>\n",
       "      <th>33520</th>\n",
       "      <td>143345</td>\n",
       "      <td>Shazam! (2019)</td>\n",
       "      <td>Action|Adventure|Fantasy|Sci-Fi</td>\n",
       "      <td>None</td>\n",
       "      <td>2019</td>\n",
       "    </tr>\n",
       "    <tr>\n",
       "      <th>57039</th>\n",
       "      <td>195473</td>\n",
       "      <td>Les Invisibles (2019)</td>\n",
       "      <td>(no genres listed)</td>\n",
       "      <td>None</td>\n",
       "      <td>2019</td>\n",
       "    </tr>\n",
       "    <tr>\n",
       "      <th>57371</th>\n",
       "      <td>196223</td>\n",
       "      <td>Hellboy (2019)</td>\n",
       "      <td>Action|Adventure|Fantasy</td>\n",
       "      <td>None</td>\n",
       "      <td>2019</td>\n",
       "    </tr>\n",
       "    <tr>\n",
       "      <th>57462</th>\n",
       "      <td>196417</td>\n",
       "      <td>How to Train Your Dragon: The Hidden World (2019)</td>\n",
       "      <td>Adventure|Animation|Children</td>\n",
       "      <td>None</td>\n",
       "      <td>2019</td>\n",
       "    </tr>\n",
       "    <tr>\n",
       "      <th>...</th>\n",
       "      <td>...</td>\n",
       "      <td>...</td>\n",
       "      <td>...</td>\n",
       "      <td>...</td>\n",
       "      <td>...</td>\n",
       "    </tr>\n",
       "    <tr>\n",
       "      <th>62387</th>\n",
       "      <td>209051</td>\n",
       "      <td>Jeff Garlin: Our Man in Chicago (2019)</td>\n",
       "      <td>(no genres listed)</td>\n",
       "      <td>None</td>\n",
       "      <td>2019</td>\n",
       "    </tr>\n",
       "    <tr>\n",
       "      <th>62398</th>\n",
       "      <td>209085</td>\n",
       "      <td>The Mistletoe Secret (2019)</td>\n",
       "      <td>Romance</td>\n",
       "      <td>None</td>\n",
       "      <td>2019</td>\n",
       "    </tr>\n",
       "    <tr>\n",
       "      <th>62412</th>\n",
       "      <td>209143</td>\n",
       "      <td>The Painting (2019)</td>\n",
       "      <td>Animation|Documentary</td>\n",
       "      <td>None</td>\n",
       "      <td>2019</td>\n",
       "    </tr>\n",
       "    <tr>\n",
       "      <th>62413</th>\n",
       "      <td>209145</td>\n",
       "      <td>Liberté (2019)</td>\n",
       "      <td>Drama</td>\n",
       "      <td>None</td>\n",
       "      <td>2019</td>\n",
       "    </tr>\n",
       "    <tr>\n",
       "      <th>62415</th>\n",
       "      <td>209151</td>\n",
       "      <td>Mao Zedong 1949 (2019)</td>\n",
       "      <td>(no genres listed)</td>\n",
       "      <td>None</td>\n",
       "      <td>2019</td>\n",
       "    </tr>\n",
       "  </tbody>\n",
       "</table>\n",
       "<p>994 rows × 5 columns</p>\n",
       "</div>"
      ],
      "text/plain": [
       "       movieId                                              title  \\\n",
       "25068   122914            Avengers: Infinity War - Part II (2019)   \n",
       "33520   143345                                     Shazam! (2019)   \n",
       "57039   195473                              Les Invisibles (2019)   \n",
       "57371   196223                                     Hellboy (2019)   \n",
       "57462   196417  How to Train Your Dragon: The Hidden World (2019)   \n",
       "...        ...                                                ...   \n",
       "62387   209051             Jeff Garlin: Our Man in Chicago (2019)   \n",
       "62398   209085                        The Mistletoe Secret (2019)   \n",
       "62412   209143                                The Painting (2019)   \n",
       "62413   209145                                     Liberté (2019)   \n",
       "62415   209151                             Mao Zedong 1949 (2019)   \n",
       "\n",
       "                                genres   url  year  \n",
       "25068          Action|Adventure|Sci-Fi  None  2019  \n",
       "33520  Action|Adventure|Fantasy|Sci-Fi  None  2019  \n",
       "57039               (no genres listed)  None  2019  \n",
       "57371         Action|Adventure|Fantasy  None  2019  \n",
       "57462     Adventure|Animation|Children  None  2019  \n",
       "...                                ...   ...   ...  \n",
       "62387               (no genres listed)  None  2019  \n",
       "62398                          Romance  None  2019  \n",
       "62412            Animation|Documentary  None  2019  \n",
       "62413                            Drama  None  2019  \n",
       "62415               (no genres listed)  None  2019  \n",
       "\n",
       "[994 rows x 5 columns]"
      ]
     },
     "execution_count": 54,
     "metadata": {},
     "output_type": "execute_result"
    }
   ],
   "source": [
    "movies[movies['year'] == '2019']"
   ]
  },
  {
   "cell_type": "code",
   "execution_count": null,
   "id": "f53ad094-fbc2-4765-8cf2-07edb877d4b9",
   "metadata": {
    "tags": []
   },
   "outputs": [],
   "source": [
    "Counter(movies['year'])"
   ]
  },
  {
   "cell_type": "code",
   "execution_count": 31,
   "id": "0255cc23-2879-44c7-b2f1-ff82c9327d58",
   "metadata": {
    "tags": []
   },
   "outputs": [
    {
     "data": {
      "text/plain": [
       "1995"
      ]
     },
     "execution_count": 31,
     "metadata": {},
     "output_type": "execute_result"
    }
   ],
   "source": [
    "int(re.search(year_regex, title).group())"
   ]
  },
  {
   "cell_type": "code",
   "execution_count": 34,
   "id": "a6192b25-99c5-437c-8556-5d4d18153f3f",
   "metadata": {
    "tags": []
   },
   "outputs": [
    {
     "data": {
      "text/plain": [
       "'Texas Chainsaw Massacre: The Next Generation (a.k.a. The Return of the Texas Chainsaw Massacre) (199'"
      ]
     },
     "execution_count": 34,
     "metadata": {},
     "output_type": "execute_result"
    }
   ],
   "source": [
    "title"
   ]
  },
  {
   "cell_type": "code",
   "execution_count": 33,
   "id": "f6f19704-f0fc-4818-8903-6b904e0b21d4",
   "metadata": {
    "tags": []
   },
   "outputs": [],
   "source": [
    "re.search(year_regex, title)"
   ]
  },
  {
   "cell_type": "code",
   "execution_count": null,
   "id": "7e53dcf6-65b7-4307-8d6c-4e715b6efc2e",
   "metadata": {},
   "outputs": [],
   "source": []
  },
  {
   "cell_type": "code",
   "execution_count": null,
   "id": "8587e2ad-d312-49bd-a90c-eab0e4891fd3",
   "metadata": {},
   "outputs": [],
   "source": []
  },
  {
   "cell_type": "code",
   "execution_count": 26,
   "id": "9fe75ddb-5639-48f7-a54f-981abcc54839",
   "metadata": {
    "tags": []
   },
   "outputs": [
    {
     "data": {
      "text/plain": [
       "'1995'"
      ]
     },
     "execution_count": 26,
     "metadata": {},
     "output_type": "execute_result"
    }
   ],
   "source": [
    "re.search(year_regex, title).group()"
   ]
  }
 ],
 "metadata": {
  "kernelspec": {
   "display_name": "Python 3 (ipykernel)",
   "language": "python",
   "name": "python3"
  },
  "language_info": {
   "codemirror_mode": {
    "name": "ipython",
    "version": 3
   },
   "file_extension": ".py",
   "mimetype": "text/x-python",
   "name": "python",
   "nbconvert_exporter": "python",
   "pygments_lexer": "ipython3",
   "version": "3.10.12"
  },
  "toc-autonumbering": true
 },
 "nbformat": 4,
 "nbformat_minor": 5
}
