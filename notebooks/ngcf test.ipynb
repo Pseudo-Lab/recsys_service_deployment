{
 "cells": [
  {
   "cell_type": "code",
   "execution_count": 1,
   "id": "603e0dc8-84d4-49fb-8b78-2da12acd991a",
   "metadata": {
    "tags": []
   },
   "outputs": [
    {
     "data": {
      "text/plain": [
       "'/Users/kyeongchanlee/PycharmProjects/recsys_service_deployment/notebooks'"
      ]
     },
     "execution_count": 1,
     "metadata": {},
     "output_type": "execute_result"
    }
   ],
   "source": [
    "import os\n",
    "os.getcwd()"
   ]
  },
  {
   "cell_type": "code",
   "execution_count": 5,
   "id": "df4a0e40-c290-45c3-8b35-7ca1e72152ef",
   "metadata": {
    "tags": []
   },
   "outputs": [],
   "source": [
    "import sys\n",
    "sys.path.append('../')\n",
    "sys.path.append('..')"
   ]
  },
  {
   "cell_type": "code",
   "execution_count": 4,
   "id": "ac0b49be-3fbc-4f66-92f8-046737af55c5",
   "metadata": {
    "tags": []
   },
   "outputs": [
    {
     "data": {
      "text/plain": [
       "['/Library/Frameworks/Python.framework/Versions/3.10/lib/python310.zip',\n",
       " '/Library/Frameworks/Python.framework/Versions/3.10/lib/python3.10',\n",
       " '/Library/Frameworks/Python.framework/Versions/3.10/lib/python3.10/lib-dynload',\n",
       " '',\n",
       " '/Users/kyeongchanlee/PycharmProjects/recsys_service_deployment/venv/lib/python3.10/site-packages',\n",
       " '../']"
      ]
     },
     "execution_count": 4,
     "metadata": {},
     "output_type": "execute_result"
    }
   ],
   "source": [
    "sys.path"
   ]
  },
  {
   "cell_type": "code",
   "execution_count": 8,
   "id": "298d2a1a-9c10-47a4-a35c-ce62bb61f6d6",
   "metadata": {
    "tags": []
   },
   "outputs": [],
   "source": [
    "data = pd.read_csv('../pytorch_models/Data/daum/daum_movie.csv')"
   ]
  },
  {
   "cell_type": "code",
   "execution_count": 9,
   "id": "0e917c99-3cc1-47ba-a313-40881f5f12e2",
   "metadata": {
    "tags": []
   },
   "outputs": [
    {
     "data": {
      "text/html": [
       "<div>\n",
       "<style scoped>\n",
       "    .dataframe tbody tr th:only-of-type {\n",
       "        vertical-align: middle;\n",
       "    }\n",
       "\n",
       "    .dataframe tbody tr th {\n",
       "        vertical-align: top;\n",
       "    }\n",
       "\n",
       "    .dataframe thead th {\n",
       "        text-align: right;\n",
       "    }\n",
       "</style>\n",
       "<table border=\"1\" class=\"dataframe\">\n",
       "  <thead>\n",
       "    <tr style=\"text-align: right;\">\n",
       "      <th></th>\n",
       "      <th>Unnamed: 0</th>\n",
       "      <th>nickName</th>\n",
       "      <th>movieId</th>\n",
       "      <th>rating</th>\n",
       "      <th>timestamp</th>\n",
       "      <th>userId</th>\n",
       "      <th>review</th>\n",
       "    </tr>\n",
       "  </thead>\n",
       "  <tbody>\n",
       "    <tr>\n",
       "      <th>0</th>\n",
       "      <td>0</td>\n",
       "      <td>매력적그녀</td>\n",
       "      <td>121721</td>\n",
       "      <td>8</td>\n",
       "      <td>1.702394e+09</td>\n",
       "      <td>NaN</td>\n",
       "      <td>이런 영화 안좋아하는데 어쩔수 없이 봤다가 솔직히 기분은 진짜 별로였음 근데 또 영...</td>\n",
       "    </tr>\n",
       "    <tr>\n",
       "      <th>1</th>\n",
       "      <td>1</td>\n",
       "      <td>매력적그녀</td>\n",
       "      <td>1660</td>\n",
       "      <td>10</td>\n",
       "      <td>1.701700e+09</td>\n",
       "      <td>NaN</td>\n",
       "      <td>첨엔 내가 주인공이고 이렇게 술술 풀리는 행복한 인생 부럽다 이러다가 갈수록 숨막히...</td>\n",
       "    </tr>\n",
       "    <tr>\n",
       "      <th>2</th>\n",
       "      <td>2</td>\n",
       "      <td>매력적그녀</td>\n",
       "      <td>164920</td>\n",
       "      <td>10</td>\n",
       "      <td>1.692027e+09</td>\n",
       "      <td>NaN</td>\n",
       "      <td>처음엔 넷플에.떴길래 별 생각없이 보기 시작했는데 너무 잔잔해서 뭐지 하다가 이상하...</td>\n",
       "    </tr>\n",
       "    <tr>\n",
       "      <th>3</th>\n",
       "      <td>3</td>\n",
       "      <td>매력적그녀</td>\n",
       "      <td>130710</td>\n",
       "      <td>1</td>\n",
       "      <td>1.684073e+09</td>\n",
       "      <td>NaN</td>\n",
       "      <td>이거 왜 영화로 만든건가요?</td>\n",
       "    </tr>\n",
       "    <tr>\n",
       "      <th>4</th>\n",
       "      <td>4</td>\n",
       "      <td>매력적그녀</td>\n",
       "      <td>1953</td>\n",
       "      <td>6</td>\n",
       "      <td>1.677165e+09</td>\n",
       "      <td>NaN</td>\n",
       "      <td>당시엔 평이 엄청 낮고 여주 혹평이던 영화도 시간이 지나면 이렇게 평점이 좋아지는구...</td>\n",
       "    </tr>\n",
       "    <tr>\n",
       "      <th>...</th>\n",
       "      <td>...</td>\n",
       "      <td>...</td>\n",
       "      <td>...</td>\n",
       "      <td>...</td>\n",
       "      <td>...</td>\n",
       "      <td>...</td>\n",
       "      <td>...</td>\n",
       "    </tr>\n",
       "    <tr>\n",
       "      <th>582312</th>\n",
       "      <td>582312</td>\n",
       "      <td>아림</td>\n",
       "      <td>96030</td>\n",
       "      <td>10</td>\n",
       "      <td>1.614238e+09</td>\n",
       "      <td>NaN</td>\n",
       "      <td>👍👍👍👍👍👍</td>\n",
       "    </tr>\n",
       "    <tr>\n",
       "      <th>582313</th>\n",
       "      <td>582313</td>\n",
       "      <td>아림</td>\n",
       "      <td>134684</td>\n",
       "      <td>9</td>\n",
       "      <td>1.593245e+09</td>\n",
       "      <td>NaN</td>\n",
       "      <td>사람들마다 취향이 다르니 재미없으신 분들도 계시겠지만 부산행+엑시트 느낌이라 재밌었...</td>\n",
       "    </tr>\n",
       "    <tr>\n",
       "      <th>582314</th>\n",
       "      <td>582314</td>\n",
       "      <td>버들치</td>\n",
       "      <td>48253</td>\n",
       "      <td>10</td>\n",
       "      <td>1.482238e+09</td>\n",
       "      <td>NaN</td>\n",
       "      <td>가슴이 아프다..</td>\n",
       "    </tr>\n",
       "    <tr>\n",
       "      <th>582315</th>\n",
       "      <td>582315</td>\n",
       "      <td>이뿐수기</td>\n",
       "      <td>45801</td>\n",
       "      <td>9</td>\n",
       "      <td>1.516678e+09</td>\n",
       "      <td>NaN</td>\n",
       "      <td>추자현하면 이 영화가 생각남</td>\n",
       "    </tr>\n",
       "    <tr>\n",
       "      <th>582316</th>\n",
       "      <td>582316</td>\n",
       "      <td>이뿐수기</td>\n",
       "      <td>48253</td>\n",
       "      <td>10</td>\n",
       "      <td>1.478506e+09</td>\n",
       "      <td>NaN</td>\n",
       "      <td>난 몇번을 더 봤다..\\n보고 또 울고 울고 울고..\\n넘 슬펐다...\\n근데 남자...</td>\n",
       "    </tr>\n",
       "  </tbody>\n",
       "</table>\n",
       "<p>582317 rows × 7 columns</p>\n",
       "</div>"
      ],
      "text/plain": [
       "        Unnamed: 0 nickName  movieId  rating     timestamp  userId  \\\n",
       "0                0    매력적그녀   121721       8  1.702394e+09     NaN   \n",
       "1                1    매력적그녀     1660      10  1.701700e+09     NaN   \n",
       "2                2    매력적그녀   164920      10  1.692027e+09     NaN   \n",
       "3                3    매력적그녀   130710       1  1.684073e+09     NaN   \n",
       "4                4    매력적그녀     1953       6  1.677165e+09     NaN   \n",
       "...            ...      ...      ...     ...           ...     ...   \n",
       "582312      582312       아림    96030      10  1.614238e+09     NaN   \n",
       "582313      582313       아림   134684       9  1.593245e+09     NaN   \n",
       "582314      582314      버들치    48253      10  1.482238e+09     NaN   \n",
       "582315      582315     이뿐수기    45801       9  1.516678e+09     NaN   \n",
       "582316      582316     이뿐수기    48253      10  1.478506e+09     NaN   \n",
       "\n",
       "                                                   review  \n",
       "0       이런 영화 안좋아하는데 어쩔수 없이 봤다가 솔직히 기분은 진짜 별로였음 근데 또 영...  \n",
       "1       첨엔 내가 주인공이고 이렇게 술술 풀리는 행복한 인생 부럽다 이러다가 갈수록 숨막히...  \n",
       "2       처음엔 넷플에.떴길래 별 생각없이 보기 시작했는데 너무 잔잔해서 뭐지 하다가 이상하...  \n",
       "3                                         이거 왜 영화로 만든건가요?  \n",
       "4       당시엔 평이 엄청 낮고 여주 혹평이던 영화도 시간이 지나면 이렇게 평점이 좋아지는구...  \n",
       "...                                                   ...  \n",
       "582312                                             👍👍👍👍👍👍  \n",
       "582313  사람들마다 취향이 다르니 재미없으신 분들도 계시겠지만 부산행+엑시트 느낌이라 재밌었...  \n",
       "582314                                          가슴이 아프다..  \n",
       "582315                                    추자현하면 이 영화가 생각남  \n",
       "582316  난 몇번을 더 봤다..\\n보고 또 울고 울고 울고..\\n넘 슬펐다...\\n근데 남자...  \n",
       "\n",
       "[582317 rows x 7 columns]"
      ]
     },
     "execution_count": 9,
     "metadata": {},
     "output_type": "execute_result"
    }
   ],
   "source": [
    "data"
   ]
  },
  {
   "cell_type": "code",
   "execution_count": 10,
   "id": "57c5f841-51a5-4bae-bf21-c7cf3018ff16",
   "metadata": {
    "tags": []
   },
   "outputs": [],
   "source": [
    "from sklearn.model_selection import train_test_split\n",
    "from tqdm import tqdm\n",
    "import pandas as pd\n",
    "import numpy as np\n",
    "import pickle\n",
    "import time\n",
    "import math\n",
    "import os\n",
    "import sys\n",
    "\n",
    "# data = pd.read_csv('pytorch_models/Data/daum/daum_movie.csv')\n",
    "data.columns = ['unnamed', 'uid', 'iid', 'r', 'ts', 'nan', 'review']\n",
    "data = data.drop(columns=['unnamed', 'ts', 'nan', 'review'])"
   ]
  },
  {
   "cell_type": "code",
   "execution_count": 11,
   "id": "f3a01c33-5c34-4a3c-843c-095eed61a619",
   "metadata": {
    "tags": []
   },
   "outputs": [
    {
     "data": {
      "text/html": [
       "<div>\n",
       "<style scoped>\n",
       "    .dataframe tbody tr th:only-of-type {\n",
       "        vertical-align: middle;\n",
       "    }\n",
       "\n",
       "    .dataframe tbody tr th {\n",
       "        vertical-align: top;\n",
       "    }\n",
       "\n",
       "    .dataframe thead th {\n",
       "        text-align: right;\n",
       "    }\n",
       "</style>\n",
       "<table border=\"1\" class=\"dataframe\">\n",
       "  <thead>\n",
       "    <tr style=\"text-align: right;\">\n",
       "      <th></th>\n",
       "      <th>uid</th>\n",
       "      <th>iid</th>\n",
       "      <th>r</th>\n",
       "    </tr>\n",
       "  </thead>\n",
       "  <tbody>\n",
       "    <tr>\n",
       "      <th>0</th>\n",
       "      <td>매력적그녀</td>\n",
       "      <td>121721</td>\n",
       "      <td>8</td>\n",
       "    </tr>\n",
       "    <tr>\n",
       "      <th>1</th>\n",
       "      <td>매력적그녀</td>\n",
       "      <td>1660</td>\n",
       "      <td>10</td>\n",
       "    </tr>\n",
       "    <tr>\n",
       "      <th>2</th>\n",
       "      <td>매력적그녀</td>\n",
       "      <td>164920</td>\n",
       "      <td>10</td>\n",
       "    </tr>\n",
       "    <tr>\n",
       "      <th>3</th>\n",
       "      <td>매력적그녀</td>\n",
       "      <td>130710</td>\n",
       "      <td>1</td>\n",
       "    </tr>\n",
       "    <tr>\n",
       "      <th>4</th>\n",
       "      <td>매력적그녀</td>\n",
       "      <td>1953</td>\n",
       "      <td>6</td>\n",
       "    </tr>\n",
       "    <tr>\n",
       "      <th>...</th>\n",
       "      <td>...</td>\n",
       "      <td>...</td>\n",
       "      <td>...</td>\n",
       "    </tr>\n",
       "    <tr>\n",
       "      <th>582312</th>\n",
       "      <td>아림</td>\n",
       "      <td>96030</td>\n",
       "      <td>10</td>\n",
       "    </tr>\n",
       "    <tr>\n",
       "      <th>582313</th>\n",
       "      <td>아림</td>\n",
       "      <td>134684</td>\n",
       "      <td>9</td>\n",
       "    </tr>\n",
       "    <tr>\n",
       "      <th>582314</th>\n",
       "      <td>버들치</td>\n",
       "      <td>48253</td>\n",
       "      <td>10</td>\n",
       "    </tr>\n",
       "    <tr>\n",
       "      <th>582315</th>\n",
       "      <td>이뿐수기</td>\n",
       "      <td>45801</td>\n",
       "      <td>9</td>\n",
       "    </tr>\n",
       "    <tr>\n",
       "      <th>582316</th>\n",
       "      <td>이뿐수기</td>\n",
       "      <td>48253</td>\n",
       "      <td>10</td>\n",
       "    </tr>\n",
       "  </tbody>\n",
       "</table>\n",
       "<p>582317 rows × 3 columns</p>\n",
       "</div>"
      ],
      "text/plain": [
       "          uid     iid   r\n",
       "0       매력적그녀  121721   8\n",
       "1       매력적그녀    1660  10\n",
       "2       매력적그녀  164920  10\n",
       "3       매력적그녀  130710   1\n",
       "4       매력적그녀    1953   6\n",
       "...       ...     ...  ..\n",
       "582312     아림   96030  10\n",
       "582313     아림  134684   9\n",
       "582314    버들치   48253  10\n",
       "582315   이뿐수기   45801   9\n",
       "582316   이뿐수기   48253  10\n",
       "\n",
       "[582317 rows x 3 columns]"
      ]
     },
     "execution_count": 11,
     "metadata": {},
     "output_type": "execute_result"
    }
   ],
   "source": [
    "data"
   ]
  },
  {
   "cell_type": "code",
   "execution_count": 13,
   "id": "c45d06e5-d12a-494c-8bd0-364e1fe87bfd",
   "metadata": {
    "tags": []
   },
   "outputs": [
    {
     "data": {
      "text/plain": [
       "35813"
      ]
     },
     "execution_count": 13,
     "metadata": {},
     "output_type": "execute_result"
    }
   ],
   "source": [
    "data['uid'].nunique()"
   ]
  },
  {
   "cell_type": "code",
   "execution_count": 14,
   "id": "d25bf3a6-b319-4150-85ca-19b26a72f03a",
   "metadata": {
    "tags": []
   },
   "outputs": [],
   "source": [
    "# %% rating이 5개 미만인 사용자 제거\n",
    "gb_inum = data[['uid', 'iid']].groupby(['uid']).count()\n",
    "over_20_idxs = gb_inum.loc[gb_inum.iid > 5].index.values\n",
    "data = data.loc[data.uid.isin(over_20_idxs)].reset_index(drop=True)\n",
    "\n",
    "# %% uid, iid encoding\n",
    "user_encoder = {id: idx for idx, id in enumerate(data['uid'].unique())}\n",
    "user_decoder = {idx: id for id, idx in user_encoder.items()}\n",
    "\n",
    "item_encoder = {id: idx for idx, id in enumerate(data['iid'].unique())}\n",
    "item_decoder = {idx: id for id, idx in item_encoder.items()}\n",
    "\n",
    "data['uid'] = data['uid'].apply(lambda x: user_encoder[x])\n",
    "data['iid'] = data['iid'].apply(lambda x: item_encoder[x])"
   ]
  },
  {
   "cell_type": "code",
   "execution_count": 18,
   "id": "d328a905-f285-4099-b1c7-bd6f00c54ca6",
   "metadata": {
    "tags": []
   },
   "outputs": [
    {
     "data": {
      "text/plain": [
       "15038"
      ]
     },
     "execution_count": 18,
     "metadata": {},
     "output_type": "execute_result"
    }
   ],
   "source": [
    "len(user_encoder)"
   ]
  },
  {
   "cell_type": "code",
   "execution_count": 17,
   "id": "783a5c4b-217b-4bfa-8754-ee0637ac9f1a",
   "metadata": {
    "tags": []
   },
   "outputs": [
    {
     "data": {
      "text/plain": [
       "15037"
      ]
     },
     "execution_count": 17,
     "metadata": {},
     "output_type": "execute_result"
    }
   ],
   "source": [
    "max(user_encoder.values())"
   ]
  },
  {
   "cell_type": "code",
   "execution_count": 21,
   "id": "cc5e0655-0e4e-406c-889e-608011fd2e64",
   "metadata": {
    "tags": []
   },
   "outputs": [
    {
     "data": {
      "text/plain": [
       "29712"
      ]
     },
     "execution_count": 21,
     "metadata": {},
     "output_type": "execute_result"
    }
   ],
   "source": [
    "max(item_encoder.values())"
   ]
  },
  {
   "cell_type": "code",
   "execution_count": 22,
   "id": "ce63cd66-0b2c-4925-8cc6-b6d958ccc422",
   "metadata": {
    "tags": []
   },
   "outputs": [
    {
     "data": {
      "text/plain": [
       "29713"
      ]
     },
     "execution_count": 22,
     "metadata": {},
     "output_type": "execute_result"
    }
   ],
   "source": [
    "len (item_encoder)"
   ]
  },
  {
   "cell_type": "code",
   "execution_count": 23,
   "id": "535b9744-032c-4432-97c6-02919ebaaf9f",
   "metadata": {
    "tags": []
   },
   "outputs": [
    {
     "data": {
      "text/html": [
       "<div>\n",
       "<style scoped>\n",
       "    .dataframe tbody tr th:only-of-type {\n",
       "        vertical-align: middle;\n",
       "    }\n",
       "\n",
       "    .dataframe tbody tr th {\n",
       "        vertical-align: top;\n",
       "    }\n",
       "\n",
       "    .dataframe thead th {\n",
       "        text-align: right;\n",
       "    }\n",
       "</style>\n",
       "<table border=\"1\" class=\"dataframe\">\n",
       "  <thead>\n",
       "    <tr style=\"text-align: right;\">\n",
       "      <th></th>\n",
       "      <th>uid</th>\n",
       "      <th>iid</th>\n",
       "      <th>r</th>\n",
       "    </tr>\n",
       "  </thead>\n",
       "  <tbody>\n",
       "    <tr>\n",
       "      <th>0</th>\n",
       "      <td>0</td>\n",
       "      <td>0</td>\n",
       "      <td>8</td>\n",
       "    </tr>\n",
       "    <tr>\n",
       "      <th>1</th>\n",
       "      <td>0</td>\n",
       "      <td>1</td>\n",
       "      <td>10</td>\n",
       "    </tr>\n",
       "    <tr>\n",
       "      <th>2</th>\n",
       "      <td>0</td>\n",
       "      <td>2</td>\n",
       "      <td>10</td>\n",
       "    </tr>\n",
       "    <tr>\n",
       "      <th>3</th>\n",
       "      <td>0</td>\n",
       "      <td>3</td>\n",
       "      <td>1</td>\n",
       "    </tr>\n",
       "    <tr>\n",
       "      <th>4</th>\n",
       "      <td>0</td>\n",
       "      <td>4</td>\n",
       "      <td>6</td>\n",
       "    </tr>\n",
       "    <tr>\n",
       "      <th>...</th>\n",
       "      <td>...</td>\n",
       "      <td>...</td>\n",
       "      <td>...</td>\n",
       "    </tr>\n",
       "    <tr>\n",
       "      <th>536059</th>\n",
       "      <td>15037</td>\n",
       "      <td>2211</td>\n",
       "      <td>10</td>\n",
       "    </tr>\n",
       "    <tr>\n",
       "      <th>536060</th>\n",
       "      <td>15037</td>\n",
       "      <td>775</td>\n",
       "      <td>8</td>\n",
       "    </tr>\n",
       "    <tr>\n",
       "      <th>536061</th>\n",
       "      <td>15037</td>\n",
       "      <td>283</td>\n",
       "      <td>9</td>\n",
       "    </tr>\n",
       "    <tr>\n",
       "      <th>536062</th>\n",
       "      <td>15037</td>\n",
       "      <td>169</td>\n",
       "      <td>10</td>\n",
       "    </tr>\n",
       "    <tr>\n",
       "      <th>536063</th>\n",
       "      <td>15037</td>\n",
       "      <td>2009</td>\n",
       "      <td>10</td>\n",
       "    </tr>\n",
       "  </tbody>\n",
       "</table>\n",
       "<p>536064 rows × 3 columns</p>\n",
       "</div>"
      ],
      "text/plain": [
       "          uid   iid   r\n",
       "0           0     0   8\n",
       "1           0     1  10\n",
       "2           0     2  10\n",
       "3           0     3   1\n",
       "4           0     4   6\n",
       "...       ...   ...  ..\n",
       "536059  15037  2211  10\n",
       "536060  15037   775   8\n",
       "536061  15037   283   9\n",
       "536062  15037   169  10\n",
       "536063  15037  2009  10\n",
       "\n",
       "[536064 rows x 3 columns]"
      ]
     },
     "execution_count": 23,
     "metadata": {},
     "output_type": "execute_result"
    }
   ],
   "source": [
    "data"
   ]
  },
  {
   "cell_type": "code",
   "execution_count": 24,
   "id": "06f4d821-1c97-44bd-98d4-05293509291a",
   "metadata": {
    "tags": []
   },
   "outputs": [
    {
     "ename": "NameError",
     "evalue": "name 'data_dict' is not defined",
     "output_type": "error",
     "traceback": [
      "\u001b[0;31m---------------------------------------------------------------------------\u001b[0m",
      "\u001b[0;31mNameError\u001b[0m                                 Traceback (most recent call last)",
      "Cell \u001b[0;32mIn[24], line 1\u001b[0m\n\u001b[0;32m----> 1\u001b[0m \u001b[43mdata_dict\u001b[49m\n",
      "\u001b[0;31mNameError\u001b[0m: name 'data_dict' is not defined"
     ]
    }
   ],
   "source": [
    "data_dict"
   ]
  },
  {
   "cell_type": "code",
   "execution_count": 57,
   "id": "85ded78e-24e3-445a-8cf1-dd2a6e99caca",
   "metadata": {
    "tags": []
   },
   "outputs": [],
   "source": [
    "interacted_items = [item_encoder[i] for i in interacted_items]"
   ]
  },
  {
   "cell_type": "code",
   "execution_count": 15,
   "id": "121da470-b3e9-4a42-9818-41539b123fd1",
   "metadata": {
    "tags": []
   },
   "outputs": [],
   "source": [
    "x_train, x_valid, y_train, y_valid = train_test_split(data, data['uid'].values, test_size=0.2, shuffle=True,\n",
    "                                                      stratify=data['uid'].values, random_state=42)"
   ]
  },
  {
   "cell_type": "code",
   "execution_count": 33,
   "id": "dd04abc2-f3de-4930-a1e9-299683446d31",
   "metadata": {
    "tags": []
   },
   "outputs": [
    {
     "name": "stdout",
     "output_type": "stream",
     "text": [
      "n_users=15039, n_items=29713\n",
      "n_interactions=536075\n",
      "n_train=428860, n_test=107215, sparsity=0.00120\n",
      "29713\n"
     ]
    }
   ],
   "source": [
    "import pandas as pd\n",
    "import torch\n",
    "import numpy as np\n",
    "\n",
    "import dgl\n",
    "import dgl.function as fn\n",
    "import torch\n",
    "import torch.nn as nn\n",
    "import torch.nn.functional as F\n",
    "import torch.optim as optim\n",
    "\n",
    "from collections import OrderedDict\n",
    "import pytorch_models.ngcf.model\n",
    "from pytorch_models.ngcf.model import NGCF\n",
    "from pytorch_models.ngcf.utility.parser import parse_args\n",
    "\n",
    "import pytorch_models.ngcf.utility.metrics as metrics\n",
    "from pytorch_models.ngcf.utility.load_data import *\n",
    "from pytorch_models.ngcf.utility.batch_test import *\n",
    "\n",
    "import pytorch_models.Data.daum.train_test_split as ts"
   ]
  },
  {
   "cell_type": "code",
   "execution_count": 58,
   "id": "25005f87-0c99-49c2-a896-1f0d00be9c80",
   "metadata": {
    "tags": []
   },
   "outputs": [],
   "source": [
    "class NgcfPredictor:\n",
    "    def __init__(self):\n",
    "        self.args = parse_args()\n",
    "        self.device = 'cpu'\n",
    "        self.num_recommendations = 10\n",
    "        self.num_epochs = 10\n",
    "\n",
    "    def sample(self, users, items):\n",
    "\n",
    "        def sample_pos_items_for_u(u, num):\n",
    "            # sample num pos items for u-th user\n",
    "            pos_items = items\n",
    "            n_pos_items = len(pos_items)\n",
    "            pos_batch = []\n",
    "            while True:\n",
    "                if len(pos_batch) == num:\n",
    "                    break\n",
    "                pos_id = np.random.randint(low=0, high=n_pos_items, size=1)[0]\n",
    "                pos_i_id = pos_items[pos_id]\n",
    "\n",
    "                if pos_i_id not in pos_batch:\n",
    "                    pos_batch.append(pos_i_id)\n",
    "            return pos_batch\n",
    "\n",
    "        def sample_neg_items_for_u(u, num):\n",
    "            # sample num neg items for u-th user\n",
    "            neg_items = []\n",
    "            while True:\n",
    "                if len(neg_items) == num:\n",
    "                    break\n",
    "                neg_id = np.random.randint(low=0, high=3706, size=1)[0]\n",
    "                if (\n",
    "                        neg_id not in items\n",
    "                        and neg_id not in neg_items\n",
    "                ):\n",
    "                    neg_items.append(neg_id)\n",
    "            return neg_items\n",
    "\n",
    "        pos_items, neg_items = [], []\n",
    "        for u in users:\n",
    "            pos_items += sample_pos_items_for_u(u, 1)\n",
    "            neg_items += sample_neg_items_for_u(u, 1)\n",
    "\n",
    "        return users, pos_items, neg_items\n",
    "\n",
    "    def predict(self, interacted_items):\n",
    "        \"\"\" # 회원가입한 사용자 버전(새로 회원가입을 한 경우에는 유저 임베딩이 추가되기 때문에 이전에 배치 or 온라인 학습된 모델을 checkpoint라는 변수로 불러와서 유저의 수를 new_num_user 변수에 생성) -> 아직 고민해봐야함..\n",
    "        checkpoint = torch.load('NGCF.pkl')\n",
    "        checkpoint_dict = dict(OrderedDict(checkpoint))\n",
    "        new_num_user = len(checkpoint_dict['feature_dict.user'])\n",
    "        \n",
    "        user_id = new_num_user + 1\n",
    "        print(user_id)\n",
    "        \"\"\"\n",
    "        print(f\"interacted_items : {interacted_items}\")\n",
    "        # 비회원 데이터 적재 X\n",
    "        # user_id = 10538\n",
    "        user_id = len(ts.user_encoder) + 1\n",
    "        item_num = len(ts.item_encoder)\n",
    "        print(user_id)\n",
    "\n",
    "        data_generator.train_items[user_id - 1] = interacted_items\n",
    "\n",
    "        new_user_item_dst = interacted_items\n",
    "        new_user_item_src = [user_id - 1] * len(new_user_item_dst)\n",
    "        user_selfs = list(range(user_id))\n",
    "        item_selfs = list(range(item_num))\n",
    "        data_dict = {\n",
    "            (\"user\", \"user_self\", \"user\"): (user_selfs, user_selfs),\n",
    "            (\"item\", \"item_self\", \"item\"): (item_selfs, item_selfs),\n",
    "            (\"user\", \"ui\", \"item\"): (\n",
    "                data_generator.user_item_src + new_user_item_src,\n",
    "                data_generator.user_item_dst + new_user_item_dst\n",
    "            ),\n",
    "            (\"item\", \"iu\", \"user\"): (\n",
    "                data_generator.user_item_dst + new_user_item_dst,\n",
    "                data_generator.user_item_src + new_user_item_src\n",
    "            ),\n",
    "        }\n",
    "        num_dict = {\"user\": user_id, \"item\": item_num}\n",
    "\n",
    "        print(num_dict)\n",
    "        data_generator.g = dgl.heterograph(data_dict, num_nodes_dict=num_dict)\n",
    "\n",
    "        model = NGCF(\n",
    "            data_generator.g, 64, [64, 64, 64], [0.1, 0.1, 0.1], 1e-5).to(self.device)\n",
    "        optimizer = optim.Adam(model.parameters(), lr=self.args.lr)\n",
    "\n",
    "        for epoch in range(self.num_epochs):\n",
    "            loss, mf_loss, emb_loss = 0.0, 0.0, 0.0\n",
    "            users, pos_items, neg_items = self.sample(new_user_item_src, new_user_item_dst)\n",
    "            u_g_embeddings, pos_i_g_embeddings, neg_i_g_embeddings = model(\n",
    "                data_generator.g, \"user\", \"item\", users, pos_items, neg_items\n",
    "            )\n",
    "            batch_loss, batch_mf_loss, batch_emb_loss = model.create_bpr_loss(\n",
    "                u_g_embeddings, pos_i_g_embeddings, neg_i_g_embeddings\n",
    "            )\n",
    "            optimizer.zero_grad()\n",
    "            batch_loss.backward()\n",
    "            optimizer.step()\n",
    "\n",
    "            loss += batch_loss\n",
    "\n",
    "        # torch.save(model.state_dict(),self.args.model_name)\n",
    "\n",
    "        model.eval()\n",
    "        rec_items = {}\n",
    "\n",
    "        # all-item test\n",
    "        item = torch.tensor(list(set(item_selfs) - set(new_user_item_dst))).to(self.device)\n",
    "        u_g_embeddings, pos_i_g_embeddings, _ = model(\n",
    "            data_generator.g, \"user\", \"item\", user_id - 1, item, []\n",
    "        )\n",
    "        rate_batch = (\n",
    "            model.rating(u_g_embeddings, pos_i_g_embeddings).detach().cpu()\n",
    "        )\n",
    "        _, top_indices = torch.topk(rate_batch.view(-1), self.num_recommendations)\n",
    "        recommended_items = item[top_indices]\n",
    "\n",
    "        rec = []\n",
    "\n",
    "        for i in recommended_items:\n",
    "            rec.append(i)\n",
    "\n",
    "        rec_list = [item.item() for item in rec]\n",
    "\n",
    "        recomm_result = []\n",
    "\n",
    "        for i in rec_list:\n",
    "            recomm_result.append(ts.item_decoder[i])\n",
    "\n",
    "        print(f\"ngcf recomm_result : {recomm_result}\")\n",
    "        return recomm_result"
   ]
  },
  {
   "cell_type": "code",
   "execution_count": 59,
   "id": "05f5894e-4360-47e5-ac1c-c163e8360812",
   "metadata": {
    "tags": []
   },
   "outputs": [],
   "source": [
    "ngcf_predictor = NgcfPredictor()"
   ]
  },
  {
   "cell_type": "code",
   "execution_count": 60,
   "id": "e019cd12-3be6-4b7e-8b7f-d972e3130cca",
   "metadata": {
    "tags": []
   },
   "outputs": [
    {
     "name": "stdout",
     "output_type": "stream",
     "text": [
      "interacted_items : [1923, 1201, 1433, 1433, 1201, 1923, 1201, 738, 738, 706, 492, 1201, 1201, 1201, 1337, 1201, 1433, 3752, 1433, 1433, 1433, 1433, 1433, 1433, 1433, 1433, 1923, 1923, 1923, 725, 725, 725, 1433, 1433, 3752, 1433, 1433, 3752, 288, 1433, 706, 1923, 1923, 1923, 1923, 1923, 1923, 1923, 1923, 1923, 1923, 1433, 1201, 1201, 1201, 1433, 1433, 1433, 711, 711, 3921, 481, 481, 2011, 732, 174, 174, 174, 173, 949, 630, 860, 860, 236, 712, 3363, 1221, 241, 1901, 1901, 1901, 4003, 2011, 706, 711, 711, 2011, 636, 711, 481, 801, 481, 22, 207, 801, 1401, 3921, 227, 3921, 711, 711, 2011, 801, 711, 1401, 711, 801, 219, 3360, 2011, 2011, 3921, 711, 22, 711, 711, 2011, 2011, 2011, 712, 712, 3921, 711, 1401, 801, 2011, 711, 3921, 481, 647, 1245, 92, 3921, 636, 6, 6, 711, 242, 2011, 224, 1401, 801, 801, 1401, 636, 1259, 481, 224, 3921, 801, 732, 1401, 1259, 711, 312, 3921, 283, 227, 481, 481, 725, 483, 202, 2011, 711, 3921, 801, 801, 481, 3752, 219, 394, 405, 88, 212, 92, 481, 394, 1901, 481, 616, 409, 89, 308, 321, 67, 481, 636, 636, 2011, 2011, 1433, 481, 738, 711, 801, 706, 601, 125, 3921, 3921, 22, 227, 85, 356, 63, 2011, 3921, 718, 22, 2011, 3752, 92, 22, 22, 22, 22, 22, 22, 22, 22, 22, 22, 22, 3921, 3921, 3921, 3921, 3921, 3921, 3921, 3921, 47, 47, 47, 47, 47, 47, 47, 63, 63, 308, 308, 308, 308, 22, 153, 153, 153, 153, 153, 153, 153, 711, 711, 711, 711, 711, 2011, 2011, 2011, 2011, 3921, 267, 50, 153, 153, 151, 158, 161, 272, 13681, 801, 2011, 267, 63, 38, 636, 5792, 801, 2011, 2011, 22, 3921, 302, 158]\n",
      "15039\n",
      "{'user': 15039, 'item': 29713}\n",
      "ngcf recomm_result : [95554, 85306, 85475, 70191, 110556, 76872, 122542, 113686, 84000, 75640]\n"
     ]
    },
    {
     "data": {
      "text/plain": [
       "[95554, 85306, 85475, 70191, 110556, 76872, 122542, 113686, 84000, 75640]"
      ]
     },
     "execution_count": 60,
     "metadata": {},
     "output_type": "execute_result"
    }
   ],
   "source": [
    "ngcf_predictor.predict(interacted_items)"
   ]
  },
  {
   "cell_type": "code",
   "execution_count": 48,
   "id": "58ad3960-9e7e-495d-8f9f-72d19c421f3c",
   "metadata": {
    "tags": []
   },
   "outputs": [],
   "source": [
    "num_dict = {\"user\": user_id, \"item\": item_num}"
   ]
  },
  {
   "cell_type": "code",
   "execution_count": 49,
   "id": "ed06032d-764d-4498-a885-aeaae5d348bc",
   "metadata": {
    "tags": []
   },
   "outputs": [
    {
     "data": {
      "text/plain": [
       "{'user': 15039, 'item': 29713}"
      ]
     },
     "execution_count": 49,
     "metadata": {},
     "output_type": "execute_result"
    }
   ],
   "source": [
    "num_dict"
   ]
  },
  {
   "cell_type": "code",
   "execution_count": 51,
   "id": "14255a17-1090-47cc-82ef-eb0291a67469",
   "metadata": {
    "tags": []
   },
   "outputs": [
    {
     "ename": "KeyError",
     "evalue": "175838",
     "output_type": "error",
     "traceback": [
      "\u001b[0;31m---------------------------------------------------------------------------\u001b[0m",
      "\u001b[0;31mKeyError\u001b[0m                                  Traceback (most recent call last)",
      "Cell \u001b[0;32mIn[51], line 1\u001b[0m\n\u001b[0;32m----> 1\u001b[0m \u001b[43mitem_decoder\u001b[49m\u001b[43m[\u001b[49m\u001b[38;5;241;43m175838\u001b[39;49m\u001b[43m]\u001b[49m\n",
      "\u001b[0;31mKeyError\u001b[0m: 175838"
     ]
    }
   ],
   "source": [
    "item_decoder[175838]"
   ]
  },
  {
   "cell_type": "code",
   "execution_count": 52,
   "id": "827c5273-d8a5-4550-acf2-52d569fe61e0",
   "metadata": {
    "tags": []
   },
   "outputs": [
    {
     "data": {
      "text/plain": [
       "13681"
      ]
     },
     "execution_count": 52,
     "metadata": {},
     "output_type": "execute_result"
    }
   ],
   "source": [
    "item_encoder[175838]"
   ]
  },
  {
   "cell_type": "code",
   "execution_count": null,
   "id": "e50ad2a8-521e-47a3-8137-b212c76af41a",
   "metadata": {},
   "outputs": [],
   "source": [
    "[ for _ in interacted_items]"
   ]
  },
  {
   "cell_type": "code",
   "execution_count": 46,
   "id": "df370a47-aea5-48fc-ac2b-be8095f15543",
   "metadata": {
    "tags": []
   },
   "outputs": [
    {
     "name": "stdout",
     "output_type": "stream",
     "text": [
      "interacted_items : [42238, 43688, 53962, 53962, 43688, 42238, 43688, 42148, 42148, 54361, 54772, 43688, 43688, 43688, 63478, 43688, 53962, 59546, 53962, 53962, 53962, 53962, 53962, 53962, 53962, 53962, 42238, 42238, 42238, 62730, 62730, 62730, 53962, 53962, 59546, 53962, 53962, 59546, 67165, 53962, 54361, 42238, 42238, 42238, 42238, 42238, 42238, 42238, 42238, 42238, 42238, 53962, 43688, 43688, 43688, 53962, 53962, 53962, 108595, 108595, 108944, 114329, 114329, 91662, 63847, 68593, 68593, 68593, 75146, 109512, 106472, 100359, 100359, 95915, 100237, 76467, 73003, 84040, 85378, 85378, 85378, 87215, 91662, 54361, 108595, 108595, 91662, 119688, 108595, 114329, 76325, 114329, 156628, 108632, 76325, 88598, 108944, 134130, 108944, 108595, 108595, 91662, 76325, 108595, 88598, 108595, 76325, 122749, 111293, 91662, 91662, 108944, 108595, 156628, 108595, 108595, 91662, 91662, 91662, 100237, 100237, 108944, 108595, 88598, 76325, 91662, 108595, 108944, 114329, 139666, 146758, 156930, 108944, 119688, 144854, 144854, 108595, 144096, 91662, 122091, 88598, 76325, 76325, 88598, 119688, 118907, 114329, 122091, 108944, 76325, 63847, 88598, 118907, 108595, 145342, 108944, 121137, 134130, 114329, 114329, 62730, 1847, 139236, 91662, 108595, 108944, 76325, 76325, 114329, 59546, 122749, 133709, 115401, 129156, 139606, 156930, 114329, 133709, 85378, 114329, 109169, 67256, 162386, 167244, 164918, 147080, 114329, 119688, 119688, 91662, 91662, 53962, 114329, 42148, 108595, 76325, 54361, 115280, 161375, 108944, 108944, 156628, 134130, 133193, 135762, 158260, 91662, 108944, 143289, 156628, 91662, 59546, 156930, 156628, 156628, 156628, 156628, 156628, 156628, 156628, 156628, 156628, 156628, 156628, 108944, 108944, 108944, 108944, 108944, 108944, 108944, 108944, 169329, 169329, 169329, 169329, 169329, 169329, 169329, 158260, 158260, 167244, 167244, 167244, 167244, 156628, 150473, 150473, 150473, 150473, 150473, 150473, 150473, 108595, 108595, 108595, 108595, 108595, 91662, 91662, 91662, 91662, 108944, 169328, 144068, 150473, 150473, 161233, 164114, 159263, 169137, 175838, 76325, 91662, 169328, 158260, 163887, 119688, 83155, 76325, 91662, 91662, 156628, 108944, 156397, 164114]\n",
      "15039\n",
      "{'user': 15039, 'item': 29713}\n"
     ]
    },
    {
     "ename": "DGLError",
     "evalue": "The given number of nodes of node type item must be larger than the max ID in the data, but got 29713 and 175838.",
     "output_type": "error",
     "traceback": [
      "\u001b[0;31m---------------------------------------------------------------------------\u001b[0m",
      "\u001b[0;31mDGLError\u001b[0m                                  Traceback (most recent call last)",
      "Cell \u001b[0;32mIn[46], line 1\u001b[0m\n\u001b[0;32m----> 1\u001b[0m \u001b[43mngcf_predictor\u001b[49m\u001b[38;5;241;43m.\u001b[39;49m\u001b[43mpredict\u001b[49m\u001b[43m(\u001b[49m\u001b[43minteracted_items\u001b[49m\u001b[43m)\u001b[49m\n",
      "Cell \u001b[0;32mIn[34], line 83\u001b[0m, in \u001b[0;36mNgcfPredictor.predict\u001b[0;34m(self, interacted_items)\u001b[0m\n\u001b[1;32m     80\u001b[0m num_dict \u001b[38;5;241m=\u001b[39m {\u001b[38;5;124m\"\u001b[39m\u001b[38;5;124muser\u001b[39m\u001b[38;5;124m\"\u001b[39m: user_id, \u001b[38;5;124m\"\u001b[39m\u001b[38;5;124mitem\u001b[39m\u001b[38;5;124m\"\u001b[39m: item_num}\n\u001b[1;32m     82\u001b[0m \u001b[38;5;28mprint\u001b[39m(num_dict)\n\u001b[0;32m---> 83\u001b[0m data_generator\u001b[38;5;241m.\u001b[39mg \u001b[38;5;241m=\u001b[39m \u001b[43mdgl\u001b[49m\u001b[38;5;241;43m.\u001b[39;49m\u001b[43mheterograph\u001b[49m\u001b[43m(\u001b[49m\u001b[43mdata_dict\u001b[49m\u001b[43m,\u001b[49m\u001b[43m \u001b[49m\u001b[43mnum_nodes_dict\u001b[49m\u001b[38;5;241;43m=\u001b[39;49m\u001b[43mnum_dict\u001b[49m\u001b[43m)\u001b[49m\n\u001b[1;32m     85\u001b[0m model \u001b[38;5;241m=\u001b[39m NGCF(\n\u001b[1;32m     86\u001b[0m     data_generator\u001b[38;5;241m.\u001b[39mg, \u001b[38;5;241m64\u001b[39m, [\u001b[38;5;241m64\u001b[39m, \u001b[38;5;241m64\u001b[39m, \u001b[38;5;241m64\u001b[39m], [\u001b[38;5;241m0.1\u001b[39m, \u001b[38;5;241m0.1\u001b[39m, \u001b[38;5;241m0.1\u001b[39m], \u001b[38;5;241m1e-5\u001b[39m)\u001b[38;5;241m.\u001b[39mto(\u001b[38;5;28mself\u001b[39m\u001b[38;5;241m.\u001b[39mdevice)\n\u001b[1;32m     87\u001b[0m optimizer \u001b[38;5;241m=\u001b[39m optim\u001b[38;5;241m.\u001b[39mAdam(model\u001b[38;5;241m.\u001b[39mparameters(), lr\u001b[38;5;241m=\u001b[39m\u001b[38;5;28mself\u001b[39m\u001b[38;5;241m.\u001b[39margs\u001b[38;5;241m.\u001b[39mlr)\n",
      "File \u001b[0;32m~/PycharmProjects/recsys_service_deployment/venv/lib/python3.10/site-packages/dgl/convert.py:348\u001b[0m, in \u001b[0;36mheterograph\u001b[0;34m(data_dict, num_nodes_dict, idtype, device)\u001b[0m\n\u001b[1;32m    341\u001b[0m             \u001b[38;5;28;01mraise\u001b[39;00m DGLError(\n\u001b[1;32m    342\u001b[0m                 \u001b[38;5;124m\"\u001b[39m\u001b[38;5;124mThe given number of nodes of node type \u001b[39m\u001b[38;5;132;01m{}\u001b[39;00m\u001b[38;5;124m must be larger than\u001b[39m\u001b[38;5;124m\"\u001b[39m\n\u001b[1;32m    343\u001b[0m                 \u001b[38;5;124m\"\u001b[39m\u001b[38;5;124m the max ID in the data, but got \u001b[39m\u001b[38;5;132;01m{}\u001b[39;00m\u001b[38;5;124m and \u001b[39m\u001b[38;5;132;01m{}\u001b[39;00m\u001b[38;5;124m.\u001b[39m\u001b[38;5;124m\"\u001b[39m\u001b[38;5;241m.\u001b[39mformat(\n\u001b[1;32m    344\u001b[0m                     sty, num_nodes_dict[sty], urange \u001b[38;5;241m-\u001b[39m \u001b[38;5;241m1\u001b[39m\n\u001b[1;32m    345\u001b[0m                 )\n\u001b[1;32m    346\u001b[0m             )\n\u001b[1;32m    347\u001b[0m         \u001b[38;5;28;01mif\u001b[39;00m num_nodes_dict[dty] \u001b[38;5;241m<\u001b[39m vrange:\n\u001b[0;32m--> 348\u001b[0m             \u001b[38;5;28;01mraise\u001b[39;00m DGLError(\n\u001b[1;32m    349\u001b[0m                 \u001b[38;5;124m\"\u001b[39m\u001b[38;5;124mThe given number of nodes of node type \u001b[39m\u001b[38;5;132;01m{}\u001b[39;00m\u001b[38;5;124m must be larger than\u001b[39m\u001b[38;5;124m\"\u001b[39m\n\u001b[1;32m    350\u001b[0m                 \u001b[38;5;124m\"\u001b[39m\u001b[38;5;124m the max ID in the data, but got \u001b[39m\u001b[38;5;132;01m{}\u001b[39;00m\u001b[38;5;124m and \u001b[39m\u001b[38;5;132;01m{}\u001b[39;00m\u001b[38;5;124m.\u001b[39m\u001b[38;5;124m\"\u001b[39m\u001b[38;5;241m.\u001b[39mformat(\n\u001b[1;32m    351\u001b[0m                     dty, num_nodes_dict[dty], vrange \u001b[38;5;241m-\u001b[39m \u001b[38;5;241m1\u001b[39m\n\u001b[1;32m    352\u001b[0m                 )\n\u001b[1;32m    353\u001b[0m             )\n\u001b[1;32m    354\u001b[0m \u001b[38;5;66;03m# Create the graph\u001b[39;00m\n\u001b[1;32m    355\u001b[0m (\n\u001b[1;32m    356\u001b[0m     metagraph,\n\u001b[1;32m    357\u001b[0m     ntypes,\n\u001b[0;32m   (...)\u001b[0m\n\u001b[1;32m    361\u001b[0m     num_nodes_dict\u001b[38;5;241m.\u001b[39mkeys(), node_tensor_dict\u001b[38;5;241m.\u001b[39mkeys()\n\u001b[1;32m    362\u001b[0m )\n",
      "\u001b[0;31mDGLError\u001b[0m: The given number of nodes of node type item must be larger than the max ID in the data, but got 29713 and 175838."
     ]
    }
   ],
   "source": [
    "ngcf_predictor.predict(interacted_items)"
   ]
  },
  {
   "cell_type": "code",
   "execution_count": null,
   "id": "1467cd7f-4dc5-4978-8049-848d5832cede",
   "metadata": {},
   "outputs": [],
   "source": []
  },
  {
   "cell_type": "code",
   "execution_count": 36,
   "id": "79656d49-d5ef-4248-9dde-0f89b9391c1e",
   "metadata": {
    "tags": []
   },
   "outputs": [],
   "source": [
    "interacted_items = [42238, 43688, 53962, 53962, 43688, 42238, 43688, 42148, 42148, 54361, 54772, 43688, 43688, 43688, 63478, 43688, 53962, 59546, 53962, 53962, 53962, 53962, 53962, 53962, 53962, 53962, 42238, 42238, 42238, 62730, 62730, 62730, 53962, 53962, 59546, 53962, 53962, 59546, 67165, 53962, 54361, 42238, 42238, 42238, 42238, 42238, 42238, 42238, 42238, 42238, 42238, 53962, 43688, 43688, 43688, 53962, 53962, 53962, 108595, 108595, 108944, 114329, 114329, 91662, 63847, 68593, 68593, 68593, 75146, 109512, 106472, 100359, 100359, 95915, 100237, 76467, 73003, 84040, 85378, 85378, 85378, 87215, 91662, 54361, 108595, 108595, 91662, 119688, 108595, 114329, 76325, 114329, 156628, 108632, 76325, 88598, 108944, 134130, 108944, 108595, 108595, 91662, 76325, 108595, 88598, 108595, 76325, 122749, 111293, 91662, 91662, 108944, 108595, 156628, 108595, 108595, 91662, 91662, 91662, 100237, 100237, 108944, 108595, 88598, 76325, 91662, 108595, 108944, 114329, 139666, 146758, 156930, 108944, 119688, 144854, 144854, 108595, 144096, 91662, 122091, 88598, 76325, 76325, 88598, 119688, 118907, 114329, 122091, 108944, 76325, 63847, 88598, 118907, 108595, 145342, 108944, 121137, 134130, 114329, 114329, 62730, 1847, 139236, 91662, 108595, 108944, 76325, 76325, 114329, 59546, 122749, 133709, 115401, 129156, 139606, 156930, 114329, 133709, 85378, 114329, 109169, 67256, 162386, 167244, 164918, 147080, 114329, 119688, 119688, 91662, 91662, 53962, 114329, 42148, 108595, 76325, 54361, 115280, 161375, 108944, 108944, 156628, 134130, 133193, 135762, 158260, 91662, 108944, 143289, 156628, 91662, 59546, 156930, 156628, 156628, 156628, 156628, 156628, 156628, 156628, 156628, 156628, 156628, 156628, 108944, 108944, 108944, 108944, 108944, 108944, 108944, 108944, 169329, 169329, 169329, 169329, 169329, 169329, 169329, 158260, 158260, 167244, 167244, 167244, 167244, 156628, 150473, 150473, 150473, 150473, 150473, 150473, 150473, 108595, 108595, 108595, 108595, 108595, 91662, 91662, 91662, 91662, 108944, 169328, 144068, 150473, 150473, 161233, 164114, 159263, 169137, 175838, 76325, 91662, 169328, 158260, 163887, 119688, 83155, 76325, 91662, 91662, 156628, 108944, 156397, 164114]"
   ]
  },
  {
   "cell_type": "code",
   "execution_count": 37,
   "id": "3d3404fa-46c1-4697-a49b-c5b3695af7e6",
   "metadata": {
    "tags": []
   },
   "outputs": [
    {
     "name": "stdout",
     "output_type": "stream",
     "text": [
      "15039\n"
     ]
    }
   ],
   "source": [
    "user_id = len(ts.user_encoder) + 1\n",
    "item_num = len(ts.item_encoder)\n",
    "print(user_id)\n",
    "\n",
    "data_generator.train_items[user_id - 1] = interacted_items\n",
    "\n",
    "new_user_item_dst = interacted_items\n",
    "new_user_item_src = [user_id - 1] * len(new_user_item_dst)\n",
    "user_selfs = list(range(user_id))\n",
    "item_selfs = list(range(item_num))\n",
    "data_dict = {\n",
    "    (\"user\", \"user_self\", \"user\"): (user_selfs, user_selfs),\n",
    "    (\"item\", \"item_self\", \"item\"): (item_selfs, item_selfs),\n",
    "    (\"user\", \"ui\", \"item\"): (\n",
    "        data_generator.user_item_src + new_user_item_src,\n",
    "        data_generator.user_item_dst + new_user_item_dst\n",
    "    ),\n",
    "    (\"item\", \"iu\", \"user\"): (\n",
    "        data_generator.user_item_dst + new_user_item_dst,\n",
    "        data_generator.user_item_src + new_user_item_src\n",
    "    ),\n",
    "}"
   ]
  },
  {
   "cell_type": "code",
   "execution_count": 38,
   "id": "3600e1b8-a672-4c63-90dc-a09440367a28",
   "metadata": {
    "tags": []
   },
   "outputs": [
    {
     "data": {
      "text/plain": [
       "dict_keys([('user', 'user_self', 'user'), ('item', 'item_self', 'item'), ('user', 'ui', 'item'), ('item', 'iu', 'user')])"
      ]
     },
     "execution_count": 38,
     "metadata": {},
     "output_type": "execute_result"
    }
   ],
   "source": [
    "data_dict.keys()"
   ]
  },
  {
   "cell_type": "code",
   "execution_count": null,
   "id": "c0ba8c0e-cf83-4f70-a5a1-9a35789501e5",
   "metadata": {},
   "outputs": [],
   "source": []
  },
  {
   "cell_type": "code",
   "execution_count": 45,
   "id": "7ea8a4d3-5472-48d5-9154-ef168ad009eb",
   "metadata": {
    "tags": []
   },
   "outputs": [
    {
     "data": {
      "text/plain": [
       "286"
      ]
     },
     "execution_count": 45,
     "metadata": {},
     "output_type": "execute_result"
    }
   ],
   "source": [
    "len(new_user_item_src)"
   ]
  },
  {
   "cell_type": "code",
   "execution_count": null,
   "id": "c72cc70e-281a-4272-b9a3-a932262850c7",
   "metadata": {},
   "outputs": [],
   "source": [
    "data_dict"
   ]
  },
  {
   "cell_type": "code",
   "execution_count": 40,
   "id": "9fefce04-07be-40f8-b063-0e1f04f0a8d1",
   "metadata": {
    "tags": []
   },
   "outputs": [
    {
     "data": {
      "text/plain": [
       "429146"
      ]
     },
     "execution_count": 40,
     "metadata": {},
     "output_type": "execute_result"
    }
   ],
   "source": [
    "len(data_generator.user_item_src + new_user_item_src)"
   ]
  },
  {
   "cell_type": "code",
   "execution_count": 41,
   "id": "df37238a-1754-4601-9cb2-9ba6195d39b3",
   "metadata": {
    "tags": []
   },
   "outputs": [
    {
     "data": {
      "text/plain": [
       "429146"
      ]
     },
     "execution_count": 41,
     "metadata": {},
     "output_type": "execute_result"
    }
   ],
   "source": [
    "len(data_generator.user_item_dst + new_user_item_dst)"
   ]
  },
  {
   "cell_type": "code",
   "execution_count": 42,
   "id": "1e4fd723-3cb7-4892-bc95-3da1502fd8ae",
   "metadata": {
    "tags": []
   },
   "outputs": [
    {
     "data": {
      "text/plain": [
       "429146"
      ]
     },
     "execution_count": 42,
     "metadata": {},
     "output_type": "execute_result"
    }
   ],
   "source": [
    "len(data_generator.user_item_dst + new_user_item_dst)"
   ]
  },
  {
   "cell_type": "code",
   "execution_count": 43,
   "id": "828c55a7-d81e-4c73-924b-3e166227e736",
   "metadata": {
    "tags": []
   },
   "outputs": [
    {
     "data": {
      "text/plain": [
       "429146"
      ]
     },
     "execution_count": 43,
     "metadata": {},
     "output_type": "execute_result"
    }
   ],
   "source": [
    "len(data_generator.user_item_src + new_user_item_src)"
   ]
  },
  {
   "cell_type": "code",
   "execution_count": null,
   "id": "6cb9db19-1cdb-454f-b47b-d853d9846824",
   "metadata": {},
   "outputs": [],
   "source": []
  },
  {
   "cell_type": "code",
   "execution_count": null,
   "id": "5122870d-50af-400e-b2ff-2ae070450231",
   "metadata": {},
   "outputs": [],
   "source": []
  },
  {
   "cell_type": "code",
   "execution_count": null,
   "id": "fe523cd4-a0cd-4be3-ad99-4ea3fe7d303a",
   "metadata": {},
   "outputs": [],
   "source": []
  },
  {
   "cell_type": "code",
   "execution_count": null,
   "id": "9d5e98b1-b037-44ec-ae1d-264957afcfd1",
   "metadata": {},
   "outputs": [],
   "source": []
  },
  {
   "cell_type": "code",
   "execution_count": null,
   "id": "30c69cbb-670e-496a-92ad-52d9473489e1",
   "metadata": {},
   "outputs": [],
   "source": []
  },
  {
   "cell_type": "code",
   "execution_count": null,
   "id": "af04d12b-9e06-477c-8992-204185fedcf2",
   "metadata": {},
   "outputs": [],
   "source": []
  },
  {
   "cell_type": "code",
   "execution_count": null,
   "id": "3a065ce8-6d02-4a3c-a5f2-e0d391937729",
   "metadata": {},
   "outputs": [],
   "source": []
  },
  {
   "cell_type": "code",
   "execution_count": null,
   "id": "09accebe-a24e-4c63-aec5-d1be2e331187",
   "metadata": {},
   "outputs": [],
   "source": []
  },
  {
   "cell_type": "code",
   "execution_count": null,
   "id": "6f792243-8291-4f9a-9b23-1b06fd07e119",
   "metadata": {},
   "outputs": [],
   "source": []
  }
 ],
 "metadata": {
  "kernelspec": {
   "display_name": "recsys_service_deployment",
   "language": "python",
   "name": "recsys_service_deployment"
  },
  "language_info": {
   "codemirror_mode": {
    "name": "ipython",
    "version": 3
   },
   "file_extension": ".py",
   "mimetype": "text/x-python",
   "name": "python",
   "nbconvert_exporter": "python",
   "pygments_lexer": "ipython3",
   "version": "3.10.4"
  }
 },
 "nbformat": 4,
 "nbformat_minor": 5
}
